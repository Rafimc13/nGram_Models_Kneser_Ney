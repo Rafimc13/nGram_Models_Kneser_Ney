{
 "cells": [
  {
   "cell_type": "markdown",
   "metadata": {
    "id": "fmBS2OanYmao",
    "slideshow": {
     "slide_type": "slide"
    }
   },
   "source": [
    "# Text Analytics 2023-2024 - 1st mini-lab"
   ]
  },
  {
   "cell_type": "markdown",
   "metadata": {
    "id": "UYjHGeAc7KHv",
    "slideshow": {
     "slide_type": "slide"
    }
   },
   "source": [
    "## Topics Covered\n",
    "\n",
    "* Sentence splitting\n",
    "* Tokenization, Stemming, POS Tagging\n",
    "* N-grams language models\n",
    "* Cross entropy and perplexity calculation\n",
    "* Beam Search decoding for text generation"
   ]
  },
  {
   "cell_type": "markdown",
   "metadata": {
    "id": "S39Ae7O9Yy06",
    "slideshow": {
     "slide_type": "slide"
    }
   },
   "source": [
    "## NLTK installation\n",
    "\n",
    "NLTK is an established library for building Python programs to work with human language data. It provides easy-to-use interfaces to over 50 corpora and lexical resources such as WordNet, along with a suite of text processing modules for tokenization, stemming, part-of-speech tagging, parsing, and semantic reasoning."
   ]
  },
  {
   "cell_type": "code",
   "execution_count": null,
   "metadata": {
    "colab": {
     "base_uri": "https://localhost:8080/"
    },
    "id": "udcLFpRxYYuJ",
    "outputId": "c3c585c1-3c2a-481d-ab3b-f0ad2848d6b4",
    "slideshow": {
     "slide_type": "fragment"
    }
   },
   "outputs": [
    {
     "name": "stdout",
     "output_type": "stream",
     "text": [
      "Requirement already satisfied: nltk in /usr/local/lib/python3.10/dist-packages (3.8.1)\n",
      "Requirement already satisfied: click in /usr/local/lib/python3.10/dist-packages (from nltk) (8.1.7)\n",
      "Requirement already satisfied: joblib in /usr/local/lib/python3.10/dist-packages (from nltk) (1.3.2)\n",
      "Requirement already satisfied: regex>=2021.8.3 in /usr/local/lib/python3.10/dist-packages (from nltk) (2023.6.3)\n",
      "Requirement already satisfied: tqdm in /usr/local/lib/python3.10/dist-packages (from nltk) (4.66.1)\n"
     ]
    }
   ],
   "source": [
    "!pip install -U nltk"
   ]
  },
  {
   "cell_type": "markdown",
   "metadata": {
    "id": "VuDs6EwLaF24",
    "slideshow": {
     "slide_type": "slide"
    }
   },
   "source": [
    "## Sentence splitting\n",
    "\n",
    "In order to perform a tokenization, the particular NLTK tokenizer requires the `Punkt` sentence tokenization models to be installed."
   ]
  },
  {
   "cell_type": "code",
   "execution_count": null,
   "metadata": {
    "colab": {
     "base_uri": "https://localhost:8080/"
    },
    "id": "-d9qKA7m7a8H",
    "outputId": "0ac7f9ce-9ec5-43fb-ffb7-6bc81406c968",
    "slideshow": {
     "slide_type": "fragment"
    }
   },
   "outputs": [
    {
     "name": "stderr",
     "output_type": "stream",
     "text": [
      "[nltk_data] Downloading package punkt to /root/nltk_data...\n",
      "[nltk_data]   Unzipping tokenizers/punkt.zip.\n"
     ]
    },
    {
     "data": {
      "text/plain": [
       "True"
      ]
     },
     "execution_count": 2,
     "metadata": {},
     "output_type": "execute_result"
    }
   ],
   "source": [
    "import nltk\n",
    "nltk.download('punkt')"
   ]
  },
  {
   "cell_type": "code",
   "execution_count": null,
   "metadata": {
    "id": "aPpWKgY5aFsh",
    "slideshow": {
     "slide_type": "slide"
    }
   },
   "outputs": [],
   "source": [
    "text = 'The Athens University of Economics and Business (AUEB) was originally founded in \\\n",
    "1920 under the name of Athens School of Commercial Studies. \\\n",
    "It was renamed in 1926 as the Athens School of Economics and Business, \\\n",
    "a name that was retained until 1989 when it assumed its present name, \\\n",
    "the Athens University of Economics and Business. It is the third oldest \\\n",
    "university in Greece and the oldest in the fields of economics and business. \\\n",
    "Up to 1955 the school offered only one degree in the general area of economics and \\\n",
    "commerce. In 1955 it started two separate programs leading to two separate degrees: \\\n",
    "one in economics and the other in business administration. In 1984 the school was \\\n",
    "divided into three departments, namely the Department of Economics, the Department of \\\n",
    "Business Administration and the Department of Statistics and Informatics. In 1989, the \\\n",
    "university expanded to six departments. From 1999 onwards, the university developed \\\n",
    "even further and nowadays it includes eight academic departments, offering eight \\\n",
    "undergraduate degrees, 28 master\\'s degrees and an equivalent number of doctoral programs.'\n"
   ]
  },
  {
   "cell_type": "code",
   "execution_count": null,
   "metadata": {
    "colab": {
     "base_uri": "https://localhost:8080/"
    },
    "id": "HoeNB_NmaLGj",
    "outputId": "77296d32-1c55-4c33-81ae-b91a8ebfc7af",
    "slideshow": {
     "slide_type": "slide"
    }
   },
   "outputs": [
    {
     "name": "stdout",
     "output_type": "stream",
     "text": [
      "The Athens University of Economics and Business (AUEB) was originally founded in 1920 under the name of Athens School of Commercial Studies.\n",
      "_________________\n",
      "It was renamed in 1926 as the Athens School of Economics and Business, a name that was retained until 1989 when it assumed its present name, the Athens University of Economics and Business.\n",
      "_________________\n",
      "It is the third oldest university in Greece and the oldest in the fields of economics and business.\n",
      "_________________\n",
      "Up to 1955 the school offered only one degree in the general area of economics and commerce.\n",
      "_________________\n",
      "In 1955 it started two separate programs leading to two separate degrees: one in economics and the other in business administration.\n",
      "_________________\n",
      "In 1984 the school was divided into three departments, namely the Department of Economics, the Department of Business Administration and the Department of Statistics and Informatics.\n",
      "_________________\n",
      "In 1989, the university expanded to six departments.\n",
      "_________________\n",
      "From 1999 onwards, the university developed even further and nowadays it includes eight academic departments, offering eight undergraduate degrees, 28 master's degrees and an equivalent number of doctoral programs.\n",
      "_________________\n"
     ]
    }
   ],
   "source": [
    "sentences = nltk.sent_tokenize(text)\n",
    "\n",
    "for sent in sentences:\n",
    "    print(sent)\n",
    "    print(\"_________________\")"
   ]
  },
  {
   "cell_type": "markdown",
   "metadata": {
    "id": "TwEWAFdxaFeO",
    "slideshow": {
     "slide_type": "slide"
    }
   },
   "source": [
    "## Tokenization (word level)\n",
    "\n",
    "NLTK provide several ways to tokenize your text. Even if you want something custom, you can use the `RegexpTokenizer` (see https://www.nltk.org/api/nltk.tokenize.regexp.html)."
   ]
  },
  {
   "cell_type": "code",
   "execution_count": null,
   "metadata": {
    "colab": {
     "base_uri": "https://localhost:8080/"
    },
    "id": "WlP1DBXnY07K",
    "outputId": "2ee66407-009c-4931-94b3-095b924f3789",
    "slideshow": {
     "slide_type": "slide"
    }
   },
   "outputs": [
    {
     "name": "stdout",
     "output_type": "stream",
     "text": [
      "['The', 'Athens', 'University', 'of', 'Economics', 'and', 'Business', '(', 'AUEB', ')', 'was', 'originally', 'founded', 'in', '1920', 'under', 'the', 'name', 'of', 'Athens', 'School', 'of', 'Commercial', 'Studies', '.']\n",
      "_________________\n",
      "['It', 'was', 'renamed', 'in', '1926', 'as', 'the', 'Athens', 'School', 'of', 'Economics', 'and', 'Business', ',', 'a', 'name', 'that', 'was', 'retained', 'until', '1989', 'when', 'it', 'assumed', 'its', 'present', 'name', ',', 'the', 'Athens', 'University', 'of', 'Economics', 'and', 'Business', '.']\n",
      "_________________\n",
      "['It', 'is', 'the', 'third', 'oldest', 'university', 'in', 'Greece', 'and', 'the', 'oldest', 'in', 'the', 'fields', 'of', 'economics', 'and', 'business', '.']\n",
      "_________________\n",
      "['Up', 'to', '1955', 'the', 'school', 'offered', 'only', 'one', 'degree', 'in', 'the', 'general', 'area', 'of', 'economics', 'and', 'commerce', '.']\n",
      "_________________\n",
      "['In', '1955', 'it', 'started', 'two', 'separate', 'programs', 'leading', 'to', 'two', 'separate', 'degrees', ':', 'one', 'in', 'economics', 'and', 'the', 'other', 'in', 'business', 'administration', '.']\n",
      "_________________\n",
      "['In', '1984', 'the', 'school', 'was', 'divided', 'into', 'three', 'departments', ',', 'namely', 'the', 'Department', 'of', 'Economics', ',', 'the', 'Department', 'of', 'Business', 'Administration', 'and', 'the', 'Department', 'of', 'Statistics', 'and', 'Informatics', '.']\n",
      "_________________\n",
      "['In', '1989', ',', 'the', 'university', 'expanded', 'to', 'six', 'departments', '.']\n",
      "_________________\n",
      "['From', '1999', 'onwards', ',', 'the', 'university', 'developed', 'even', 'further', 'and', 'nowadays', 'it', 'includes', 'eight', 'academic', 'departments', ',', 'offering', 'eight', 'undergraduate', 'degrees', ',', '28', \"master's\", 'degrees', 'and', 'an', 'equivalent', 'number', 'of', 'doctoral', 'programs', '.']\n",
      "_________________\n"
     ]
    }
   ],
   "source": [
    "from nltk import word_tokenize\n",
    "from nltk import WhitespaceTokenizer\n",
    "from nltk.tokenize import TweetTokenizer\n",
    "\n",
    "whitespace_wt = WhitespaceTokenizer()\n",
    "tweet_wt = TweetTokenizer()\n",
    "\n",
    "sentences_tokenized = []\n",
    "\n",
    "for sent in sentences:\n",
    "    #sent_tok = whitespace_wt.tokenize(sent)\n",
    "    sent_tok = tweet_wt.tokenize(sent)\n",
    "    sentences_tokenized.append(sent_tok)\n",
    "    print(sent_tok)\n",
    "    print(\"_________________\")\n"
   ]
  },
  {
   "cell_type": "markdown",
   "metadata": {
    "id": "ypMOZ-DZdqa7",
    "slideshow": {
     "slide_type": "slide"
    }
   },
   "source": [
    "### Tokenization using regular expressions (word level)\n",
    "Online Compiler: https://regex101.com/\n",
    "\n",
    "* \\w: Matches any word character from a-z, A-Z, 0-9, including the _ (underscore)\n",
    "\n",
    "* \\+: Matches between one and unlimited times, as many times as possible\n",
    "\n",
    "* |: or\n",
    "\n",
    "* \\\\(: Special character '(' parentesis"
   ]
  },
  {
   "cell_type": "code",
   "execution_count": null,
   "metadata": {
    "colab": {
     "base_uri": "https://localhost:8080/"
    },
    "id": "Y-zhFaIKbrwz",
    "outputId": "724094da-368a-4be2-bf1f-01acba8ca2ae",
    "scrolled": true,
    "slideshow": {
     "slide_type": "fragment"
    }
   },
   "outputs": [
    {
     "name": "stdout",
     "output_type": "stream",
     "text": [
      "['The', 'Athens', 'University', 'of', 'Economics', 'and', 'Business', '(', 'AUEB', ')', 'was', 'originally', 'founded', 'in', '1920', 'under', 'the', 'name', 'of', 'Athens', 'School', 'of', 'Commercial', 'Studies', '.']\n",
      "_________________\n",
      "['It', 'was', 'renamed', 'in', '1926', 'as', 'the', 'Athens', 'School', 'of', 'Economics', 'and', 'Business', ',', 'a', 'name', 'that', 'was', 'retained', 'until', '1989', 'when', 'it', 'assumed', 'its', 'present', 'name', ',', 'the', 'Athens', 'University', 'of', 'Economics', 'and', 'Business', '.']\n",
      "_________________\n",
      "['It', 'is', 'the', 'third', 'oldest', 'university', 'in', 'Greece', 'and', 'the', 'oldest', 'in', 'the', 'fields', 'of', 'economics', 'and', 'business', '.']\n",
      "_________________\n",
      "['Up', 'to', '1955', 'the', 'school', 'offered', 'only', 'one', 'degree', 'in', 'the', 'general', 'area', 'of', 'economics', 'and', 'commerce', '.']\n",
      "_________________\n",
      "['In', '1955', 'it', 'started', 'two', 'separate', 'programs', 'leading', 'to', 'two', 'separate', 'degrees', 'one', 'in', 'economics', 'and', 'the', 'other', 'in', 'business', 'administration', '.']\n",
      "_________________\n",
      "['In', '1984', 'the', 'school', 'was', 'divided', 'into', 'three', 'departments', ',', 'namely', 'the', 'Department', 'of', 'Economics', ',', 'the', 'Department', 'of', 'Business', 'Administration', 'and', 'the', 'Department', 'of', 'Statistics', 'and', 'Informatics', '.']\n",
      "_________________\n",
      "['In', '1989', ',', 'the', 'university', 'expanded', 'to', 'six', 'departments', '.']\n",
      "_________________\n",
      "['From', '1999', 'onwards', ',', 'the', 'university', 'developed', 'even', 'further', 'and', 'nowadays', 'it', 'includes', 'eight', 'academic', 'departments', ',', 'offering', 'eight', 'undergraduate', 'degrees', ',', '28', 'master', 's', 'degrees', 'and', 'an', 'equivalent', 'number', 'of', 'doctoral', 'programs', '.']\n",
      "_________________\n"
     ]
    }
   ],
   "source": [
    "from nltk.tokenize import RegexpTokenizer\n",
    "\n",
    "tokenizer = RegexpTokenizer(pattern='\\w+|\\(|\\)|\\.|\\,')\n",
    "\n",
    "for sent in sentences:\n",
    "    print(tokenizer.tokenize(sent))\n",
    "    print(\"_________________\")"
   ]
  },
  {
   "cell_type": "markdown",
   "metadata": {
    "id": "URAo9acHyg1s",
    "slideshow": {
     "slide_type": "slide"
    }
   },
   "source": [
    "## Subword tokenization\n",
    "\n",
    "Subword tokenization algorithms rely on the principle that frequently used words should not be split into smaller subwords, but rare words should be decomposed into meaningful subwords.\n",
    "\n",
    "For example\n",
    "     \n",
    "    complex words: tokenization --> token + ization\n",
    "    \n",
    "    plural words: dogs --> dog + s\n",
    "    \n",
    "Pros: reasonable vocabulary size, meaningful context-independent representations, reduction of uknown words"
   ]
  },
  {
   "cell_type": "markdown",
   "metadata": {
    "id": "J6kyIXoQyg1s",
    "slideshow": {
     "slide_type": "slide"
    }
   },
   "source": [
    "### Subword tokenization algorithms\n",
    "\n",
    "Byte-Pair Encoding (BPE) (GPT-2, RoBERTa) --> choose the symbol pair that maximizes the likelihood of the training data once added to the vocabulary (a base vocabulary consisting of all symbols that occur in the set of unique words)\n",
    "\n",
    "WordPiece(Bert, DistilBert) --> choose the most frequent symbol pair (a base vocabulary consisting of all symbols that occur in the set of unique words)\n",
    "\n",
    "Unigram (XLNet, ALBERT) --> defines a loss (often defined as the log-likelihood) over the training data given the current vocabulary and a unigram language model(base vocabulary to a large number of symbols, all pre-tokenized words and the most common substrings)\n",
    "\n",
    "![image.png](data:image/png;base64,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)"
   ]
  },
  {
   "cell_type": "code",
   "execution_count": null,
   "metadata": {
    "colab": {
     "base_uri": "https://localhost:8080/"
    },
    "id": "QXAXRPsyyg1t",
    "outputId": "104690c0-5cdc-4c9b-ab88-2e461ad4bdac",
    "slideshow": {
     "slide_type": "skip"
    }
   },
   "outputs": [
    {
     "name": "stdout",
     "output_type": "stream",
     "text": [
      "Requirement already satisfied: transformers in /usr/local/lib/python3.10/dist-packages (4.35.2)\n",
      "Requirement already satisfied: filelock in /usr/local/lib/python3.10/dist-packages (from transformers) (3.13.1)\n",
      "Requirement already satisfied: huggingface-hub<1.0,>=0.16.4 in /usr/local/lib/python3.10/dist-packages (from transformers) (0.20.2)\n",
      "Requirement already satisfied: numpy>=1.17 in /usr/local/lib/python3.10/dist-packages (from transformers) (1.23.5)\n",
      "Requirement already satisfied: packaging>=20.0 in /usr/local/lib/python3.10/dist-packages (from transformers) (23.2)\n",
      "Requirement already satisfied: pyyaml>=5.1 in /usr/local/lib/python3.10/dist-packages (from transformers) (6.0.1)\n",
      "Requirement already satisfied: regex!=2019.12.17 in /usr/local/lib/python3.10/dist-packages (from transformers) (2023.6.3)\n",
      "Requirement already satisfied: requests in /usr/local/lib/python3.10/dist-packages (from transformers) (2.31.0)\n",
      "Requirement already satisfied: tokenizers<0.19,>=0.14 in /usr/local/lib/python3.10/dist-packages (from transformers) (0.15.0)\n",
      "Requirement already satisfied: safetensors>=0.3.1 in /usr/local/lib/python3.10/dist-packages (from transformers) (0.4.1)\n",
      "Requirement already satisfied: tqdm>=4.27 in /usr/local/lib/python3.10/dist-packages (from transformers) (4.66.1)\n",
      "Requirement already satisfied: fsspec>=2023.5.0 in /usr/local/lib/python3.10/dist-packages (from huggingface-hub<1.0,>=0.16.4->transformers) (2023.6.0)\n",
      "Requirement already satisfied: typing-extensions>=3.7.4.3 in /usr/local/lib/python3.10/dist-packages (from huggingface-hub<1.0,>=0.16.4->transformers) (4.5.0)\n",
      "Requirement already satisfied: charset-normalizer<4,>=2 in /usr/local/lib/python3.10/dist-packages (from requests->transformers) (3.3.2)\n",
      "Requirement already satisfied: idna<4,>=2.5 in /usr/local/lib/python3.10/dist-packages (from requests->transformers) (3.6)\n",
      "Requirement already satisfied: urllib3<3,>=1.21.1 in /usr/local/lib/python3.10/dist-packages (from requests->transformers) (2.0.7)\n",
      "Requirement already satisfied: certifi>=2017.4.17 in /usr/local/lib/python3.10/dist-packages (from requests->transformers) (2023.11.17)\n"
     ]
    }
   ],
   "source": [
    "!pip install transformers"
   ]
  },
  {
   "cell_type": "code",
   "execution_count": null,
   "metadata": {
    "colab": {
     "base_uri": "https://localhost:8080/",
     "height": 564,
     "referenced_widgets": [
      "a62a3a5d8e3442749135000231cd165e",
      "2ff32ac451634218b1e79475ab8ee1d9",
      "2e745aab855947bab29d71bd2d0378af",
      "fcdf43e0ea084826b322a55595b19e73",
      "bc6fa5e2bcb64cbfb6391edb405e59dc",
      "ebaf00de1b07466bab995d48beefc2c5",
      "65a69f9388a14c1f9a1416f4de45d3d7",
      "4262bc0532f24e078c4cd44073bb947f",
      "c0fa104cf3bc4b5fb275d60647271c43",
      "40ba542eab554f91a52422a182d437ab",
      "8d18be76f03e4e9ea4c72be75dcc3861",
      "da350656ba1949de91bc2d9411edded1",
      "d56c81811ad74c34a6c71e547f357136",
      "2d1ec0264ead43f0ab677abbe57fa26d",
      "ce70de69f2894779ac3562ea85009ee9",
      "0e82a5fd44344e08bcb6d1dea5ff99e0",
      "dfaaff046e5f4a299a03db12e13e9eab",
      "d83055c01d1245bb92ca55f59c496a47",
      "83809a5b34fb413a9cd42e13bf6c1e81",
      "af16d6fad6af4d0dbd7d2533d50d9f0b",
      "4be718ff25134aec8711c224f32bf5a2",
      "2ebfe2d9bb73422ba261eee2d704fe26",
      "d2bef54d36c34881a6af0a311309d299",
      "c3ac6f14d9e44768a3cb9a52933ce1e7",
      "32735f55929a46fdb82a22c766871799",
      "b06314bf569f41ae80c0502f6ba515e2",
      "6782df0157d24331be3a078dc842da0f",
      "d5dc30dc18c14529b8a7190fb2df08df",
      "0c58c2f38cdd46a7a95b939be1c4f29d",
      "cb4735b1c9324a0082ebbe9fb4a9e2cf",
      "f4d6330d3dcd4022852362b893fdda25",
      "91a91f06ebef42c7b80a01fd781cd5f3",
      "78bd73f344c64a09b8354ef310d59e95",
      "e0472f2a8f15449eba232eb4dbbc6254",
      "e1f0bca5caf044118bd144e066b0b84d",
      "72104eb4f2074d81bd69532ac0a9403f",
      "703f9e9d715a420c84a48b264a553ba8",
      "791ceff03ebe4b0d9d6fae9f2bb4fe60",
      "0c81a5eb9fc84a8ca6a2153937dd7830",
      "cabcbc7c40cf40b3a7f6ba649842f267",
      "a41f64a358c3449aabf6031a9d5c438c",
      "e0afdcb8d94d44229cbd8008fdec1525",
      "bf9aa129078f4cf7b5c8fa9a18e79953",
      "d2052a8013de4bb299d6fb4576fd9bdc"
     ]
    },
    "id": "Ahh9PoMCyg1t",
    "outputId": "4081084f-c096-470a-cab6-0fbb23a377a9",
    "scrolled": true,
    "slideshow": {
     "slide_type": "slide"
    }
   },
   "outputs": [
    {
     "name": "stderr",
     "output_type": "stream",
     "text": [
      "/usr/local/lib/python3.10/dist-packages/huggingface_hub/utils/_token.py:88: UserWarning: \n",
      "The secret `HF_TOKEN` does not exist in your Colab secrets.\n",
      "To authenticate with the Hugging Face Hub, create a token in your settings tab (https://huggingface.co/settings/tokens), set it as secret in your Google Colab and restart your session.\n",
      "You will be able to reuse this secret in all of your notebooks.\n",
      "Please note that authentication is recommended but still optional to access public models or datasets.\n",
      "  warnings.warn(\n"
     ]
    },
    {
     "data": {
      "application/vnd.jupyter.widget-view+json": {
       "model_id": "a62a3a5d8e3442749135000231cd165e",
       "version_major": 2,
       "version_minor": 0
      },
      "text/plain": [
       "tokenizer_config.json:   0%|          | 0.00/28.0 [00:00<?, ?B/s]"
      ]
     },
     "metadata": {},
     "output_type": "display_data"
    },
    {
     "data": {
      "application/vnd.jupyter.widget-view+json": {
       "model_id": "da350656ba1949de91bc2d9411edded1",
       "version_major": 2,
       "version_minor": 0
      },
      "text/plain": [
       "vocab.txt:   0%|          | 0.00/232k [00:00<?, ?B/s]"
      ]
     },
     "metadata": {},
     "output_type": "display_data"
    },
    {
     "data": {
      "application/vnd.jupyter.widget-view+json": {
       "model_id": "d2bef54d36c34881a6af0a311309d299",
       "version_major": 2,
       "version_minor": 0
      },
      "text/plain": [
       "tokenizer.json:   0%|          | 0.00/466k [00:00<?, ?B/s]"
      ]
     },
     "metadata": {},
     "output_type": "display_data"
    },
    {
     "data": {
      "application/vnd.jupyter.widget-view+json": {
       "model_id": "e0472f2a8f15449eba232eb4dbbc6254",
       "version_major": 2,
       "version_minor": 0
      },
      "text/plain": [
       "config.json:   0%|          | 0.00/570 [00:00<?, ?B/s]"
      ]
     },
     "metadata": {},
     "output_type": "display_data"
    },
    {
     "name": "stdout",
     "output_type": "stream",
     "text": [
      "['the', 'athens', 'university', 'of', 'economics', 'and', 'business', '(', 'au', '##eb', ')', 'was', 'originally', 'founded', 'in', '1920', 'under', 'the', 'name', 'of', 'athens', 'school', 'of', 'commercial', 'studies', '.']\n",
      "_________________\n",
      "['it', 'was', 'renamed', 'in', '1926', 'as', 'the', 'athens', 'school', 'of', 'economics', 'and', 'business', ',', 'a', 'name', 'that', 'was', 'retained', 'until', '1989', 'when', 'it', 'assumed', 'its', 'present', 'name', ',', 'the', 'athens', 'university', 'of', 'economics', 'and', 'business', '.']\n",
      "_________________\n",
      "['it', 'is', 'the', 'third', 'oldest', 'university', 'in', 'greece', 'and', 'the', 'oldest', 'in', 'the', 'fields', 'of', 'economics', 'and', 'business', '.']\n",
      "_________________\n",
      "['up', 'to', '1955', 'the', 'school', 'offered', 'only', 'one', 'degree', 'in', 'the', 'general', 'area', 'of', 'economics', 'and', 'commerce', '.']\n",
      "_________________\n",
      "['in', '1955', 'it', 'started', 'two', 'separate', 'programs', 'leading', 'to', 'two', 'separate', 'degrees', ':', 'one', 'in', 'economics', 'and', 'the', 'other', 'in', 'business', 'administration', '.']\n",
      "_________________\n",
      "['in', '1984', 'the', 'school', 'was', 'divided', 'into', 'three', 'departments', ',', 'namely', 'the', 'department', 'of', 'economics', ',', 'the', 'department', 'of', 'business', 'administration', 'and', 'the', 'department', 'of', 'statistics', 'and', 'inform', '##atics', '.']\n",
      "_________________\n",
      "['in', '1989', ',', 'the', 'university', 'expanded', 'to', 'six', 'departments', '.']\n",
      "_________________\n",
      "['from', '1999', 'onwards', ',', 'the', 'university', 'developed', 'even', 'further', 'and', 'nowadays', 'it', 'includes', 'eight', 'academic', 'departments', ',', 'offering', 'eight', 'undergraduate', 'degrees', ',', '28', 'master', \"'\", 's', 'degrees', 'and', 'an', 'equivalent', 'number', 'of', 'doctoral', 'programs', '.']\n",
      "_________________\n"
     ]
    }
   ],
   "source": [
    "from transformers import BertTokenizer\n",
    "\n",
    "tokenizer = BertTokenizer.from_pretrained(\"bert-base-uncased\")\n",
    "\n",
    "for sent in sentences:\n",
    "    print(tokenizer.tokenize(sent))\n",
    "    print(\"_________________\")"
   ]
  },
  {
   "cell_type": "markdown",
   "metadata": {
    "id": "Uhz9XdRB-jE_",
    "slideshow": {
     "slide_type": "slide"
    }
   },
   "source": [
    "#### Optionally you can just use Huggingface's `tokenizers` package and train your own tokenizer (https://github.com/huggingface/tokenizers#quick-example-using-python)\n",
    "\n",
    "Example:\n",
    "\n",
    "    !pip install tokenizers\n",
    "    from tokenizers import Tokenizer\n",
    "    from tokenizers.models import BPE\n",
    "    from tokenizers.trainers import BpeTrainer\n",
    "    from tokenizers.pre_tokenizers import Whitespace\n",
    "\n",
    "    tokenizer = Tokenizer(BPE(unk_token=\"*UNK*\"))\n",
    "    trainer = BpeTrainer(special_tokens=[\"*UNK*\"])\n",
    "    tokenizer.pre_tokenizer = Whitespace()\n",
    "    tokenizer.train_from_iterator(train_files, trainer)"
   ]
  },
  {
   "cell_type": "markdown",
   "metadata": {
    "id": "XXP8S3j9fMvc",
    "slideshow": {
     "slide_type": "slide"
    }
   },
   "source": [
    "## Tokens frequency"
   ]
  },
  {
   "cell_type": "code",
   "execution_count": null,
   "metadata": {
    "colab": {
     "base_uri": "https://localhost:8080/"
    },
    "id": "owXBcPPjfMoD",
    "outputId": "bedb5aad-a9ce-4d22-80a5-6d85d598eb71",
    "slideshow": {
     "slide_type": "fragment"
    }
   },
   "outputs": [
    {
     "name": "stdout",
     "output_type": "stream",
     "text": [
      "{} most common tokens: \n",
      "\n",
      "[('the', 15),\n",
      " ('of', 11),\n",
      " ('and', 11),\n",
      " ('.', 8),\n",
      " (',', 8),\n",
      " ('in', 7),\n",
      " ('Athens', 4),\n",
      " ('Economics', 4),\n",
      " ('Business', 4),\n",
      " ('was', 4)]\n"
     ]
    }
   ],
   "source": [
    "from pprint import pprint\n",
    "\n",
    "N = 10\n",
    "# tweet_wt: TweetTokenizer\n",
    "tokens = tweet_wt.tokenize(text)\n",
    "\n",
    "# Frequency distribution\n",
    "count = nltk.FreqDist(tokens)\n",
    "print('{} most common tokens: \\n')\n",
    "\n",
    "pprint(count.most_common(N))"
   ]
  },
  {
   "cell_type": "markdown",
   "metadata": {
    "id": "UP9Z38CQeNei",
    "slideshow": {
     "slide_type": "slide"
    }
   },
   "source": [
    "## Stopwords elimination"
   ]
  },
  {
   "cell_type": "code",
   "execution_count": null,
   "metadata": {
    "colab": {
     "base_uri": "https://localhost:8080/"
    },
    "id": "6NK512WidvZ1",
    "outputId": "1e439022-7eb2-4864-f4c4-233c21d9414b",
    "slideshow": {
     "slide_type": "fragment"
    }
   },
   "outputs": [
    {
     "name": "stdout",
     "output_type": "stream",
     "text": [
      "['i', 'me', 'my', 'myself', 'we', 'our', 'ours', 'ourselves', 'you', \"you're\", \"you've\", \"you'll\", \"you'd\", 'your', 'yours', 'yourself', 'yourselves', 'he', 'him', 'his', 'himself', 'she', \"she's\", 'her', 'hers', 'herself', 'it', \"it's\", 'its', 'itself', 'they', 'them', 'their', 'theirs', 'themselves', 'what', 'which', 'who', 'whom', 'this', 'that', \"that'll\", 'these', 'those', 'am', 'is', 'are', 'was', 'were', 'be', 'been', 'being', 'have', 'has', 'had', 'having', 'do', 'does', 'did', 'doing', 'a', 'an', 'the', 'and', 'but', 'if', 'or', 'because', 'as', 'until', 'while', 'of', 'at', 'by', 'for', 'with', 'about', 'against', 'between', 'into', 'through', 'during', 'before', 'after', 'above', 'below', 'to', 'from', 'up', 'down', 'in', 'out', 'on', 'off', 'over', 'under', 'again', 'further', 'then', 'once', 'here', 'there', 'when', 'where', 'why', 'how', 'all', 'any', 'both', 'each', 'few', 'more', 'most', 'other', 'some', 'such', 'no', 'nor', 'not', 'only', 'own', 'same', 'so', 'than', 'too', 'very', 's', 't', 'can', 'will', 'just', 'don', \"don't\", 'should', \"should've\", 'now', 'd', 'll', 'm', 'o', 're', 've', 'y', 'ain', 'aren', \"aren't\", 'couldn', \"couldn't\", 'didn', \"didn't\", 'doesn', \"doesn't\", 'hadn', \"hadn't\", 'hasn', \"hasn't\", 'haven', \"haven't\", 'isn', \"isn't\", 'ma', 'mightn', \"mightn't\", 'mustn', \"mustn't\", 'needn', \"needn't\", 'shan', \"shan't\", 'shouldn', \"shouldn't\", 'wasn', \"wasn't\", 'weren', \"weren't\", 'won', \"won't\", 'wouldn', \"wouldn't\"]\n"
     ]
    },
    {
     "name": "stderr",
     "output_type": "stream",
     "text": [
      "[nltk_data] Downloading package stopwords to /root/nltk_data...\n",
      "[nltk_data]   Unzipping corpora/stopwords.zip.\n"
     ]
    }
   ],
   "source": [
    "nltk.download('stopwords')\n",
    "from nltk.corpus import stopwords\n",
    "\n",
    "print(stopwords.words('english'))"
   ]
  },
  {
   "cell_type": "code",
   "execution_count": null,
   "metadata": {
    "colab": {
     "base_uri": "https://localhost:8080/"
    },
    "id": "ICMYihhNeS1V",
    "outputId": "da7df3b2-b07c-474d-cb96-451abd8b6e21",
    "slideshow": {
     "slide_type": "fragment"
    }
   },
   "outputs": [
    {
     "name": "stdout",
     "output_type": "stream",
     "text": [
      "[('.', 8),\n",
      " (',', 8),\n",
      " ('Athens', 4),\n",
      " ('Economics', 4),\n",
      " ('Business', 4),\n",
      " ('name', 3),\n",
      " ('university', 3),\n",
      " ('economics', 3),\n",
      " ('In', 3),\n",
      " ('degrees', 3)]\n"
     ]
    }
   ],
   "source": [
    "from collections import Counter\n",
    "\n",
    "filtered = [w for w in tokens if not w in stopwords.words('english')]\n",
    "#filtered = filter(lambda token: token not in stopwords.words('english'), tokens)\n",
    "\n",
    "# Same functionality as nltk.FreqDist\n",
    "count = Counter(filtered)\n",
    "pprint(count.most_common(N))"
   ]
  },
  {
   "cell_type": "markdown",
   "metadata": {
    "id": "4athrwT-vewl",
    "slideshow": {
     "slide_type": "slide"
    }
   },
   "source": [
    "## Stemming"
   ]
  },
  {
   "cell_type": "markdown",
   "metadata": {
    "id": "vEgWXnLPyg16",
    "slideshow": {
     "slide_type": "fragment"
    }
   },
   "source": [
    "Interfaces used to remove morphological affixes from words, leaving only the word stem. Stemming algorithms aim to remove those affixes required for eg. grammatical role, tense, derivational morphology leaving only the stem of the word."
   ]
  },
  {
   "cell_type": "code",
   "execution_count": null,
   "metadata": {
    "colab": {
     "base_uri": "https://localhost:8080/"
    },
    "id": "FL-Y1G8aveqt",
    "outputId": "6d93307e-2f21-4483-ae77-2c3eb01b79a4",
    "scrolled": true,
    "slideshow": {
     "slide_type": "slide"
    }
   },
   "outputs": [
    {
     "name": "stdout",
     "output_type": "stream",
     "text": [
      "['The',\n",
      " 'Athens',\n",
      " 'University',\n",
      " 'of',\n",
      " 'Economics',\n",
      " 'and',\n",
      " 'Business',\n",
      " '(',\n",
      " 'AUEB',\n",
      " ')',\n",
      " 'was',\n",
      " 'originally',\n",
      " 'founded',\n",
      " 'in',\n",
      " '1920',\n",
      " 'under',\n",
      " 'the',\n",
      " 'name',\n",
      " 'of',\n",
      " 'Athens',\n",
      " 'School',\n",
      " 'of',\n",
      " 'Commercial',\n",
      " 'Studies',\n",
      " '.',\n",
      " 'It',\n",
      " 'was',\n",
      " 'renamed',\n",
      " 'in',\n",
      " '1926',\n",
      " 'as',\n",
      " 'the',\n",
      " 'Athens',\n",
      " 'School',\n",
      " 'of',\n",
      " 'Economics',\n",
      " 'and',\n",
      " 'Business',\n",
      " ',',\n",
      " 'a',\n",
      " 'name',\n",
      " 'that',\n",
      " 'was',\n",
      " 'retained',\n",
      " 'until',\n",
      " '1989',\n",
      " 'when',\n",
      " 'it',\n",
      " 'assumed',\n",
      " 'its',\n",
      " 'present',\n",
      " 'name',\n",
      " ',',\n",
      " 'the',\n",
      " 'Athens',\n",
      " 'University',\n",
      " 'of',\n",
      " 'Economics',\n",
      " 'and',\n",
      " 'Business',\n",
      " '.',\n",
      " 'It',\n",
      " 'is',\n",
      " 'the',\n",
      " 'third',\n",
      " 'oldest',\n",
      " 'university',\n",
      " 'in',\n",
      " 'Greece',\n",
      " 'and',\n",
      " 'the',\n",
      " 'oldest',\n",
      " 'in',\n",
      " 'the',\n",
      " 'fields',\n",
      " 'of',\n",
      " 'economics',\n",
      " 'and',\n",
      " 'business',\n",
      " '.',\n",
      " 'Up',\n",
      " 'to',\n",
      " '1955',\n",
      " 'the',\n",
      " 'school',\n",
      " 'offered',\n",
      " 'only',\n",
      " 'one',\n",
      " 'degree',\n",
      " 'in',\n",
      " 'the',\n",
      " 'general',\n",
      " 'area',\n",
      " 'of',\n",
      " 'economics',\n",
      " 'and',\n",
      " 'commerce',\n",
      " '.',\n",
      " 'In',\n",
      " '1955',\n",
      " 'it',\n",
      " 'started',\n",
      " 'two',\n",
      " 'separate',\n",
      " 'programs',\n",
      " 'leading',\n",
      " 'to',\n",
      " 'two',\n",
      " 'separate',\n",
      " 'degrees',\n",
      " ':',\n",
      " 'one',\n",
      " 'in',\n",
      " 'economics',\n",
      " 'and',\n",
      " 'the',\n",
      " 'other',\n",
      " 'in',\n",
      " 'business',\n",
      " 'administration',\n",
      " '.',\n",
      " 'In',\n",
      " '1984',\n",
      " 'the',\n",
      " 'school',\n",
      " 'was',\n",
      " 'divided',\n",
      " 'into',\n",
      " 'three',\n",
      " 'departments',\n",
      " ',',\n",
      " 'namely',\n",
      " 'the',\n",
      " 'Department',\n",
      " 'of',\n",
      " 'Economics',\n",
      " ',',\n",
      " 'the',\n",
      " 'Department',\n",
      " 'of',\n",
      " 'Business',\n",
      " 'Administration',\n",
      " 'and',\n",
      " 'the',\n",
      " 'Department',\n",
      " 'of',\n",
      " 'Statistics',\n",
      " 'and',\n",
      " 'Informatics',\n",
      " '.',\n",
      " 'In',\n",
      " '1989',\n",
      " ',',\n",
      " 'the',\n",
      " 'university',\n",
      " 'expanded',\n",
      " 'to',\n",
      " 'six',\n",
      " 'departments',\n",
      " '.',\n",
      " 'From',\n",
      " '1999',\n",
      " 'onwards',\n",
      " ',',\n",
      " 'the',\n",
      " 'university',\n",
      " 'developed',\n",
      " 'even',\n",
      " 'further',\n",
      " 'and',\n",
      " 'nowadays',\n",
      " 'it',\n",
      " 'includes',\n",
      " 'eight',\n",
      " 'academic',\n",
      " 'departments',\n",
      " ',',\n",
      " 'offering',\n",
      " 'eight',\n",
      " 'undergraduate',\n",
      " 'degrees',\n",
      " ',',\n",
      " '28',\n",
      " \"master's\",\n",
      " 'degrees',\n",
      " 'and',\n",
      " 'an',\n",
      " 'equivalent',\n",
      " 'number',\n",
      " 'of',\n",
      " 'doctoral',\n",
      " 'programs',\n",
      " '.']\n"
     ]
    }
   ],
   "source": [
    "from nltk.stem import StemmerI, RegexpStemmer, LancasterStemmer, ISRIStemmer, PorterStemmer, SnowballStemmer, RSLPStemmer\n",
    "\n",
    "#Lemmatize `word` using WordNet's built-in morphy function. Returns the input word unchanged if it cannot be found in WordNet.\n",
    "#stemmer = WordNetLemmatizer()\n",
    "\n",
    "#stemmer = LancasterStemmer()\n",
    "#stemmer = SnowballStemmer('english')\n",
    "stemmer = PorterStemmer()\n",
    "pprint(tokens)"
   ]
  },
  {
   "cell_type": "code",
   "execution_count": null,
   "metadata": {
    "colab": {
     "base_uri": "https://localhost:8080/"
    },
    "id": "ssHy-okzyg18",
    "outputId": "26082bcf-e612-4079-fa9b-73efbb2f0df4",
    "slideshow": {
     "slide_type": "slide"
    }
   },
   "outputs": [
    {
     "name": "stdout",
     "output_type": "stream",
     "text": [
      "['the',\n",
      " 'athen',\n",
      " 'univers',\n",
      " 'of',\n",
      " 'econom',\n",
      " 'and',\n",
      " 'busi',\n",
      " '(',\n",
      " 'aueb',\n",
      " ')',\n",
      " 'wa',\n",
      " 'origin',\n",
      " 'found',\n",
      " 'in',\n",
      " '1920',\n",
      " 'under',\n",
      " 'the',\n",
      " 'name',\n",
      " 'of',\n",
      " 'athen',\n",
      " 'school',\n",
      " 'of',\n",
      " 'commerci',\n",
      " 'studi',\n",
      " '.',\n",
      " 'it',\n",
      " 'wa',\n",
      " 'renam',\n",
      " 'in',\n",
      " '1926',\n",
      " 'as',\n",
      " 'the',\n",
      " 'athen',\n",
      " 'school',\n",
      " 'of',\n",
      " 'econom',\n",
      " 'and',\n",
      " 'busi',\n",
      " ',',\n",
      " 'a',\n",
      " 'name',\n",
      " 'that',\n",
      " 'wa',\n",
      " 'retain',\n",
      " 'until',\n",
      " '1989',\n",
      " 'when',\n",
      " 'it',\n",
      " 'assum',\n",
      " 'it',\n",
      " 'present',\n",
      " 'name',\n",
      " ',',\n",
      " 'the',\n",
      " 'athen',\n",
      " 'univers',\n",
      " 'of',\n",
      " 'econom',\n",
      " 'and',\n",
      " 'busi',\n",
      " '.',\n",
      " 'it',\n",
      " 'is',\n",
      " 'the',\n",
      " 'third',\n",
      " 'oldest',\n",
      " 'univers',\n",
      " 'in',\n",
      " 'greec',\n",
      " 'and',\n",
      " 'the',\n",
      " 'oldest',\n",
      " 'in',\n",
      " 'the',\n",
      " 'field',\n",
      " 'of',\n",
      " 'econom',\n",
      " 'and',\n",
      " 'busi',\n",
      " '.',\n",
      " 'up',\n",
      " 'to',\n",
      " '1955',\n",
      " 'the',\n",
      " 'school',\n",
      " 'offer',\n",
      " 'onli',\n",
      " 'one',\n",
      " 'degre',\n",
      " 'in',\n",
      " 'the',\n",
      " 'gener',\n",
      " 'area',\n",
      " 'of',\n",
      " 'econom',\n",
      " 'and',\n",
      " 'commerc',\n",
      " '.',\n",
      " 'in',\n",
      " '1955',\n",
      " 'it',\n",
      " 'start',\n",
      " 'two',\n",
      " 'separ',\n",
      " 'program',\n",
      " 'lead',\n",
      " 'to',\n",
      " 'two',\n",
      " 'separ',\n",
      " 'degre',\n",
      " ':',\n",
      " 'one',\n",
      " 'in',\n",
      " 'econom',\n",
      " 'and',\n",
      " 'the',\n",
      " 'other',\n",
      " 'in',\n",
      " 'busi',\n",
      " 'administr',\n",
      " '.',\n",
      " 'in',\n",
      " '1984',\n",
      " 'the',\n",
      " 'school',\n",
      " 'wa',\n",
      " 'divid',\n",
      " 'into',\n",
      " 'three',\n",
      " 'depart',\n",
      " ',',\n",
      " 'name',\n",
      " 'the',\n",
      " 'depart',\n",
      " 'of',\n",
      " 'econom',\n",
      " ',',\n",
      " 'the',\n",
      " 'depart',\n",
      " 'of',\n",
      " 'busi',\n",
      " 'administr',\n",
      " 'and',\n",
      " 'the',\n",
      " 'depart',\n",
      " 'of',\n",
      " 'statist',\n",
      " 'and',\n",
      " 'informat',\n",
      " '.',\n",
      " 'in',\n",
      " '1989',\n",
      " ',',\n",
      " 'the',\n",
      " 'univers',\n",
      " 'expand',\n",
      " 'to',\n",
      " 'six',\n",
      " 'depart',\n",
      " '.',\n",
      " 'from',\n",
      " '1999',\n",
      " 'onward',\n",
      " ',',\n",
      " 'the',\n",
      " 'univers',\n",
      " 'develop',\n",
      " 'even',\n",
      " 'further',\n",
      " 'and',\n",
      " 'nowaday',\n",
      " 'it',\n",
      " 'includ',\n",
      " 'eight',\n",
      " 'academ',\n",
      " 'depart',\n",
      " ',',\n",
      " 'offer',\n",
      " 'eight',\n",
      " 'undergradu',\n",
      " 'degre',\n",
      " ',',\n",
      " '28',\n",
      " \"master'\",\n",
      " 'degre',\n",
      " 'and',\n",
      " 'an',\n",
      " 'equival',\n",
      " 'number',\n",
      " 'of',\n",
      " 'doctor',\n",
      " 'program',\n",
      " '.']\n"
     ]
    }
   ],
   "source": [
    "stems = [stemmer.stem(token) for token in tokens ]\n",
    "pprint(stems)"
   ]
  },
  {
   "cell_type": "markdown",
   "metadata": {
    "id": "JjD3FiWWoeo-",
    "slideshow": {
     "slide_type": "slide"
    }
   },
   "source": [
    "## POS Tagging"
   ]
  },
  {
   "cell_type": "code",
   "execution_count": null,
   "metadata": {
    "colab": {
     "base_uri": "https://localhost:8080/"
    },
    "id": "BX-wEWbZoiM2",
    "outputId": "1c4dd4ce-8247-4a6f-adea-a42ccc35d989",
    "scrolled": true,
    "slideshow": {
     "slide_type": "fragment"
    }
   },
   "outputs": [
    {
     "name": "stderr",
     "output_type": "stream",
     "text": [
      "[nltk_data] Downloading package averaged_perceptron_tagger to\n",
      "[nltk_data]     /root/nltk_data...\n",
      "[nltk_data]   Unzipping taggers/averaged_perceptron_tagger.zip.\n"
     ]
    },
    {
     "name": "stdout",
     "output_type": "stream",
     "text": [
      "[('On', 'IN'),\n",
      " ('a', 'DT'),\n",
      " ('short', 'JJ'),\n",
      " ('5', 'CD'),\n",
      " ('day', 'NN'),\n",
      " ('holiday', 'NN'),\n",
      " ('with', 'IN'),\n",
      " ('the', 'DT'),\n",
      " ('family', 'NN'),\n",
      " ('.', '.'),\n",
      " ('My', 'PRP$'),\n",
      " ('daughter', 'NN'),\n",
      " ('read', 'VB'),\n",
      " ('about', 'IN'),\n",
      " ('this', 'DT'),\n",
      " ('site', 'NN'),\n",
      " ('online', 'NN'),\n",
      " ('and', 'CC'),\n",
      " ('saved', 'VBD'),\n",
      " ('it', 'PRP'),\n",
      " ('for', 'IN'),\n",
      " ('a', 'DT'),\n",
      " ('visit', 'NN'),\n",
      " ('.', '.'),\n",
      " ('I', 'PRP'),\n",
      " ('’', 'VBP'),\n",
      " ('m', 'NNS'),\n",
      " ('really', 'RB'),\n",
      " ('glad', 'VBP'),\n",
      " ('we', 'PRP'),\n",
      " ('did', 'VBD'),\n",
      " (',', ','),\n",
      " ('the', 'DT'),\n",
      " ('food', 'NN'),\n",
      " ('was', 'VBD'),\n",
      " ('amazing', 'JJ'),\n",
      " ('and', 'CC'),\n",
      " ('so', 'RB'),\n",
      " ('tasty', 'JJ'),\n",
      " ('.', '.'),\n",
      " ('The', 'DT'),\n",
      " ('staff', 'NN'),\n",
      " ('were', 'VBD'),\n",
      " ('also', 'RB'),\n",
      " ('as', 'RB'),\n",
      " ('good', 'JJ'),\n",
      " ('as', 'IN'),\n",
      " ('the', 'DT'),\n",
      " ('food', 'NN'),\n",
      " (';', ':'),\n",
      " ('very', 'RB'),\n",
      " ('friendly', 'RB'),\n",
      " ('and', 'CC'),\n",
      " ('pleasant.Highly', 'RB'),\n",
      " ('recommended', 'VBD'),\n",
      " ('.', '.')]\n"
     ]
    }
   ],
   "source": [
    "nltk.download('averaged_perceptron_tagger')\n",
    "from nltk.tag.perceptron import PerceptronTagger\n",
    "\n",
    "review_text = \"On a short 5 day holiday with the family. My daughter read about this site online and\\\n",
    " saved it for a visit. I’m really glad we did, the food was amazing and so tasty.\\\n",
    " The staff were also as good as the food; very friendly and pleasant.Highly recommended.\"\n",
    "\n",
    "tagger = PerceptronTagger()\n",
    "tokens = nltk.word_tokenize(review_text)\n",
    "tagged = tagger.tag(tokens)\n",
    "pprint(tagged)"
   ]
  },
  {
   "cell_type": "markdown",
   "metadata": {
    "id": "LzYCcacqe2fZ",
    "slideshow": {
     "slide_type": "slide"
    }
   },
   "source": [
    "## Create and count n-grams frequency (NLTK)"
   ]
  },
  {
   "cell_type": "code",
   "execution_count": null,
   "metadata": {
    "colab": {
     "base_uri": "https://localhost:8080/"
    },
    "id": "sCLWHm7de3KA",
    "outputId": "e576cc8d-b9e0-4e1b-cbea-afb9cd4d95b9",
    "scrolled": true,
    "slideshow": {
     "slide_type": "fragment"
    }
   },
   "outputs": [
    {
     "name": "stdout",
     "output_type": "stream",
     "text": [
      "['The', 'Athens', 'University', 'of', 'Economics', 'and', 'Business', '(', 'AUEB', ')', 'was', 'originally', 'founded', 'in', '1920', 'under', 'the', 'name', 'of', 'Athens', 'School', 'of', 'Commercial', 'Studies', '.']\n",
      "['It', 'was', 'renamed', 'in', '1926', 'as', 'the', 'Athens', 'School', 'of', 'Economics', 'and', 'Business', ',', 'a', 'name', 'that', 'was', 'retained', 'until', '1989', 'when', 'it', 'assumed', 'its', 'present', 'name', ',', 'the', 'Athens', 'University', 'of', 'Economics', 'and', 'Business', '.']\n",
      "['It', 'is', 'the', 'third', 'oldest', 'university', 'in', 'Greece', 'and', 'the', 'oldest', 'in', 'the', 'fields', 'of', 'economics', 'and', 'business', '.']\n",
      "['Up', 'to', '1955', 'the', 'school', 'offered', 'only', 'one', 'degree', 'in', 'the', 'general', 'area', 'of', 'economics', 'and', 'commerce', '.']\n",
      "['In', '1955', 'it', 'started', 'two', 'separate', 'programs', 'leading', 'to', 'two', 'separate', 'degrees', ':', 'one', 'in', 'economics', 'and', 'the', 'other', 'in', 'business', 'administration', '.']\n",
      "['In', '1984', 'the', 'school', 'was', 'divided', 'into', 'three', 'departments', ',', 'namely', 'the', 'Department', 'of', 'Economics', ',', 'the', 'Department', 'of', 'Business', 'Administration', 'and', 'the', 'Department', 'of', 'Statistics', 'and', 'Informatics', '.']\n",
      "['In', '1989', ',', 'the', 'university', 'expanded', 'to', 'six', 'departments', '.']\n",
      "['From', '1999', 'onwards', ',', 'the', 'university', 'developed', 'even', 'further', 'and', 'nowadays', 'it', 'includes', 'eight', 'academic', 'departments', ',', 'offering', 'eight', 'undergraduate', 'degrees', ',', '28', \"master's\", 'degrees', 'and', 'an', 'equivalent', 'number', 'of', 'doctoral', 'programs', '.']\n",
      "[(('the',), 15),\n",
      " (('of',), 11),\n",
      " (('and',), 11),\n",
      " (('.',), 8),\n",
      " ((',',), 8),\n",
      " (('in',), 7),\n",
      " (('Athens',), 4),\n",
      " (('Economics',), 4),\n",
      " (('Business',), 4),\n",
      " (('was',), 4)]\n",
      "[(('.', '<e>'), 8),\n",
      " (('of', 'Economics'), 4),\n",
      " ((',', 'the'), 4),\n",
      " (('Economics', 'and'), 3),\n",
      " (('and', 'Business'), 3),\n",
      " (('and', 'the'), 3),\n",
      " (('economics', 'and'), 3),\n",
      " (('<s>', 'In'), 3),\n",
      " (('the', 'Department'), 3),\n",
      " (('Department', 'of'), 3)]\n",
      "[(('.', '<e>', '<e>'), 8),\n",
      " (('of', 'Economics', 'and'), 3),\n",
      " (('Economics', 'and', 'Business'), 3),\n",
      " (('<s>', '<s>', 'In'), 3),\n",
      " (('the', 'Department', 'of'), 3),\n",
      " (('Athens', 'University', 'of'), 2),\n",
      " (('University', 'of', 'Economics'), 2),\n",
      " (('Athens', 'School', 'of'), 2),\n",
      " (('<s>', '<s>', 'It'), 2),\n",
      " (('of', 'economics', 'and'), 2)]\n"
     ]
    }
   ],
   "source": [
    "from collections import Counter\n",
    "from nltk.util import ngrams\n",
    "\n",
    "unigram_counter = Counter()\n",
    "bigram_counter = Counter()\n",
    "trigram_counter = Counter()\n",
    "\n",
    "for sent in sentences_tokenized:\n",
    "    print(sent)\n",
    "    # Is there any need for 'left_pad_symbol' and 'right_pad_symbol'...?\n",
    "    unigram_counter.update([gram for gram in ngrams(sent, 1, pad_left=True, pad_right=True,\n",
    "                                                   left_pad_symbol='<s>',right_pad_symbol='<e>') ])\n",
    "    bigram_counter.update([gram for gram in ngrams(sent, 2, pad_left=True, pad_right=True,\n",
    "                                                   left_pad_symbol='<s>',right_pad_symbol='<e>') ])\n",
    "    trigram_counter.update([gram for gram in ngrams(sent, 3, pad_left=True, pad_right=True,\n",
    "                                                   left_pad_symbol='<s>',right_pad_symbol='<e>') ])\n",
    "pprint(unigram_counter.most_common(N))\n",
    "pprint(bigram_counter.most_common(N))\n",
    "pprint(trigram_counter.most_common(N))"
   ]
  },
  {
   "cell_type": "markdown",
   "metadata": {
    "id": "MIQn8SUNu9PC",
    "slideshow": {
     "slide_type": "slide"
    }
   },
   "source": [
    "##  Calculate bi-gram probability\n",
    "\n",
    "### $ P(w_2|w_1) = \\frac{C(w_1,w_2) + \\alpha}{C(w_1) + \\alpha \\cdot|V|} $\n",
    "\n",
    "* $ C(w_1,w_2) $ : bigram count\n",
    "* $ C(w_1) $ : unigram count\n",
    "* $ 0 \\leq\\alpha \\leq1 $ :  smoothing hyper-parameter\n",
    "* |V|: vocabulary size"
   ]
  },
  {
   "cell_type": "code",
   "execution_count": null,
   "metadata": {
    "colab": {
     "base_uri": "https://localhost:8080/"
    },
    "id": "-DG_0Qo6u4Ej",
    "outputId": "0dfb40c6-2343-47aa-ade4-4a0eb22b4a95",
    "slideshow": {
     "slide_type": "fragment"
    }
   },
   "outputs": [
    {
     "name": "stdout",
     "output_type": "stream",
     "text": [
      "bigram_prob: 0.195 \n",
      "bigram_log_prob: -2.361\n"
     ]
    }
   ],
   "source": [
    "import math\n",
    "\n",
    "# We should fine-tune alpha on a held-out dataset\n",
    "alpha = 0.01\n",
    "\n",
    "# Calculate vocab size\n",
    "vocab_size = len(set(tokens))\n",
    "\n",
    "# Bigram prob + laplace smoothing\n",
    "bigram_prob = (bigram_counter[('the', 'Department')] + alpha) / (unigram_counter[('the',)] + alpha*vocab_size)\n",
    "print(\"bigram_prob: {0:.3f} \".format(bigram_prob))\n",
    "\n",
    "bigram_log_prob = math.log2(bigram_prob)\n",
    "print(\"bigram_log_prob: {0:.3f}\".format(bigram_log_prob) )"
   ]
  },
  {
   "cell_type": "markdown",
   "metadata": {
    "id": "AdGQ6lldvGDf",
    "slideshow": {
     "slide_type": "slide"
    }
   },
   "source": [
    "## Bi-gram LM Cross entropy & perplexity\n",
    "\n",
    "* $ CrossEntropy = -\\frac{1}{N}\\sum^{bigrams}{log_2(P(w_2|w_1))} $\n",
    " * N: Number of bigrams\n",
    "* $ Perplexity = 2^{H(p)} $"
   ]
  },
  {
   "cell_type": "code",
   "execution_count": null,
   "metadata": {
    "colab": {
     "base_uri": "https://localhost:8080/"
    },
    "id": "p4smyVMY2Suf",
    "outputId": "070292a9-afb0-433c-fbd3-11e55ab12f99",
    "slideshow": {
     "slide_type": "fragment"
    }
   },
   "outputs": [
    {
     "name": "stdout",
     "output_type": "stream",
     "text": [
      "Cross Entropy: 1.240\n",
      "perplexity: 2.362\n"
     ]
    }
   ],
   "source": [
    "from itertools import pairwise\n",
    "\n",
    "sum_prob = 0\n",
    "bigram_cnt = 0\n",
    "\n",
    "for sent in sentences_tokenized:\n",
    "    sent = ['<s>'] + sent + ['<e>']\n",
    "\n",
    "    # Iterate over the bigrmas of the sentence\n",
    "    for first_token, second_token in pairwise(sent):\n",
    "        bigram_prob = (bigram_counter[(first_token, second_token)] + alpha) / (unigram_counter[(first_token,)] + alpha*vocab_size)\n",
    "        sum_prob += math.log2(bigram_prob)\n",
    "        bigram_cnt += 1\n",
    "\n",
    "HC = -sum_prob / bigram_cnt\n",
    "perpl = math.pow(2, HC)\n",
    "print(\"Cross Entropy: {0:.3f}\".format(HC))\n",
    "print(\"perplexity: {0:.3f}\".format(perpl))"
   ]
  },
  {
   "cell_type": "code",
   "execution_count": null,
   "metadata": {
    "colab": {
     "base_uri": "https://localhost:8080/"
    },
    "id": "B9QYVoyJ27Ch",
    "outputId": "e5fde153-d449-4728-c899-24a36a6ac933",
    "slideshow": {
     "slide_type": "slide"
    }
   },
   "outputs": [
    {
     "data": {
      "text/plain": [
       "[('<s>', 'From'),\n",
       " ('From', '1999'),\n",
       " ('1999', 'onwards'),\n",
       " ('onwards', ','),\n",
       " (',', 'the'),\n",
       " ('the', 'university'),\n",
       " ('university', 'developed'),\n",
       " ('developed', 'even'),\n",
       " ('even', 'further'),\n",
       " ('further', 'and'),\n",
       " ('and', 'nowadays'),\n",
       " ('nowadays', 'it'),\n",
       " ('it', 'includes'),\n",
       " ('includes', 'eight'),\n",
       " ('eight', 'academic'),\n",
       " ('academic', 'departments'),\n",
       " ('departments', ','),\n",
       " (',', 'offering'),\n",
       " ('offering', 'eight'),\n",
       " ('eight', 'undergraduate'),\n",
       " ('undergraduate', 'degrees'),\n",
       " ('degrees', ','),\n",
       " (',', '28'),\n",
       " ('28', \"master's\"),\n",
       " (\"master's\", 'degrees'),\n",
       " ('degrees', 'and'),\n",
       " ('and', 'an'),\n",
       " ('an', 'equivalent'),\n",
       " ('equivalent', 'number'),\n",
       " ('number', 'of'),\n",
       " ('of', 'doctoral'),\n",
       " ('doctoral', 'programs'),\n",
       " ('programs', '.'),\n",
       " ('.', '<e>')]"
      ]
     },
     "execution_count": 18,
     "metadata": {},
     "output_type": "execute_result"
    }
   ],
   "source": [
    "list(pairwise(sent))"
   ]
  },
  {
   "cell_type": "markdown",
   "metadata": {
    "id": "_IgMto59vPcL",
    "slideshow": {
     "slide_type": "slide"
    }
   },
   "source": [
    "## Tri-gram LM Cross entropy & perplexity\n",
    "\n",
    "### $ P(w_3|w_1,w_2) = \\frac{C(w_1,w_2,w_3) + \\alpha}{C(w_1,w_2) + \\alpha \\cdot |V|} $\n",
    "\n",
    "* $ C(w_1,w_2,w_3) $ : trigram count\n",
    "* $ C(w_1,w_2) $ : bigram count\n",
    "* $ 0 \\leq\\alpha \\leq1 $ :  smoothing hyper-parameter\n",
    "* |V|: vocabulary size"
   ]
  },
  {
   "cell_type": "code",
   "execution_count": null,
   "metadata": {
    "colab": {
     "base_uri": "https://localhost:8080/"
    },
    "id": "tR4RYjq_4Aa5",
    "outputId": "667e31a2-f1de-4f82-f894-f8022a3bdd95",
    "slideshow": {
     "slide_type": "fragment"
    }
   },
   "outputs": [
    {
     "name": "stdout",
     "output_type": "stream",
     "text": [
      "Cross Entropy: 0.596\n",
      "perplexity: 1.512\n"
     ]
    }
   ],
   "source": [
    "from more_itertools import windowed\n",
    "\n",
    "sum_prob = 0\n",
    "trigram_cnt = 0\n",
    "\n",
    "for sent in sentences_tokenized:\n",
    "    sent = ['<s>'] + ['<s>'] + sent + ['<e>']\n",
    "\n",
    "    for first_token, second_token, third_token in windowed(sent, n=3):\n",
    "        trigram_prob = (trigram_counter[(first_token, second_token, third_token)] + alpha) / (bigram_counter[(first_token, second_token)] + alpha*vocab_size)\n",
    "        sum_prob += math.log2(trigram_prob)\n",
    "        trigram_cnt+=1\n",
    "\n",
    "HC = -sum_prob / trigram_cnt\n",
    "perpl = math.pow(2,HC)\n",
    "print(\"Cross Entropy: {0:.3f}\".format(HC))\n",
    "print(\"perplexity: {0:.3f}\".format(perpl))"
   ]
  },
  {
   "cell_type": "markdown",
   "metadata": {
    "id": "QhEr5LIpvV3B",
    "slideshow": {
     "slide_type": "slide"
    }
   },
   "source": [
    "## Interpolated bi-gram and tri-gram LM\n",
    "### $ P(w_3|w_1,w_2) = \\lambda \\cdot P(w_3|w_1,w_2) +(1-\\lambda) \\cdot P(w_3|w_2)  $\n",
    "* $ 0 \\leq \\lambda \\leq 1 $\n",
    "* $ \\lambda $ should be fine-tuned on a held-out dataset\n",
    "---\n",
    "$ CrossEntropy = -\\frac{1}{N}\\sum^{trigrmas}{log_2(P(w_3|w_1,w_2))} = -\\frac{1}{N}\\sum^{trigrmas}{log_2(\\lambda \\cdot P(w_3|w_1,w_2) +(1-\\lambda) \\cdot P(w_3|w_2))}$\n",
    "* N: Number of trigrams <br>\n",
    "\n",
    "$ Perplexity = 2^{H(p)} $"
   ]
  },
  {
   "cell_type": "code",
   "execution_count": null,
   "metadata": {
    "colab": {
     "base_uri": "https://localhost:8080/"
    },
    "id": "vVWqWBLPvMEq",
    "outputId": "79f25344-a542-47d0-c4c3-45a45cbcdc9c",
    "slideshow": {
     "slide_type": "slide"
    }
   },
   "outputs": [
    {
     "name": "stdout",
     "output_type": "stream",
     "text": [
      "Cross Entropy: 1.240\n",
      "perplexity: 2.362\n"
     ]
    }
   ],
   "source": [
    "lamda = 0.0001\n",
    "sum_prob = 0\n",
    "ngram_cnt = 0\n",
    "\n",
    "for sent in sentences_tokenized:\n",
    "    sent = ['<s>'] + ['<s>'] + sent + ['<e>']\n",
    "\n",
    "    for first_token, second_token, third_token in windowed(sent, n=3):\n",
    "\n",
    "        trigram_prob = (trigram_counter[(first_token, second_token, third_token)] + alpha) / (bigram_counter[(first_token, second_token)] + alpha*vocab_size)\n",
    "        bigram_prob = (bigram_counter[(second_token, third_token)] + alpha) / (unigram_counter[(second_token,)] + alpha*vocab_size)\n",
    "\n",
    "        sum_prob += math.log2(lamda * trigram_prob + (1-lamda) * bigram_prob)\n",
    "        ngram_cnt += 1\n",
    "\n",
    "        # print('P({}| {}, {})'.format(sent[idx],sent[idx-2], sent[idx-1]))\n",
    "        # print('P({}| {})'.format(sent[idx], sent[idx-1]))\n",
    "\n",
    "HC = -sum_prob / ngram_cnt\n",
    "perpl = math.pow(2, HC)\n",
    "print(\"Cross Entropy: {0:.3f}\".format(HC))\n",
    "print(\"perplexity: {0:.3f}\".format(perpl))"
   ]
  },
  {
   "cell_type": "markdown",
   "metadata": {
    "id": "s4pJREWJ7Uo5",
    "slideshow": {
     "slide_type": "slide"
    }
   },
   "source": [
    "# Beam search decoding example"
   ]
  },
  {
   "cell_type": "markdown",
   "metadata": {
    "id": "55r1Cv61HFu3",
    "slideshow": {
     "slide_type": "fragment"
    }
   },
   "source": [
    "![beamsearch.jpg](data:image/jpeg;base64,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)"
   ]
  },
  {
   "cell_type": "code",
   "execution_count": null,
   "metadata": {
    "colab": {
     "base_uri": "https://localhost:8080/"
    },
    "id": "-40_w2r-DcBC",
    "outputId": "03eae1a5-2710-45b1-ff26-52044cbe2fea",
    "scrolled": true,
    "slideshow": {
     "slide_type": "slide"
    }
   },
   "outputs": [
    {
     "name": "stdout",
     "output_type": "stream",
     "text": [
      "\n",
      "***** NEW candidates *****\n",
      "[(['<start>', 'I'], 0.5),\n",
      " (['<start>', 'He'], 0.3),\n",
      " (['<start>', 'She'], 0.3),\n",
      " (['<start>', 'It'], 0.35)]\n",
      "'***** Sorted'\n",
      "[(['<start>', 'I'], 0.5),\n",
      " (['<start>', 'It'], 0.35),\n",
      " (['<start>', 'He'], 0.3),\n",
      " (['<start>', 'She'], 0.3)]\n",
      "***** Chosen candidates (top-2)\n",
      "[(['<start>', 'I'], 0.5), (['<start>', 'It'], 0.35)]\n",
      "\n",
      "***** NEW candidates *****\n",
      "[(['<start>', 'I', 'am'], 0.125),\n",
      " (['<start>', 'I', 'have'], 0.12),\n",
      " (['<start>', 'I', 'like'], 0.1),\n",
      " (['<start>', 'I', 'dislike'], 0.15),\n",
      " (['<start>', 'It', 'is'], 0.048999999999999995)]\n",
      "'***** Sorted'\n",
      "[(['<start>', 'I', 'dislike'], 0.15),\n",
      " (['<start>', 'I', 'am'], 0.125),\n",
      " (['<start>', 'I', 'have'], 0.12),\n",
      " (['<start>', 'I', 'like'], 0.1),\n",
      " (['<start>', 'It', 'is'], 0.048999999999999995)]\n",
      "***** Chosen candidates (top-2)\n",
      "[(['<start>', 'I', 'dislike'], 0.15), (['<start>', 'I', 'am'], 0.125)]\n",
      "\n",
      "***** NEW candidates *****\n",
      "[(['<start>', 'I', 'am', 'a'], 0.021875),\n",
      " (['<start>', 'I', 'am', 'not'], 0.009375)]\n",
      "'***** Sorted'\n",
      "[(['<start>', 'I', 'am', 'a'], 0.021875),\n",
      " (['<start>', 'I', 'am', 'not'], 0.009375)]\n",
      "***** Chosen candidates (top-2)\n",
      "[(['<start>', 'I', 'am', 'a'], 0.021875),\n",
      " (['<start>', 'I', 'am', 'not'], 0.009375)]\n",
      "\n",
      "***** NEW candidates *****\n",
      "[(['<start>', 'I', 'am', 'a', 'cat'], 0.002296875),\n",
      " (['<start>', 'I', 'am', 'a', 'dog'], 0.0015312499999999998)]\n",
      "'***** Sorted'\n",
      "[(['<start>', 'I', 'am', 'a', 'cat'], 0.002296875),\n",
      " (['<start>', 'I', 'am', 'a', 'dog'], 0.0015312499999999998)]\n",
      "***** Chosen candidates (top-2)\n",
      "[(['<start>', 'I', 'am', 'a', 'cat'], 0.002296875),\n",
      " (['<start>', 'I', 'am', 'a', 'dog'], 0.0015312499999999998)]\n",
      "\n",
      "***** NEW candidates *****\n",
      "[(['<start>', 'I', 'am', 'a', 'cat', 'and'], 9.646875e-05),\n",
      " (['<start>', 'I', 'am', 'a', 'cat', 'is'], 9.646875e-05),\n",
      " (['<start>', 'I', 'am', 'a', 'dog', 'and'], 5.359374999999999e-05),\n",
      " (['<start>', 'I', 'am', 'a', 'dog', 'barks'], 5.359374999999999e-05)]\n",
      "'***** Sorted'\n",
      "[(['<start>', 'I', 'am', 'a', 'cat', 'and'], 9.646875e-05),\n",
      " (['<start>', 'I', 'am', 'a', 'cat', 'is'], 9.646875e-05),\n",
      " (['<start>', 'I', 'am', 'a', 'dog', 'and'], 5.359374999999999e-05),\n",
      " (['<start>', 'I', 'am', 'a', 'dog', 'barks'], 5.359374999999999e-05)]\n",
      "***** Chosen candidates (top-2)\n",
      "[(['<start>', 'I', 'am', 'a', 'cat', 'and'], 9.646875e-05),\n",
      " (['<start>', 'I', 'am', 'a', 'cat', 'is'], 9.646875e-05)]\n",
      "Best sequence: ['I', 'am', 'a', 'cat', 'and']\n"
     ]
    }
   ],
   "source": [
    "from more_itertools import chunked\n",
    "\n",
    "\n",
    "bigram_model = {\n",
    "    ('<start>', 'I'): 0.5,\n",
    "    ('<start>', 'He'): 0.3,\n",
    "    ('<start>', 'She'): 0.3,\n",
    "    ('<start>', 'It'): 0.35,\n",
    "    ('He', 'am'): 0.0005,\n",
    "    ('He', 'is'): 0.4,\n",
    "    ('She', 'is'): 0.4,\n",
    "    ('It', 'is'): 0.4,\n",
    "    ('I', 'am'): 0.5,\n",
    "    ('I', 'have'): 0.48,\n",
    "    ('am', 'a'): 0.7,\n",
    "    ('have', 'a'): 0.8,\n",
    "    ('is', 'a'): 0.8,\n",
    "    ('am', 'not'): 0.3,\n",
    "    ('a', 'cat'): 0.6,\n",
    "    ('a', 'dog'): 0.4,\n",
    "    ('have', 'a'): 0.8,\n",
    "    ('have', 'an'): 0.2,\n",
    "    ('an', 'apple'): 0.9,\n",
    "    ('an', 'orange'): 0.1,\n",
    "    ('cat', 'and'): 0.4,\n",
    "    ('and', 'a'): 0.45,\n",
    "    ('cat', 'is'): 0.4,\n",
    "    ('dog', 'and'): 0.5,\n",
    "    ('dog', 'barks'): 0.5,\n",
    "    ('barks', 'loudly'): 0.7,\n",
    "    ('barks', 'quietly'): 0.3,\n",
    "    ('I', 'like'): 0.4,\n",
    "    ('I', 'dislike'): 0.6,\n",
    "    ('like', 'to'): 0.8,\n",
    "    ('like', 'the'): 0.2,\n",
    "    ('the', 'sun'): 0.5,\n",
    "    ('the', 'moon'): 0.5,\n",
    "    ('moon', 'is'): 0.9,\n",
    "    ('moon', 'bright'): 0.1,\n",
    "    ('sun', 'shines'): 0.7,\n",
    "    ('sun', 'sets'): 0.3,\n",
    "}\n",
    "\n",
    "def generate_candidates(state):\n",
    "    # Given state , generate possible next words\n",
    "    last_word = state[-1]\n",
    "    next_words = [word for (prev_word, word) in bigram_model if prev_word == last_word]\n",
    "    return [state + [next_word] for next_word in next_words]\n",
    "\n",
    "def score(state):\n",
    "    # Calculate the probability of the word sequence using the bigram model\n",
    "    probability = 1.0\n",
    "    for i in range(1, len(state)):\n",
    "        prev_word, word = state[i-1], state[i]\n",
    "        probability *= bigram_model.get((prev_word, word), 0.0)\n",
    "    return probability\n",
    "\n",
    "def beam_search_decode(initial_state, max_depth, beam_width, generate_candidates_fn, score_fn):\n",
    "    candidates = [(initial_state, 1.0)]\n",
    "\n",
    "    for depth in range(max_depth):\n",
    "        new_candidates = []\n",
    "        for candidate, prob in candidates:\n",
    "            for next_state in generate_candidates_fn(candidate):\n",
    "                new_prob = prob * score_fn(next_state)\n",
    "                new_candidates.append((next_state, new_prob))\n",
    "\n",
    "\n",
    "        print('\\n***** NEW candidates *****')\n",
    "        pprint(new_candidates)\n",
    "        new_candidates = sorted(new_candidates, key=lambda x: x[1], reverse=True)\n",
    "        pprint('***** Sorted')\n",
    "        pprint(new_candidates)\n",
    "        print(f'***** Chosen candidates (top-{beam_width})')\n",
    "        candidates = new_candidates[:beam_width]\n",
    "        pprint(candidates)\n",
    "\n",
    "    best_sequence, best_prob = max(candidates, key=lambda x: x[1])\n",
    "    return best_sequence\n",
    "\n",
    "# Example usage:\n",
    "\n",
    "initial_state = [\"<start>\"]\n",
    "max_depth = 5\n",
    "beam_width = 2\n",
    "best_sequence = beam_search_decode(initial_state, max_depth, beam_width, generate_candidates, score)\n",
    "\n",
    "print(\"Best sequence:\", best_sequence[1:])  # Excluding the \"<start>\" token\n"
   ]
  },
  {
   "cell_type": "markdown",
   "metadata": {
    "id": "DZPYXSE9Jjjx",
    "slideshow": {
     "slide_type": "slide"
    }
   },
   "source": [
    "#### How to add Edit Distance:\n",
    "\n",
    "```\n",
    "!pip install python-Levenshtein\n",
    "\n",
    "import Levenshtein\n",
    "from itertools import product\n",
    "def generate_candidates_levenshtein(state, maximum_distance):\n",
    "    # Given state , generate possible next words\n",
    "    last_word = state[-1]\n",
    "    distances = {(word, voc_token):Levenshtein.distance(word, voc_token) for word, voc_token in product(word_list, Vocabulary)}\n",
    "    next_words = [word for (prev_word, word) in bigram_model if prev_word == last_word]\n",
    "    return [state + [next_word] for next_word in next_words], distances\n",
    "\n",
    "```\n",
    "\n",
    "#### You will also have to modify the `score` function by adding a term such as $ \\frac{1}{dist} $ for each state you score."
   ]
  },
  {
   "cell_type": "markdown",
   "metadata": {
    "id": "KjyYBcFWvtMC",
    "slideshow": {
     "slide_type": "slide"
    }
   },
   "source": [
    "## Resources\n",
    "* https://www.nltk.org\n",
    "* https://textminingonline.com/dive-into-nltk-part-i-getting-started-with-nltk\n",
    "* https://textminingonline.com/dive-into-nltk-part-ii-sentence-tokenize-and-word-tokenize\n",
    "* https://textminingonline.com/dive-into-nltk-part-iii-part-of-speech-tagging-and-pos-tagger   \n",
    "* https://textminingonline.com/dive-into-nltk-part-iv-stemming-and-lemmatization"
   ]
  }
 ],
 "metadata": {
  "celltoolbar": "Slideshow",
  "colab": {
   "provenance": []
  },
  "kernelspec": {
   "display_name": "Python 3 (ipykernel)",
   "language": "python",
   "name": "python3"
  },
  "language_info": {
   "codemirror_mode": {
    "name": "ipython",
    "version": 3
   },
   "file_extension": ".py",
   "mimetype": "text/x-python",
   "name": "python",
   "nbconvert_exporter": "python",
   "pygments_lexer": "ipython3",
   "version": "3.9.7"
  },
  "widgets": {
   "application/vnd.jupyter.widget-state+json": {
    "0c58c2f38cdd46a7a95b939be1c4f29d": {
     "model_module": "@jupyter-widgets/controls",
     "model_module_version": "1.5.0",
     "model_name": "DescriptionStyleModel",
     "state": {
      "_model_module": "@jupyter-widgets/controls",
      "_model_module_version": "1.5.0",
      "_model_name": "DescriptionStyleModel",
      "_view_count": null,
      "_view_module": "@jupyter-widgets/base",
      "_view_module_version": "1.2.0",
      "_view_name": "StyleView",
      "description_width": ""
     }
    },
    "0c81a5eb9fc84a8ca6a2153937dd7830": {
     "model_module": "@jupyter-widgets/base",
     "model_module_version": "1.2.0",
     "model_name": "LayoutModel",
     "state": {
      "_model_module": "@jupyter-widgets/base",
      "_model_module_version": "1.2.0",
      "_model_name": "LayoutModel",
      "_view_count": null,
      "_view_module": "@jupyter-widgets/base",
      "_view_module_version": "1.2.0",
      "_view_name": "LayoutView",
      "align_content": null,
      "align_items": null,
      "align_self": null,
      "border": null,
      "bottom": null,
      "display": null,
      "flex": null,
      "flex_flow": null,
      "grid_area": null,
      "grid_auto_columns": null,
      "grid_auto_flow": null,
      "grid_auto_rows": null,
      "grid_column": null,
      "grid_gap": null,
      "grid_row": null,
      "grid_template_areas": null,
      "grid_template_columns": null,
      "grid_template_rows": null,
      "height": null,
      "justify_content": null,
      "justify_items": null,
      "left": null,
      "margin": null,
      "max_height": null,
      "max_width": null,
      "min_height": null,
      "min_width": null,
      "object_fit": null,
      "object_position": null,
      "order": null,
      "overflow": null,
      "overflow_x": null,
      "overflow_y": null,
      "padding": null,
      "right": null,
      "top": null,
      "visibility": null,
      "width": null
     }
    },
    "0e82a5fd44344e08bcb6d1dea5ff99e0": {
     "model_module": "@jupyter-widgets/base",
     "model_module_version": "1.2.0",
     "model_name": "LayoutModel",
     "state": {
      "_model_module": "@jupyter-widgets/base",
      "_model_module_version": "1.2.0",
      "_model_name": "LayoutModel",
      "_view_count": null,
      "_view_module": "@jupyter-widgets/base",
      "_view_module_version": "1.2.0",
      "_view_name": "LayoutView",
      "align_content": null,
      "align_items": null,
      "align_self": null,
      "border": null,
      "bottom": null,
      "display": null,
      "flex": null,
      "flex_flow": null,
      "grid_area": null,
      "grid_auto_columns": null,
      "grid_auto_flow": null,
      "grid_auto_rows": null,
      "grid_column": null,
      "grid_gap": null,
      "grid_row": null,
      "grid_template_areas": null,
      "grid_template_columns": null,
      "grid_template_rows": null,
      "height": null,
      "justify_content": null,
      "justify_items": null,
      "left": null,
      "margin": null,
      "max_height": null,
      "max_width": null,
      "min_height": null,
      "min_width": null,
      "object_fit": null,
      "object_position": null,
      "order": null,
      "overflow": null,
      "overflow_x": null,
      "overflow_y": null,
      "padding": null,
      "right": null,
      "top": null,
      "visibility": null,
      "width": null
     }
    },
    "2d1ec0264ead43f0ab677abbe57fa26d": {
     "model_module": "@jupyter-widgets/controls",
     "model_module_version": "1.5.0",
     "model_name": "FloatProgressModel",
     "state": {
      "_dom_classes": [],
      "_model_module": "@jupyter-widgets/controls",
      "_model_module_version": "1.5.0",
      "_model_name": "FloatProgressModel",
      "_view_count": null,
      "_view_module": "@jupyter-widgets/controls",
      "_view_module_version": "1.5.0",
      "_view_name": "ProgressView",
      "bar_style": "success",
      "description": "",
      "description_tooltip": null,
      "layout": "IPY_MODEL_83809a5b34fb413a9cd42e13bf6c1e81",
      "max": 231508,
      "min": 0,
      "orientation": "horizontal",
      "style": "IPY_MODEL_af16d6fad6af4d0dbd7d2533d50d9f0b",
      "value": 231508
     }
    },
    "2e745aab855947bab29d71bd2d0378af": {
     "model_module": "@jupyter-widgets/controls",
     "model_module_version": "1.5.0",
     "model_name": "FloatProgressModel",
     "state": {
      "_dom_classes": [],
      "_model_module": "@jupyter-widgets/controls",
      "_model_module_version": "1.5.0",
      "_model_name": "FloatProgressModel",
      "_view_count": null,
      "_view_module": "@jupyter-widgets/controls",
      "_view_module_version": "1.5.0",
      "_view_name": "ProgressView",
      "bar_style": "success",
      "description": "",
      "description_tooltip": null,
      "layout": "IPY_MODEL_4262bc0532f24e078c4cd44073bb947f",
      "max": 28,
      "min": 0,
      "orientation": "horizontal",
      "style": "IPY_MODEL_c0fa104cf3bc4b5fb275d60647271c43",
      "value": 28
     }
    },
    "2ebfe2d9bb73422ba261eee2d704fe26": {
     "model_module": "@jupyter-widgets/controls",
     "model_module_version": "1.5.0",
     "model_name": "DescriptionStyleModel",
     "state": {
      "_model_module": "@jupyter-widgets/controls",
      "_model_module_version": "1.5.0",
      "_model_name": "DescriptionStyleModel",
      "_view_count": null,
      "_view_module": "@jupyter-widgets/base",
      "_view_module_version": "1.2.0",
      "_view_name": "StyleView",
      "description_width": ""
     }
    },
    "2ff32ac451634218b1e79475ab8ee1d9": {
     "model_module": "@jupyter-widgets/controls",
     "model_module_version": "1.5.0",
     "model_name": "HTMLModel",
     "state": {
      "_dom_classes": [],
      "_model_module": "@jupyter-widgets/controls",
      "_model_module_version": "1.5.0",
      "_model_name": "HTMLModel",
      "_view_count": null,
      "_view_module": "@jupyter-widgets/controls",
      "_view_module_version": "1.5.0",
      "_view_name": "HTMLView",
      "description": "",
      "description_tooltip": null,
      "layout": "IPY_MODEL_ebaf00de1b07466bab995d48beefc2c5",
      "placeholder": "​",
      "style": "IPY_MODEL_65a69f9388a14c1f9a1416f4de45d3d7",
      "value": "tokenizer_config.json: 100%"
     }
    },
    "32735f55929a46fdb82a22c766871799": {
     "model_module": "@jupyter-widgets/controls",
     "model_module_version": "1.5.0",
     "model_name": "FloatProgressModel",
     "state": {
      "_dom_classes": [],
      "_model_module": "@jupyter-widgets/controls",
      "_model_module_version": "1.5.0",
      "_model_name": "FloatProgressModel",
      "_view_count": null,
      "_view_module": "@jupyter-widgets/controls",
      "_view_module_version": "1.5.0",
      "_view_name": "ProgressView",
      "bar_style": "success",
      "description": "",
      "description_tooltip": null,
      "layout": "IPY_MODEL_cb4735b1c9324a0082ebbe9fb4a9e2cf",
      "max": 466062,
      "min": 0,
      "orientation": "horizontal",
      "style": "IPY_MODEL_f4d6330d3dcd4022852362b893fdda25",
      "value": 466062
     }
    },
    "40ba542eab554f91a52422a182d437ab": {
     "model_module": "@jupyter-widgets/base",
     "model_module_version": "1.2.0",
     "model_name": "LayoutModel",
     "state": {
      "_model_module": "@jupyter-widgets/base",
      "_model_module_version": "1.2.0",
      "_model_name": "LayoutModel",
      "_view_count": null,
      "_view_module": "@jupyter-widgets/base",
      "_view_module_version": "1.2.0",
      "_view_name": "LayoutView",
      "align_content": null,
      "align_items": null,
      "align_self": null,
      "border": null,
      "bottom": null,
      "display": null,
      "flex": null,
      "flex_flow": null,
      "grid_area": null,
      "grid_auto_columns": null,
      "grid_auto_flow": null,
      "grid_auto_rows": null,
      "grid_column": null,
      "grid_gap": null,
      "grid_row": null,
      "grid_template_areas": null,
      "grid_template_columns": null,
      "grid_template_rows": null,
      "height": null,
      "justify_content": null,
      "justify_items": null,
      "left": null,
      "margin": null,
      "max_height": null,
      "max_width": null,
      "min_height": null,
      "min_width": null,
      "object_fit": null,
      "object_position": null,
      "order": null,
      "overflow": null,
      "overflow_x": null,
      "overflow_y": null,
      "padding": null,
      "right": null,
      "top": null,
      "visibility": null,
      "width": null
     }
    },
    "4262bc0532f24e078c4cd44073bb947f": {
     "model_module": "@jupyter-widgets/base",
     "model_module_version": "1.2.0",
     "model_name": "LayoutModel",
     "state": {
      "_model_module": "@jupyter-widgets/base",
      "_model_module_version": "1.2.0",
      "_model_name": "LayoutModel",
      "_view_count": null,
      "_view_module": "@jupyter-widgets/base",
      "_view_module_version": "1.2.0",
      "_view_name": "LayoutView",
      "align_content": null,
      "align_items": null,
      "align_self": null,
      "border": null,
      "bottom": null,
      "display": null,
      "flex": null,
      "flex_flow": null,
      "grid_area": null,
      "grid_auto_columns": null,
      "grid_auto_flow": null,
      "grid_auto_rows": null,
      "grid_column": null,
      "grid_gap": null,
      "grid_row": null,
      "grid_template_areas": null,
      "grid_template_columns": null,
      "grid_template_rows": null,
      "height": null,
      "justify_content": null,
      "justify_items": null,
      "left": null,
      "margin": null,
      "max_height": null,
      "max_width": null,
      "min_height": null,
      "min_width": null,
      "object_fit": null,
      "object_position": null,
      "order": null,
      "overflow": null,
      "overflow_x": null,
      "overflow_y": null,
      "padding": null,
      "right": null,
      "top": null,
      "visibility": null,
      "width": null
     }
    },
    "4be718ff25134aec8711c224f32bf5a2": {
     "model_module": "@jupyter-widgets/base",
     "model_module_version": "1.2.0",
     "model_name": "LayoutModel",
     "state": {
      "_model_module": "@jupyter-widgets/base",
      "_model_module_version": "1.2.0",
      "_model_name": "LayoutModel",
      "_view_count": null,
      "_view_module": "@jupyter-widgets/base",
      "_view_module_version": "1.2.0",
      "_view_name": "LayoutView",
      "align_content": null,
      "align_items": null,
      "align_self": null,
      "border": null,
      "bottom": null,
      "display": null,
      "flex": null,
      "flex_flow": null,
      "grid_area": null,
      "grid_auto_columns": null,
      "grid_auto_flow": null,
      "grid_auto_rows": null,
      "grid_column": null,
      "grid_gap": null,
      "grid_row": null,
      "grid_template_areas": null,
      "grid_template_columns": null,
      "grid_template_rows": null,
      "height": null,
      "justify_content": null,
      "justify_items": null,
      "left": null,
      "margin": null,
      "max_height": null,
      "max_width": null,
      "min_height": null,
      "min_width": null,
      "object_fit": null,
      "object_position": null,
      "order": null,
      "overflow": null,
      "overflow_x": null,
      "overflow_y": null,
      "padding": null,
      "right": null,
      "top": null,
      "visibility": null,
      "width": null
     }
    },
    "65a69f9388a14c1f9a1416f4de45d3d7": {
     "model_module": "@jupyter-widgets/controls",
     "model_module_version": "1.5.0",
     "model_name": "DescriptionStyleModel",
     "state": {
      "_model_module": "@jupyter-widgets/controls",
      "_model_module_version": "1.5.0",
      "_model_name": "DescriptionStyleModel",
      "_view_count": null,
      "_view_module": "@jupyter-widgets/base",
      "_view_module_version": "1.2.0",
      "_view_name": "StyleView",
      "description_width": ""
     }
    },
    "6782df0157d24331be3a078dc842da0f": {
     "model_module": "@jupyter-widgets/base",
     "model_module_version": "1.2.0",
     "model_name": "LayoutModel",
     "state": {
      "_model_module": "@jupyter-widgets/base",
      "_model_module_version": "1.2.0",
      "_model_name": "LayoutModel",
      "_view_count": null,
      "_view_module": "@jupyter-widgets/base",
      "_view_module_version": "1.2.0",
      "_view_name": "LayoutView",
      "align_content": null,
      "align_items": null,
      "align_self": null,
      "border": null,
      "bottom": null,
      "display": null,
      "flex": null,
      "flex_flow": null,
      "grid_area": null,
      "grid_auto_columns": null,
      "grid_auto_flow": null,
      "grid_auto_rows": null,
      "grid_column": null,
      "grid_gap": null,
      "grid_row": null,
      "grid_template_areas": null,
      "grid_template_columns": null,
      "grid_template_rows": null,
      "height": null,
      "justify_content": null,
      "justify_items": null,
      "left": null,
      "margin": null,
      "max_height": null,
      "max_width": null,
      "min_height": null,
      "min_width": null,
      "object_fit": null,
      "object_position": null,
      "order": null,
      "overflow": null,
      "overflow_x": null,
      "overflow_y": null,
      "padding": null,
      "right": null,
      "top": null,
      "visibility": null,
      "width": null
     }
    },
    "703f9e9d715a420c84a48b264a553ba8": {
     "model_module": "@jupyter-widgets/controls",
     "model_module_version": "1.5.0",
     "model_name": "HTMLModel",
     "state": {
      "_dom_classes": [],
      "_model_module": "@jupyter-widgets/controls",
      "_model_module_version": "1.5.0",
      "_model_name": "HTMLModel",
      "_view_count": null,
      "_view_module": "@jupyter-widgets/controls",
      "_view_module_version": "1.5.0",
      "_view_name": "HTMLView",
      "description": "",
      "description_tooltip": null,
      "layout": "IPY_MODEL_bf9aa129078f4cf7b5c8fa9a18e79953",
      "placeholder": "​",
      "style": "IPY_MODEL_d2052a8013de4bb299d6fb4576fd9bdc",
      "value": " 570/570 [00:00&lt;00:00, 11.4kB/s]"
     }
    },
    "72104eb4f2074d81bd69532ac0a9403f": {
     "model_module": "@jupyter-widgets/controls",
     "model_module_version": "1.5.0",
     "model_name": "FloatProgressModel",
     "state": {
      "_dom_classes": [],
      "_model_module": "@jupyter-widgets/controls",
      "_model_module_version": "1.5.0",
      "_model_name": "FloatProgressModel",
      "_view_count": null,
      "_view_module": "@jupyter-widgets/controls",
      "_view_module_version": "1.5.0",
      "_view_name": "ProgressView",
      "bar_style": "success",
      "description": "",
      "description_tooltip": null,
      "layout": "IPY_MODEL_a41f64a358c3449aabf6031a9d5c438c",
      "max": 570,
      "min": 0,
      "orientation": "horizontal",
      "style": "IPY_MODEL_e0afdcb8d94d44229cbd8008fdec1525",
      "value": 570
     }
    },
    "78bd73f344c64a09b8354ef310d59e95": {
     "model_module": "@jupyter-widgets/controls",
     "model_module_version": "1.5.0",
     "model_name": "DescriptionStyleModel",
     "state": {
      "_model_module": "@jupyter-widgets/controls",
      "_model_module_version": "1.5.0",
      "_model_name": "DescriptionStyleModel",
      "_view_count": null,
      "_view_module": "@jupyter-widgets/base",
      "_view_module_version": "1.2.0",
      "_view_name": "StyleView",
      "description_width": ""
     }
    },
    "791ceff03ebe4b0d9d6fae9f2bb4fe60": {
     "model_module": "@jupyter-widgets/base",
     "model_module_version": "1.2.0",
     "model_name": "LayoutModel",
     "state": {
      "_model_module": "@jupyter-widgets/base",
      "_model_module_version": "1.2.0",
      "_model_name": "LayoutModel",
      "_view_count": null,
      "_view_module": "@jupyter-widgets/base",
      "_view_module_version": "1.2.0",
      "_view_name": "LayoutView",
      "align_content": null,
      "align_items": null,
      "align_self": null,
      "border": null,
      "bottom": null,
      "display": null,
      "flex": null,
      "flex_flow": null,
      "grid_area": null,
      "grid_auto_columns": null,
      "grid_auto_flow": null,
      "grid_auto_rows": null,
      "grid_column": null,
      "grid_gap": null,
      "grid_row": null,
      "grid_template_areas": null,
      "grid_template_columns": null,
      "grid_template_rows": null,
      "height": null,
      "justify_content": null,
      "justify_items": null,
      "left": null,
      "margin": null,
      "max_height": null,
      "max_width": null,
      "min_height": null,
      "min_width": null,
      "object_fit": null,
      "object_position": null,
      "order": null,
      "overflow": null,
      "overflow_x": null,
      "overflow_y": null,
      "padding": null,
      "right": null,
      "top": null,
      "visibility": null,
      "width": null
     }
    },
    "83809a5b34fb413a9cd42e13bf6c1e81": {
     "model_module": "@jupyter-widgets/base",
     "model_module_version": "1.2.0",
     "model_name": "LayoutModel",
     "state": {
      "_model_module": "@jupyter-widgets/base",
      "_model_module_version": "1.2.0",
      "_model_name": "LayoutModel",
      "_view_count": null,
      "_view_module": "@jupyter-widgets/base",
      "_view_module_version": "1.2.0",
      "_view_name": "LayoutView",
      "align_content": null,
      "align_items": null,
      "align_self": null,
      "border": null,
      "bottom": null,
      "display": null,
      "flex": null,
      "flex_flow": null,
      "grid_area": null,
      "grid_auto_columns": null,
      "grid_auto_flow": null,
      "grid_auto_rows": null,
      "grid_column": null,
      "grid_gap": null,
      "grid_row": null,
      "grid_template_areas": null,
      "grid_template_columns": null,
      "grid_template_rows": null,
      "height": null,
      "justify_content": null,
      "justify_items": null,
      "left": null,
      "margin": null,
      "max_height": null,
      "max_width": null,
      "min_height": null,
      "min_width": null,
      "object_fit": null,
      "object_position": null,
      "order": null,
      "overflow": null,
      "overflow_x": null,
      "overflow_y": null,
      "padding": null,
      "right": null,
      "top": null,
      "visibility": null,
      "width": null
     }
    },
    "8d18be76f03e4e9ea4c72be75dcc3861": {
     "model_module": "@jupyter-widgets/controls",
     "model_module_version": "1.5.0",
     "model_name": "DescriptionStyleModel",
     "state": {
      "_model_module": "@jupyter-widgets/controls",
      "_model_module_version": "1.5.0",
      "_model_name": "DescriptionStyleModel",
      "_view_count": null,
      "_view_module": "@jupyter-widgets/base",
      "_view_module_version": "1.2.0",
      "_view_name": "StyleView",
      "description_width": ""
     }
    },
    "91a91f06ebef42c7b80a01fd781cd5f3": {
     "model_module": "@jupyter-widgets/base",
     "model_module_version": "1.2.0",
     "model_name": "LayoutModel",
     "state": {
      "_model_module": "@jupyter-widgets/base",
      "_model_module_version": "1.2.0",
      "_model_name": "LayoutModel",
      "_view_count": null,
      "_view_module": "@jupyter-widgets/base",
      "_view_module_version": "1.2.0",
      "_view_name": "LayoutView",
      "align_content": null,
      "align_items": null,
      "align_self": null,
      "border": null,
      "bottom": null,
      "display": null,
      "flex": null,
      "flex_flow": null,
      "grid_area": null,
      "grid_auto_columns": null,
      "grid_auto_flow": null,
      "grid_auto_rows": null,
      "grid_column": null,
      "grid_gap": null,
      "grid_row": null,
      "grid_template_areas": null,
      "grid_template_columns": null,
      "grid_template_rows": null,
      "height": null,
      "justify_content": null,
      "justify_items": null,
      "left": null,
      "margin": null,
      "max_height": null,
      "max_width": null,
      "min_height": null,
      "min_width": null,
      "object_fit": null,
      "object_position": null,
      "order": null,
      "overflow": null,
      "overflow_x": null,
      "overflow_y": null,
      "padding": null,
      "right": null,
      "top": null,
      "visibility": null,
      "width": null
     }
    },
    "a41f64a358c3449aabf6031a9d5c438c": {
     "model_module": "@jupyter-widgets/base",
     "model_module_version": "1.2.0",
     "model_name": "LayoutModel",
     "state": {
      "_model_module": "@jupyter-widgets/base",
      "_model_module_version": "1.2.0",
      "_model_name": "LayoutModel",
      "_view_count": null,
      "_view_module": "@jupyter-widgets/base",
      "_view_module_version": "1.2.0",
      "_view_name": "LayoutView",
      "align_content": null,
      "align_items": null,
      "align_self": null,
      "border": null,
      "bottom": null,
      "display": null,
      "flex": null,
      "flex_flow": null,
      "grid_area": null,
      "grid_auto_columns": null,
      "grid_auto_flow": null,
      "grid_auto_rows": null,
      "grid_column": null,
      "grid_gap": null,
      "grid_row": null,
      "grid_template_areas": null,
      "grid_template_columns": null,
      "grid_template_rows": null,
      "height": null,
      "justify_content": null,
      "justify_items": null,
      "left": null,
      "margin": null,
      "max_height": null,
      "max_width": null,
      "min_height": null,
      "min_width": null,
      "object_fit": null,
      "object_position": null,
      "order": null,
      "overflow": null,
      "overflow_x": null,
      "overflow_y": null,
      "padding": null,
      "right": null,
      "top": null,
      "visibility": null,
      "width": null
     }
    },
    "a62a3a5d8e3442749135000231cd165e": {
     "model_module": "@jupyter-widgets/controls",
     "model_module_version": "1.5.0",
     "model_name": "HBoxModel",
     "state": {
      "_dom_classes": [],
      "_model_module": "@jupyter-widgets/controls",
      "_model_module_version": "1.5.0",
      "_model_name": "HBoxModel",
      "_view_count": null,
      "_view_module": "@jupyter-widgets/controls",
      "_view_module_version": "1.5.0",
      "_view_name": "HBoxView",
      "box_style": "",
      "children": [
       "IPY_MODEL_2ff32ac451634218b1e79475ab8ee1d9",
       "IPY_MODEL_2e745aab855947bab29d71bd2d0378af",
       "IPY_MODEL_fcdf43e0ea084826b322a55595b19e73"
      ],
      "layout": "IPY_MODEL_bc6fa5e2bcb64cbfb6391edb405e59dc"
     }
    },
    "af16d6fad6af4d0dbd7d2533d50d9f0b": {
     "model_module": "@jupyter-widgets/controls",
     "model_module_version": "1.5.0",
     "model_name": "ProgressStyleModel",
     "state": {
      "_model_module": "@jupyter-widgets/controls",
      "_model_module_version": "1.5.0",
      "_model_name": "ProgressStyleModel",
      "_view_count": null,
      "_view_module": "@jupyter-widgets/base",
      "_view_module_version": "1.2.0",
      "_view_name": "StyleView",
      "bar_color": null,
      "description_width": ""
     }
    },
    "b06314bf569f41ae80c0502f6ba515e2": {
     "model_module": "@jupyter-widgets/controls",
     "model_module_version": "1.5.0",
     "model_name": "HTMLModel",
     "state": {
      "_dom_classes": [],
      "_model_module": "@jupyter-widgets/controls",
      "_model_module_version": "1.5.0",
      "_model_name": "HTMLModel",
      "_view_count": null,
      "_view_module": "@jupyter-widgets/controls",
      "_view_module_version": "1.5.0",
      "_view_name": "HTMLView",
      "description": "",
      "description_tooltip": null,
      "layout": "IPY_MODEL_91a91f06ebef42c7b80a01fd781cd5f3",
      "placeholder": "​",
      "style": "IPY_MODEL_78bd73f344c64a09b8354ef310d59e95",
      "value": " 466k/466k [00:00&lt;00:00, 2.39MB/s]"
     }
    },
    "bc6fa5e2bcb64cbfb6391edb405e59dc": {
     "model_module": "@jupyter-widgets/base",
     "model_module_version": "1.2.0",
     "model_name": "LayoutModel",
     "state": {
      "_model_module": "@jupyter-widgets/base",
      "_model_module_version": "1.2.0",
      "_model_name": "LayoutModel",
      "_view_count": null,
      "_view_module": "@jupyter-widgets/base",
      "_view_module_version": "1.2.0",
      "_view_name": "LayoutView",
      "align_content": null,
      "align_items": null,
      "align_self": null,
      "border": null,
      "bottom": null,
      "display": null,
      "flex": null,
      "flex_flow": null,
      "grid_area": null,
      "grid_auto_columns": null,
      "grid_auto_flow": null,
      "grid_auto_rows": null,
      "grid_column": null,
      "grid_gap": null,
      "grid_row": null,
      "grid_template_areas": null,
      "grid_template_columns": null,
      "grid_template_rows": null,
      "height": null,
      "justify_content": null,
      "justify_items": null,
      "left": null,
      "margin": null,
      "max_height": null,
      "max_width": null,
      "min_height": null,
      "min_width": null,
      "object_fit": null,
      "object_position": null,
      "order": null,
      "overflow": null,
      "overflow_x": null,
      "overflow_y": null,
      "padding": null,
      "right": null,
      "top": null,
      "visibility": null,
      "width": null
     }
    },
    "bf9aa129078f4cf7b5c8fa9a18e79953": {
     "model_module": "@jupyter-widgets/base",
     "model_module_version": "1.2.0",
     "model_name": "LayoutModel",
     "state": {
      "_model_module": "@jupyter-widgets/base",
      "_model_module_version": "1.2.0",
      "_model_name": "LayoutModel",
      "_view_count": null,
      "_view_module": "@jupyter-widgets/base",
      "_view_module_version": "1.2.0",
      "_view_name": "LayoutView",
      "align_content": null,
      "align_items": null,
      "align_self": null,
      "border": null,
      "bottom": null,
      "display": null,
      "flex": null,
      "flex_flow": null,
      "grid_area": null,
      "grid_auto_columns": null,
      "grid_auto_flow": null,
      "grid_auto_rows": null,
      "grid_column": null,
      "grid_gap": null,
      "grid_row": null,
      "grid_template_areas": null,
      "grid_template_columns": null,
      "grid_template_rows": null,
      "height": null,
      "justify_content": null,
      "justify_items": null,
      "left": null,
      "margin": null,
      "max_height": null,
      "max_width": null,
      "min_height": null,
      "min_width": null,
      "object_fit": null,
      "object_position": null,
      "order": null,
      "overflow": null,
      "overflow_x": null,
      "overflow_y": null,
      "padding": null,
      "right": null,
      "top": null,
      "visibility": null,
      "width": null
     }
    },
    "c0fa104cf3bc4b5fb275d60647271c43": {
     "model_module": "@jupyter-widgets/controls",
     "model_module_version": "1.5.0",
     "model_name": "ProgressStyleModel",
     "state": {
      "_model_module": "@jupyter-widgets/controls",
      "_model_module_version": "1.5.0",
      "_model_name": "ProgressStyleModel",
      "_view_count": null,
      "_view_module": "@jupyter-widgets/base",
      "_view_module_version": "1.2.0",
      "_view_name": "StyleView",
      "bar_color": null,
      "description_width": ""
     }
    },
    "c3ac6f14d9e44768a3cb9a52933ce1e7": {
     "model_module": "@jupyter-widgets/controls",
     "model_module_version": "1.5.0",
     "model_name": "HTMLModel",
     "state": {
      "_dom_classes": [],
      "_model_module": "@jupyter-widgets/controls",
      "_model_module_version": "1.5.0",
      "_model_name": "HTMLModel",
      "_view_count": null,
      "_view_module": "@jupyter-widgets/controls",
      "_view_module_version": "1.5.0",
      "_view_name": "HTMLView",
      "description": "",
      "description_tooltip": null,
      "layout": "IPY_MODEL_d5dc30dc18c14529b8a7190fb2df08df",
      "placeholder": "​",
      "style": "IPY_MODEL_0c58c2f38cdd46a7a95b939be1c4f29d",
      "value": "tokenizer.json: 100%"
     }
    },
    "cabcbc7c40cf40b3a7f6ba649842f267": {
     "model_module": "@jupyter-widgets/controls",
     "model_module_version": "1.5.0",
     "model_name": "DescriptionStyleModel",
     "state": {
      "_model_module": "@jupyter-widgets/controls",
      "_model_module_version": "1.5.0",
      "_model_name": "DescriptionStyleModel",
      "_view_count": null,
      "_view_module": "@jupyter-widgets/base",
      "_view_module_version": "1.2.0",
      "_view_name": "StyleView",
      "description_width": ""
     }
    },
    "cb4735b1c9324a0082ebbe9fb4a9e2cf": {
     "model_module": "@jupyter-widgets/base",
     "model_module_version": "1.2.0",
     "model_name": "LayoutModel",
     "state": {
      "_model_module": "@jupyter-widgets/base",
      "_model_module_version": "1.2.0",
      "_model_name": "LayoutModel",
      "_view_count": null,
      "_view_module": "@jupyter-widgets/base",
      "_view_module_version": "1.2.0",
      "_view_name": "LayoutView",
      "align_content": null,
      "align_items": null,
      "align_self": null,
      "border": null,
      "bottom": null,
      "display": null,
      "flex": null,
      "flex_flow": null,
      "grid_area": null,
      "grid_auto_columns": null,
      "grid_auto_flow": null,
      "grid_auto_rows": null,
      "grid_column": null,
      "grid_gap": null,
      "grid_row": null,
      "grid_template_areas": null,
      "grid_template_columns": null,
      "grid_template_rows": null,
      "height": null,
      "justify_content": null,
      "justify_items": null,
      "left": null,
      "margin": null,
      "max_height": null,
      "max_width": null,
      "min_height": null,
      "min_width": null,
      "object_fit": null,
      "object_position": null,
      "order": null,
      "overflow": null,
      "overflow_x": null,
      "overflow_y": null,
      "padding": null,
      "right": null,
      "top": null,
      "visibility": null,
      "width": null
     }
    },
    "ce70de69f2894779ac3562ea85009ee9": {
     "model_module": "@jupyter-widgets/controls",
     "model_module_version": "1.5.0",
     "model_name": "HTMLModel",
     "state": {
      "_dom_classes": [],
      "_model_module": "@jupyter-widgets/controls",
      "_model_module_version": "1.5.0",
      "_model_name": "HTMLModel",
      "_view_count": null,
      "_view_module": "@jupyter-widgets/controls",
      "_view_module_version": "1.5.0",
      "_view_name": "HTMLView",
      "description": "",
      "description_tooltip": null,
      "layout": "IPY_MODEL_4be718ff25134aec8711c224f32bf5a2",
      "placeholder": "​",
      "style": "IPY_MODEL_2ebfe2d9bb73422ba261eee2d704fe26",
      "value": " 232k/232k [00:00&lt;00:00, 1.63MB/s]"
     }
    },
    "d2052a8013de4bb299d6fb4576fd9bdc": {
     "model_module": "@jupyter-widgets/controls",
     "model_module_version": "1.5.0",
     "model_name": "DescriptionStyleModel",
     "state": {
      "_model_module": "@jupyter-widgets/controls",
      "_model_module_version": "1.5.0",
      "_model_name": "DescriptionStyleModel",
      "_view_count": null,
      "_view_module": "@jupyter-widgets/base",
      "_view_module_version": "1.2.0",
      "_view_name": "StyleView",
      "description_width": ""
     }
    },
    "d2bef54d36c34881a6af0a311309d299": {
     "model_module": "@jupyter-widgets/controls",
     "model_module_version": "1.5.0",
     "model_name": "HBoxModel",
     "state": {
      "_dom_classes": [],
      "_model_module": "@jupyter-widgets/controls",
      "_model_module_version": "1.5.0",
      "_model_name": "HBoxModel",
      "_view_count": null,
      "_view_module": "@jupyter-widgets/controls",
      "_view_module_version": "1.5.0",
      "_view_name": "HBoxView",
      "box_style": "",
      "children": [
       "IPY_MODEL_c3ac6f14d9e44768a3cb9a52933ce1e7",
       "IPY_MODEL_32735f55929a46fdb82a22c766871799",
       "IPY_MODEL_b06314bf569f41ae80c0502f6ba515e2"
      ],
      "layout": "IPY_MODEL_6782df0157d24331be3a078dc842da0f"
     }
    },
    "d56c81811ad74c34a6c71e547f357136": {
     "model_module": "@jupyter-widgets/controls",
     "model_module_version": "1.5.0",
     "model_name": "HTMLModel",
     "state": {
      "_dom_classes": [],
      "_model_module": "@jupyter-widgets/controls",
      "_model_module_version": "1.5.0",
      "_model_name": "HTMLModel",
      "_view_count": null,
      "_view_module": "@jupyter-widgets/controls",
      "_view_module_version": "1.5.0",
      "_view_name": "HTMLView",
      "description": "",
      "description_tooltip": null,
      "layout": "IPY_MODEL_dfaaff046e5f4a299a03db12e13e9eab",
      "placeholder": "​",
      "style": "IPY_MODEL_d83055c01d1245bb92ca55f59c496a47",
      "value": "vocab.txt: 100%"
     }
    },
    "d5dc30dc18c14529b8a7190fb2df08df": {
     "model_module": "@jupyter-widgets/base",
     "model_module_version": "1.2.0",
     "model_name": "LayoutModel",
     "state": {
      "_model_module": "@jupyter-widgets/base",
      "_model_module_version": "1.2.0",
      "_model_name": "LayoutModel",
      "_view_count": null,
      "_view_module": "@jupyter-widgets/base",
      "_view_module_version": "1.2.0",
      "_view_name": "LayoutView",
      "align_content": null,
      "align_items": null,
      "align_self": null,
      "border": null,
      "bottom": null,
      "display": null,
      "flex": null,
      "flex_flow": null,
      "grid_area": null,
      "grid_auto_columns": null,
      "grid_auto_flow": null,
      "grid_auto_rows": null,
      "grid_column": null,
      "grid_gap": null,
      "grid_row": null,
      "grid_template_areas": null,
      "grid_template_columns": null,
      "grid_template_rows": null,
      "height": null,
      "justify_content": null,
      "justify_items": null,
      "left": null,
      "margin": null,
      "max_height": null,
      "max_width": null,
      "min_height": null,
      "min_width": null,
      "object_fit": null,
      "object_position": null,
      "order": null,
      "overflow": null,
      "overflow_x": null,
      "overflow_y": null,
      "padding": null,
      "right": null,
      "top": null,
      "visibility": null,
      "width": null
     }
    },
    "d83055c01d1245bb92ca55f59c496a47": {
     "model_module": "@jupyter-widgets/controls",
     "model_module_version": "1.5.0",
     "model_name": "DescriptionStyleModel",
     "state": {
      "_model_module": "@jupyter-widgets/controls",
      "_model_module_version": "1.5.0",
      "_model_name": "DescriptionStyleModel",
      "_view_count": null,
      "_view_module": "@jupyter-widgets/base",
      "_view_module_version": "1.2.0",
      "_view_name": "StyleView",
      "description_width": ""
     }
    },
    "da350656ba1949de91bc2d9411edded1": {
     "model_module": "@jupyter-widgets/controls",
     "model_module_version": "1.5.0",
     "model_name": "HBoxModel",
     "state": {
      "_dom_classes": [],
      "_model_module": "@jupyter-widgets/controls",
      "_model_module_version": "1.5.0",
      "_model_name": "HBoxModel",
      "_view_count": null,
      "_view_module": "@jupyter-widgets/controls",
      "_view_module_version": "1.5.0",
      "_view_name": "HBoxView",
      "box_style": "",
      "children": [
       "IPY_MODEL_d56c81811ad74c34a6c71e547f357136",
       "IPY_MODEL_2d1ec0264ead43f0ab677abbe57fa26d",
       "IPY_MODEL_ce70de69f2894779ac3562ea85009ee9"
      ],
      "layout": "IPY_MODEL_0e82a5fd44344e08bcb6d1dea5ff99e0"
     }
    },
    "dfaaff046e5f4a299a03db12e13e9eab": {
     "model_module": "@jupyter-widgets/base",
     "model_module_version": "1.2.0",
     "model_name": "LayoutModel",
     "state": {
      "_model_module": "@jupyter-widgets/base",
      "_model_module_version": "1.2.0",
      "_model_name": "LayoutModel",
      "_view_count": null,
      "_view_module": "@jupyter-widgets/base",
      "_view_module_version": "1.2.0",
      "_view_name": "LayoutView",
      "align_content": null,
      "align_items": null,
      "align_self": null,
      "border": null,
      "bottom": null,
      "display": null,
      "flex": null,
      "flex_flow": null,
      "grid_area": null,
      "grid_auto_columns": null,
      "grid_auto_flow": null,
      "grid_auto_rows": null,
      "grid_column": null,
      "grid_gap": null,
      "grid_row": null,
      "grid_template_areas": null,
      "grid_template_columns": null,
      "grid_template_rows": null,
      "height": null,
      "justify_content": null,
      "justify_items": null,
      "left": null,
      "margin": null,
      "max_height": null,
      "max_width": null,
      "min_height": null,
      "min_width": null,
      "object_fit": null,
      "object_position": null,
      "order": null,
      "overflow": null,
      "overflow_x": null,
      "overflow_y": null,
      "padding": null,
      "right": null,
      "top": null,
      "visibility": null,
      "width": null
     }
    },
    "e0472f2a8f15449eba232eb4dbbc6254": {
     "model_module": "@jupyter-widgets/controls",
     "model_module_version": "1.5.0",
     "model_name": "HBoxModel",
     "state": {
      "_dom_classes": [],
      "_model_module": "@jupyter-widgets/controls",
      "_model_module_version": "1.5.0",
      "_model_name": "HBoxModel",
      "_view_count": null,
      "_view_module": "@jupyter-widgets/controls",
      "_view_module_version": "1.5.0",
      "_view_name": "HBoxView",
      "box_style": "",
      "children": [
       "IPY_MODEL_e1f0bca5caf044118bd144e066b0b84d",
       "IPY_MODEL_72104eb4f2074d81bd69532ac0a9403f",
       "IPY_MODEL_703f9e9d715a420c84a48b264a553ba8"
      ],
      "layout": "IPY_MODEL_791ceff03ebe4b0d9d6fae9f2bb4fe60"
     }
    },
    "e0afdcb8d94d44229cbd8008fdec1525": {
     "model_module": "@jupyter-widgets/controls",
     "model_module_version": "1.5.0",
     "model_name": "ProgressStyleModel",
     "state": {
      "_model_module": "@jupyter-widgets/controls",
      "_model_module_version": "1.5.0",
      "_model_name": "ProgressStyleModel",
      "_view_count": null,
      "_view_module": "@jupyter-widgets/base",
      "_view_module_version": "1.2.0",
      "_view_name": "StyleView",
      "bar_color": null,
      "description_width": ""
     }
    },
    "e1f0bca5caf044118bd144e066b0b84d": {
     "model_module": "@jupyter-widgets/controls",
     "model_module_version": "1.5.0",
     "model_name": "HTMLModel",
     "state": {
      "_dom_classes": [],
      "_model_module": "@jupyter-widgets/controls",
      "_model_module_version": "1.5.0",
      "_model_name": "HTMLModel",
      "_view_count": null,
      "_view_module": "@jupyter-widgets/controls",
      "_view_module_version": "1.5.0",
      "_view_name": "HTMLView",
      "description": "",
      "description_tooltip": null,
      "layout": "IPY_MODEL_0c81a5eb9fc84a8ca6a2153937dd7830",
      "placeholder": "​",
      "style": "IPY_MODEL_cabcbc7c40cf40b3a7f6ba649842f267",
      "value": "config.json: 100%"
     }
    },
    "ebaf00de1b07466bab995d48beefc2c5": {
     "model_module": "@jupyter-widgets/base",
     "model_module_version": "1.2.0",
     "model_name": "LayoutModel",
     "state": {
      "_model_module": "@jupyter-widgets/base",
      "_model_module_version": "1.2.0",
      "_model_name": "LayoutModel",
      "_view_count": null,
      "_view_module": "@jupyter-widgets/base",
      "_view_module_version": "1.2.0",
      "_view_name": "LayoutView",
      "align_content": null,
      "align_items": null,
      "align_self": null,
      "border": null,
      "bottom": null,
      "display": null,
      "flex": null,
      "flex_flow": null,
      "grid_area": null,
      "grid_auto_columns": null,
      "grid_auto_flow": null,
      "grid_auto_rows": null,
      "grid_column": null,
      "grid_gap": null,
      "grid_row": null,
      "grid_template_areas": null,
      "grid_template_columns": null,
      "grid_template_rows": null,
      "height": null,
      "justify_content": null,
      "justify_items": null,
      "left": null,
      "margin": null,
      "max_height": null,
      "max_width": null,
      "min_height": null,
      "min_width": null,
      "object_fit": null,
      "object_position": null,
      "order": null,
      "overflow": null,
      "overflow_x": null,
      "overflow_y": null,
      "padding": null,
      "right": null,
      "top": null,
      "visibility": null,
      "width": null
     }
    },
    "f4d6330d3dcd4022852362b893fdda25": {
     "model_module": "@jupyter-widgets/controls",
     "model_module_version": "1.5.0",
     "model_name": "ProgressStyleModel",
     "state": {
      "_model_module": "@jupyter-widgets/controls",
      "_model_module_version": "1.5.0",
      "_model_name": "ProgressStyleModel",
      "_view_count": null,
      "_view_module": "@jupyter-widgets/base",
      "_view_module_version": "1.2.0",
      "_view_name": "StyleView",
      "bar_color": null,
      "description_width": ""
     }
    },
    "fcdf43e0ea084826b322a55595b19e73": {
     "model_module": "@jupyter-widgets/controls",
     "model_module_version": "1.5.0",
     "model_name": "HTMLModel",
     "state": {
      "_dom_classes": [],
      "_model_module": "@jupyter-widgets/controls",
      "_model_module_version": "1.5.0",
      "_model_name": "HTMLModel",
      "_view_count": null,
      "_view_module": "@jupyter-widgets/controls",
      "_view_module_version": "1.5.0",
      "_view_name": "HTMLView",
      "description": "",
      "description_tooltip": null,
      "layout": "IPY_MODEL_40ba542eab554f91a52422a182d437ab",
      "placeholder": "​",
      "style": "IPY_MODEL_8d18be76f03e4e9ea4c72be75dcc3861",
      "value": " 28.0/28.0 [00:00&lt;00:00, 340B/s]"
     }
    }
   }
  }
 },
 "nbformat": 4,
 "nbformat_minor": 1
}

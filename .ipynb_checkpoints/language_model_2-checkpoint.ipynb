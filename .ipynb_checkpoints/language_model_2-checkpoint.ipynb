{
  "cells": [
    {
      "cell_type": "markdown",
      "metadata": {
        "id": "Zrl3_S9Jfb3_"
      },
      "source": [
        "EXERCISE 3"
      ]
    },
    {
      "cell_type": "code",
      "execution_count": 1,
      "metadata": {
        "id": "xvgPsv5ucrng",
        "colab": {
          "base_uri": "https://localhost:8080/"
        },
        "outputId": "2be33df7-e071-4b1d-816a-9aef1c52af5b"
      },
      "outputs": [
        {
          "output_type": "stream",
          "name": "stdout",
          "text": [
            "Requirement already satisfied: nltk in /usr/local/lib/python3.10/dist-packages (3.8.1)\n",
            "Requirement already satisfied: click in /usr/local/lib/python3.10/dist-packages (from nltk) (8.1.7)\n",
            "Requirement already satisfied: joblib in /usr/local/lib/python3.10/dist-packages (from nltk) (1.3.2)\n",
            "Requirement already satisfied: regex>=2021.8.3 in /usr/local/lib/python3.10/dist-packages (from nltk) (2023.6.3)\n",
            "Requirement already satisfied: tqdm in /usr/local/lib/python3.10/dist-packages (from nltk) (4.66.1)\n"
          ]
        }
      ],
      "source": [
        "!pip install nltk"
      ]
    },
    {
      "cell_type": "code",
      "execution_count": 2,
      "metadata": {
        "id": "gel3iPn3E_0y"
      },
      "outputs": [],
      "source": [
        "import nltk\n",
        "# nltk.download('reuters')\n",
        "# nltk.download('punkt')\n",
        "from nltk.corpus import reuters\n",
        "from nltk.probability import FreqDist\n",
        "from sklearn.model_selection import train_test_split\n",
        "from collections import Counter\n",
        "from nltk.util import ngrams\n",
        "from nltk.tokenize import sent_tokenize\n",
        "from nltk.tokenize import word_tokenize\n",
        "import math\n",
        "from more_itertools import windowed\n",
        "\n",
        "\n"
      ]
    },
    {
      "cell_type": "code",
      "execution_count": 3,
      "metadata": {
        "id": "neT2UJDQc1ep"
      },
      "outputs": [],
      "source": [
        "# Load the 'reuters' corpus\n",
        "sentences = reuters.sents()"
      ]
    },
    {
      "cell_type": "code",
      "execution_count": 4,
      "metadata": {
        "id": "ZuhIg9dhF6q6"
      },
      "outputs": [],
      "source": [
        "# Splitting data into Training, Development and Test set\n",
        "train_sents, test_sents = train_test_split(reuters.sents(), test_size=0.3, random_state=42)\n",
        "dev_sents, test_sents = train_test_split(test_sents, test_size=0.5, random_state=42)\n"
      ]
    },
    {
      "cell_type": "code",
      "execution_count": 5,
      "metadata": {
        "colab": {
          "base_uri": "https://localhost:8080/"
        },
        "id": "zXQ0qcPfGVHd",
        "outputId": "5539b90f-e822-4af5-d763-99d5302f48e8"
      },
      "outputs": [
        {
          "output_type": "stream",
          "name": "stdout",
          "text": [
            "Number of sentences in train set: 38301\n"
          ]
        }
      ],
      "source": [
        "print(f'Number of sentences in train set: {len(train_sents)}')"
      ]
    },
    {
      "cell_type": "code",
      "execution_count": 6,
      "metadata": {
        "id": "JJOZUMljGS2x"
      },
      "outputs": [],
      "source": [
        "# Transform the train sentences into words\n",
        "train_words = [word for sentence in train_sents for word in sentence]\n",
        "freq_dist_train = FreqDist(train_words)"
      ]
    },
    {
      "cell_type": "code",
      "execution_count": 7,
      "metadata": {
        "id": "4EKxyX82Jc55"
      },
      "outputs": [],
      "source": [
        "cleaned_train_sentences = []\n",
        "for sentence in train_sents:\n",
        "    cleaned_train_sentence = [word if freq_dist_train[word] > 10 else '<UNK>' for word in sentence]\n",
        "    cleaned_train_sentences.append(cleaned_train_sentence)"
      ]
    },
    {
      "cell_type": "code",
      "source": [],
      "metadata": {
        "id": "t8vMWlfbzAdk"
      },
      "execution_count": 7,
      "outputs": []
    },
    {
      "cell_type": "markdown",
      "metadata": {
        "id": "n-ASkCzyqYXy"
      },
      "source": [
        "Now lets Build our model"
      ]
    },
    {
      "cell_type": "code",
      "execution_count": 8,
      "metadata": {
        "colab": {
          "base_uri": "https://localhost:8080/"
        },
        "id": "E8PPQ4TKeOsb",
        "outputId": "cb13e38d-4199-4c23-a838-7dd92676c1f8"
      },
      "outputs": [
        {
          "output_type": "stream",
          "name": "stdout",
          "text": [
            "[(('.', '<e>'), 34142),\n",
            " (('<s>', '<UNK>'), 8218),\n",
            " (('<UNK>', '<UNK>'), 7971),\n",
            " ((',', '000'), 7220),\n",
            " ((\"'\", 's'), 6427),\n",
            " (('<s>', 'The'), 6167),\n",
            " (('lt', ';'), 6057),\n",
            " (('&', 'lt'), 6055),\n",
            " (('said', '.'), 5581),\n",
            " (('<UNK>', ','), 5060)]\n",
            "Most common trigrams\n",
            "[(('.', '<e>', '<e>'), 34142),\n",
            " (('<s>', '<s>', '<UNK>'), 8218),\n",
            " (('<s>', '<s>', 'The'), 6167),\n",
            " (('&', 'lt', ';'), 6054),\n",
            " (('said', '.', '<e>'), 5580),\n",
            " (('lt', ';', '<UNK>'), 4843),\n",
            " (('U', '.', 'S'), 3977),\n",
            " (('.', 'S', '.'), 3726),\n",
            " ((';', '<UNK>', '>'), 3027),\n",
            " (('<s>', '<s>', '\"'), 2528)]\n"
          ]
        }
      ],
      "source": [
        "from collections import Counter\n",
        "from nltk.util import ngrams\n",
        "from pprint import pprint\n",
        "\n",
        "unigram_counter = Counter()\n",
        "bigram_counter = Counter()\n",
        "trigram_counter = Counter()\n",
        "\n",
        "for sent in cleaned_train_sentences:\n",
        "    unigram_counter.update([gram for gram in ngrams(sent, 1, pad_left=True, pad_right=True,\n",
        "                                                   left_pad_symbol='<s>',right_pad_symbol='<e>') ])\n",
        "    bigram_counter.update([gram for gram in ngrams(sent, 2, pad_left=True, pad_right=True,\n",
        "                                                   left_pad_symbol='<s>',right_pad_symbol='<e>') ])\n",
        "    trigram_counter.update([gram for gram in ngrams(sent, 3, pad_left=True, pad_right=True,\n",
        "                                                   left_pad_symbol='<s>',right_pad_symbol='<e>') ])\n",
        "# pprint(unigram_counter.most_common(10))\n",
        "pprint(bigram_counter.most_common(10))\n",
        "print('Most common trigrams')\n",
        "pprint(trigram_counter.most_common(10))"
      ]
    },
    {
      "cell_type": "code",
      "execution_count": 9,
      "metadata": {
        "colab": {
          "base_uri": "https://localhost:8080/"
        },
        "id": "wVkKXuwbsFWJ",
        "outputId": "ec4cb2ba-bca2-4faa-f708-ed7c2fbee745"
      },
      "outputs": [
        {
          "output_type": "stream",
          "name": "stdout",
          "text": [
            "Number of tokens in train set: 7109\n"
          ]
        }
      ],
      "source": [
        "# Build the vocab\n",
        "vocab = [word[0] for word in unigram_counter]\n",
        "print(f'Number of tokens in train set: {len(vocab)}')"
      ]
    },
    {
      "cell_type": "code",
      "source": [
        "# Transform the test sentences into words\n",
        "test_words = [word for sentence in test_sents for word in sentence]\n",
        "freq_dist_test = FreqDist(test_words)\n",
        "\n",
        "# Replace rare words or Out-of-Vocabulary words in test set\n",
        "cleaned_test_sentences = []\n",
        "for sentence in test_sents:\n",
        "    # cleaned_test_sentence = [word if word in vocab else '<UNK>' for word in sentence]\n",
        "    cleaned_test_sentence = ['<UNK>' if freq_dist_test[word] <= 10 or word not in train_words else word for word in sentence]\n",
        "    cleaned_test_sentences.append(cleaned_test_sentence)\n",
        "\n",
        "print(cleaned_test_sentences[:3])"
      ],
      "metadata": {
        "colab": {
          "base_uri": "https://localhost:8080/"
        },
        "id": "GxvK13toFloS",
        "outputId": "d44cbe76-0f95-41d6-c048-36aaf36245d6"
      },
      "execution_count": 22,
      "outputs": [
        {
          "output_type": "stream",
          "name": "stdout",
          "text": [
            "[['The', 'commission', 'is', 'expected', 'to', '<UNK>', 'the', '<UNK>', 'at', 'a', 'meeting', 'tomorrow', '.'], ['\"', 'The', 'United', 'States', 'and', 'the', 'six', 'major', 'industrial', 'countries', 'are', 'fully', 'committed', 'to', '<UNK>', 'our', '<UNK>', 'in', 'these', 'agreements', ',\"', 'Baker', 'told', 'the', 'meetings', '.'], ['<UNK>', '<UNK>', 'said', 'in', 'January', 'it', 'was', 'seeking', 'bids', 'for', 'the', 'property', '.']]\n"
          ]
        }
      ]
    },
    {
      "cell_type": "code",
      "source": [],
      "metadata": {
        "id": "ChB0xz9VF6x0"
      },
      "execution_count": 110,
      "outputs": []
    },
    {
      "cell_type": "code",
      "execution_count": 23,
      "metadata": {
        "id": "U04HzBuZPwAd"
      },
      "outputs": [],
      "source": [
        "def calculate_ngram_probability(ngram_counter, ngram_minus_one_counter, ngram, alpha, vocab_size):\n",
        "    \"\"\"\n",
        "    Calculate bigram probability with Laplace smoothing\n",
        "    :param ngram_counter: Counter which the key is a tuple of ngram and value its frequency\n",
        "    :param ngram_minus_one_counter: Counter which the key is a tuple of n-1gram and value its frequency\n",
        "    :param ngram: tuple\n",
        "    :param alpha: float hyperparameter for Laplace smoothing\n",
        "    :param vocab_size: int value which defines the whole size of the corpus\n",
        "    :return: float probability of the ngram inside the corpus\n",
        "    \"\"\"\n",
        "    ngram_count = ngram_counter[ngram]\n",
        "    context = ngram[:-1]\n",
        "    ngram_minus_one_count = ngram_minus_one_counter[context]\n",
        "    ngram_prob = (ngram_count + alpha) / (ngram_minus_one_count + (alpha * vocab_size))\n",
        "    # Convert to log probability\n",
        "    ngram_prob = math.log2(ngram_prob)\n",
        "    return ngram_prob"
      ]
    },
    {
      "cell_type": "code",
      "source": [
        "def calc_kneser_ney_proba(ngram_counter, ngram_minus_one_counter, continuation_counts, total_continuations, ngram, delta):\n",
        "    \"\"\"\n",
        "    Calculate ngram probability with simplified Kneser-Ney smoothing for bigrams or trigrams\n",
        "    :param ngram_counter: Counter for ngrams (bigrams or trigrams)\n",
        "    :param ngram_minus_one_counter: Counter for n-1 grams\n",
        "    :param continuation_counts: Counter for continuation counts\n",
        "    :param total_continuations: Total number of unique continuations\n",
        "    :param ngram: tuple representing the ngram (bigram or trigram)\n",
        "    :param delta: discount value\n",
        "    :return: float probability of the ngram\n",
        "    \"\"\"\n",
        "    ngram_count = ngram_counter[ngram]\n",
        "    context = ngram[:-1]\n",
        "    ngram_minus_one_count = ngram_minus_one_counter[context]\n",
        "\n",
        "    adjusted_count = max(ngram_count - delta, 0)\n",
        "    epsilon = 1e-10\n",
        "\n",
        "    # For bigrams, use the second token for continuation, for trigrams use the third token\n",
        "    continuation_token = ngram[-1]\n",
        "\n",
        "    # Calculate our interpolation weight\n",
        "    continuation_prob = continuation_counts[continuation_token] / total_continuations\n",
        "\n",
        "    alpha_weight = delta * prefixes_counter[(context)] / (ngram_minus_one_count + epsilon)\n",
        "    # Kneser-Ney probability\n",
        "    kn_probability = (adjusted_count+epsilon) / (ngram_minus_one_count + epsilon) + alpha_weight * continuation_prob\n",
        "    return math.log2(kn_probability)\n"
      ],
      "metadata": {
        "id": "IpXrsG2wmJUw"
      },
      "execution_count": 52,
      "outputs": []
    },
    {
      "cell_type": "code",
      "source": [
        "prefixes_counter[('to','be')]\n",
        "# len(set([ng for ng in trigram_counter if ng[:-1] == ('to','be')]))"
      ],
      "metadata": {
        "colab": {
          "base_uri": "https://localhost:8080/"
        },
        "id": "lbpkxujc_WU9",
        "outputId": "838203cd-adab-40e5-d6b5-0e8ffb75f141"
      },
      "execution_count": 44,
      "outputs": [
        {
          "output_type": "execute_result",
          "data": {
            "text/plain": [
              "0"
            ]
          },
          "metadata": {},
          "execution_count": 44
        }
      ]
    },
    {
      "cell_type": "code",
      "source": [
        "to be continued\n",
        "to be not"
      ],
      "metadata": {
        "colab": {
          "base_uri": "https://localhost:8080/",
          "height": 140
        },
        "id": "zJ0M0L2vhfNB",
        "outputId": "6eb0a268-9ccc-49b9-e869-ac541b78437f"
      },
      "execution_count": 41,
      "outputs": [
        {
          "output_type": "error",
          "ename": "SyntaxError",
          "evalue": "invalid syntax (<ipython-input-41-dd2745a0b168>, line 1)",
          "traceback": [
            "\u001b[0;36m  File \u001b[0;32m\"<ipython-input-41-dd2745a0b168>\"\u001b[0;36m, line \u001b[0;32m1\u001b[0m\n\u001b[0;31m    to be continued\u001b[0m\n\u001b[0m       ^\u001b[0m\n\u001b[0;31mSyntaxError\u001b[0m\u001b[0;31m:\u001b[0m invalid syntax\n"
          ]
        }
      ]
    },
    {
      "cell_type": "markdown",
      "source": [
        "PERPLEXITY"
      ],
      "metadata": {
        "id": "ADJTJuJ9yv-p"
      }
    },
    {
      "cell_type": "code",
      "source": [
        "continuation_counts = Counter([bigram[1] for bigram in bigram_counter])\n",
        "total_continuations = len(continuation_counts)\n",
        "\n",
        "# Convert list of n-grams to a list of tuples\n",
        "ngram_tuples = [tuple(ng) for ng in bigram_counter]\n",
        "\n",
        "# Create a Counter for the prefixes\n",
        "prefixes_counter = Counter(ng[:-1] for ng in set(ngram_tuples))\n",
        "\n",
        "num_tokens = sum(len(sent) + 1 for sent in cleaned_test_sentences)"
      ],
      "metadata": {
        "id": "fQDvTPw3NEkT"
      },
      "execution_count": 53,
      "outputs": []
    },
    {
      "cell_type": "code",
      "source": [],
      "metadata": {
        "id": "5XvEhSX5j4I1"
      },
      "execution_count": 53,
      "outputs": []
    },
    {
      "cell_type": "code",
      "source": [
        "# print(len(trigram_counter))"
      ],
      "metadata": {
        "id": "scDEIq3odz3I"
      },
      "execution_count": 54,
      "outputs": []
    },
    {
      "cell_type": "code",
      "source": [
        "from tqdm import tqdm\n",
        "\n",
        "# Calculate continuation counts\n",
        "continuation_counts = Counter([bigram[1] for bigram in bigram_counter])\n",
        "total_continuations = len(continuation_counts)\n",
        "print(len(continuation_counts))\n",
        "total_log_proba_bigram_kn = 0.0\n",
        "delta = 0.5\n",
        "with tqdm(total=256000) as pbar:  # Check our time and iters remaining!\n",
        "    for sent in cleaned_test_sentences:\n",
        "        padded_sent = ['<s>'] + sent + ['<e>']\n",
        "\n",
        "        for first_token, second_token in windowed(padded_sent, 2):\n",
        "            if first_token == '<s>': # Avoid calculating that because unigram counter does not does not have counts for <s>\n",
        "                pass\n",
        "            else:\n",
        "                bigram = (first_token, second_token)\n",
        "                bigram_prob = calc_kneser_ney_proba(bigram_counter, unigram_counter, continuation_counts, total_continuations, bigram, delta)\n",
        "                total_log_proba_bigram_kn += bigram_prob\n",
        "                if bigram_prob>0:\n",
        "                    print(bigram_prob)\n",
        "                pbar.update(1)  # Update the progress bar\n",
        "\n",
        "cross_entropy_bigram_kn = - total_log_proba_bigram_kn / num_tokens\n",
        "print(f\"The total Cross-Entropy of bigram model via Kneser-Ney smoothing for our Test set is: {cross_entropy_bigram_kn: .3f}\")\n",
        "\n",
        "# Calculation of the perplexity of bigram model for the test set via Kneser-Ney smoothing\n",
        "bigram_perplexity_kn = 2 ** (cross_entropy_bigram_kn)\n",
        "print(f\"Perplexity of bigram model for Test Set: {bigram_perplexity_kn:.3f}\")"
      ],
      "metadata": {
        "colab": {
          "base_uri": "https://localhost:8080/"
        },
        "id": "zRLL18CQDNqp",
        "outputId": "04346ca0-a1d1-4724-d475-c162098fb3b0"
      },
      "execution_count": 55,
      "outputs": [
        {
          "output_type": "stream",
          "name": "stdout",
          "text": [
            "7110\n"
          ]
        },
        {
          "output_type": "stream",
          "name": "stderr",
          "text": [
            "256664it [00:01, 237519.52it/s]                            "
          ]
        },
        {
          "output_type": "stream",
          "name": "stdout",
          "text": [
            "The total Cross-Entropy of bigram model via Kneser-Ney smoothing for our Test set is:  4.841\n",
            "Perplexity of bigram model for Test Set: 28.654\n"
          ]
        },
        {
          "output_type": "stream",
          "name": "stderr",
          "text": [
            "\n"
          ]
        }
      ]
    },
    {
      "cell_type": "code",
      "source": [
        "# continuation_counts = Counter([bigram[1] for bigram in bigram_counter])\n",
        "# total_continuations = len(continuation_counts)\n",
        "\n",
        "# Convert list of n-grams to a list of tuples\n",
        "ngram_tuples = [tuple(ng) for ng in trigram_counter]\n",
        "\n",
        "# Create a Counter for the prefixes\n",
        "prefixes_counter = Counter(ng[:-1] for ng in ngram_tuples)"
      ],
      "metadata": {
        "id": "-DcZiv_kNFoj"
      },
      "execution_count": 56,
      "outputs": []
    },
    {
      "cell_type": "code",
      "source": [
        "print(len(ngram_tuples))"
      ],
      "metadata": {
        "colab": {
          "base_uri": "https://localhost:8080/"
        },
        "id": "rybwEE7ikf6o",
        "outputId": "cae1b806-8d80-4221-cdee-bb839d160f7b"
      },
      "execution_count": 50,
      "outputs": [
        {
          "output_type": "stream",
          "name": "stdout",
          "text": [
            "578370\n"
          ]
        }
      ]
    },
    {
      "cell_type": "code",
      "source": [
        "print(len(set(ngram_tuples)))"
      ],
      "metadata": {
        "colab": {
          "base_uri": "https://localhost:8080/"
        },
        "id": "geObjIzmkjXT",
        "outputId": "8d04b08e-15ca-494b-d6dc-80e0b854202c"
      },
      "execution_count": 51,
      "outputs": [
        {
          "output_type": "stream",
          "name": "stdout",
          "text": [
            "578370\n"
          ]
        }
      ]
    },
    {
      "cell_type": "code",
      "source": [
        "[ng[:-1] for ng in ngram_tuples]"
      ],
      "metadata": {
        "id": "Kuf3zfjMkByI"
      },
      "execution_count": null,
      "outputs": []
    },
    {
      "cell_type": "code",
      "source": [
        "# Calculation of total tokens for test set, including only 'end' token for each sentence\n",
        "num_tokens = sum(len(sent) + 1 for sent in cleaned_test_sentences)\n",
        "# Calculate continuation counts\n",
        "continuation_counts_tri = Counter([trigram[2] for trigram in trigram_counter])\n",
        "total_continuations_tri = len(continuation_counts_tri)\n",
        "print(continuation_counts_tri)\n",
        "total_log_proba_trigram_kn = 0.0\n",
        "delta = 0.75\n",
        "\n",
        "with tqdm(total=200000) as pbar:  # Check our time and iters remaining!\n",
        "    for sent in cleaned_test_sentences:\n",
        "        padded_sent = ['<s>'] + ['<s>'] + sent + ['<e>']\n",
        "\n",
        "        for first_token, second_token, third_token in windowed(padded_sent, 3):\n",
        "            if first_token == '<s>' and second_token == '<s>': # Avoid calculating that because bigram counter does not have counts for <s>, <s>\n",
        "                pass\n",
        "            else:\n",
        "                trigram = (first_token, second_token, third_token)\n",
        "                trigram_prob = calc_kneser_ney_proba(trigram_counter, bigram_counter, continuation_counts_tri, total_continuations_tri,\n",
        "                                                     trigram, delta)\n",
        "                total_log_proba_trigram_kn += trigram_prob\n",
        "                pbar.update(1)  # Update the progress bar\n",
        "\n",
        "cross_entropy_trigram_kn = - total_log_proba_trigram_kn / num_tokens\n",
        "print(f\"The total Cross-Entropy of trigram model for our Test set is: {cross_entropy_trigram_kn: .3f}\")\n",
        "\n",
        "# Calculation of the perplexity of bigram model for the test set\n",
        "trigram_perplexity_kn = 2 ** (cross_entropy_trigram_kn)\n",
        "print(f\"Perplexity of trigram model for Test Set: {trigram_perplexity_kn:.3f}\")"
      ],
      "metadata": {
        "colab": {
          "base_uri": "https://localhost:8080/"
        },
        "id": "MPnGNOT8yvXW",
        "outputId": "4a11c945-d9a5-4eb6-87c5-652b0e2a5234"
      },
      "execution_count": 57,
      "outputs": [
        {
          "output_type": "stream",
          "name": "stdout",
          "text": [
            "Counter({'<UNK>': 24801, '.': 20936, ',': 20749, 'the': 14741, 'to': 11719, 'and': 9653, 'in': 9362, 'of': 9256, 'a': 7512, 'for': 5250, '<e>': 5117, 'said': 4273, '-': 4256, 'on': 3624, \"'\": 3397, 'that': 3109, 'by': 2994, 'at': 2928, 'mln': 2912, 'is': 2884, 'from': 2880, 'will': 2528, 'its': 2435, 'it': 2426, 'was': 2306, 'with': 2237, '1': 2206, 'would': 2068, 'an': 1978, ',\"': 1845, 'as': 1831, 'be': 1811, '&': 1746, 'has': 1696, 'pct': 1672, 'U': 1665, 'not': 1534, 'are': 1533, '2': 1531, 'which': 1513, 'were': 1501, 'this': 1435, '\"': 1416, 'have': 1409, 'dlrs': 1403, 'had': 1369, 'vs': 1323, 'last': 1322, 'year': 1295, 'about': 1247, '3': 1230, 'he': 1221, 'but': 1143, 'one': 1106, '(': 1086, 'cts': 1068, 'or': 1047, '4': 1041, '1986': 1011, 'also': 992, 'oil': 990, '5': 981, '.\"': 939, 'prices': 911, 'trade': 906, '10': 902, 'more': 897, 'they': 893, 'market': 893, '000': 886, '7': 868, 'shares': 849, '0': 837, '6': 835, 'up': 835, 'two': 829, 'after': 825, '/': 809, 'could': 793, 's': 786, 'over': 757, 'billion': 738, 'Corp': 732, '8': 719, 'Inc': 705, 'their': 704, 'TO': 700, 'other': 684, 'company': 683, '9': 683, 'than': 672, 'per': 671, '1987': 668, 'today': 666, 'production': 656, 'been': 641, 'April': 634, 'price': 633, 'against': 628, 'March': 628, 'sales': 621, 'some': 615, '20': 604, '15': 601, 'stock': 599, 'new': 599, 'interest': 594, ')': 589, 'foreign': 586, 'rate': 586, 'The': 581, 'if': 581, '30': 577, 'three': 576, 'rose': 571, 'because': 570, 'all': 567, 'under': 566, 'between': 552, 'loss': 546, '12': 539, 'Japan': 538, '50': 533, 'net': 519, 'now': 518, 'expected': 512, 'into': 511, '25': 506, 'growth': 504, 'offer': 482, 'five': 476, 'government': 474, 'exports': 472, 'Bank': 470, 'any': 465, '--': 462, 'increase': 460, 'February': 460, 'told': 459, 'no': 458, 'may': 458, 'share': 454, '>': 452, 'should': 451, 'lt': 448, 'tax': 446, 'we': 445, 'rates': 444, 'banks': 443, 'when': 442, 'due': 439, 'export': 438, 'made': 436, 'January': 435, '13': 435, 'there': 435, 'only': 434, 'profit': 432, 'through': 430, '11': 428, 'IN': 421, 'fell': 421, 'economic': 417, 'rise': 413, '1985': 413, 'around': 411, 'earnings': 411, 'week': 410, 'exchange': 408, 'since': 406, 'bank': 405, 'agreement': 405, 'investment': 404, '14': 403, 'May': 403, 'tonnes': 390, 'countries': 390, 'out': 389, '100': 387, '16': 387, 'major': 384, 'higher': 383, 'such': 382, 'West': 382, '18': 382, 'group': 379, 'business': 378, 'companies': 376, 'imports': 375, 'Japanese': 374, 'month': 371, 'before': 370, 'down': 370, 'Ltd': 370, 'yesterday': 370, 'shareholders': 370, 'during': 368, 'while': 366, 'further': 366, 'agreed': 365, 'meeting': 363, 'American': 363, 'industry': 362, 'lower': 359, 'six': 359, 'official': 358, '17': 358, 'four': 358, 'common': 357, 'Co': 357, 'dlr': 357, 'products': 353, 'his': 349, 'cash': 348, 'markets': 347, 'operations': 345, 'cut': 342, 'Net': 341, 'policy': 336, 'officials': 335, 'December': 333, 'stg': 332, '31': 331, 'reported': 331, 'June': 328, 'trading': 328, 'total': 325, 'debt': 325, 'capital': 325, 'demand': 325, 'currency': 324, 'set': 322, 'wheat': 321, 'current': 320, 'high': 319, 'financial': 317, 'increased': 316, 'can': 315, 'EC': 315, 'output': 312, 'first': 310, 'Revs': 308, 'being': 308, 'money': 307, 'still': 306, 'compared': 304, 'take': 303, '22': 303, '19': 301, 'domestic': 300, 'based': 299, '40': 293, ':': 292, 'International': 292, 'dollar': 290, 'A': 287, 'months': 287, 'both': 287, 'world': 286, 'earlier': 284, 'New': 283, 'FOR': 283, 'costs': 283, 'producers': 283, 'quarter': 281, 'well': 280, 'non': 279, '28': 279, 'analysts': 277, 'so': 275, '500': 274, 'announced': 273, 'years': 272, 'European': 271, 'reserves': 270, 'next': 270, 'Shr': 269, 'likely': 268, 'did': 267, 'figures': 266, 'who': 265, 'our': 264, '24': 264, 'long': 262, 'make': 262, 'talks': 261, '60': 260, 'estimated': 260, 'including': 259, 'unit': 259, '21': 258, 'early': 258, 'recent': 257, 'crude': 256, 'South': 254, 'yen': 254, '26': 254, 'plan': 253, 'report': 253, 'spokesman': 253, 'chairman': 252, '27': 251, '23': 250, 'fall': 250, 'income': 250, 'results': 249, 'end': 249, 'gain': 249, 'operating': 248, 'grain': 248, 'below': 247, 'dividend': 246, 'sugar': 246, 'until': 246, 'OPEC': 245, 'part': 244, 'MLN': 244, 'buy': 243, 'level': 243, 'eight': 242, 'nine': 242, 'much': 242, 'continue': 241, 'forecast': 240, 'most': 240, 'held': 237, 'Canada': 237, 'assets': 236, 'each': 236, 'management': 236, 'do': 235, 'them': 234, 'Canadian': 234, 'credit': 233, 'firm': 232, 'less': 231, '200': 230, 'already': 229, 'Group': 228, 'annual': 227, 'previously': 227, '35': 227, 'central': 227, 'plans': 226, 'INC': 225, 'September': 225, 'tender': 224, 'program': 224, 'July': 224, 'traders': 224, 'cost': 224, 'inflation': 224, 'average': 223, 'National': 223, 'following': 223, 'seven': 222, 'subsidiary': 222, 'sold': 222, 'off': 221, 'another': 220, 'help': 219, 'Brazil': 219, 'might': 218, 'proposal': 218, 'international': 218, 'surplus': 218, 'include': 218, 'industrial': 217, 'value': 217, 'very': 217, 'levels': 216, '80': 216, 'time': 215, '300': 215, 'action': 215, 'above': 214, 'system': 214, 'support': 213, 'proposed': 212, 'supply': 211, 'here': 211, 'state': 211, 'Oper': 211, 'coffee': 210, 'days': 210, 'OF': 210, 'several': 209, 'short': 209, 'gold': 209, 'board': 208, 'period': 207, 'profits': 207, 'crop': 207, 'import': 206, 'stake': 206, 'strong': 206, 'issue': 206, '),': 205, 'sources': 205, 'sale': 203, 'bid': 202, 'low': 202, 'fiscal': 201, 'corn': 200, 'marks': 200, 'what': 200, 'added': 199, 'deficit': 199, 'China': 198, 'these': 198, 'losses': 197, 'merger': 197, '>,': 197, 'change': 196, 'those': 195, 'good': 195, 'later': 195, '75': 193, 'CORP': 192, 'open': 192, 'sell': 191, 'pay': 191, 'NOTE': 190, 'owned': 190, 'decline': 188, '29': 188, 'large': 188, 'use': 188, 'making': 188, 'includes': 187, 'within': 187, 'francs': 187, 'public': 187, '90': 187, 'October': 187, 'acquisition': 186, 'Minister': 186, 'members': 185, 'ON': 185, 'just': 184, 'back': 183, 'stocks': 183, 'put': 183, 'gas': 182, 'record': 181, '33': 181, 'loans': 181, 'dealers': 180, 'DLRS': 179, 'loan': 179, 'funds': 179, 'without': 178, 'budget': 178, 'certain': 178, '1988': 177, 'United': 177, 'prior': 176, 'consumer': 176, 'must': 176, 'move': 176, 'purchase': 175, 'USDA': 175, 'half': 175, 'nations': 175, '45': 174, 'need': 174, 'Washington': 174, 'farm': 174, '32': 173, 'drop': 173, 'remain': 172, 'British': 172, 'late': 172, 'Federal': 170, 'many': 170, '400': 170, 'possible': 169, 'conditions': 169, 'cents': 169, '34': 169, 'currently': 169, 'buying': 169, 'payments': 168, 'target': 167, 'General': 166, 'Avg': 166, 'president': 166, 'bought': 166, 'full': 166, 'does': 165, '38': 165, 'reduce': 165, 'quota': 165, 'First': 165, 'French': 163, 'day': 163, 'private': 162, 'additional': 162, 'securities': 162, '800': 162, 'President': 162, 'close': 161, 'preferred': 161, 'Soviet': 160, 'terms': 160, 'ended': 159, 'work': 159, '70': 158, 'goods': 158, '51': 158, 'measures': 157, 'declined': 157, 'gains': 157, 'offered': 157, 'future': 156, 'continued': 156, 'approval': 156, '65': 156, 'country': 155, '36': 155, 'payment': 155, '150': 155, 'outstanding': 155, 'contract': 155, 'revenues': 155, 'issued': 155, 'basis': 154, 'London': 154, 'firms': 153, '37': 153, 'Iran': 153, 'SAYS': 152, 'control': 152, 'Friday': 152, 'rising': 151, 'takeover': 151, 'farmers': 151, 'unchanged': 150, 'problems': 150, 'showed': 150, 'plant': 149, 'real': 149, 'where': 149, 'CTS': 149, 'development': 149, 'I': 148, 'even': 148, 'statement': 148, 'recently': 148, 'futures': 148, 'reduced': 147, 'financing': 147, 'monetary': 146, 'PCT': 146, 'lead': 145, '52': 145, 'among': 145, 'negotiations': 145, 'provide': 145, 'called': 144, 'commercial': 144, 'German': 144, 'say': 143, 'OIL': 143, 'approved': 142, 'show': 142, 'used': 142, 'whether': 141, 'areas': 141, 'probably': 141, 'reached': 140, 'services': 140, 'effective': 140, 'North': 140, 'intervention': 139, 'sector': 139, 'then': 139, 'economy': 139, 'Reagan': 139, 'pressure': 139, 'come': 139, 'Petroleum': 139, 'acquired': 138, 'restructuring': 138, '42': 138, 'Texas': 138, 'deal': 138, 'given': 137, 'banking': 137, 'final': 137, 'changes': 137, 'contracts': 137, 'number': 136, 'Gulf': 136, 'Sales': 136, '700': 136, 'Industries': 136, 'decision': 135, '49': 135, 'planned': 135, 'sharply': 135, '44': 135, 'holding': 134, 'received': 134, 'according': 134, 'raised': 134, 'Saudi': 134, 'included': 134, 'position': 134, 'producer': 134, 'area': 134, 'line': 133, '600': 133, 'extraordinary': 133, 'product': 132, 'how': 132, 'third': 132, 'closed': 132, 'nil': 132, 'amount': 132, 'investors': 132, 'selling': 132, 'marketing': 131, 'asked': 131, 'bill': 131, 'saying': 131, 'way': 131, 'capacity': 131, '55': 131, 'available': 131, 'Oil': 131, 'Australia': 131, 'hold': 131, 'noted': 130, 'little': 130, 'exploration': 130, 'effect': 130, 'data': 130, 'analyst': 130, 'base': 130, 'increases': 130, 'far': 129, 'quotas': 129, '...': 129, '48': 129, 'give': 129, 'point': 129, 'previous': 128, 'acquire': 128, 'raise': 128, 'spending': 128, 'soon': 128, 'own': 128, 'TRADE': 128, 'special': 127, 'better': 127, 'slightly': 127, 'August': 127, 'estimates': 127, 'Monday': 127, 'Finance': 127, 'pact': 126, 'supplies': 126, 'led': 126, '43': 126, 'finance': 126, 'buffer': 125, 'expects': 125, 'paid': 125, '46': 125, 'purchases': 125, 'return': 125, 'see': 125, 'too': 125, 'go': 125, 'although': 124, 'qtr': 124, 'become': 124, 'meet': 123, 'proposals': 123, 'impact': 123, 'balance': 123, 'Western': 122, 'needed': 122, 'growing': 122, 'S': 121, 'energy': 121, 'November': 121, 'tomorrow': 121, 'present': 121, 'general': 121, 'member': 120, 'second': 120, 'Secretary': 120, 'despite': 120, 'subject': 120, 'M': 119, 'increasing': 119, 'shr': 119, 'soybean': 119, 'reduction': 119, 'issues': 119, 'equity': 119, '95': 119, 'joint': 119, 'Ministry': 118, 'producing': 118, 'Pacific': 118, 'shipments': 118, 'scheduled': 118, 'again': 118, 'federal': 118, 'weeks': 117, 'Tokyo': 117, 'worth': 117, 'Europe': 117, 'produced': 117, 'nearly': 117, 'World': 117, 'local': 116, 'Congress': 116, 'Department': 116, 'states': 116, 'Britain': 116, '41': 116, 'taking': 116, 'get': 116, 'service': 116, 'currencies': 115, 'equipment': 115, 'economists': 115, 'result': 115, 'Energy': 115, '85': 115, 'free': 115, 'agreements': 115, 'N': 115, 'NET': 114, 'order': 114, 'caused': 114, 'response': 113, 'rights': 113, 'distribution': 113, 'small': 113, 'working': 113, 'mths': 112, 'barrels': 112, 'term': 112, '900': 111, '54': 111, 'shareholder': 111, 'estimate': 111, 'figure': 111, 'like': 111, '47': 111, 'cocoa': 110, 'ships': 110, 'taken': 110, 'fixed': 110, 'national': 110, 'units': 110, 'concern': 109, '72': 109, 'consumption': 109, 'Plc': 109, 'allow': 109, '>.': 108, 'season': 108, 'review': 108, 'food': 108, 'MAY': 108, 'improved': 107, 'Paris': 107, 'decided': 107, 'committee': 107, 'Savings': 107, 'division': 107, 'date': 106, 'Year': 106, 'related': 106, 'rather': 106, 'France': 106, 'Baker': 106, 'Taiwan': 106, 'account': 106, 'significant': 106, 'boost': 106, 'mainly': 105, '57': 105, 'accord': 105, 'start': 105, 'Dutch': 104, '64': 104, '87': 104, 'workers': 104, 'Iranian': 104, 'hit': 104, 'sterling': 104, 'force': 104, 'however': 104, 'charge': 104, 'holders': 103, 'reserve': 103, 'daily': 103, 'policies': 103, 'totalled': 103, 'bond': 103, 'revised': 103, 'businesses': 103, 'steel': 102, 'shrs': 102, 'range': 102, 'exporters': 102, 'transaction': 102, '56': 102, 'USAir': 102, 'continuing': 102, 'same': 101, 'adjusted': 101, 'least': 101, 'quoted': 101, '250': 101, 'heavy': 101, 'YEAR': 101, '58': 101, 'potential': 101, 'volume': 101, 'commodity': 101, 'political': 100, '92': 100, '39': 100, 'STAKE': 100, 'morning': 100, 'delegates': 100, '68': 100, '53': 100, 'cuts': 100, 'seeking': 100, 'limit': 100, 'B': 100, 'natural': 100, 'provision': 99, 'bring': 99, 'leading': 99, 'bpd': 99, 'AT': 99, '99': 99, 'offering': 99, 'Note': 99, 'almost': 99, 'began': 98, 'Fed': 98, 'CO': 98, 'us': 98, 'situation': 98, 'competitive': 98, 'enough': 98, '61': 97, 'UNIT': 97, 'Commission': 97, 'Bundesbank': 97, 'people': 97, 'pre': 97, 'options': 97, 'AND': 97, 'near': 97, 'copper': 97, 'deposits': 96, 'Record': 96, 'BANK': 96, 'ministers': 96, 'Reuters': 96, 'winter': 96, 'key': 96, 'mid': 96, '120': 96, 'QTR': 95, 'keep': 95, 'beef': 95, 'liquidity': 95, 'limited': 95, 'SEES': 95, 'GATT': 95, 'interests': 95, 'WHEAT': 95, 'option': 95, 'Indonesia': 95, 'place': 95, 'shipping': 95, 'delivery': 94, '76': 94, 'operation': 94, 'lending': 94, 'study': 94, 'shipment': 94, 'completed': 93, 'fourth': 93, 'prospects': 93, 'you': 93, 'senior': 93, 'performance': 93, 'Association': 93, 'expansion': 93, '73': 93, '59': 92, 'information': 92, 'consider': 92, 'UP': 92, 'provisions': 91, 'signed': 91, 'consumers': 91, 'Agriculture': 91, 'initial': 91, 'Union': 91, '67': 91, 'insurance': 91, 'Australian': 90, 'news': 90, 'stability': 90, '83': 90, 'court': 90, 'unless': 90, 'industries': 90, 'transactions': 90, 'revenue': 90, 'weather': 90, 'falling': 90, 'Trade': 89, '93': 89, 'rejected': 89, '96': 89, 'SEEN': 89, 'field': 89, 'offers': 89, 'required': 89, 'sharp': 89, 'Financial': 89, 'call': 89, 'receive': 89, 'remains': 89, 'similar': 89, 'computer': 89, 'owns': 89, 'dropped': 89, 'Nine': 88, ').': 88, '71': 88, 'executive': 88, 'problem': 88, 'changed': 88, 'convertible': 88, 'G': 87, '69': 87, '66': 87, 'expect': 87, 'greater': 87, 'pipeline': 87, 'crops': 86, 'House': 86, 'seen': 86, 'Germany': 86, '79': 86, 'unlikely': 86, 'took': 86, 'LOSS': 86, '63': 86, 'remained': 86, '94': 86, 'turnover': 86, 'substantial': 86, 'aimed': 86, 'fuel': 86, 'traded': 86, 'certificates': 86, 'RISE': 85, 'involved': 85, 'factors': 85, 'existing': 85, 'Treasury': 85, 'C': 85, 'maintain': 85, 'split': 85, '125': 85, 'drilling': 85, 'Hong': 85, 'index': 85, 'yet': 85, 'right': 85, 'seek': 85, 'orders': 85, 'OFFER': 84, 'bankers': 84, 'law': 84, 'investor': 84, 'agricultural': 84, 'ahead': 84, 'rice': 84, 'legislation': 84, 'forecasts': 84, 'payable': 84, '00': 84, 'lost': 84, 'discount': 84, 'RATE': 84, 'begin': 84, 'gross': 84, 'reflect': 83, 'Central': 83, 'reports': 83, 'manufacturing': 83, 'Chairman': 83, 'charges': 83, '89': 83, 'FROM': 83, '82': 83, 'affected': 83, 'E': 83, 'points': 83, 'holdings': 82, 'vice': 82, '350': 82, 'port': 82, 'produce': 82, 'rubber': 82, 'minister': 82, 'reach': 82, 'Brazilian': 81, 'cause': 81, 'met': 81, 'improve': 81, 'announcement': 81, 'Securities': 81, 'Tuesday': 81, 'gave': 81, 'necessary': 81, 'want': 81, 'VS': 81, 'came': 81, 'corporate': 81, '78': 80, 'itself': 80, 'discussions': 80, 'either': 80, 'comment': 80, 'developing': 80, 'acquisitions': 80, 'efforts': 80, 'minimum': 80, 'failed': 80, 'customers': 80, 'DIVIDEND': 79, '1984': 79, 'de': 79, 'competition': 79, 'director': 79, 'details': 79, 'view': 79, 'agriculture': 79, 'Dome': 79, 'plus': 78, 'cotton': 78, 'America': 78, 'construction': 78, 'stores': 78, 'discuss': 78, '62': 78, 'expenses': 78, 'activity': 78, 'Resources': 78, 'normal': 78, 'TWA': 78, 'agency': 77, 'Qtly': 77, 'fully': 77, '74': 77, 'benefit': 77, 'press': 77, 'systems': 77, 'union': 77, 'going': 77, 'extended': 77, 'dollars': 77, 'outside': 77, 'holds': 77, 'Ecuador': 77, 'main': 76, 'Kuwait': 76, '140': 76, 'mine': 76, 'BY': 76, 'improvement': 76, 'controls': 76, 'guilders': 76, 'indicated': 76, 'expand': 76, '81': 76, 'cover': 76, 'respectively': 76, 'savings': 75, 'NEW': 75, '86': 75, 'largely': 75, 'prime': 75, 'various': 75, 'risk': 75, 'particularly': 75, 'hard': 75, 'majority': 75, 'taxes': 75, 'moves': 75, 'Prime': 75, 'facilities': 75, 'cannot': 75, 'Systems': 74, 'chief': 74, 'credits': 74, 'conference': 74, 'believe': 74, 'largest': 74, 'says': 74, 'overall': 74, 'damage': 74, 'administration': 74, 'quality': 74, 'aid': 74, 'needs': 74, 'building': 74, 'Italy': 74, 'harvest': 73, 'directors': 73, 'State': 73, 'left': 73, 'progress': 73, '88': 73, 'TALKS': 73, 'Africa': 73, 'Trust': 73, 'crowns': 73, 'Swiss': 73, 'package': 73, 'top': 73, 'mark': 73, 'add': 73, 'research': 73, 'subsidies': 73, 'ministry': 72, 'case': 72, 'spot': 72, 'purchased': 72, '98': 72, 'reflected': 72, 'PRICES': 72, 'adding': 72, 'GNP': 72, 'released': 72, 'direct': 72, 'stable': 71, 'recovery': 71, 'offset': 71, 'Wednesday': 71, 'mining': 71, 'posted': 71, 'strike': 71, 'along': 71, 'partners': 71, 'quarterly': 71, 'Holdings': 71, 'specific': 71, '77': 71, 'Commerce': 71, 'filed': 71, 'rules': 71, 'session': 71, 'unemployment': 71, 'tons': 71, 'outlook': 71, 'GenCorp': 71, 'accepted': 71, 'authorities': 71, 'retail': 71, 'started': 70, 'dispute': 70, 'complete': 70, 'accounts': 70, 'remaining': 70, 'Community': 70, 'find': 70, 'difficult': 70, 'beginning': 70, '145': 70, 'Development': 69, 'bonds': 69, 'cubic': 69, 'department': 69, 'buyers': 69, '91': 69, 'GROUP': 69, 'partly': 69, 'power': 69, 'gasoline': 69, 'Council': 69, 'former': 69, 'provided': 69, 'maize': 69, 'acres': 69, 'Feb': 69, 'important': 69, 'California': 69, 'acreage': 69, 'speculation': 69, 'generally': 69, 'considered': 68, 'measure': 68, 'BID': 68, 'closing': 68, '1ST': 68, 'won': 68, 'WITH': 68, 'settlement': 68, 'discontinued': 68, 'predicted': 68, 'tariffs': 68, 'feed': 68, 'projected': 68, 'Chrysler': 68, 'soybeans': 67, 'brought': 67, '97': 67, 'petroleum': 67, 'considering': 67, 'repurchase': 67, 'ending': 67, 'Gas': 67, 'pending': 66, 'feet': 66, 'processing': 66, 'Shearson': 66, 're': 66, 'trend': 66, 'div': 66, 'prevent': 66, 'try': 66, 'Jan': 66, 'equal': 66, 'security': 66, 'subsidiaries': 66, 'overseas': 66, 'grow': 66, 'helped': 65, 'wanted': 65, 'having': 65, 'earned': 65, 'AG': 65, 'bills': 65, 'reducing': 65, 'act': 65, 'Malaysia': 65, 'resulted': 65, 'rises': 65, 'longer': 65, 'LTD': 65, 'flow': 65, 'properties': 65, 'groups': 65, 'instead': 65, 'relatively': 64, 'yields': 64, 'East': 64, 'accept': 64, 'benefits': 64, 'H': 64, 'prepared': 64, 'pretax': 64, 'Cyclops': 64, 'STOCK': 64, 'cooperation': 64, 'combined': 64, 'investments': 64, 'economist': 64, 'build': 64, 'monthly': 64, 'SUGAR': 64, 'oils': 64, '110': 64, 'positive': 64, 'requirements': 64, 'valued': 64, 'military': 63, 'latest': 63, 'equivalent': 63, 'tonne': 63, 'ago': 63, 'partnership': 63, 'activities': 63, 'source': 63, 'found': 63, 'attempt': 63, 'land': 63, 'allowed': 63, 'weak': 63, 'steady': 62, 'Continental': 62, '84': 62, 'serious': 62, 'yield': 62, 'council': 62, 'slow': 62, 'saw': 62, 'home': 62, 'Allied': 62, 'together': 62, 'designed': 62, 'retaliation': 62, 'Economic': 62, 'NOT': 62, 'project': 62, 'OUTPUT': 62, 'towards': 62, 'substantially': 62, 'refinery': 62, 'SETS': 61, 'name': 61, 'SALE': 61, 'ship': 61, 'GROWTH': 61, 'Purolator': 61, 'Spain': 61, '1990': 61, 'followed': 61, 'opened': 61, 'regulatory': 61, 'look': 61, 'DLR': 61, 'excludes': 61, 'war': 61, 'expectations': 61, 'looking': 61, 'amounts': 61, 'values': 61, 'RAISES': 61, 'MERGER': 61, 'CUT': 61, 'wants': 61, 'warrants': 61, 'stop': 61, 'resulting': 60, 'attack': 60, 'Computer': 60, 'controlled': 60, 'Korea': 60, 'clear': 60, 'venture': 60, 'San': 60, 'ICO': 60, 'dividends': 60, 'concerned': 60, 'nation': 60, 'parts': 60, 'worldwide': 60, 'water': 60, 'Shell': 60, 'adjustment': 60, 'materials': 60, 'restated': 60, 'originally': 60, 'head': 60, 'City': 59, 'employees': 59, 'John': 59, 'ordinary': 59, 'declared': 59, 'different': 59, '4TH': 59, 'Standard': 59, 'letter': 59, 'process': 59, 'Exchange': 59, 'Services': 59, 'MARKET': 59, 'Chemical': 59, 'crisis': 59, 'actions': 59, 'Colombia': 59, 'vote': 59, '105': 59, 'forward': 59, 'imported': 59, 'property': 59, '750': 59, 'office': 59, 'hours': 59, 'lines': 58, 'abroad': 58, 'Venezuela': 58, 'PRICE': 58, 'GRAIN': 58, 'best': 58, 'Thursday': 58, 'plants': 58, 'known': 58, 'meetings': 58, 'television': 58, 'Texaco': 58, 'form': 58, 'trying': 58, 'STG': 58, 'percentage': 58, 'granted': 58, 'items': 58, 'Borg': 58, 'PAYOUT': 58, 'India': 58, 'James': 58, 'Iraq': 58, 'palm': 58, 'class': 58, 'cent': 58, 'light': 58, 'notes': 58, 'times': 58, 'Robert': 57, 'vessels': 57, 'targets': 57, 'technology': 57, 'L': 57, 'legal': 57, 'Capital': 57, 'BP': 57, '170': 57, 'run': 57, 'grade': 57, 'series': 57, 'stood': 57, 'restrictions': 57, 'opening': 57, 'significantly': 57, 'car': 57, '160': 57, 'continues': 57, 'accounting': 56, 'operate': 56, 'FALL': 56, 'access': 56, 'versus': 56, 'paper': 56, 'Dixons': 56, 'CSR': 56, 'basic': 56, 'expressed': 56, 'manager': 56, 'preliminary': 56, 'ounces': 56, 'away': 56, 'paying': 56, '130': 56, 'recorded': 56, 'sought': 55, 'borrowings': 55, 'fields': 55, 'seasonally': 55, 'raising': 55, 'Thailand': 55, 'round': 55, 'D': 55, 'Insurance': 55, 'immediately': 55, 'facility': 55, 'using': 55, 'global': 55, 'GDP': 55, 'Board': 55, 'IT': 55, 'Singapore': 55, 'quickly': 55, 'confirmed': 55, 'urged': 54, 'deposit': 54, 'smaller': 54, 'approximately': 54, 'Air': 54, 'done': 54, 'follows': 54, 'launched': 54, 'night': 54, 'consideration': 54, 'temporary': 54, 'question': 54, 'negative': 54, 'health': 54, 'step': 54, 'subsidy': 54, '103': 54, 'Dec': 54, 'Chicago': 54, '104': 54, 'once': 54, 'exceed': 54, 'face': 54, 'reason': 53, 'Foreign': 53, 'Reserve': 53, '180': 53, 'Santa': 53, 'she': 53, 'voting': 53, 'reporters': 53, 'test': 53, 'Fund': 53, 'leaders': 53, 'ore': 53, 'Caesars': 53, 'Sugar': 53, 'believed': 53, 'post': 53, 'cumulative': 53, 'behind': 53, 'formed': 53, 'summer': 53, 'BUY': 53, 'agree': 53, 'cutting': 53, 'raw': 53, 'offshore': 53, 'grains': 52, 'Total': 52, 'reflecting': 52, '450': 52, 'Six': 52, 'provisional': 52, 'Chinese': 52, '.,': 52, 'inventory': 52, 'others': 52, 'positions': 52, 'newly': 52, 'priced': 52, 'appropriate': 52, 'T': 52, 'Investment': 52, 'Coffee': 52, 'strategy': 52, 'Service': 52, 'sectors': 52, 'chemical': 52, 'makes': 52, 'immediate': 52, 'MARCH': 52, 'parent': 52, 'avoid': 52, 'tin': 52, 'completion': 52, 'big': 52, 'especially': 51, 'TENDER': 51, 'bags': 51, 'claims': 51, 'margins': 51, 'suspended': 51, 'programs': 51, 'though': 51, 'medium': 51, 'anticipated': 51, 'factor': 51, 'Partners': 51, 'Taft': 51, 'stockholders': 51, 'life': 51, 'spring': 51, 'ease': 51, 'privately': 50, 'York': 50, 'stimulate': 50, 'western': 50, 'warned': 50, 'strongly': 50, '1989': 50, 'Stocks': 50, 'proceeds': 50, 'BILLION': 50, 'asset': 50, 'encourage': 50, 'brokers': 50, 'sanctions': 50, 'assistance': 50, 'FIRST': 50, 'protectionist': 50, 'calendar': 50, 'external': 50, 'threatened': 50, 'Wall': 50, 'independent': 50, 'HAS': 50, 'treasury': 50, 'mortgage': 50, 'projects': 50, 'Life': 50, 'Morgan': 50, 'cargo': 50, 'pound': 50, 'excess': 50, 'grew': 50, 'GOLD': 50, 'statements': 50, 'rand': 50, 'profitable': 50, 'means': 49, 'Associates': 49, 'Pay': 49, 'Royal': 49, 'throughout': 49, 'personal': 49, 'cattle': 49, 'single': 49, 'imposed': 49, 'larger': 49, '210': 49, 'FIRM': 49, 'filing': 49, 'every': 49, 'limits': 49, 'giving': 49, 'O': 48, 'think': 48, 'few': 48, '102': 48, 'premium': 48, 'Institute': 48, 'Production': 48, 'PACT': 48, 'ounce': 48, 'fund': 48, 'enable': 48, 'affect': 48, 'shortage': 48, 'African': 48, 'Lawson': 48, 'PLC': 48, 'HIGHER': 48, 'RISES': 48, 'starting': 48, 'storage': 48, 'push': 48, 'planted': 48, 'Merrill': 48, 'buyout': 48, 'steps': 48, 'develop': 48, 'intended': 48, 'bids': 48, 'Security': 48, 'ruling': 48, 'technical': 48, 'telephone': 48, '1983': 48, '111': 47, 'representatives': 47, 'F': 47, 'newspaper': 47, 'developments': 47, 'weekly': 47, 'coal': 47, 'PROFIT': 47, '118': 47, '240': 47, 'coming': 47, 'associated': 47, 'role': 47, 'meat': 47, 'trader': 47, 'upward': 47, 'dealer': 47, 'able': 47, 'accounted': 47, 'requirement': 47, 'request': 47, 'semiconductor': 47, 'SAID': 47, 'toward': 47, 'averaged': 47, 'running': 47, 'miles': 47, 'block': 47, 'lowered': 47, 'registered': 47, 'rumors': 47, 'primary': 47, 'EXPORTS': 47, 'appears': 47, 'confidence': 47, 'determine': 46, 'One': 46, 'planting': 46, 'ceiling': 46, 'SALES': 46, 'northern': 46, 'J': 46, 'developed': 46, 'introduced': 46, 'moving': 46, 'effort': 46, 'Committee': 46, 'possibility': 46, 'commitments': 46, 'White': 46, 'MONEY': 46, 'successful': 46, 'commission': 46, 'survey': 46, 'negotiating': 46, 'wage': 46, 'Sea': 46, 'fresh': 46, 'interested': 46, 'exported': 46, 'effects': 46, 'reporting': 46, 'franc': 46, 'borrowing': 46, 'governments': 46, 'EEP': 46, 'signs': 46, 'thought': 46, 'laws': 46, 'renewed': 46, 'willing': 45, 'BUYS': 45, 'condition': 45, 'Electric': 45, 'create': 45, 'EXPORT': 45, 'Turkey': 45, '340': 45, 'aluminium': 45, 'application': 45, '101': 45, 'contributed': 45, 'south': 45, 'trust': 45, 'CORN': 45, 'stabilise': 45, 'TAX': 45, 'employment': 45, 'opposed': 45, 'COFFEE': 45, 'whose': 45, 'pesos': 45, 'comments': 45, 'alternative': 45, 'nothing': 45, 'protect': 45, 'reform': 45, 'achieve': 45, 'carry': 45, 'sent': 45, 'movement': 45, 'metal': 45, 'mean': 44, 'Court': 44, 'anti': 44, 'Southern': 44, 'believes': 44, 'drought': 44, 'modest': 44, 'Greece': 44, 'bilateral': 44, 'FEBRUARY': 44, 'Senate': 44, 'across': 44, 'TWO': 44, 'relations': 44, 'commitment': 44, 'SEC': 44, '149': 44, 'protection': 44, 'David': 44, 'don': 44, 'creditors': 44, '108': 44, 'unfair': 44, 'adjustments': 44, 'lot': 44, 'follow': 44, '119': 44, 'commodities': 44, 'ways': 44, 'vegetable': 44, 'totaled': 44, 'Cable': 44, 'Argentina': 44, 'risen': 44, 'lire': 44, 'bad': 44, '147': 44, 'Moscow': 44, 'focus': 44, 'extend': 43, 'release': 43, '1982': 43, 'dry': 43, 'chance': 43, 'passed': 43, 'hope': 43, 'him': 43, 'Credit': 43, '190': 43, 'LOWER': 43, 'overnight': 43, 'refining': 43, 'barley': 43, 'ICCO': 43, 'Arab': 43, 'possibly': 43, 'Acquisition': 43, 'Citicorp': 43, 'PLANS': 43, 'material': 43, 'CUTS': 43, 'pressures': 43, 'optimistic': 43, 'parties': 43, 'house': 43, 'offices': 43, 'eased': 43, 'periods': 43, 'Belgian': 43, 'reductions': 43, 'denied': 43, 'decide': 43, 'weekend': 43, 'went': 43, 'require': 43, 'transfer': 43, 'resources': 43, 'fair': 43, 'liabilities': 43, 'party': 43, 'pricing': 43, 'Steel': 43, 'Tax': 43, 'Malaysian': 43, 'authority': 43, 'declines': 43, 'participation': 43, 'grades': 43, 'represents': 43, 'debentures': 42, 'USSR': 42, 'past': 42, 'zinc': 42, 'silver': 42, 'retain': 42, 'Smith': 42, 'WEEK': 42, 'End': 42, 'JAPAN': 42, 'RATES': 42, 'break': 42, 'Company': 42, 'Deposits': 42, 'NO': 42, 'Kong': 42, 'supported': 42, 'structure': 42, '143': 42, 'invest': 42, 'poor': 42, 'Management': 42, 'strength': 42, 'stronger': 42, 'economies': 42, 'Piedmont': 42, 'declining': 42, 'AMC': 42, 'Exxon': 42, 'southern': 42, 'active': 42, 'carried': 42, 'placed': 42, 'Consolidated': 41, 'corporation': 41, 'OFFICIAL': 41, 'providing': 41, 'reflects': 41, 'contribution': 41, 'Exports': 41, '06': 41, 'RESERVES': 41, 'recover': 41, 'Atlantic': 41, 'ACQUISITION': 41, 'Paul': 41, '106': 41, 'maker': 41, 'operators': 41, 'smelter': 41, '151': 41, 'Asia': 41, 'Class': 41, 'Food': 41, 'inventories': 41, 'Communications': 41, 'afternoon': 41, 'suit': 41, 'SHARES': 41, 'bulk': 41, 'GAF': 41, 'impose': 41, 'principal': 41, 'list': 41, 'barriers': 41, 'lack': 41, 'sign': 41, 'extension': 41, 'depressed': 41, 'maximum': 41, 'anything': 41, 'bushels': 41, 'primarily': 41, 'appeared': 41, 'weakness': 41, 'shortly': 41, 'beet': 40, 'moved': 40, 'Spanish': 40, 'regional': 40, 'Commodity': 40, '109': 40, '360': 40, 'huge': 40, 'K': 40, 'moderate': 40, 'SPLIT': 40, 'Imports': 40, '152': 40, 'returned': 40, 'Coast': 40, '142': 40, 'ready': 40, 'wholly': 40, 'transport': 40, 'expanded': 40, 'debate': 40, 'electronics': 40, 'hopes': 40, 'calls': 40, 'ruled': 40, 'really': 40, 'Allegheny': 40, '375': 40, 'ensure': 40, 'INTERNATIONAL': 40, 'Arabia': 40, 'lift': 40, 'Nippon': 40, 'committed': 40, 'representing': 40, '127': 40, 'visit': 40, 'components': 40, 'duties': 40, '480': 40, 'election': 40, 'Ecus': 40, 'aircraft': 40, 'growers': 40, 'expenditure': 40, '3RD': 39, 'Grain': 39, 'staff': 39, 'regular': 39, '123': 39, 'excluding': 39, 'movements': 39, '135': 39, 'DOLLAR': 39, 'stabilize': 39, 'course': 39, 'semiconductors': 39, 'bonus': 39, 'ports': 39, 'Italian': 39, 'recommended': 39, 'IMF': 39, 'bringing': 39, 'talk': 39, 'buyer': 39, 'EARNINGS': 39, '148': 39, 'attacks': 39, 'surpluses': 39, 'covering': 39, 'Richard': 39, 'operates': 39, 'ownership': 39, 'family': 39, 'Mining': 39, 'formal': 39, 'Turnover': 39, 'authorized': 39, 'determined': 39, 'doing': 39, 'incentives': 39, 'Hughes': 39, 'fears': 39, '330': 39, 'highly': 39, 'disclosed': 39, 'INTEREST': 39, 'suggested': 39, '430': 39, 'ability': 39, 'provides': 39, 'allowing': 39, 'rains': 39, 'cold': 39, 'pension': 39, 'Industry': 38, 'opposition': 38, 'CANADA': 38, 'entered': 38, 'JAN': 38, 'Use': 38, 'broad': 38, 'forced': 38, 'CRUDE': 38, 'matter': 38, 'charged': 38, 'OECD': 38, 'old': 38, 'affiliate': 38, 'Eastern': 38, 'reorganization': 38, 'tendered': 38, 'Products': 38, 'SET': 38, 'exclude': 38, 'Data': 38, 'houses': 38, 'recession': 38, '132': 38, 'employers': 38, 'boosted': 38, 'write': 38, 'connection': 38, '126': 38, 'forces': 38, 'approve': 38, 'compromise': 38, 'defense': 38, 'shift': 38, 'certificate': 38, 'airline': 37, 'created': 37, 'Lyng': 37, 'getting': 37, 'reasonable': 37, 'writedown': 37, 'Louvre': 37, 'Loans': 37, 'relief': 37, 'earn': 37, 'failure': 37, 'estate': 37, 'described': 37, '117': 37, 'hectares': 37, 'gained': 37, 'feel': 37, 'telecommunications': 37, 'Sun': 37, 'statistics': 37, 'fact': 37, 'scheme': 37, 'auction': 37, 'ratio': 37, 'specialty': 37, 'fallen': 37, 'intends': 37, 'businessmen': 37, 'encouraging': 37, 'effectively': 37, 'R': 37, 'institutions': 37, '146': 37, 'leave': 37, 'side': 37, 'reaction': 37, 'demands': 37, 'satisfactory': 37, 'Bancorp': 37, 'Indonesian': 37, 'DEFICIT': 37, 'jointly': 37, 'Norway': 37, 'except': 37, 'W': 37, 'advanced': 37, 'setting': 37, 'exercise': 37, 'therefore': 37, 'expanding': 37, 'waiting': 37, 'particular': 37, '550': 37, 'ranges': 36, 'jobs': 36, 'Belgium': 36, 'Kansas': 36, 'MORE': 36, 'News': 36, 'Industrial': 36, 'approach': 36, 'takes': 36, 'brokerage': 36, '1st': 36, 'Michael': 36, 'hurt': 36, '155': 36, 'soft': 36, 'undisclosed': 36, '141': 36, 'Research': 36, 'cargoes': 36, 'Sweden': 36, 'entire': 36, 'spokeswoman': 36, 'Illinois': 36, 'chemicals': 36, 'diplomats': 36, 'Kuwaiti': 36, 'upon': 36, 'AB': 36, 'decrease': 36, '1980': 36, 'Mines': 36, '137': 36, '1981': 36, 'actual': 36, '05': 36, 'submitted': 36, 'Lynch': 36, 'remarks': 36, 'Business': 36, '138': 36, 'planning': 36, 'software': 36, 'opportunity': 36, 'association': 36, 'duty': 36, 'clearly': 36, 'indicate': 36, 'air': 36, 'tankers': 36, 'subordinated': 36, 'SURPLUS': 36, 'reference': 36, 'cane': 36, 'adopted': 36, 'strategic': 36, 'Mexico': 36, '175': 36, 'decisions': 36, 'tough': 36, '136': 36, 'turn': 36, ';': 35, 'definitive': 35, 'WILL': 35, 'published': 35, 'confident': 35, 'Martin': 35, 'leader': 35, 'FEB': 35, 'size': 35, 'floor': 35, 'Agency': 35, 'differentials': 35, 'Express': 35, 'covered': 35, 'separate': 35, 'established': 35, 'stage': 35, 'region': 35, '165': 35, 'terminal': 35, 'electronic': 35, 'REPORT': 35, 'stated': 35, 'co': 35, 'Poehl': 35, 'begun': 35, 'housing': 35, 'competitiveness': 35, 'cars': 35, 'regulations': 35, 'alone': 35, 'AFTER': 35, 'damaged': 35, 'seriously': 35, 'mostly': 35, 'seasonal': 35, 'stressed': 35, 'backed': 35, 'negotiate': 35, 'ten': 35, 'THREE': 35, 'subcommittee': 35, 'alternatives': 35, 'SYSTEMS': 35, 'Boston': 35, 'located': 35, 'EXCHANGE': 35, 'traditional': 35, 'FALLS': 35, '225': 35, 'manufacturers': 35, 'minority': 35, 'engineering': 35, '115': 35, 'delay': 35, 'adequate': 35, 'Gillette': 35, 'JANUARY': 34, 'closely': 34, 'circumstances': 34, 'makers': 34, 'refined': 34, 'ringgit': 34, 'DEC': 34, 'via': 34, 'customer': 34, 'eventually': 34, 'requires': 34, 'rain': 34, 'banker': 34, 'certainly': 34, '230': 34, 'Indian': 34, 'nominal': 34, 'GAS': 34, 'Fairchild': 34, 'stand': 34, '156': 34, 'live': 34, 'combination': 34, 'ROSE': 34, 'conversion': 34, 'named': 34, '112': 34, 'reaffirmed': 34, 'leaving': 34, 'join': 34, 'advance': 34, '185': 34, '320': 34, 'chips': 34, 'Opec': 34, 'shown': 34, 'Latin': 34, 'stay': 34, '157': 34, 'requested': 34, 'resume': 34, 'nearby': 34, 'evidence': 34, 'levy': 34, 'threat': 34, 'store': 34, '164': 34, 'Florida': 34, 'IMPORTS': 33, 'Statistics': 33, 'Sosnoff': 33, 'goes': 33, 'acquiring': 33, 'enter': 33, 'resolve': 33, 'guarantees': 33, 'fire': 33, 'voted': 33, 'headed': 33, 'debts': 33, '133': 33, 'totalling': 33, 'discussed': 33, 'partner': 33, 'Operating': 33, 'operator': 33, 'SELL': 33, 'scale': 33, 'Philippine': 33, 'contained': 33, 'delayed': 33, 'involving': 33, 'goal': 33, 'why': 33, 'never': 33, 'approvals': 33, 'Zealand': 33, 'bidding': 33, 'ONE': 33, 'preference': 33, 'status': 33, 'Pakistan': 33, 'let': 33, 'establish': 33, 'Banking': 33, 'became': 33, 'LME': 33, 'Nakasone': 33, '168': 33, 'direction': 33, 'depreciation': 33, '4th': 33, 'shows': 33, 'freight': 33, 'kept': 33, 'biggest': 33, 'deliveries': 33, '650': 33, 'book': 33, 'obligations': 33, 'refused': 33, 'operated': 33, 'note': 33, 'plantings': 33, 'weight': 33, 'Peru': 33, 'pushed': 33, 'PLAN': 33, 'zero': 33, 'east': 33, 'reverse': 33, 'EMS': 33, 'River': 33, 'QUARTER': 33, 'thus': 33, '129': 33, 'individual': 33, 'Harcourt': 32, 'recapitalization': 32, 'Icahn': 32, 'wells': 32, 'ask': 32, 'pace': 32, 'underlying': 32, 'SELLS': 32, 'original': 32, 'ct': 32, 'portfolio': 32, 'exporting': 32, '113': 32, 'YEN': 32, 'CROP': 32, 'propose': 32, '154': 32, 'hostile': 32, 'rule': 32, 'lease': 32, 'Volcker': 32, '169': 32, 'Houston': 32, 'kind': 32, 'tariff': 32, 'reiterated': 32, 'double': 32, 'opinion': 32, 'welcomed': 32, 'William': 32, 'ever': 32, '122': 32, '220': 32, 'Bonn': 32, 'rapid': 32, 'achieved': 32, 'beyond': 32, 'arrangement': 32, 'Commercial': 32, '260': 32, 'shortfall': 32, 'built': 32, 'collapse': 32, '290': 32, 'hearing': 32, 'Home': 32, 'quite': 32, 'retirement': 32, 'Swedish': 32, 'cases': 32, 'downward': 32, 'opportunities': 32, 'spread': 32, 'Sept': 32, 'refineries': 32, 'APRIL': 32, 'considerable': 32, 'showing': 32, 'fee': 32, '270': 32, 'increasingly': 32, 'ban': 32, 'fairly': 32, 'Thai': 32, 'difficulties': 32, 'sentiment': 32, 'favourable': 32, 'labour': 32, 'programme': 31, 'excessive': 31, 'Louisiana': 31, 'barrel': 31, 'managers': 31, 'St': 31, 'Agricultural': 31, 'CPC': 31, 'seamen': 31, '144': 31, 'practices': 31, 'Medical': 31, 'INDUSTRIES': 31, 'curb': 31, 'fear': 31, 'massive': 31, 'executives': 31, 'secretary': 31, 'highest': 31, 'leveraged': 31, 'pork': 31, 'CANADIAN': 31, 'Sunday': 31, 'Administration': 31, 'intervene': 31, '173': 31, 'BUYOUT': 31, 'mill': 31, 'initially': 31, 'speculative': 31, '425': 31, 'know': 31, 'consolidated': 31, 'awarded': 31, 'recommendation': 31, 'Exploration': 31, 'Saturday': 31, '107': 31, 'felt': 31, 'officers': 31, 'revision': 31, '265': 31, 'aluminum': 31, 'occur': 31, 'permit': 31, 'rupees': 31, 'broke': 31, 'contribute': 31, 'BANKS': 31, 'fundamentals': 30, 'Bureau': 30, 'Chase': 30, 'guaranteed': 30, 'wholesale': 30, 'attention': 30, 'importers': 30, 'GULF': 30, 'job': 30, 'Switzerland': 30, 'widespread': 30, 'cited': 30, 'CREDIT': 30, 'Export': 30, '134': 30, 'consortium': 30, 'INDUSTRIAL': 30, 'broker': 30, 'replace': 30, 'representative': 30, 'bales': 30, 'talking': 30, 'Public': 30, '217': 30, 'Assets': 30, '1991': 30, 'shut': 30, 'TAKEOVER': 30, 'carrying': 30, 'Santos': 30, 'Lloyds': 30, 'FARM': 30, 'wide': 30, 'annually': 30, 'slowed': 30, 'affecting': 30, 'repayment': 30, 'metals': 30, 'appear': 30, 'shipped': 30, 'putting': 30, 'lifted': 30, 'seemed': 30, 'IV': 30, 'Burlington': 30, 'faster': 30, 'Technology': 30, 'concluded': 30, 'transportation': 30, 'Gold': 30, 'crudes': 30, 'attractive': 30, 'Renault': 30, 'inflationary': 30, 'campaign': 30, 'rest': 30, 'great': 30, 'directly': 30, 'Zambia': 30, 'cheaper': 30, 'Argentine': 30, '139': 30, 'BE': 30, 'Egypt': 30, 'Airlines': 30, 'gives': 30, 'rally': 30, 'Viacom': 30, 'Marketing': 30, 'easing': 30, 'calculated': 30, 'Amoco': 30, 'comes': 30, 'alleged': 30, 'unions': 30, 'arrangements': 30, 'improving': 30, 'pounds': 30, 'reasons': 30, 'apparently': 30, 'depend': 30, 'Supply': 29, 'Power': 29, 'Algeria': 29, 'diluted': 29, 'addition': 29, 'Stores': 29, 'Budget': 29, 'severe': 29, 'sees': 29, 'Ohio': 29, 'favour': 29, '04': 29, '153': 29, 'stopped': 29, 'Cyacq': 29, 'Republican': 29, 'keeping': 29, 'care': 29, 'introduction': 29, 'attributed': 29, 'actively': 29, 'ChemLawn': 29, 'owners': 29, 'gap': 29, 'solution': 29, 'ton': 29, 'something': 29, 'widely': 29, 'Dallas': 29, 'often': 29, 'deals': 29, 'usually': 29, 'hoped': 29, 'octane': 29, 'SHARE': 29, 'Mark': 29, 'emergency': 29, 'fast': 29, 'meant': 29, 'suggest': 29, '205': 29, 'heavily': 29, 'officially': 29, 'participants': 29, 'extremely': 29, 'Great': 29, 'applied': 29, 'initiative': 29, 'purchasing': 29, '114': 29, 'finding': 29, 'Holding': 29, 'Turkish': 29, 'chip': 29, 'strikes': 29, 'objective': 29, 'mm': 29, 'falls': 29, 'behalf': 29, '224': 29, 'concerns': 29, 'unable': 28, 'dealing': 28, 'turned': 28, 'Bass': 28, 'Gencorp': 28, 'whole': 28, 'faced': 28, 'quarters': 28, 'BRAZIL': 28, 'PRODUCTION': 28, 'CURRENCY': 28, '213': 28, '313': 28, 'States': 28, 'MITI': 28, 'SUPPLY': 28, 'detailed': 28, 'apply': 28, 'tonight': 28, 'Asian': 28, '188': 28, 'Motors': 28, 'formula': 28, 'Supermarkets': 28, 'warrant': 28, 'appreciation': 28, 'complex': 28, 'linked': 28, 'Telecommunications': 28, 'Monetary': 28, 'amendment': 28, 'licences': 28, 'interim': 28, 'utility': 28, 'starts': 28, 'Oct': 28, 'flat': 28, 'ranging': 28, 'END': 28, 'tight': 28, 'managed': 28, 'Fujitsu': 28, 'responsible': 28, 'represented': 28, 'AS': 28, 'Los': 28, 'rapidly': 28, '124': 28, 'ordered': 28, 'sheet': 28, 'waters': 28, '1979': 28, '166': 28, 'registrations': 28, 'expensive': 28, 'Republic': 28, 'cable': 28, 'IBM': 28, 'self': 28, 'amounted': 28, 'coast': 28, 'suffered': 28, 'Imperial': 28, 'body': 28, 'COMPANY': 28, 'simply': 28, 'Michigan': 28, 'Stock': 28, 'respect': 28, 'Williams': 28, 'Wheat': 28, 'guarantee': 28, 'retained': 28, 'asking': 28, 'room': 28, 'MINISTER': 28, 'recommend': 28, 'failing': 28, 'missiles': 28, 'acting': 28, 'depending': 28, 'DEBT': 28, 'presented': 28, 'Bell': 28, 'Third': 28, 'obtain': 28, 'repeated': 28, 'uncertainty': 28, 'actually': 28, 'regarding': 28, 'trends': 28, 'computers': 28, 'semi': 27, 'USX': 27, 'slower': 27, 'dumping': 27, '195': 27, 'An': 27, 'success': 27, '181': 27, '03': 27, 'owner': 27, '174': 27, '02': 27, 'things': 27, 'branch': 27, 'bankruptcy': 27, 'swap': 27, 'Government': 27, 'platform': 27, 'flows': 27, 'outcome': 27, 'FUND': 27, 'auto': 27, 'network': 27, 'ACCORD': 27, '215': 27, 'Division': 27, 'agencies': 27, 'rainfall': 27, 'partially': 27, 'compete': 27, 'Pretax': 27, 'Nigeria': 27, 'signal': 27, 'Transport': 27, 'M3': 27, 'Jacobs': 27, 'Health': 27, 'strengthen': 27, 'Office': 27, 'Bankers': 27, '178': 27, 'eastern': 27, 'oilseeds': 27, 'deficits': 27, 'tonnage': 27, 'merge': 27, 'resolution': 27, 'community': 27, 'peak': 27, 'PRIME': 27, 'Middle': 27, '222': 27, 'halt': 27, 'draw': 27, 'exposure': 27, 'SA': 27, 'George': 27, 'advised': 27, 'reaching': 27, '121': 27, '248': 27, 'virtually': 27, '216': 27, 'Harper': 27, '280': 27, 'drive': 27, 'concerning': 27, '310': 27, 'congressional': 27, '245': 27, 'slight': 27, 'grown': 27, 'England': 26, 'Agreement': 26, 'zone': 26, 'machinery': 26, 'wait': 26, 'interview': 26, 'narrow': 26, 'intervened': 26, 'Fe': 26, 'SAVINGS': 26, 'CCC': 26, 'Corporation': 26, 'always': 26, 'TRADERS': 26, 'Dart': 26, 'promote': 26, 'X': 26, 'Peter': 26, 'written': 26, 'Portugal': 26, '316': 26, 'Other': 26, 'Hutton': 26, 'Video': 26, 'exchanges': 26, 'treatment': 26, 'engaged': 26, 'merchandise': 26, 'Marine': 26, 'BILL': 26, 'protectionism': 26, '08': 26, 'Two': 26, 'pointed': 26, 'POLICY': 26, '201': 26, 'PLANT': 26, 'Bahrain': 26, '257': 26, 'CURRENT': 26, 'organization': 26, 'file': 26, 'DATA': 26, '5p': 26, 'pursue': 26, 'Korean': 26, 'Fleet': 26, 'Yeutter': 26, 'labor': 26, 'cabinet': 26, 'protest': 26, '380': 26, 'profitability': 26, 'looks': 26, 'Mobil': 26, 'seem': 26, 'controlling': 26, 'Div': 26, 'MEETING': 26, 'uncertain': 26, 'relative': 26, 'INFLATION': 26, 'Iowa': 26, 'million': 26, 'mines': 26, 'vessel': 26, 'marked': 26, 'remove': 26, 'coins': 26, 'proceed': 26, 'sorghum': 26, 'indication': 26, 'discussion': 26, 'Act': 26, 'Daily': 26, 'rigs': 26, 'funding': 26, 'serve': 26, 'RAISE': 26, 'DOWN': 26, 'Congressional': 26, 'calling': 26, 'livestock': 26, 'idea': 26, 'competing': 25, 'row': 25, 'communique': 25, 'AGAINST': 25, 'experts': 25, '299': 25, 'seems': 25, 'officer': 25, 'High': 25, 'announce': 25, 'imbalances': 25, '182': 25, 'perhaps': 25, 'DIV': 25, 'Bond': 25, '218': 25, 'lowest': 25, 'suppliers': 25, '325': 25, 'radio': 25, 'sufficient': 25, 'changing': 25, 'SIX': 25, '355': 25, 'satisfied': 25, 'deadline': 25, 'textile': 25, 'represent': 25, 'Johnson': 25, '950': 25, 'traffic': 25, 'internal': 25, 'expenditures': 25, 'cheap': 25, 'Street': 25, 'Baldrige': 25, 'SMC': 25, 'tenders': 25, 'industrialised': 25, '191': 25, '420': 25, 'expense': 25, 'Technologies': 25, 'slowing': 25, 'guilder': 25, 'PROFITS': 25, 'appeal': 25, '235': 25, 'floating': 25, 'bullish': 25, 'portion': 25, 'retaliate': 25, '159': 25, 'jumped': 25, 'favorable': 25, 'normally': 25, 'encouraged': 25, 'FOREIGN': 25, 'lenders': 25, 'dairy': 25, '184': 25, 'County': 25, 'applications': 25, '460': 25, 'expire': 25, 'tanker': 25, 'maintaining': 25, 'twice': 25, 'sluggish': 25, 'PRODUCTS': 25, '850': 25, 'delivered': 25, 'lbs': 25, 'joined': 25, 'merged': 25, 'Futures': 25, 'meal': 25, 'Farm': 25, '315': 25, 'ranged': 25, 'west': 25, '286': 25, 'method': 25, 'defend': 25, 'AGREEMENT': 25, 'segment': 25, 'moisture': 25, '720': 25, 'drug': 25, 'speech': 24, 'Lake': 24, 'beans': 24, 'manufacturer': 24, 'plastics': 24, 'Tehran': 24, '237': 24, 'Valley': 24, 'branches': 24, 'withdraw': 24, '09': 24, '194': 24, 'PDVSA': 24, 'roughly': 24, 'ASSETS': 24, 'ITC': 24, 'differences': 24, '01': 24, 'SOUTH': 24, 'deficiency': 24, '625': 24, '158': 24, 'extensive': 24, 'my': 24, 'environment': 24, 'mills': 24, 'distributed': 24, 'disease': 24, 'TODAY': 24, 'FURTHER': 24, 'nor': 24, 'harvested': 24, '254': 24, 'reforms': 24, 'Chancellor': 24, 'Minerals': 24, 'intend': 24, 'supplied': 24, 'speculated': 24, 'fluctuations': 24, 'Federation': 24, 'trees': 24, 'worried': 24, '176': 24, 'notice': 24, 'station': 24, '131': 24, 'ground': 24, 'tea': 24, 'extent': 24, 'suspension': 24, 'aggressive': 24, 'consistent': 24, 'boosting': 24, 'link': 24, 'Banks': 24, 'heating': 24, 'Reed': 24, 'degrees': 24, 'gradually': 24, 'Edelman': 24, 'RESOURCES': 24, 'section': 24, 'FIVE': 24, 'indicators': 24, 'doesn': 24, 'deregulation': 24, 'temperatures': 24, 'begins': 24, 'surge': 24, 'cross': 24, 'lifting': 24, 'WORLD': 24, 'inadequate': 24, 'OFFERS': 24, 'lose': 24, 'UAL': 24, 'center': 24, 'abandoned': 24, 'maintained': 24, 'attributable': 24, 'Crazy': 24, 'Telephone': 24, '183': 24, 'listed': 24, 'procedures': 24, 'km': 24, 'concentrate': 24, 'proved': 24, '875': 24, 'Norwegian': 24, 'lumber': 24, 'downturn': 24, 'fees': 24, 'Revlon': 24, 'resist': 24, '212': 24, 'margin': 24, 'Aug': 24, 'DEAL': 24, 'cautious': 24, 'rival': 24, 'Deutsche': 24, 'iron': 24, 'Sealy': 24, 'compensate': 24, 'Parliament': 24, 'Long': 23, 'Frankfurt': 23, 'Domestic': 23, '347': 23, '527': 23, 'Enterprises': 23, '167': 23, 'worked': 23, 'REJECTS': 23, 'Charles': 23, 'matters': 23, '228': 23, '275': 23, 'adverse': 23, 'La': 23, '785': 23, '266': 23, 'stations': 23, 'LP': 23, 'RECORD': 23, 'enhance': 23, 'Far': 23, 'obtained': 23, 'eliminate': 23, 'apparent': 23, 'play': 23, 'IMPORT': 23, 'allocation': 23, 'breakdown': 23, 'Trading': 23, 'Aluminium': 23, 'divisions': 23, 'disposal': 23, 'Nov': 23, 'formerly': 23, 'INTERVENTION': 23, 'Venezuelan': 23, 'volumes': 23, 'complaint': 23, 'Interest': 23, 'Netherlands': 23, 'NATIONAL': 23, 'imbalance': 23, 'slide': 23, '334': 23, 'containing': 23, '116': 23, 'prove': 23, 'prompted': 23, 'solve': 23, 'investigation': 23, 'pushing': 23, 'Ferruzzi': 23, 'causing': 23, 'OFF': 23, 'ran': 23, 'corporations': 23, 'Poland': 23, 'mineral': 23, 'hand': 23, 'Northern': 23, 'resolved': 23, 'comprised': 23, 'standards': 23, '232': 23, 'allowance': 23, 'Interstate': 23, 'healthy': 23, 'TransCanada': 23, 'BOARD': 23, 'SOVIET': 23, '233': 23, 'midnight': 23, 'Trans': 23, 'RESULTS': 23, '294': 23, '),\"': 23, 'harvesting': 23, 'restricted': 23, 'criticism': 23, 'finished': 23, '241': 23, 'pledged': 23, '432': 23, 'informed': 23, 'Midland': 23, 'refiners': 23, 'CAPITAL': 23, 'authorised': 23, 'north': 23, 'comparable': 23, 'province': 23, 'pipelines': 23, 'restore': 23, 'STEEL': 23, '192': 23, '204': 23, 'views': 23, 'tire': 23, 'pick': 23, 'proven': 23, 'aim': 23, 'optimism': 23, 'textiles': 23, 'faces': 23, 'respond': 22, 'worst': 22, '258': 22, '545': 22, 'VENTURE': 22, 'stands': 22, 'flexible': 22, 'Director': 22, 'Wagner': 22, 'disputes': 22, 'Jersey': 22, 'UPS': 22, 'elected': 22, 'AMERICAN': 22, 'We': 22, 'vital': 22, 'container': 22, '273': 22, 'Rep': 22, '231': 22, 'Soviets': 22, 'rapeseed': 22, 'tried': 22, 'CASH': 22, 'attempts': 22, 'documents': 22, '585': 22, '472': 22, 'expires': 22, 'GETS': 22, 'Peking': 22, 'destroyed': 22, 'FINANCIAL': 22, 'Philippines': 22, 'physical': 22, 'spent': 22, 'takeovers': 22, 'averaging': 22, 'PURCHASE': 22, 'firmed': 22, 'instruments': 22, 'Iraqi': 22, 'P': 22, 'Southwest': 22, 'produces': 22, '508': 22, '242': 22, '172': 22, 'occurred': 22, '128': 22, 'STOCKS': 22, 'recommendations': 22, '285': 22, 'got': 22, 'intention': 22, 'corp': 22, 'Sumitomo': 22, 'acceptance': 22, 'broadly': 22, 'sure': 22, 'panel': 22, 'participate': 22, '206': 22, 'somewhat': 22, '171': 22, 'Toronto': 22, 'aggregate': 22, 'circulation': 22, 'coconut': 22, '162': 22, 'SEEKS': 22, 'soymeal': 22, 'receiving': 22, '510': 22, 'Becor': 22, 'maintenance': 22, 'Bangladesh': 22, 'deferred': 22, 'destinations': 22, 'Sri': 22, 'parliament': 22, 'runs': 22, 'correct': 22, 'cereals': 22, 'coupled': 22, '161': 22, 'hour': 22, 'draft': 22, 'bottom': 22, 'themselves': 22, 'customs': 22, 'institutional': 22, 'phase': 22, 'counter': 22, 'usage': 22, 'suffer': 22, 'climbed': 22, 'oppose': 22, 'city': 22, 'Oklahoma': 22, 'advances': 22, 'litigation': 22, 'flexibility': 22, 'acceptable': 22, 'System': 22, 'SAY': 22, 'Coastal': 22, 'formally': 22, 'delegate': 22, 'facing': 22, 'influence': 22, 'SHARPLY': 22, 'balanced': 22, 'purpose': 22, '251': 22, '462': 22, 'settled': 22, 'convert': 21, '247': 21, 'tobacco': 21, 'diplomatic': 21, 'UNITS': 21, 'Luxembourg': 21, 'Strait': 21, 'It': 21, 'cooperate': 21, 'foster': 21, 'incurred': 21, '2ND': 21, 'ENDS': 21, 'Jardine': 21, 'CBT': 21, 'lawmakers': 21, 'Kenya': 21, 'URGES': 21, 'EXPECTS': 21, 'presence': 21, 'UNION': 21, 'BUSINESS': 21, 'Lehman': 21, 'Uruguay': 21, 'publicly': 21, 'MINE': 21, '530': 21, '163': 21, 'compensation': 21, 'US': 21, 'GAIN': 21, 'incentive': 21, 'schedule': 21, 'Waste': 21, 'Dow': 21, 'Affairs': 21, 'spend': 21, 'homes': 21, 'Five': 21, 'Bill': 21, 'SOLD': 21, 'handling': 21, '198': 21, 'methods': 21, 'Miller': 21, 'sulphur': 21, 'convinced': 21, 'Cos': 21, 'balances': 21, 'THE': 21, 'grant': 21, 'IBC': 21, 'Natural': 21, 'distributor': 21, 'noting': 21, 'content': 21, 'announcing': 21, 'USAIR': 21, 'WEST': 21, 'targeted': 21, 'PACIFIC': 21, '390': 21, 'willingness': 21, 'badly': 21, 'Norstar': 21, 'STILL': 21, 'implement': 21, '374': 21, 'ventures': 21, 'IS': 21, 'advisory': 21, 'burden': 21, 'Alaska': 21, 'retaliatory': 21, 'Salomon': 21, 'turning': 21, 'Clark': 21, 'drawn': 21, 'your': 21, 'efficiency': 21, 'exporter': 21, 'rebates': 21, 'flour': 21, 'Schlumberger': 21, 'strengthening': 21, 'indicator': 21, 'arranged': 21, 'missile': 21, 'difference': 21, 'RULES': 21, 'chances': 21, 'acknowledged': 21, 'managing': 21, 'personnel': 21, '271': 21, 'wood': 21, 'Currency': 21, 'merchant': 21, '1978': 21, 'Manhattan': 21, '419': 21, 'Pioneer': 21, 'Ontario': 21, '243': 21, 'microchips': 21, 'standard': 21, 'item': 21, 'allocated': 21, '193': 21, 'curbs': 21, 'timing': 21, 'SYSTEM': 21, 'explore': 21, '517': 21, 'speaking': 21, 'regions': 21, 'Organisation': 21, 'termination': 21, 'loading': 21, 'battle': 21, 'drain': 21, 'AGREES': 21, 'adopt': 21, 'hands': 21, 'Citibank': 21, 'Quebec': 21, 'ferry': 21, 'aware': 21, 'clients': 21, 'returns': 20, 'COCOA': 20, 'institutes': 20, 'drawing': 20, 'liability': 20, 'predict': 20, '784': 20, 'wages': 20, 'CHINA': 20, '238': 20, 'Cominco': 20, 'Entertainment': 20, 'There': 20, 'consultations': 20, 'dependence': 20, 'NIL': 20, 'black': 20, 'ASA': 20, '223': 20, '487': 20, 'Rev': 20, 'Rio': 20, 'electric': 20, 'save': 20, '580': 20, '760': 20, 'DEALERS': 20, 'mergers': 20, 'Investors': 20, '3rd': 20, 'freeze': 20, 'interbank': 20, '370': 20, 'projections': 20, 'Reynolds': 20, 'DOT': 20, 'Prudential': 20, '329': 20, 'float': 20, '177': 20, 'No': 20, 'receipt': 20, '337': 20, 'settle': 20, 'controversial': 20, 'cooperative': 20, 'structural': 20, 'white': 20, 'reviewing': 20, 'Generale': 20, 'GM': 20, 'social': 20, 'realized': 20, 'frozen': 20, 'closure': 20, 'Brown': 20, 'Broadcasting': 20, 'Greek': 20, 'oper': 20, 'converted': 20, 'Market': 20, 'Rotterdam': 20, 'damages': 20, '309': 20, 'invested': 20, '410': 20, '640': 20, 'warning': 20, 'Honeywell': 20, 'proxy': 20, 'Cooper': 20, 'Amstutz': 20, 'determination': 20, 'petition': 20, 'resigned': 20, 'pro': 20, 'thing': 20, 'drill': 20, 'Governor': 20, 'fight': 20, 'extra': 20, 'expired': 20, '203': 20, 'launch': 20, 'Drexel': 20, 'recovered': 20, 'hotels': 20, 'Foods': 20, 'Metal': 20, 'governor': 20, 'BHP': 20, 'employed': 20, 'team': 20, 'Bolivia': 20, 'urging': 20, 'Manufacturers': 20, 'revaluation': 20, 'Rubber': 20, 'restructure': 20, 'Donald': 20, 'El': 20, 'Diamond': 20, 'Qatar': 20, 'NV': 20, 'workforce': 20, 'conflict': 20, 'severance': 20, 'supports': 20, 'productivity': 20, 'carrier': 20, 'inflow': 20, 'eligible': 20, 'Virginia': 20, 'powers': 20, 'becoming': 20, '421': 20, 'users': 20, 'journalists': 20, 'reluctant': 20, 'steadily': 20, 'replied': 20, 'Atlanta': 20, 'type': 20, 'trades': 20, 'cereal': 20, 'ISSUE': 20, 'assume': 20, 'looked': 20, 'automotive': 20, 'critical': 20, 'advisers': 20, 'card': 20, 'INRA': 20, 'Comdata': 20, 'Lee': 20, '660': 20, 'Americans': 20, 'qualified': 20, 'tightening': 20, 'prompt': 20, 'Engineering': 20, 'risks': 20, '515': 20, 'weaker': 20, 'Gross': 20, 'nuclear': 20, 'speed': 20, 'civil': 20, '345': 20, 'slump': 20, 'excluded': 20, '978': 19, '1992': 19, 'disaster': 19, '295': 19, '289': 19, 'Light': 19, 'SOYBEAN': 19, 'Progressive': 19, 'UNCHANGED': 19, 'Minneapolis': 19, 'Harris': 19, 'awaiting': 19, 'attacked': 19, 'Brothers': 19, 'sense': 19, 'Manufacturing': 19, 'Mississippi': 19, 'secure': 19, '208': 19, '362': 19, 'headquarters': 19, 'industrialized': 19, 'partial': 19, 'experience': 19, 'Bally': 19, 'SHR': 19, 'devaluation': 19, 'completely': 19, 'tests': 19, 'elsewhere': 19, 'obtaining': 19, 'Equity': 19, '219': 19, 'confirmation': 19, 'subsequent': 19, 'trip': 19, 'tighten': 19, 'mixed': 19, 'Deputy': 19, 'SOME': 19, 'aide': 19, 'FORECAST': 19, 'Soybean': 19, 'advantage': 19, 'bidder': 19, 'Thomas': 19, 'brings': 19, 'PC': 19, 'Cie': 19, 'tension': 19, 'Phillips': 19, 'manufactured': 19, 'FOB': 19, 'Denmark': 19, 'Hongkong': 19, 'easier': 19, 'ITS': 19, 'books': 19, '209': 19, 'MANAGEMENT': 19, 'indications': 19, 'core': 19, 'BUYING': 19, 'commented': 19, '725': 19, 'summit': 19, 'relating': 19, '287': 19, 'newspapers': 19, 'prevailing': 19, 'Basin': 19, 'STORES': 19, 'MAIZE': 19, 'petrochemical': 19, 'LOAN': 19, 'county': 19, 'outlined': 19, 'brand': 19, '369': 19, 'writedowns': 19, 'Henley': 19, '376': 19, 'exceeded': 19, 'centers': 19, 'emerge': 19, 'concessions': 19, 'autumn': 19, 'upper': 19, '960': 19, 'measured': 19, 'consent': 19, 'Monier': 19, 'communications': 19, 'attend': 19, '528': 19, '187': 19, 'island': 19, 'halted': 19, 'pacts': 19, 'Alberta': 19, 'exact': 19, 'Pesch': 19, 'sells': 19, '189': 19, '202': 19, 'purposes': 19, '646': 19, '341': 19, 'delegations': 19, 'affiliated': 19, 'naval': 19, 'platinum': 19, 'prospect': 19, 'address': 19, '256': 19, 'restaurants': 19, 'PROPOSAL': 19, 'restrict': 19, 'Defense': 19, 'fundamental': 19, 'succeed': 19, 'Shamrock': 19, 'temporarily': 19, 'injunction': 19, '179': 19, 'guidelines': 19, 'provisionally': 19, 'load': 19, '277': 19, 'hrs': 19, 'LDP': 19, 'delays': 19, 'favor': 19, 'Sterling': 19, 'voluntary': 19, 'Newmont': 19, 'negotiators': 19, 'site': 19, 'sound': 19, 'differential': 19, 'Buenos': 19, 'fleet': 19, 'permanent': 19, 'ongoing': 19, 'delegation': 19, '252': 19, 'engine': 19, 'premiums': 19, 'boards': 19, 'PRT': 19, '293': 19, 'amid': 19, 'Columbia': 19, '196': 19, '......': 19, 'Sears': 19, '333': 19, 'approached': 19, 'decreased': 19, 'window': 19, '387': 19, 'space': 19, 'In': 18, 'MAR': 18, 'al': 18, 'Tire': 18, '296': 18, 'Current': 18, 'pattern': 18, 'Three': 18, 'courier': 18, '896': 18, 'FED': 18, 'QTLY': 18, 'origin': 18, 'studying': 18, 'adviser': 18, 'ACTION': 18, '249': 18, '695': 18, '435': 18, 'pump': 18, 'generate': 18, 'payout': 18, 'sharing': 18, 'CGCT': 18, 'comply': 18, 'resistance': 18, 'arm': 18, 'doubt': 18, 'slipped': 18, 'EXPECTED': 18, 'insider': 18, '384': 18, 'fats': 18, 'manufactures': 18, 'QUARTERLY': 18, 'red': 18, 'solid': 18, 'institute': 18, 'Authority': 18, 'grounds': 18, '469': 18, 'contact': 18, 'Angeles': 18, 'Occidental': 18, 'sort': 18, 'withdrawal': 18, 'band': 18, 'adoption': 18, 'MARKETS': 18, 'discussing': 18, 'mortgages': 18, '211': 18, '274': 18, '221': 18, 'Venice': 18, 'Bay': 18, 'registration': 18, 'feedgrains': 18, '726': 18, 'else': 18, '318': 18, 'subsidized': 18, 'discounted': 18, 'Yugoslavia': 18, 'Electronics': 18, 'Elders': 18, 'struck': 18, 'chain': 18, '236': 18, '197': 18, '391': 18, 'terminated': 18, '255': 18, '499': 18, 'Jordan': 18, 'Minnesota': 18, 'decree': 18, '392': 18, 'questions': 18, 'Indiana': 18, 'GERMAN': 18, 'Montreal': 18, 'entirely': 18, 'underground': 18, 'Emery': 18, 'Dauster': 18, 'Utah': 18, 'negotiated': 18, 'HOLDINGS': 18, 'divided': 18, 'essential': 18, 'narrowed': 18, '602': 18, 'difficulty': 18, 'conducted': 18, 'Campeau': 18, '261': 18, 'Planning': 18, 'LPG': 18, '446': 18, 'blamed': 18, 'waste': 18, 'factory': 18, 'administrative': 18, 'proportion': 18, 'Sen': 18, 'Wilson': 18, 'safety': 18, 'packaging': 18, 'Wendy': 18, 'FUTURES': 18, 'INCREASE': 18, 'CHANGES': 18, 'Mideast': 18, 'Star': 18, 'FIRMS': 18, 'Liberty': 18, 'trigger': 18, 'implemented': 18, 'Democratic': 18, 'traditionally': 18, 'Hudson': 18, 'poultry': 18, 'Dean': 18, '738': 18, 'Heller': 18, 'Delaware': 18, 'defence': 18, 'organisation': 18, 'Ghana': 18, 'elections': 18, '840': 18, 'lows': 18, 'explained': 18, 'border': 18, 'LIKELY': 18, 'publishing': 18, 'surprised': 18, 'unspecified': 18, 'Howard': 18, 'feasibility': 18, 'individuals': 18, 'violations': 18, '455': 18, 'beneficial': 18, 'quick': 18, 'losing': 18, 'USA': 18, '614': 18, '689': 18, 'expecting': 18, '229': 18, 'belief': 18, 'proceedings': 18, \">'\": 18, 'trillion': 18, 'happy': 18, 'vehicles': 18, '490': 18, 'urge': 18, 'Hanson': 18, 'creditor': 18, '199': 18, 'handle': 18, 'criticised': 18, 'OPERATIONS': 18, '302': 18, 'secured': 18, 'send': 18, 'pass': 18, 'identified': 17, 'marginal': 17, 'volatility': 17, 'Carl': 17, 'assuming': 17, 'M0': 17, 'reality': 17, 'hotel': 17, 'medical': 17, '304': 17, 'assumed': 17, 'miners': 17, 'thousand': 17, 'spur': 17, 'Pennsylvania': 17, '292': 17, 'Sir': 17, 'considers': 17, 'Miyazawa': 17, 'relationship': 17, 'Domes': 17, 'JAPANESE': 17, 'Petro': 17, 'Ivory': 17, '501': 17, 'consensus': 17, 'underway': 17, 'placement': 17, 'orange': 17, 'TRUST': 17, 'Siemens': 17, 'promised': 17, 'compares': 17, 'AFG': 17, 'nervous': 17, 'contingent': 17, 'bit': 17, 'OVER': 17, 'soared': 17, 'extending': 17, '244': 17, 'APPROVES': 17, 'petrol': 17, 'discounts': 17, '319': 17, 'd': 17, 'Policy': 17, 'stem': 17, 'studies': 17, 'consolidation': 17, 'tell': 17, '234': 17, '276': 17, '653': 17, 'DROP': 17, 'Qtr': 17, 'desire': 17, 'Unilever': 17, 'aggressively': 17, '440': 17, '485': 17, 'depth': 17, 'sides': 17, 'Mr': 17, 'defensive': 17, 'metres': 17, 'Bull': 17, '418': 17, 'Israel': 17, 'OILS': 17, 'ECONOMIC': 17, 'front': 17, 'Dominion': 17, 'ENERGY': 17, 'citing': 17, 'Goldman': 17, '603': 17, '379': 17, 'Network': 17, '226': 17, 'Cuba': 17, '630': 17, '07': 17, 'leaves': 17, 'PARIS': 17, 'kwacha': 17, 'equally': 17, 'importance': 17, '312': 17, 'stakes': 17, 'serves': 17, 'Pennzoil': 17, 'diversified': 17, 'BANCORP': 17, '548': 17, 'IC': 17, 'minus': 17, 'contracted': 17, 'Ttl': 17, 'Extraordinary': 17, 'debit': 17, 'HIGH': 17, 'happen': 17, 'BIDS': 17, 'FRENCH': 17, 'DECEMBER': 17, 'adjust': 17, 'Final': 17, 'REPORTS': 17, 'trouble': 17, 'pressing': 17, 'contain': 17, 'indirect': 17, 'brief': 17, '403': 17, '470': 17, 'Delhi': 17, '305': 17, '267': 17, 'Uganda': 17, 'Transportation': 17, 'implementation': 17, 'otherwise': 17, 'generated': 17, 'strengthened': 17, 'expiration': 17, 'valid': 17, 'politically': 17, 'surprise': 17, '368': 17, 'jump': 17, 'crown': 17, '870': 17, '747': 17, 'practice': 17, 'elimination': 17, 'foreigners': 17, 'Warburg': 17, 'aims': 17, 'indicates': 17, 'dependent': 17, 'requiring': 17, 'heads': 17, 'Colombian': 17, 'blocks': 17, '952': 17, 'Delta': 17, 'centre': 17, 'INDUSTRY': 17, 'Shultz': 17, 'permitted': 17, 'repeatedly': 17, 'deterioration': 17, 'stance': 17, 'Strategic': 17, 'Champion': 17, '328': 17, 'attending': 17, 'railway': 17, 'Geneva': 17, '534': 17, 'Saudis': 17, 'hoping': 17, '393': 17, 'priority': 17, 'importer': 17, 'Redstone': 17, 'Irving': 17, '301': 17, 'criteria': 17, '388': 17, 'EPAC': 17, '498': 17, 'Motor': 17, '494': 17, 'coverage': 17, '507': 17, 'PIK': 17, 'yielding': 17, 'crucial': 17, 'dates': 17, 'triggered': 17, 'evaluate': 16, 'calm': 16, 'Hungary': 16, 'conditioned': 16, 'drilled': 16, 'MAJOR': 16, 'pumping': 16, 'replaced': 16, 'SEE': 16, '397': 16, 'employs': 16, 'react': 16, 'firmer': 16, '321': 16, 'amounting': 16, 'DEMAND': 16, 'Guinness': 16, '2000': 16, 'OPER': 16, '474': 16, 'bearish': 16, 'entry': 16, 'GENERAL': 16, 'Mths': 16, '777': 16, 'propane': 16, 'entitled': 16, 'exercisable': 16, 'degree': 16, 'depended': 16, 'didn': 16, 'amended': 16, 'Mine': 16, 'railroad': 16, 'warships': 16, 'rig': 16, 'TMOC': 16, 'TAKES': 16, 'De': 16, 'defined': 16, 'informal': 16, 'Dividend': 16, 'illegal': 16, 'Zimbabwe': 16, 'CONSUMER': 16, '371': 16, '465': 16, 'mechanism': 16, 'eliminated': 16, 'CENTRAL': 16, 'TARGET': 16, 'Cargill': 16, 'adversely': 16, 'danger': 16, 'Cathay': 16, 'Shanghai': 16, '692': 16, 'utilities': 16, 'Jose': 16, 'COULD': 16, 'ends': 16, 'excellent': 16, 'fewer': 16, 'Chile': 16, 'comprising': 16, 'match': 16, 'GE': 16, '358': 16, 'concentrated': 16, 'prevented': 16, 'default': 16, 'introduce': 16, 'sellers': 16, '623': 16, 'numbers': 16, 'CONTROL': 16, '317': 16, '386': 16, 'advisor': 16, 'GCC': 16, 'II': 16, '279': 16, 'shortages': 16, 'Douglas': 16, 'Telecom': 16, 'friction': 16, '610': 16, 'transferred': 16, 'ABOUT': 16, 'Mortgage': 16, '278': 16, 'Portland': 16, 'Island': 16, 'lawsuit': 16, 'Georgia': 16, 'Ecuadorean': 16, 'settlements': 16, 'reply': 16, 'MHI': 16, 'Control': 16, 'impossible': 16, 'concrete': 16, 'attracted': 16, '297': 16, 'Cocoa': 16, 'separately': 16, 'Price': 16, 'Average': 16, 'Edward': 16, 'appointed': 16, 'BONUS': 16, 'PROPERTIES': 16, 'rebate': 16, 'Democrat': 16, 'INVESTMENT': 16, 'goals': 16, '970': 16, '284': 16, 'Pre': 16, 'gone': 16, 'compliance': 16, 'submit': 16, 'vehicle': 16, 'decides': 16, 'backing': 16, 'Party': 16, 'Justice': 16, 'sunflower': 16, 'stockpile': 16, 'protected': 16, 'multilateral': 16, 'disclose': 16, 'availability': 16, 'Fort': 16, 'buys': 16, 'me': 16, 'stabilisation': 16, 'Woolworth': 16, 'forcing': 16, '912': 16, '732': 16, 'Unit': 16, 'Properties': 16, 'STRIKE': 16, 'climate': 16, 'allows': 16, 'entities': 16, 'quantities': 16, 'University': 16, 'animal': 16, 'persuade': 16, 'ACQUIRES': 16, 'easily': 16, '477': 16, '2nd': 16, '536': 16, 'amendments': 16, 'DETAILS': 16, 'arms': 16, 'midday': 16, 'dropping': 16, 'yearly': 16, 'considerably': 16, 'win': 16, 'Dayton': 16, 'award': 16, 'disputed': 16, 'exclusive': 16, 'Copper': 16, 'Mutual': 16, 'Center': 16, 'exchanged': 16, '344': 16, 'cleared': 16, 'COTTON': 16, 'deputy': 16, 'objections': 16, 'Alcan': 16, 'suspend': 16, 'CD': 16, 'deep': 16, 'WAR': 16, '920': 16, 'steep': 16, 'bidders': 16, '641': 16, '664': 16, 'Northwest': 16, '575': 16, 'BIL': 16, '253': 16, '718': 16, 'widened': 16, 'costly': 16, '520': 16, '928': 16, 'minerals': 16, 'Ronald': 16, '323': 16, 'RUBBER': 16, 'RICE': 16, 'improvements': 16, 'Charter': 16, '214': 16, '377': 16, 'linking': 16, '186': 16, '609': 16, '542': 16, 'affairs': 16, 'coordination': 16, '349': 16, 'video': 16, 'Jim': 16, 'Costa': 16, '675': 16, '576': 16, 'Norcros': 16, 'whom': 15, '752': 15, 'Stoltenberg': 15, 'WESTERN': 15, 'reviewed': 15, 'COMPUTER': 15, 'STARTS': 15, 'rumours': 15, 'smelting': 15, '688': 15, '356': 15, 'Aerospace': 15, 'replacement': 15, 'membership': 15, 'And': 15, 'unusually': 15, 'SOYBEANS': 15, 'emphasis': 15, 'totaling': 15, 'EXTENDS': 15, '872': 15, '488': 15, 'Al': 15, 'neutral': 15, 'Van': 15, 'continental': 15, 'redeem': 15, '615': 15, 'usual': 15, 'fine': 15, 'parliamentary': 15, 'Ministers': 15, 'prepare': 15, 'SGL': 15, 'responded': 15, 'HELP': 15, 'remainder': 15, 'dinars': 15, 'Colorado': 15, 'COMPLETES': 15, 'pretty': 15, 'monitoring': 15, 'withdrew': 15, '540': 15, 'residents': 15, 'consuming': 15, 'Seven': 15, 'riyal': 15, 'WHITE': 15, 'EST': 15, 'oilseed': 15, '968': 15, '437': 15, 'truck': 15, 'example': 15, 'AIR': 15, 'Earnings': 15, 'Shares': 15, 'Chirac': 15, 'aside': 15, 'ICC': 15, 'exchangeable': 15, '442': 15, 'ACCOUNT': 15, 'Ford': 15, 'Pty': 15, 'spell': 15, '830': 15, 'AWB': 15, 'All': 15, 'ANNUAL': 15, 'Glickman': 15, 'earthquake': 15, 'Moore': 15, 'Investments': 15, 'borrowers': 15, 'OPEN': 15, 'Daniel': 15, 'claim': 15, 'intentions': 15, '264': 15, '467': 15, 'referring': 15, 'Information': 15, 'INc': 15, 'acre': 15, '552': 15, 'promising': 15, 'exceeding': 15, 'HEAVY': 15, 'troubled': 15, '722': 15, '632': 15, 'Chevron': 15, 'invited': 15, 'accident': 15, 'sessions': 15, 'Economics': 15, 'motor': 15, '327': 15, '764': 15, 'Chapter': 15, 'CLOSE': 15, 'dismissed': 15, 'switch': 15, 'processed': 15, 'foot': 15, 'Hanover': 15, '361': 15, 'whatever': 15, 'resumed': 15, 'confirm': 15, 'retailer': 15, 'permits': 15, 'participating': 15, 'stick': 15, 'issuing': 15, 'ties': 15, 'lay': 15, '606': 15, 'heart': 15, 'Plaza': 15, '282': 15, 'Block': 15, 'variety': 15, 'involves': 15, 'oilfield': 15, 'arrival': 15, 'severely': 15, 'TIN': 15, 'volatile': 15, 'supporting': 15, 'Statoil': 15, '523': 15, 'par': 15, 'accelerate': 15, '788': 15, 'Esso': 15, 'promptly': 15, 'BUDGET': 15, '394': 15, 'slowdown': 15, 'broadcasting': 15, 'liberalisation': 15, '778': 15, 'repayments': 15, 'accords': 15, 'reopen': 15, 'discovery': 15, 'COPPER': 15, 'feared': 15, '481': 15, 'threaten': 15, 'definitely': 15, '608': 15, 'scope': 15, 'successfully': 15, 'lawsuits': 15, 'Vice': 15, 'repay': 15, 'Noranda': 15, 'implications': 15, '831': 15, 'affiliates': 15, 'Baird': 15, 'reject': 15, 'document': 15, 'Samjens': 15, 'MTS': 15, 'merely': 15, 'BankAmerica': 15, 'PAY': 15, 'sensitive': 15, 'sets': 15, 'insufficient': 15, '919': 15, 'antitrust': 15, 'AID': 15, '562': 15, 'picture': 15, 'lowering': 15, 'Executive': 15, 'permission': 15, 'Hoechst': 15, 'unanimously': 15, 'understood': 15, 'Dynamics': 15, 'Miguel': 15, 'secondary': 15, 'Mart': 15, 'maturity': 15, '050': 15, 'Mitsui': 15, '855': 15, 'Meat': 15, 'barge': 15, 'WANTS': 15, '246': 15, 'assumption': 15, 'argue': 15, 'Seoul': 15, 'declaration': 15, '381': 15, 'Mills': 15, 'regulators': 15, 'accumulated': 15, 'Helmut': 15, 'predictions': 15, '666': 15, 'mutual': 15, 'Social': 15, 'Societe': 15, '951': 15, 'UNEMPLOYMENT': 15, 'Alan': 15, 'notably': 15, 'Labour': 15, '555': 15, 'Lucky': 15, '551': 15, 'monitor': 15, 'Manila': 15, 'haven': 15, 'Chamber': 15, 'uses': 15, '564': 15, 'Goodyear': 15, 'KLM': 15, 'unavailable': 15, '616': 15, 'violated': 15, 'winds': 15, 'gallons': 15, 'TVX': 15, 'highs': 15, 'harder': 15, 'Maryland': 15, 'Distillers': 15, 'entity': 15, 'involve': 15, 'DOLLARS': 15, 'Encor': 15, 'contains': 15, 'RIGHTS': 15, 'served': 15, 'SUBSIDIARY': 15, 'English': 15, 'friendly': 15, 'PROPOSES': 15, 'Stanley': 15, 'carefully': 15, 'Scott': 15, '372': 15, 'pulp': 15, 'Connecticut': 15, 'unsolicited': 14, '961': 14, '852': 14, 'drafting': 14, 'contacts': 14, 'becomes': 14, 'Henry': 14, 'FEDERAL': 14, 'Share': 14, 'Program': 14, 'importing': 14, 'inspection': 14, 'fifth': 14, 'PETROLEUM': 14, 'firming': 14, '457': 14, 'TONNES': 14, '373': 14, '346': 14, '808': 14, '745': 14, 'advise': 14, 'yr': 14, 'CYCLOPS': 14, 'breaking': 14, 'entering': 14, '572': 14, '454': 14, 'BOND': 14, 'flooding': 14, '353': 14, '207': 14, '879': 14, '895': 14, 'hot': 14, 'institution': 14, '955': 14, 'LOW': 14, 'credibility': 14, 'pleased': 14, 'debtor': 14, '438': 14, '492': 14, 'AMERICA': 14, 'Trump': 14, 'Post': 14, 'conservation': 14, 'discovered': 14, 'negotiation': 14, 'ALUMINIUM': 14, 'servicing': 14, 'completing': 14, 'Richfield': 14, 'Jones': 14, 'unsuccessful': 14, 'lobby': 14, 'argument': 14, 'Time': 14, 'FELL': 14, 'telling': 14, 'deliver': 14, 'AM': 14, 'mounting': 14, 'employee': 14, '348': 14, '521': 14, '503': 14, 'spirits': 14, 'buyback': 14, 'posting': 14, 'sweet': 14, 'presently': 14, 'postponed': 14, 'proposing': 14, '336': 14, '239': 14, 'consists': 14, 'competitors': 14, '342': 14, '629': 14, '269': 14, 'backlog': 14, 'gulf': 14, 'CALLS': 14, 'Guaranty': 14, 'CONTINUE': 14, 'ex': 14, 'Dan': 14, 'consequences': 14, 'responding': 14, 'thousands': 14, 'understanding': 14, 'CHAIRMAN': 14, '366': 14, 'yuan': 14, 'explosion': 14, 'integration': 14, 'Capel': 14, 'agent': 14, 'hundreds': 14, 'reversal': 14, 'interior': 14, 'bolivars': 14, 'grams': 14, '560': 14, 'green': 14, '398': 14, '649': 14, '553': 14, 'TAKE': 14, 'tied': 14, '7p': 14, '311': 14, 'Vienna': 14, 'REVISED': 14, 'STATE': 14, 'lend': 14, 'Burnham': 14, 'privatisation': 14, 'sustain': 14, 'Mitsubishi': 14, 'waterway': 14, '483': 14, 'Supreme': 14, '756': 14, 'inch': 14, 'Companies': 14, 'Nova': 14, '598': 14, '429': 14, '680': 14, 'productive': 14, 'coupon': 14, 'river': 14, 'Free': 14, '263': 14, 'sown': 14, 'Southmark': 14, '717': 14, '543': 14, 'Brussels': 14, 'Wang': 14, 'MAKES': 14, 'bound': 14, '404': 14, '413': 14, 'preparing': 14, 'caution': 14, 'Primary': 14, 'API': 14, 'emerged': 14, '556': 14, 'unadjusted': 14, 'intermediate': 14, 'locations': 14, 'stabilizing': 14, 'specialist': 14, 'borrow': 14, 'potentially': 14, 'basically': 14, 'competitor': 14, 'harm': 14, 'Brands': 14, 'preserve': 14, '456': 14, 'killed': 14, '538': 14, 'INCREASES': 14, 'TRADING': 14, '478': 14, '706': 14, 'Philips': 14, 'Southland': 14, 'argued': 14, 'saturated': 14, 'CALL': 14, '464': 14, '338': 14, 'Corn': 14, 'Eddie': 14, 'Universal': 14, '690': 14, '1993': 14, 'passenger': 14, 'limiting': 14, 'worse': 14, 'bear': 14, '578': 14, '941': 14, '283': 14, 'design': 14, 'Carbide': 14, 'HALF': 14, 'combat': 14, 'meets': 14, 'Dominican': 14, 'provinces': 14, 'planes': 14, 'King': 14, 'demanded': 14, 'damaging': 14, 'Ivorian': 14, 'buoyant': 14, '516': 14, '620': 14, 'conclude': 14, 'farms': 14, '628': 14, 'integrated': 14, 'necessarily': 14, 'spin': 14, 'Boliden': 14, '493': 14, 'rail': 14, 'feels': 14, 'efficient': 14, '591': 14, 'basket': 14, 'Golden': 14, 'PaineWebber': 14, 'arrange': 14, 'Danish': 14, 'riyals': 14, 'blocked': 14, 'Series': 14, 'hole': 14, 'GAO': 14, '686': 14, 'Port': 14, '622': 14, 'Lewis': 14, 'events': 14, 'momentum': 14, '307': 14, 'upturn': 14, 'vulnerable': 14, 'Ward': 14, 'projection': 14, 'Finland': 14, 'Westinghouse': 14, 'swaps': 14, 'domestically': 14, 'RETAIL': 14, '511': 14, 'Myers': 14, '227': 14, 'Tanzania': 14, 'Philadelphia': 14, 'Celanese': 14, 'UCPB': 14, 'keen': 14, '417': 14, '563': 14, '382': 14, 'tendering': 14, 'Ireland': 14, 'proceeding': 14, 'stress': 14, 'edge': 14, 'track': 14, 'mentioned': 13, 'farming': 13, 'Cotton': 13, 'Conservative': 13, '408': 13, 'focused': 13, 'Rainbow': 13, 'FORECASTS': 13, 'processors': 13, 'answer': 13, 'Laboratories': 13, 'STRONG': 13, 'CONTRACT': 13, 'upcoming': 13, 'maybe': 13, 'drastic': 13, 'clearing': 13, 'AFRICAN': 13, 'RESEARCH': 13, 'Missouri': 13, '565': 13, 'et': 13, 'Backlog': 13, 'Producers': 13, '734': 13, 'sites': 13, '475': 13, 'household': 13, 'routes': 13, 'Conrac': 13, '326': 13, 'register': 13, 'AFRICA': 13, 'Sudan': 13, 'HOME': 13, 'GENCORP': 13, 'Queensland': 13, 'ATPC': 13, 'principle': 13, 'CITY': 13, 'edible': 13, 'Silver': 13, 'disappointing': 13, 'welcome': 13, 'Sumita': 13, 'Land': 13, 'category': 13, 'consulting': 13, 'FTC': 13, 'Henderson': 13, 'stabilising': 13, 'evaluation': 13, 'leadership': 13, 'Conable': 13, 'QUOTA': 13, 'rallied': 13, 'Hill': 13, 'diplomat': 13, 'ultimately': 13, 'multi': 13, '412': 13, '954': 13, '332': 13, 'sustained': 13, 'Partnership': 13, 'apparel': 13, 'capable': 13, 'WTI': 13, 'Centers': 13, 'HAVE': 13, 'AUSTRALIAN': 13, 'CONFIRMS': 13, '871': 13, '378': 13, '441': 13, '584': 13, 'Qtrly': 13, '766': 13, 'fired': 13, 'Arabian': 13, 'PORT': 13, 'happened': 13, 'closer': 13, 'cartel': 13, '055': 13, 'disposition': 13, 'coin': 13, 'broader': 13, 'records': 13, 'expectation': 13, 'formation': 13, '062': 13, '773': 13, '626': 13, '933': 13, 'Montedison': 13, 'acted': 13, 'determining': 13, 'SERVICES': 13, '339': 13, 'holder': 13, 'arising': 13, '549': 13, 'Vancouver': 13, 'surface': 13, 'consist': 13, '409': 13, 'challenge': 13, 'accused': 13, 'MTHS': 13, '597': 13, 'widening': 13, 'regard': 13, 'Organization': 13, '799': 13, 'freedom': 13, '533': 13, '473': 13, '868': 13, '705': 13, '489': 13, 'supplier': 13, 'surrounding': 13, 'AVERAGE': 13, 'PER': 13, 'REFINERY': 13, 'Red': 13, '819': 13, 'bearing': 13, 'sea': 13, 'hike': 13, 'removal': 13, 'Lanka': 13, 'NA': 13, '992': 13, '352': 13, '428': 13, '.)': 13, 'jungle': 13, 'bases': 13, 'yards': 13, 'conditional': 13, 'realistic': 13, '612': 13, 'creating': 13, 'binding': 13, 'diversify': 13, 'search': 13, 'onto': 13, '815': 13, 'Media': 13, 'respective': 13, 'Kenneth': 13, 'influences': 13, 'whites': 13, 'thinking': 13, '909': 13, '522': 13, 'fuels': 13, 'restrictive': 13, 'sparked': 13, 'IDC': 13, 'liquid': 13, '729': 13, 'prospective': 13, '980': 13, 'MINING': 13, 'Bear': 13, 'economically': 13, 'SERVICE': 13, 'fill': 13, 'history': 13, 'Limited': 13, 'Fidelity': 13, '445': 13, '306': 13, 'beer': 13, '678': 13, 'outflow': 13, 'Brunswick': 13, 'Line': 13, 'forecasting': 13, '383': 13, 'PUROLATOR': 13, 'residual': 13, 'middle': 13, '559': 13, '405': 13, 'Petrobras': 13, 'installations': 13, 'COURT': 13, 'HE': 13, 'slowly': 13, 'rated': 13, 'STUDY': 13, 'cautioned': 13, '422': 13, '262': 13, '367': 13, '525': 13, 'licensing': 13, 'Aires': 13, 'NORTH': 13, '841': 13, 'scrap': 13, 'FOURTH': 13, 'license': 13, 'sixth': 13, 'aggregates': 13, 'UNLIKELY': 13, 'kilo': 13, 'slack': 13, '385': 13, 'restraint': 13, 'fish': 13, 'stored': 13, 'Yugoslav': 13, 'warm': 13, 'farmer': 13, 'Simon': 13, 'maturing': 13, 'Walker': 13, 'requests': 13, 'Walter': 13, 'constant': 13, 'NATURAL': 13, 'pesetas': 13, 'fit': 13, 'Marshall': 13, 'strict': 13, 'juice': 13, 'attempted': 13, 'doubled': 13, 'suitable': 13, '459': 13, 'depends': 13, '570': 13, 'instrument': 13, 'claimed': 13, 'aspects': 13, 'probable': 13, 'auditors': 13, 'electrical': 13, '..': 13, 'Tom': 13, 'Roberts': 13, '820': 13, 'testing': 13, 'yearend': 13, 'Carolina': 13, 'Heyman': 13, '308': 13, 'pays': 13, 'diesel': 13, 'Defence': 13, '364': 13, 'Herald': 13, 'alleges': 13, 'PAPER': 13, 'attract': 13, 'Hamburg': 13, 'Metals': 13, 'nature': 13, 'Railway': 13, '546': 13, '925': 13, '619': 13, 'turnaround': 13, 'dead': 13, 'inquiries': 13, 'AUSTRALIA': 13, 'ASCS': 13, 'rural': 13, 'helping': 13, 'suggests': 13, 'Heavy': 13, 'Southeast': 13, 'LIFE': 13, 'cutbacks': 13, 'choice': 13, 'Boeing': 13, 'Kidder': 13, 'UND': 13, 'Sprint': 13, 'Gabelli': 12, '541': 12, 'Austria': 12, 'ACQUIRE': 12, 'Snyder': 12, 'Cenergy': 12, '699': 12, '359': 12, 'super': 12, 'arbitrageur': 12, 'supermarket': 12, 'This': 12, 'Ali': 12, 'Herrington': 12, 'uranium': 12, '.>': 12, 'Courier': 12, 'purchasers': 12, '303': 12, '605': 12, 'exercised': 12, '924': 12, '838': 12, '739': 12, '865': 12, 'aerospace': 12, '967': 12, '914': 12, '476': 12, '826': 12, 'injection': 12, '741': 12, '452': 12, 'person': 12, 'challenges': 12, 'broadcast': 12, 'ATT': 12, 'Polish': 12, 'terminals': 12, 'exploratory': 12, 'writeoff': 12, 'Bancshares': 12, '070': 12, 'MEDICAL': 12, 'links': 12, 'Rexnord': 12, 'Resorts': 12, 'Denver': 12, 'specialists': 12, 'likelihood': 12, 'neither': 12, 'flag': 12, '888': 12, 'comparison': 12, 'Princeville': 12, 'Warner': 12, 'Hernandez': 12, 'markedly': 12, '867': 12, '281': 12, 'defended': 12, 'elements': 12, 'cancelled': 12, 'acid': 12, 'UK': 12, 'marines': 12, 'leaded': 12, 'MONTHS': 12, '509': 12, 'Trailways': 12, 'forms': 12, 'airport': 12, 'UNDER': 12, '568': 12, '737': 12, '860': 12, '712': 12, 'Heritage': 12, 'Pillsbury': 12, 'Quaker': 12, 'RISING': 12, 'environmental': 12, 'removed': 12, 'votes': 12, 'temporao': 12, 'disclosure': 12, 'financed': 12, '644': 12, 'retailing': 12, 'Pratt': 12, 'V': 12, 'visible': 12, 'outright': 12, 'Workers': 12, '453': 12, '667': 12, 'Wisconsin': 12, '3p': 12, 'afford': 12, '767': 12, 'denominated': 12, 'injured': 12, 'underwriters': 12, '466': 12, '754': 12, 'Cooperation': 12, 'ECONOMY': 12, 'consecutive': 12, 'explanation': 12, 'zones': 12, 'platforms': 12, '458': 12, 'am': 12, 'Loan': 12, '918': 12, '577': 12, 'LOSSES': 12, 'Philip': 12, 'Morris': 12, 'mind': 12, 'DESPITE': 12, 'discoveries': 12, 'VW': 12, 'ENDED': 12, 'Du': 12, 'pence': 12, '930': 12, 'education': 12, '753': 12, '030': 12, 'foundation': 12, 'Chemicals': 12, 'SEEK': 12, 'Ottawa': 12, 'undervalued': 12, 'Oppenheimer': 12, 'counsel': 12, 'refiner': 12, '588': 12, 'arbitrage': 12, '995': 12, 'elect': 12, 'upwards': 12, 'MERGE': 12, 'DECLINES': 12, 'Hutchison': 12, 'satisfy': 12, 'true': 12, 'TOMORROW': 12, 'Democrats': 12, 'coordinate': 12, 'Period': 12, '656': 12, 'waiver': 12, 'footwear': 12, '502': 12, '911': 12, 'Yield': 12, 'HIT': 12, 'Customs': 12, '658': 12, 'Banque': 12, '890': 12, '439': 12, 'unknown': 12, 'fat': 12, 'Reuter': 12, 'plantations': 12, 'media': 12, '637': 12, 'imminent': 12, 'reserved': 12, 'topped': 12, '268': 12, 'onshore': 12, '985': 12, 'obvious': 12, 'DEVELOPMENT': 12, 'Investor': 12, 'Reebok': 12, 'Midwest': 12, 'Phelps': 12, 'restored': 12, 'regularly': 12, 'ANALYSTS': 12, 'Venture': 12, 'lots': 12, 'passage': 12, '742': 12, 'convince': 12, 'BARLEY': 12, 'quantity': 12, 'article': 12, 'distribute': 12, 'bodies': 12, 'maintains': 12, 'threatening': 12, 'Triton': 12, '863': 12, 'reviews': 12, 'incoming': 12, 'message': 12, 'REGULAR': 12, '354': 12, '617': 12, 'junior': 12, 'Dairy': 12, 'shall': 12, '959': 12, 'valuation': 12, 'selected': 12, 'van': 12, 'standstill': 12, 'broken': 12, 'Cash': 12, '790': 12, 'INT': 12, 'JOINT': 12, '463': 12, 'utilization': 12, '798': 12, 'OUTLOOK': 12, 'gets': 12, 'Oregon': 12, '818': 12, 'Feed': 12, '877': 12, '433': 12, 'comprehensive': 12, 'route': 12, '504': 12, '365': 12, 'unprofitable': 12, '847': 12, 'PALM': 12, 'assessment': 12, '272': 12, '651': 12, '407': 12, 'Commerzbank': 12, 'shifting': 12, 'continuous': 12, 'oats': 12, 'Gordon': 12, 'careful': 12, '755': 12, 'Colonial': 12, 'reduces': 12, 'wider': 12, 'papers': 12, 'men': 12, 'boom': 12, 'tone': 12, 'objectives': 12, 'connected': 12, '291': 12, 'exception': 12, 'Presidential': 12, 'supplying': 12, 'Lines': 12, 'electricity': 12, 'spirit': 12, 'exist': 12, 'Baltic': 12, 'retailers': 12, 'train': 12, 'judge': 12, 'Ways': 12, '451': 12, '043': 12, '957': 12, 'conservative': 12, '670': 12, '697': 12, 'wind': 12, 'assistant': 12, '780': 12, '414': 12, 'confidential': 12, 'giant': 12, 'postings': 12, '057': 12, 'FOOD': 12, 'recognition': 12, 'Cetus': 12, 'Aluminum': 12, 'ECU': 12, 'count': 12, 'assure': 12, 'Champlin': 12, '567': 12, 'Coconut': 12, 'LATEST': 12, 'Peabody': 12, 'avert': 12, 'hog': 12, 'slaughter': 12, 'ALL': 12, '969': 12, 'franchise': 12, 'dwt': 12, 'INVESTORS': 12, 'Pizza': 12, 'INSURANCE': 12, 'depletion': 12, 'centres': 12, 'assigned': 12, '322': 12, 'dinar': 12, 'enterprises': 12, '514': 12, '449': 12, 'motion': 12, '529': 12, 'Europeans': 12, '993': 12, 'Gelco': 12, 'maximize': 12, 'syndicate': 12, '633': 12, '011': 12, 'shutdown': 12, 'Apr': 12, '639': 12, '631': 12, '590': 12, '791': 12, '324': 12, 'concerted': 12, '929': 12, 'Kaiser': 12, '964': 12, '607': 12, '351': 12, 'milk': 12, 'Over': 12, 'arrived': 12, 'owed': 12, '889': 12, 'popular': 12, '864': 12, '448': 12, 'covers': 12, 'contributions': 12, '401': 12, 'allies': 12, 'renegotiation': 12, 'Man': 12, '537': 12, 'redundancies': 12, 'tool': 12, 'voiced': 12, 'choose': 12, 'roasters': 12, 'charging': 12, 'pharmaceutical': 12, 'Carter': 11, 'DUTCH': 11, '834': 11, 'lb': 11, 'categories': 11, 'financially': 11, 'ALGERIA': 11, '731': 11, '982': 11, 'Safeway': 11, 'DOME': 11, 't': 11, 'implementing': 11, 'tentative': 11, 'manage': 11, 'BOOSTS': 11, 'Jeffrey': 11, 'Barney': 11, 'LOANS': 11, 'JUNE': 11, '298': 11, 'To': 11, 'committees': 11, 'switched': 11, 'Congressmen': 11, '495': 11, '005': 11, 'decade': 11, 'dated': 11, '506': 11, 'Today': 11, '793': 11, '479': 11, 'Nevada': 11, 'indirectly': 11, 'distance': 11, 'Mediterranean': 11, 'DISTRIBUTION': 11, 'copra': 11, 'TOKYO': 11, 'Audio': 11, '910': 11, 'procedure': 11, 'agenda': 11, '887': 11, 'gradual': 11, 'northeast': 11, 'understand': 11, 'feeling': 11, 'Pentagon': 11, 'Printing': 11, 'principles': 11, 'restraints': 11, 'ideas': 11, 'speculators': 11, 'FREE': 11, 'pegged': 11, 'Redland': 11, 'identify': 11, 'packages': 11, '406': 11, 'Rank': 11, 'kingdom': 11, 'floated': 11, 'GMT': 11, 'BASE': 11, 'worry': 11, '434': 11, 'THIS': 11, 'Jacques': 11, 'doubts': 11, 'Czarnikow': 11, '711': 11, 'heading': 11, 'Donaldson': 11, 'jet': 11, 'Semiconductor': 11, 'privatised': 11, '802': 11, 'shared': 11, 'seeks': 11, '444': 11, 'Profit': 11, 'timber': 11, 'Alabama': 11, 'Bob': 11, 'INTO': 11, 'maturities': 11, 'indefinitely': 11, 'Clayton': 11, 'Consumer': 11, '636': 11, 'nickel': 11, 'Scientific': 11, 'bag': 11, 'meters': 11, 'Day': 11, '998': 11, 'DUE': 11, '824': 11, 'Commonwealth': 11, 'CHARGE': 11, 'UAE': 11, '2p': 11, '804': 11, 'significance': 11, 'panic': 11, '587': 11, 'RMJ': 11, 'worker': 11, 'directed': 11, 'ETL': 11, 'belt': 11, 'mile': 11, 'Ind': 11, 'Television': 11, 'Leasing': 11, 'assist': 11, '671': 11, '936': 11, 'owning': 11, 'mild': 11, 'inevitable': 11, 'kilos': 11, 'Aviation': 11, '842': 11, '782': 11, 'Lawrence': 11, 'complained': 11, 'constitute': 11, 'imposing': 11, 'REDUCES': 11, 'polled': 11, 'SOON': 11, 'Income': 11, '996': 11, 'door': 11, '314': 11, '947': 11, '665': 11, '443': 11, '702': 11, 'manufacture': 11, 'Sachs': 11, '948': 11, 'NYMEX': 11, 'heard': 11, 'Mountain': 11, 'BUFFER': 11, 'seeing': 11, 'someone': 11, 'accelerated': 11, 'TEXAS': 11, 'violation': 11, '415': 11, '659': 11, 'doubted': 11, 'MOVES': 11, 'DAY': 11, 'raws': 11, 'accordance': 11, 'structured': 11, 'Beef': 11, 'disrupt': 11, 'briefing': 11, 'leases': 11, 'rental': 11, 'AGREE': 11, 'licence': 11, 'disappointed': 11, 'testimony': 11, 'headquartered': 11, 'conduct': 11, '9p': 11, 'climb': 11, 'STABILITY': 11, 'roubles': 11, 'living': 11, 'finally': 11, 'closures': 11, '594': 11, '827': 11, 'travel': 11, 'Horizon': 11, 'Dakota': 11, 'envisaged': 11, 'POSSIBLE': 11, 'annualised': 11, 'attached': 11, 'collapsed': 11, 'judgment': 11, 'reacted': 11, 'withdrawn': 11, 'factories': 11, '977': 11, '714': 11, 'Victor': 11, 'taxation': 11, 'bushel': 11, 'weighted': 11, 'signup': 11, '645': 11, 'examine': 11, 'northwest': 11, 'Watanabe': 11, 'Taiwanese': 11, '486': 11, '849': 11, 'generic': 11, 'Sullivan': 11, '0p': 11, '561': 11, 'cities': 11, 'salary': 11, 'Four': 11, 'underwritten': 11, 'residential': 11, 'Witter': 11, 'Times': 11, '673': 11, '416': 11, 'snow': 11, 'PARTNERS': 11, 'escort': 11, 'regulation': 11, 'minor': 11, 'carries': 11, 'police': 11, 'Abdul': 11, 'bar': 11, 'SHIPS': 11, 'airlines': 11, 'Rica': 11, 'returning': 11, 'wish': 11, 'presentation': 11, 'uncertainties': 11, '770': 11, 'language': 11, '956': 11, 'Building': 11, 'violating': 11, 'NEED': 11, 'Pantera': 11, '810': 11, 'SLOW': 11, 'Subcommittee': 11, 'Perelman': 11, 'CHANGE': 11, '730': 11, '836': 11, '926': 11, 'Husky': 11, 'EUROPE': 11, 'experienced': 11, 'emerging': 11, 'fixing': 11, 'fishing': 11, 'crushing': 11, '064': 11, 'FLORIDA': 11, 'sugarcane': 11, 'ministerial': 11, 'wrong': 11, 'smelters': 11, 'crush': 11, 'Commissioner': 11, 'dipped': 11, 'advice': 11, '759': 11, 'distributors': 11, 'Telegraph': 11, '574': 11, '532': 11, 'POWER': 11, 'attitude': 11, 'aided': 11, 'issuance': 11, 'Tool': 11, 'accrued': 11, 'storm': 11, 'dominant': 11, 'quiet': 11, 'doors': 11, 'VOTE': 11, 'GTE': 11, '854': 11, 'APPROVED': 11, 'worries': 11, 'TV': 11, '728': 11, 'Bombay': 11, 'earning': 11, 'man': 11, 'comparisons': 11, 'authorization': 11, 'NETWORK': 11, 'Orange': 11, '965': 11, '....': 11, 'tactics': 11, 'War': 11, 'wet': 11, 'PUBLIC': 11, 'CHIEF': 11, 'WARNS': 11, 'laboratory': 11, 'transmission': 11, 'fed': 11, 'Kay': 11, 'federation': 11, 'urgent': 11, '592': 11, 'Zurich': 11, 'joining': 11, '736': 11, 'virtual': 11, '596': 11, '851': 11, 'Pan': 11, 'exceptional': 11, '839': 11, 'signing': 11, 'repairs': 11, 'dealings': 11, 'ought': 11, '883': 11, 'regain': 11, 'Nino': 11, 'wouldn': 11, 'AROUND': 11, 'JWT': 11, 'Fiji': 11, 'resolving': 11, 'resort': 11, 'Algerian': 11, 'Compagnie': 11, 'pressed': 11, 'SHORT': 11, 'Transco': 11, 'Greyhound': 11, 'allocations': 11, 'DIVISION': 11, 'launching': 11, '059': 11, 'fob': 11, 'Silkworm': 11, '805': 11, 'writeoffs': 11, 'Refining': 11, 'flood': 11, 'LAST': 11, '687': 11, 'SHOW': 11, 'Frank': 11, 'revise': 11, 'Pipeline': 11, 'bullion': 11, 'carriers': 11, 'Rose': 11, 'Premier': 11, 'declare': 11, 'peso': 11, 'enforcement': 11, 'Diagnostic': 11, '014': 11, 'HOLD': 11, 'unusual': 11, 'talked': 11, '652': 11, 'reversed': 11, 'Dar': 11, 'Mexican': 11, 'harvests': 11, 'Zaire': 11, 'kg': 11, 'RKO': 11, 'wave': 11, 'ones': 11, 'presidential': 11, 'mission': 11, 'stockbrokers': 11, 'Cruz': 11, 'Calmat': 11, 'Nil': 11, '.-': 10, 'Livestock': 10, 'Holmes': 10, '669': 10, 'GSM': 10, 'inflows': 10, 'heat': 10, 'MINES': 10, 'prefer': 10, '940': 10, 'SHEARSON': 10, 'spinoff': 10, 'tallow': 10, '719': 10, 'WEATHER': 10, 'Joint': 10, '558': 10, 'Huckaby': 10, 'associate': 10, '677': 10, 'STATES': 10, 'consisting': 10, 'Economy': 10, 'Darman': 10, 'Tenneco': 10, 'licenses': 10, 'Qintex': 10, 'purchaser': 10, 'greatest': 10, 'butter': 10, 'suffering': 10, 'OPENS': 10, '402': 10, 'They': 10, 'veto': 10, 'Davis': 10, 'Clevite': 10, 'bridge': 10, 'Conoco': 10, 'Utilities': 10, 'As': 10, 'successive': 10, 'Jr': 10, 'COSTS': 10, 'YORK': 10, 'That': 10, 'FRANCE': 10, 'abide': 10, 'Brusca': 10, '496': 10, 'revs': 10, 'Ortner': 10, 'minutes': 10, 'MARKETING': 10, 'Heinz': 10, 'carryforward': 10, 'gathering': 10, 'Cardenas': 10, 'Growers': 10, 'played': 10, '794': 10, 'story': 10, 'properly': 10, 'HURT': 10, 'Corporate': 10, 'conventional': 10, '042': 10, '642': 10, 'sum': 10, 'Romania': 10, '045': 10, 'Suharto': 10, 'striking': 10, 'commerce': 10, '897': 10, 'ISSUES': 10, 'word': 10, 'Pork': 10, 'hogs': 10, 'NEC': 10, 'TAFT': 10, '335': 10, 'unrelated': 10, 'succeeded': 10, 'PANEL': 10, 'marine': 10, 'driving': 10, 'unnamed': 10, 'Honduras': 10, 'TELECOM': 10, 'Plus': 10, 'location': 10, 'excessively': 10, 'Fisher': 10, 'Creek': 10, 'exchequer': 10, 'jobless': 10, '601': 10, 'RESERVE': 10, 'Pont': 10, '833': 10, '966': 10, 'totally': 10, 'und': 10, 'Brian': 10, 'downwards': 10, 'Equipment': 10, 'STANDARD': 10, 'MONTHLY': 10, 'SWISS': 10, 'upland': 10, 'watch': 10, 'Fortune': 10, 'specifically': 10, 'Interior': 10, 'Eight': 10, 'intent': 10, 'AMI': 10, 'OR': 10, 'SANTA': 10, 'suggestions': 10, 'Sprinkel': 10, '775': 10, 'ourselves': 10, 'TOO': 10, 'Puerto': 10, 'Rico': 10, 'forma': 10, 'Club': 10, '809': 10, 'clothing': 10, 'automobile': 10, '915': 10, 'bonuses': 10, 'Schlesinger': 10, 'version': 10, 'Carling': 10, 'Victoria': 10, '837': 10, 'seller': 10, 'OUT': 10, 'auctions': 10, '010': 10, 'fiber': 10, 'PL': 10, '593': 10, 'GOOD': 10, 'GASOLINE': 10, 'booked': 10, 'Realty': 10, 'shipbuilding': 10, 'EARLY': 10, 'Ocean': 10, 'lies': 10, 'durable': 10, 'inject': 10, 'trapped': 10, 'Libya': 10, 'LICENCES': 10, '906': 10, 'Uccel': 10, '806': 10, 'lasting': 10, 'handled': 10, 'Nebraska': 10, '835': 10, '019': 10, 'Lukman': 10, 'Citgo': 10, 'EXPORTERS': 10, 'Allis': 10, 'guesses': 10, 'AUCTION': 10, 'poison': 10, '411': 10, '901': 10, '008': 10, '288': 10, 'protecting': 10, 'swing': 10, '829': 10, 'Stewart': 10, 'Bancroft': 10, 'salvage': 10, 'precious': 10, '765': 10, 'preventing': 10, 'benchmark': 10, 'supervisory': 10, '816': 10, 'Don': 10, 'Sao': 10, '6p': 10, 'GOVERNMENT': 10, 'Lloyd': 10, '518': 10, 'PREFERRED': 10, '917': 10, 'Mercantile': 10, 'depress': 10, '676': 10, 'Guardian': 10, 'applies': 10, 'bigger': 10, 'McCarthy': 10, 'sudden': 10, 'Louis': 10, '976': 10, 'DIVIDENDS': 10, 'EUROPEAN': 10, 'IRAN': 10, 'undersecretary': 10, 'Major': 10, 'bureau': 10, 'rolled': 10, 'absorb': 10, 'Freight': 10, 'protein': 10, 'clauses': 10, 'rich': 10, 'Edmonton': 10, 'du': 10, 'MEAT': 10, 'PSBR': 10, 'Ryan': 10, '740': 10, 'Kleinwort': 10, 'divestiture': 10, '935': 10, ').\"': 10, 'deny': 10, 'fix': 10, '657': 10, 'roll': 10, 'crash': 10, 'Berlin': 10, 'Metex': 10, 'accurate': 10, 'debenture': 10, '988': 10, '884': 10, 'ADJUSTED': 10, 'Grace': 10, '535': 10, 'sponsored': 10, 'EIGHT': 10, 'venezuela': 10, 'Patrick': 10, '557': 10, 'signals': 10, 'Cross': 10, 'suits': 10, 'NPPC': 10, 'DIW': 10, 'advantages': 10, 'DENIES': 10, 'FCOJ': 10, '655': 10, 'coarse': 10, 'pharmaceuticals': 10, 'wary': 10, 'rebound': 10, 'unrest': 10, 'Barclays': 10, 'Allen': 10, 'BALANCE': 10, 'redemption': 10, 'yielded': 10, 'bread': 10, 'winterkill': 10, 'contrary': 10, 'Weinberger': 10, 'responsibility': 10, 'sticking': 10, 'COARSE': 10, 'BOOST': 10, 'evaluating': 10, 'clearance': 10, '859': 10, '843': 10, 'Bruce': 10, 'Hall': 10, 'ZCCM': 10, 'Materials': 10, '482': 10, 'opens': 10, 'Horner': 10, 'Lane': 10, '916': 10, '331': 10, 'sweetened': 10, 'Kodak': 10, 'Willy': 10, 'Worldwide': 10, 'existence': 10, 'automatically': 10, 'stimulating': 10, 'Wickes': 10, 'TERM': 10, 'assess': 10, 'Owens': 10, 'suggesting': 10, 'Utilicorp': 10, 'procurement': 10, 'oriented': 10, '885': 10, 'SUPPORT': 10, 'Cement': 10, 'Symbion': 10, '727': 10, 'everything': 10, 'PRODUCERS': 10, '468': 10, 'constraints': 10, 'Francaise': 10, 'restructured': 10, '1976': 10, 'Press': 10, 'postpone': 10, 'establishing': 10, 'SHIP': 10, 'UNC': 10, 'KOREA': 10, 'PAYMENTS': 10, 'surged': 10, 'fail': 10, 'reluctance': 10, 'prolonged': 10, 'START': 10, 'x': 10, 'Banco': 9, 'BPI': 9, '539': 9, '036': 9, 'Chang': 9, 'superior': 9, 'UNITED': 9, 'He': 9, 'Mueller': 9, '571': 9, '491': 9, 'SPECIAL': 9, 'chartered': 9, 'Minn': 9, 'locals': 9, 'COMMUNICATIONS': 9, 'About': 9, 'Anglo': 9, '774': 9, '938': 9, 'barring': 9, '921': 9, 'For': 9, 'BAKER': 9, 'NCR': 9, 'TAIWAN': 9, 'Banner': 9, 'CHEMICAL': 9, 'Gobert': 9, 'Ariadne': 9, 'Y': 9, 'HOUSING': 9, 'Construction': 9, 'AGAIN': 9, 'Rostenkowski': 9, 'VOTES': 9, 'del': 9, 'Rosario': 9, 'Keating': 9, 'LOUVRE': 9, 'explain': 9, 'Allegis': 9, 'Placer': 9, 'Jakarta': 9, 'economics': 9, 'Short': 9, 'Xerox': 9, '624': 9, 'realize': 9, 'Swire': 9, 'Hillards': 9, 'acceptances': 9, 'Bilzerian': 9, 'liquidation': 9, 'Overseas': 9, '471': 9, '683': 9, 'WTC': 9, 'SUPERMARKETS': 9, '040': 9, '613': 9, 'Revenue': 9, 'FOUR': 9, 'des': 9, '017': 9, 'LIFTS': 9, 'tighter': 9, 'COLOMBIA': 9, 'Representative': 9, 'SEEKING': 9, 'Sorghum': 9, 'III': 9, 'grading': 9, 'assays': 9, 'SEA': 9, 'SAUDI': 9, 'HIKE': 9, 'corresponding': 9, 'BRITISH': 9, 'divest': 9, '710': 9, 'Audi': 9, 'Mulroney': 9, 'achieving': 9, '881': 9, '099': 9, 'FOODS': 9, 'With': 9, 'Markets': 9, 'Spencer': 9, 'Proxmire': 9, 'CATTLE': 9, 'VIDEO': 9, 'ST': 9, 'SHIPPING': 9, 'baht': 9, '001': 9, 'switching': 9, 'peaked': 9, 'Mannesmann': 9, 'conclusion': 9, 'colleagues': 9, 'Schmidt': 9, 'commenting': 9, 'Nazer': 9, 'avg': 9, 'establishment': 9, '002': 9, 'liquids': 9, 'Karl': 9, 'CPI': 9, 'alloy': 9, 'Parent': 9, 'transfers': 9, 'enhancement': 9, 'closes': 9, 'hedge': 9, 'ATTACK': 9, 'Robin': 9, 'Kingdom': 9, 'road': 9, 'unleaded': 9, 'Pickens': 9, 'Sloane': 9, 'USE': 9, 'HEALTH': 9, '586': 9, 'strictly': 9, 'Roach': 9, 'microchip': 9, 'ROW': 9, 'BEEF': 9, 'Stearns': 9, 'COUNCIL': 9, 'Navy': 9, '037': 9, '937': 9, 'Shipping': 9, 'Northeast': 9, 'Sims': 9, 'MEET': 9, 'Balladur': 9, 'BBLS': 9, '990': 9, 'COMMENT': 9, 'couple': 9, 'troops': 9, 'slash': 9, 'useful': 9, 'SEPT': 9, 'People': 9, 'Heineken': 9, 'Magma': 9, 'table': 9, 'interesting': 9, 'Real': 9, 'plunged': 9, 'MUST': 9, '813': 9, '028': 9, 'framework': 9, 'arranging': 9, 'Toshiba': 9, 'Tamura': 9, 'Calny': 9, 'visited': 9, 'film': 9, 'Black': 9, 'repurchases': 9, 'MARK': 9, 'embassy': 9, 'Metropolitan': 9, 'Roger': 9, '035': 9, 'magazine': 9, 'Tunisia': 9, 'SANCTIONS': 9, 'Brent': 9, '090': 9, 'doubtful': 9, 'Mellon': 9, '789': 9, 'alter': 9, 'reopening': 9, 'GAP': 9, 'ICI': 9, '003': 9, '922': 9, 'Trail': 9, 'shifts': 9, 'WAITING': 9, 'citrus': 9, 'distributes': 9, 'administrator': 9, '781': 9, 'CFTC': 9, 'Olson': 9, 'bauxite': 9, 'SECOND': 9, 'Xuto': 9, 'Subroto': 9, 'Durham': 9, 'BORG': 9, 'charter': 9, '817': 9, 'Corning': 9, '913': 9, '934': 9, '807': 9, 'Holden': 9, '095': 9, 'ACQUISITIONS': 9, 'Insured': 9, 'Perry': 9, '063': 9, '744': 9, 'wine': 9, 'Brace': 9, 'COMMERCIAL': 9, 'examining': 9, 'machine': 9, '902': 9, 'renewal': 9, 'PIPELINE': 9, 'Romero': 9, 'MCA': 9, 'shillings': 9, 'Stone': 9, 'Arizona': 9, 'Carson': 9, 'reliance': 9, 'ITT': 9, 'CROPS': 9, 'fluctuation': 9, '743': 9, '006': 9, 'inability': 9, 'Bayou': 9, 'Term': 8, 'scandal': 8, 'Any': 8, 'By': 8, 'If': 8, 'CRA': 8, '751': 8, 'Matheson': 8, 'Sweet': 8, 'Sheikh': 8, 'EXPRESS': 8, 'Second': 8, 'Weather': 8, 'Non': 8, 'Traders': 8, 'Bache': 8, 'Francisco': 8, 'ALLIED': 8, 'FNV': 8, 'LATE': 8, 'At': 8, 'Alusuisse': 8, 'Mthly': 8, 'INDEX': 8, 'naphtha': 8, 'ECUS': 8, 'ELECTRIC': 8, 'Payable': 8, 'SECRETARY': 8, '078': 8, 'M1': 8, 'shelf': 8, 'boxes': 8, 'AGENCY': 8, 'EFFECTIVE': 8, 'southwest': 8, 'ECUADOR': 8, 'District': 8, 'Aegean': 8, '1970s': 8, 'Undersecretary': 8, 'repair': 8, '983': 8, 'lawyers': 8, 'quoting': 8, 'COMMON': 8, 'Gardner': 8, 'Aramco': 8, 'FSB': 8, 'SOUTHERN': 8, 'century': 8, 'quake': 8, 'BRAZILIAN': 8, 'bbl': 8, 'OTHER': 8, 'Lambert': 8, 'Tin': 8, 'ELECTRONICS': 8, 'Periods': 8, 'hectare': 8, 'FRANCS': 8, 'cif': 8, 'Maekawa': 8, 'Morocco': 8, 'POINT': 8, 'CAESARS': 8, 'Liberal': 8, 'Bangemann': 8, 'Lindner': 8, '007': 8, 'BEGINS': 8, 'Full': 8, 'HOLDING': 8, '963': 8, '031': 8, 'Oman': 8, 'compensated': 8, 'latter': 8, 'REALTY': 8, 'BASF': 8, 'Evans': 8, 'CHRYSLER': 8, 'Leigh': 8, 'Senior': 8, 'Plan': 8, '075': 8, 'Dudley': 8, 'ATLANTIC': 8, 'Refined': 8, 'EDT': 8, 'ALLEGHENY': 8, 'Commodities': 8, 'unemployed': 8, 'Per': 8, 'Sharp': 8, '046': 8, 'Islands': 8, 'Coal': 8, 'LITTLE': 8, 'BETTER': 8, 'Carney': 8, 'undertaken': 8, 'organizations': 8, 'Narragansett': 8, 'BELOW': 8, 'LOWERS': 8, 'Higher': 8, 'AGO': 8, 'CURRENCIES': 8, 'SUMITA': 8, 'Maxwell': 8, 'Merchants': 8, 'milling': 8, 'Pte': 8, 'Cordoba': 8, 'CIF': 8, 'CP': 8, 'TOTAL': 8, 'regret': 8, '068': 8, 'SECURITY': 8, 'Avana': 8, 'honor': 8, 'developer': 8, 'brackets': 8, 'ORANGE': 8, 'YR': 8, 'performing': 8, 'STERLING': 8, 'Combined': 8, 'VALLEY': 8, 'gallon': 8, 'Hotel': 8, 'attended': 8, 'millions': 8, 'powerful': 8, 'Crosby': 8, 'Fargo': 8, 'SpA': 8, 'PORK': 8, 'bulletin': 8, 'fluctuate': 8, 'ARGENTINE': 8, 'Is': 8, '627': 8, 'mth': 8, 'Farmers': 8, 'crushers': 8, 'Lear': 8, 'durum': 8, 'ISO': 8, '958': 8, 'anticipates': 8, 'Quest': 8, 'BANKING': 8, '091': 8, 'PURCHASES': 8, 'works': 8, 'TransAmerican': 8, '904': 8, 'KEY': 8, 'sized': 8, '461': 8, 'es': 8, 'Speaker': 8, 'Lex': 8, 'PIEDMONT': 8, 'Adsteam': 8, 'WOR': 8, 'cocoas': 8, 'appealed': 8, 'r': 8, 'Care': 7, 'parallel': 7, 'Lower': 7, 'ASSOCIATES': 7, 'But': 7, 'Unocal': 7, 'Reichhold': 7, 'TREASURY': 7, 'Bra': 7, 'outflows': 7, 'CYACQ': 7, 'resale': 7, 'Danforth': 7, 'Deposit': 7, 'Erbynn': 7, 'INITIAL': 7, 'Stephen': 7, 'Merchant': 7, 'stoppage': 7, 'Beach': 7, 'Money': 7, 'Seipp': 7, 'CBI': 7, 'DISPUTE': 7, 'INCOME': 7, 'REBATE': 7, 'specify': 7, 'IEA': 7, 'Results': 7, 'ANNOUNCES': 7, 'Officials': 7, 'appreciate': 7, 'LENDING': 7, 'ARCO': 7, '979': 7, 'SHAREHOLDERS': 7, 'APPROVE': 7, 'rating': 7, 'Westminster': 7, 'Nomura': 7, 'speculate': 7, 'Gaviria': 7, 'stages': 7, 'Sanford': 7, 'Margoshes': 7, 'Lombard': 7, 'detail': 7, 'CHEMLAWN': 7, 'ACQUIRED': 7, 'offsetting': 7, 'CABLE': 7, 'moment': 7, 'SPANISH': 7, 'restraining': 7, 'minorities': 7, 'On': 7, 'MM': 7, 'repaid': 7, 'tentatively': 7, 'FUNDS': 7, 'FE': 7, 'ICN': 7, 'REAGAN': 7, 'OFFERED': 7, 'McIvor': 7, 'Chartered': 7, 'Calif': 7, 'Channel': 7, 'mention': 7, 'DISCOUNT': 7, 'EGYPT': 7, 'Andriessen': 7, 'Appropriations': 7, 'TEMPORARY': 7, 'll': 7, 'Dodge': 7, 'BAT': 7, 'Clercq': 7, 'OCT': 7, 'HARPER': 7, 'governors': 7, 'ASSISTANCE': 7, 'NINE': 7, 'Rothschild': 7, 'Crude': 7, 'awards': 7, 'Ill': 7, 'patents': 7, 'CMB': 7, 'GET': 7, 'COURIER': 7, 'Westpac': 7, 'downs': 7, 'From': 7, 'advisors': 7, 'INDIA': 7, 'definition': 7, 'APR': 7, 'Keidanren': 7, 'JOHNSON': 7, 'DOES': 7, 'ALUMINUM': 7, 'minute': 7, 'REVLON': 7, 'oxide': 7, 'Local': 7, '685': 7, 'Maize': 7, '874': 7, 'NOV': 7, 'Disney': 7, '033': 7, 'contrast': 7, 'kernels': 7, 'Intelligence': 7, 'Super': 7, 'foresee': 7, '026': 7, 'ESTIMATES': 7, 'APPROPRIATE': 7, 'refusal': 7, 'adhere': 7, 'Roderick': 7, 'Equatorial': 7, 'Gorbachev': 7, 'Barwon': 7, 'CONSOLIDATED': 7, 'PUTS': 7, 'MARKS': 7, 'LORD': 7, 'CALIFORNIA': 7, 'Enterprise': 7, 'troy': 7, 'absence': 7, 'guide': 7, 'Under': 6, 'Petroleos': 6, 'Some': 6, 'BUNDESBANK': 6, 'DOE': 6, 'CSCE': 6, 'bu': 6, 'Denis': 6, 'ADDS': 6, 'CUSTOMER': 6, 'REPURCHASES': 6, 'REPURCHASE': 6, 'Brokers': 6, 'DECLARES': 6, 'Fitzwater': 6, 'BAY': 6, 'BROWN': 6, 'Representatives': 6, 'PREDICTS': 6, 'countertrade': 6, 'Nikko': 6, 'gmt': 6, 'Growth': 6, 'assurance': 6, 'LBO': 6, 'SAN': 6, 'CDs': 6, 'Prices': 6, 'Good': 6, 'diligence': 6, 'MORTGAGE': 6, 'More': 6, 'carryforwards': 6, 'CPB': 6, 'POSTINGS': 6, 'YESTERDAY': 6, 'TECHNOLOGIES': 6, 'BROADCASTING': 6, 'Arango': 6, 'Analyst': 6, 'Accord': 6, 'Based': 6, 'Reserves': 6, 've': 6, 'Discount': 6, 'INVESTOR': 6, 'thirds': 6, 'Ore': 6, 'Retail': 6, 'navigation': 6, 'Gephardt': 6, 'CAN': 6, 'Fla': 6, 'PERU': 6, 'You': 6, 'EIA': 6, 'Worth': 6, 'TECHNOLOGY': 6, 'TELLS': 6, 'MART': 6, 'CLOSES': 6, 'KUWAIT': 6, 'COS': 6, 'Fiscal': 6, 'Rice': 6, 'ENTERPRISES': 6, 'Deak': 6, '025': 6, 'Private': 6, 'metric': 6, 'casualty': 6, 'Grenfell': 6, 'lived': 6, 'BPD': 6, 'THAI': 6, 'PRODUCER': 6, 'mt': 6, 'comparative': 6, 'Comalco': 6, 'Pat': 6, 'Unemployment': 6, 'Or': 6, 'AEGON': 6, 'RAISING': 6, 'Inflation': 6, 'enlarged': 6, 'NIPPON': 6, 'MANUFACTURING': 6, 'HIKES': 6, 'c': 6, 'Fourth': 6, 'JACOBS': 6, 'IRANIAN': 6, 'Talks': 6, 'FILES': 6, 'Unnamed': 6, 'Ay': 6, 'ENGLAND': 5, 'foreseeable': 5, 'LIPC': 5, 'MTI': 5, 'These': 5, 'context': 5, 'Dealers': 5, 'Given': 5, 'Gerhard': 5, 'Both': 5, 'Start': 5, 'Dollar': 5, 'Tariffs': 5, 'While': 5, 'Analysts': 5, 'Prior': 5, 'event': 5, 'MARINE': 5, 'Yulo': 5, 'HUDSON': 5, 'Last': 5, 'MAKE': 5, 'Will': 5, 'LAWSON': 5, 'Soybeans': 5, 'elaborate': 5, 'Azpurua': 5, 'Latest': 5, 'Includes': 5, 'BANKERS': 5, 'mouth': 5, 'SINGAPORE': 5, 'SHORTAGE': 5, 'Our': 5, 'After': 5, 'LEADING': 5, 'CONTINENTAL': 5, 'ACCEPTS': 5, 'population': 5, 'ILLINOIS': 5, 'So': 5, 'Demand': 5, 'Official': 5, 'Employment': 5, 'OMITS': 5, '053': 5, 'Conservation': 5, 'Otto': 5, 'VOLCKER': 5, 'DEPARTMENT': 5, 'Guinea': 5, 'HOUSE': 5, 'CCR': 5, '051': 5, 'BELL': 5, 'HOLDERS': 5, 'BSN': 5, 'BILLS': 5, 'OHIO': 5, 'Shareholders': 5, 'offs': 5, 'Paulo': 5, 'Airways': 5, 'LONDON': 5, 'Recent': 5, 'FHLBB': 5, 'REAL': 5, 'Not': 5, 'HUTTON': 5, 'Following': 5, 'ARABIA': 5, 'Aziz': 5, 'DIXONS': 5, '1980s': 5, 'IWC': 5, 'Manuel': 5, 'Product': 5, 'SAMA': 5, '081': 5, 'Denman': 5, 'SIGNS': 5, 'manner': 5, 'Nogales': 5, 'Conference': 5, 'GRANTS': 5, 'VIACOM': 5, 'Saito': 5, 'ITALIAN': 5, 'visits': 5, 'YEUTTER': 5, 'TELEPHONE': 5, 'ENTERTAINMENT': 5, 'CARGILL': 5, 'Espinosa': 5, 'NL': 5, 'Canal': 5, 'NOW': 5, '1990s': 5, 'Hills': 5, 'Sarney': 4, 'Papandreou': 4, 'VENEZUELA': 4, 'Kanon': 4, 'Stcks': 4, 'Firms': 4, 'VIA': 4, 'Affiliates': 4, 'BBL': 4, 'Z': 4, 'Malcolm': 4, 'Top': 4, 'Although': 4, 'Of': 4, 'HK': 4, 'INDONESIA': 4, 'Most': 4, 'During': 4, 'SWEDISH': 4, 'Hormuz': 4, 'Intervention': 4, 'ha': 4, 'NORTHERN': 4, 'SOSNOFF': 4, 'Franklin': 4, 'Thatcher': 4, 'Was': 4, 'AN': 4, 'Intermediate': 4, 'TRANSPORTATION': 4, 'Members': 4, 'Processors': 4, 'LYNG': 4, 'His': 4, 'MALAYSIA': 4, 'Would': 4, 'Istat': 4, 'BOSTON': 4, 'm': 4, 'Balao': 4, 'Edouard': 4, 'Funds': 4, 'Consumers': 4, 'KONG': 4, 'FAO': 4, 'WASTE': 4, 'Nations': 4, './': 4, 'ROYAL': 4, 'Countries': 4, 'PAKISTAN': 4, 'Once': 4, 'ABBETT': 4, 'NAKASONE': 4, 'Profits': 4, 'INTERSTATE': 4, 'Wright': 4, 'Negotiations': 4, 'Rha': 4, 'Dlrs': 3, 'Several': 3, 'INSPECTIONS': 3, 'LEAVES': 3, 'Upham': 3, 'Delegates': 3, 'Speculation': 3, 'Another': 3, 'Marlin': 3, 'Revenues': 3, 'ARC': 3, 'However': 3, 'Even': 3, 'Drew': 3, 'PHILIPPINE': 3, 'Because': 3, 'Cents': 3, 'Terms': 3, 'Kan': 3, 'When': 3, 'SENATE': 3, 'Has': 3, 'REUTER': 3, 'Excludes': 3, 'Satoshi': 3, 'Call': 3, 'Since': 3, 'recurring': 3, 'MIYAZAWA': 3, 'Kiichi': 3, 'GIVEN': 3, 'BORROWINGS': 3, 'DISTILLATE': 3, 'What': 3, 'Seasonally': 3, 'advertisement': 3, 'IRAQ': 3, 'LABORATORIES': 3, 'Pa': 3, 'Alvite': 3, 'Holders': 3, 'GREAT': 3, 'Enhancement': 3, 'Caspar': 3, 'SHELL': 3, \".'\": 3, 'SPAIN': 3, 'INTERVENES': 3, 'ITALY': 3, 'Pak': 3, 'MATURITY': 3, 'Kimberley': 3, 'Cattle': 3, 'STREET': 3, 'Aqazadeh': 3, 'MORGAN': 3, 'BANGLADESH': 3, 'flagged': 3, 'Thus': 2, 'Asked': 2, 'AXP': 2, 'Earlier': 2, 'Now': 2, 'wake': 2, 'Such': 2, 'Overall': 2, 'SHAMROCK': 2, 'DOW': 2, 'Its': 2, 'FRANKLIN': 2, 'Grisanti': 2, 'Previously': 2, 'Signal': 2, 'Exchequer': 2, 'Nigel': 2, 'Base': 2, 'CORRECTED': 2, 'She': 2, 'Speaking': 2, 'Moreover': 2, 'HENLEY': 2, 'TALKING': 2, 'AMOCO': 2, 'Their': 2, 'Emirates': 2, 'PA': 2, 'Those': 2, 'Without': 2, 'IMPERIAL': 2, 'XON': 2, 'Many': 2, 'BELGIAN': 2, 'OXY': 2, 'Units': 2, 'Economists': 2, 'Pemberton': 2, 'Also': 2, 'TEXACO': 2, 'TX': 2, 'DMP': 2, 'Despite': 2, 'Embassy': 2, 'accrual': 2, 'Row': 2, 'Sour': 2, 'BUSHELS': 2, 'SUN': 2, 'Yasuhiro': 2, 'Lyons': 2, 'MOB': 2, 'WARNER': 2, 'f': 2, 'WALL': 2, 'Prev': 2, 'Dlr': 2, 'MOBIL': 2, 'Figures': 2, 'Salaam': 2, 'Further': 2, 'Cherry': 2, 'CCI': 1, 'Meanwhile': 1, 'Among': 1, 'PCC': 1, 'SRD': 1, 'CYL': 1, 'Janeiro': 1, 'Each': 1, 'Late': 1, 'DIAMOND': 1, 'Until': 1, 'Currently': 1, 'Commenting': 1, 'BALDRIGE': 1, 'Output': 1, 'Unadjusted': 1, 'Wireless': 1, 'Attack': 1, 'Diplomats': 1, 'PIE': 1, 'Only': 1, 'Separately': 1, 'STOS': 1, 'AMO': 1, 'Closing': 1, 'RD': 1, 'Chalmers': 1, 'Yesterday': 1, 'Spot': 1, 'Neither': 1, 'SPOTLIGHT': 1, 'According': 1, 'Gasoline': 1, 'Means': 1, 'THOUS': 1, 'Proceeds': 1, 'FBC': 1, 'GY': 1, 'BOR': 1, 'HBJ': 1, 'Wk': 1, 'Neill': 1, 'Named': 1, 'Gr': 1})\n"
          ]
        },
        {
          "output_type": "stream",
          "name": "stderr",
          "text": [
            "256664it [00:01, 200216.46it/s]"
          ]
        },
        {
          "output_type": "stream",
          "name": "stdout",
          "text": [
            "The total Cross-Entropy of trigram model for our Test set is:  2.473\n",
            "Perplexity of trigram model for Test Set: 5.553\n"
          ]
        },
        {
          "output_type": "stream",
          "name": "stderr",
          "text": [
            "\n"
          ]
        }
      ]
    },
    {
      "cell_type": "code",
      "source": [
        "bigram_counter[('application', 'at')]"
      ],
      "metadata": {
        "colab": {
          "base_uri": "https://localhost:8080/"
        },
        "id": "ZSR-Ob0gyva0",
        "outputId": "a8003acd-08be-47b1-c806-25c6d2dd7e8e"
      },
      "execution_count": 101,
      "outputs": [
        {
          "output_type": "execute_result",
          "data": {
            "text/plain": [
              "0"
            ]
          },
          "metadata": {},
          "execution_count": 101
        }
      ]
    },
    {
      "cell_type": "markdown",
      "metadata": {
        "id": "HeiZ85umgr0o"
      },
      "source": [
        "# BIGRAM GENERATE NEXT WORD GIVEN SEQUENCE"
      ]
    },
    {
      "cell_type": "code",
      "execution_count": 58,
      "metadata": {
        "id": "HWj9RA0mZe-U"
      },
      "outputs": [],
      "source": [
        "def generate_candidates(state, ngram_counter, model):\n",
        "    \"\"\"\n",
        "    Given the state calculate the next possible words\n",
        "    - state: The current word sequence\n",
        "    - ngram_counter: Counter which the key is a tuple of n-1gram and value its frequency\n",
        "\n",
        "    Returns:\n",
        "    - Next state\n",
        "    \"\"\"\n",
        "    # if ngram_counter = trigram_counter\n",
        "    ngram_width = 1\n",
        "    if model == 'trigram':\n",
        "      ngram_width = 2\n",
        "    prev_words = tuple(state[-ngram_width:])\n",
        "\n",
        "    # Find candidates words\n",
        "    next_words = [prev_words_tuple[-1] for (prev_words_tuple) in ngram_counter if prev_words == tuple(prev_words_tuple[:-1])]\n",
        "\n",
        "    return [state + [next_word] for next_word in next_words]\n",
        "\n"
      ]
    },
    {
      "cell_type": "code",
      "source": [],
      "metadata": {
        "id": "RcZizwkEnLJ8"
      },
      "execution_count": 66,
      "outputs": []
    },
    {
      "cell_type": "code",
      "execution_count": 59,
      "metadata": {
        "id": "SWGqN8-iqssT"
      },
      "outputs": [],
      "source": [
        "def score(state, vocab_size, alpha, ngram_counter, ngram_minus_one_counter,length, model='trigram', dist=0, l1=1, l2=0, calculate_ngram_probability_fn=calculate_ngram_probability):\n",
        "    \"\"\"\n",
        "    Calculate the log probability  of the word sequence\n",
        "\n",
        "    Parameters:\n",
        "    - state: The current word sequence.\n",
        "    - vocab_size: The size of the vocabulary\n",
        "    - alpha: float hyperparameter for Laplace smoothing\n",
        "    - ngram_counter:\n",
        "    - ngram_minus_one_counter\n",
        "    - dist: int distance between words. Only for spell correcting.\n",
        "    - l1: float hyperparameter for weighting the model. Deffault=1\n",
        "    - l2: float hyperparameter for weigthing the distance. Deffault=0\n",
        "    - calculate_ngram_probability_fn:\n",
        "\n",
        "    Returns:\n",
        "    - Log Probability\n",
        "    \"\"\"\n",
        "    ngram_width = 2\n",
        "    if model == 'trigram':\n",
        "      ngram_width = 3\n",
        "    probability = 0\n",
        "    #for i in range(ngram_width, len(state)):\n",
        "    prev_words = tuple(state[-ngram_width:])\n",
        "\n",
        "    probability += calc_kneser_ney_proba(ngram_counter, ngram_minus_one_counter, continuation_counts, total_continuations, (prev_words), 0.5) + l2 * math.log2(1 / (dist + 1))\n",
        "    # probability += l1 * calculate_ngram_probability_fn(ngram_counter, ngram_minus_one_counter,(prev_words),alpha, vocab_size) + l2 * math.log2(1 / (dist + 1))\n",
        "    return probability"
      ]
    },
    {
      "cell_type": "code",
      "execution_count": 60,
      "metadata": {
        "id": "likIV0IeV-xe"
      },
      "outputs": [],
      "source": [
        "def beam_search_sequence(initial_state, max_depth, beam_width, vocab_size, alpha, ngram_counter, ngram_minus_one_counter, generate_candidates_fn, score_fn):\n",
        "    candidates = [(initial_state, 0)]\n",
        "\n",
        "    for depth in tqdm(range(max_depth)):\n",
        "        new_candidates = []\n",
        "        for candidate, prob in candidates:\n",
        "            for next_state in generate_candidates_fn(candidate, bigram_counter, 'bigram'):\n",
        "                # print(prefixes_counter[(next_state[:-1],])\n",
        "                length = prefixes_counter[tuple(next_state[:-1])]\n",
        "                new_prob = prob + score_fn(next_state, vocab_size, alpha, ngram_counter, ngram_minus_one_counter,length,'bigram')\n",
        "                new_candidates.append((next_state, new_prob))\n",
        "\n",
        "\n",
        "\n",
        "        new_candidates = sorted(new_candidates, key=lambda x: x[1], reverse=True)\n",
        "        candidates = new_candidates[:beam_width]\n",
        "        print(candidates)\n",
        "\n",
        "    best_sequence, best_prob = max(candidates, key=lambda x: x[1])\n",
        "    return best_sequence\n"
      ]
    },
    {
      "cell_type": "code",
      "execution_count": 61,
      "metadata": {
        "colab": {
          "base_uri": "https://localhost:8080/"
        },
        "id": "IVDoVPgvOfSN",
        "outputId": "13a53934-9ed5-4ab5-986a-239bc22f9cf1"
      },
      "outputs": [
        {
          "output_type": "stream",
          "name": "stderr",
          "text": [
            "  5%|▍         | 1/21 [00:00<00:02,  7.42it/s]"
          ]
        },
        {
          "output_type": "stream",
          "name": "stdout",
          "text": [
            "[(['is', '<UNK>'], -3.607799573047905), (['is', 'expected'], -3.9393275835653627), (['is', 'a'], -4.039012828941677)]\n"
          ]
        },
        {
          "output_type": "stream",
          "name": "stderr",
          "text": [
            "\r 10%|▉         | 2/21 [00:00<00:04,  3.90it/s]"
          ]
        },
        {
          "output_type": "stream",
          "name": "stdout",
          "text": [
            "[(['is', 'expected', 'to'], -4.684152532247547), (['is', '<UNK>', '<UNK>'], -6.815213976767074), (['is', '<UNK>', ','], -7.47088938691119)]\n"
          ]
        },
        {
          "output_type": "stream",
          "name": "stderr",
          "text": [
            "\r 14%|█▍        | 3/21 [00:01<00:08,  2.04it/s]"
          ]
        },
        {
          "output_type": "stream",
          "name": "stdout",
          "text": [
            "[(['is', 'expected', 'to', 'the'], -8.434240049611482), (['is', 'expected', 'to', '<UNK>'], -8.489639731663491), (['is', 'expected', 'to', 'be'], -9.099471403587014)]\n"
          ]
        },
        {
          "output_type": "stream",
          "name": "stderr",
          "text": [
            "\r 19%|█▉        | 4/21 [00:01<00:07,  2.41it/s]"
          ]
        },
        {
          "output_type": "stream",
          "name": "stdout",
          "text": [
            "[(['is', 'expected', 'to', '<UNK>', '<UNK>'], -11.697054135382661), (['is', 'expected', 'to', 'be', '<UNK>'], -12.085219248659584), (['is', 'expected', 'to', 'the', '<UNK>'], -12.301865666536564)]\n"
          ]
        },
        {
          "output_type": "stream",
          "name": "stderr",
          "text": [
            "\r 24%|██▍       | 5/21 [00:01<00:06,  2.62it/s]"
          ]
        },
        {
          "output_type": "stream",
          "name": "stdout",
          "text": [
            "[(['is', 'expected', 'to', '<UNK>', '<UNK>', '<UNK>'], -14.904468539101831), (['is', 'expected', 'to', 'be', '<UNK>', '<UNK>'], -15.292633652378754), (['is', 'expected', 'to', 'the', '<UNK>', '<UNK>'], -15.509280070255734)]\n"
          ]
        },
        {
          "output_type": "stream",
          "name": "stderr",
          "text": [
            "\r 29%|██▊       | 6/21 [00:02<00:05,  2.73it/s]"
          ]
        },
        {
          "output_type": "stream",
          "name": "stdout",
          "text": [
            "[(['is', 'expected', 'to', '<UNK>', '<UNK>', '<UNK>', '<UNK>'], -18.111882942821), (['is', 'expected', 'to', 'be', '<UNK>', '<UNK>', '<UNK>'], -18.500048056097924), (['is', 'expected', 'to', 'the', '<UNK>', '<UNK>', '<UNK>'], -18.716694473974904)]\n"
          ]
        },
        {
          "output_type": "stream",
          "name": "stderr",
          "text": [
            "\r 33%|███▎      | 7/21 [00:02<00:04,  2.85it/s]"
          ]
        },
        {
          "output_type": "stream",
          "name": "stdout",
          "text": [
            "[(['is', 'expected', 'to', '<UNK>', '<UNK>', '<UNK>', '<UNK>', '<UNK>'], -21.31929734654017), (['is', 'expected', 'to', 'be', '<UNK>', '<UNK>', '<UNK>', '<UNK>'], -21.707462459817094), (['is', 'expected', 'to', 'the', '<UNK>', '<UNK>', '<UNK>', '<UNK>'], -21.924108877694074)]\n"
          ]
        },
        {
          "output_type": "stream",
          "name": "stderr",
          "text": [
            "\r 38%|███▊      | 8/21 [00:02<00:04,  2.91it/s]"
          ]
        },
        {
          "output_type": "stream",
          "name": "stdout",
          "text": [
            "[(['is', 'expected', 'to', '<UNK>', '<UNK>', '<UNK>', '<UNK>', '<UNK>', '<UNK>'], -24.52671175025934), (['is', 'expected', 'to', 'be', '<UNK>', '<UNK>', '<UNK>', '<UNK>', '<UNK>'], -24.914876863536264), (['is', 'expected', 'to', 'the', '<UNK>', '<UNK>', '<UNK>', '<UNK>', '<UNK>'], -25.131523281413244)]\n"
          ]
        },
        {
          "output_type": "stream",
          "name": "stderr",
          "text": [
            "\r 43%|████▎     | 9/21 [00:03<00:05,  2.08it/s]"
          ]
        },
        {
          "output_type": "stream",
          "name": "stdout",
          "text": [
            "[(['is', 'expected', 'to', '<UNK>', '<UNK>', '<UNK>', '<UNK>', '<UNK>', '<UNK>', '<UNK>'], -27.73412615397851), (['is', 'expected', 'to', 'be', '<UNK>', '<UNK>', '<UNK>', '<UNK>', '<UNK>', '<UNK>'], -28.122291267255434), (['is', 'expected', 'to', 'the', '<UNK>', '<UNK>', '<UNK>', '<UNK>', '<UNK>', '<UNK>'], -28.338937685132414)]\n"
          ]
        },
        {
          "output_type": "stream",
          "name": "stderr",
          "text": [
            "\r 48%|████▊     | 10/21 [00:03<00:04,  2.32it/s]"
          ]
        },
        {
          "output_type": "stream",
          "name": "stdout",
          "text": [
            "[(['is', 'expected', 'to', '<UNK>', '<UNK>', '<UNK>', '<UNK>', '<UNK>', '<UNK>', '<UNK>', '<UNK>'], -30.94154055769768), (['is', 'expected', 'to', 'be', '<UNK>', '<UNK>', '<UNK>', '<UNK>', '<UNK>', '<UNK>', '<UNK>'], -31.329705670974604), (['is', 'expected', 'to', 'the', '<UNK>', '<UNK>', '<UNK>', '<UNK>', '<UNK>', '<UNK>', '<UNK>'], -31.546352088851584)]\n"
          ]
        },
        {
          "output_type": "stream",
          "name": "stderr",
          "text": [
            "\r 52%|█████▏    | 11/21 [00:04<00:04,  2.47it/s]"
          ]
        },
        {
          "output_type": "stream",
          "name": "stdout",
          "text": [
            "[(['is', 'expected', 'to', '<UNK>', '<UNK>', '<UNK>', '<UNK>', '<UNK>', '<UNK>', '<UNK>', '<UNK>', '<UNK>'], -34.14895496141685), (['is', 'expected', 'to', 'be', '<UNK>', '<UNK>', '<UNK>', '<UNK>', '<UNK>', '<UNK>', '<UNK>', '<UNK>'], -34.537120074693775), (['is', 'expected', 'to', 'the', '<UNK>', '<UNK>', '<UNK>', '<UNK>', '<UNK>', '<UNK>', '<UNK>', '<UNK>'], -34.753766492570755)]\n"
          ]
        },
        {
          "output_type": "stream",
          "name": "stderr",
          "text": [
            "\r 57%|█████▋    | 12/21 [00:04<00:03,  2.33it/s]"
          ]
        },
        {
          "output_type": "stream",
          "name": "stdout",
          "text": [
            "[(['is', 'expected', 'to', '<UNK>', '<UNK>', '<UNK>', '<UNK>', '<UNK>', '<UNK>', '<UNK>', '<UNK>', '<UNK>', '<UNK>'], -37.35636936513602), (['is', 'expected', 'to', 'be', '<UNK>', '<UNK>', '<UNK>', '<UNK>', '<UNK>', '<UNK>', '<UNK>', '<UNK>', '<UNK>'], -37.744534478412945), (['is', 'expected', 'to', 'the', '<UNK>', '<UNK>', '<UNK>', '<UNK>', '<UNK>', '<UNK>', '<UNK>', '<UNK>', '<UNK>'], -37.961180896289925)]\n"
          ]
        },
        {
          "output_type": "stream",
          "name": "stderr",
          "text": [
            "\r 62%|██████▏   | 13/21 [00:05<00:03,  2.24it/s]"
          ]
        },
        {
          "output_type": "stream",
          "name": "stdout",
          "text": [
            "[(['is', 'expected', 'to', '<UNK>', '<UNK>', '<UNK>', '<UNK>', '<UNK>', '<UNK>', '<UNK>', '<UNK>', '<UNK>', '<UNK>', '<UNK>'], -40.56378376885519), (['is', 'expected', 'to', 'be', '<UNK>', '<UNK>', '<UNK>', '<UNK>', '<UNK>', '<UNK>', '<UNK>', '<UNK>', '<UNK>', '<UNK>'], -40.951948882132115), (['is', 'expected', 'to', 'the', '<UNK>', '<UNK>', '<UNK>', '<UNK>', '<UNK>', '<UNK>', '<UNK>', '<UNK>', '<UNK>', '<UNK>'], -41.168595300009095)]\n"
          ]
        },
        {
          "output_type": "stream",
          "name": "stderr",
          "text": [
            "\r 67%|██████▋   | 14/21 [00:05<00:03,  2.16it/s]"
          ]
        },
        {
          "output_type": "stream",
          "name": "stdout",
          "text": [
            "[(['is', 'expected', 'to', '<UNK>', '<UNK>', '<UNK>', '<UNK>', '<UNK>', '<UNK>', '<UNK>', '<UNK>', '<UNK>', '<UNK>', '<UNK>', '<UNK>'], -43.77119817257436), (['is', 'expected', 'to', 'be', '<UNK>', '<UNK>', '<UNK>', '<UNK>', '<UNK>', '<UNK>', '<UNK>', '<UNK>', '<UNK>', '<UNK>', '<UNK>'], -44.159363285851285), (['is', 'expected', 'to', 'the', '<UNK>', '<UNK>', '<UNK>', '<UNK>', '<UNK>', '<UNK>', '<UNK>', '<UNK>', '<UNK>', '<UNK>', '<UNK>'], -44.376009703728265)]\n"
          ]
        },
        {
          "output_type": "stream",
          "name": "stderr",
          "text": [
            "\r 71%|███████▏  | 15/21 [00:06<00:03,  1.65it/s]"
          ]
        },
        {
          "output_type": "stream",
          "name": "stdout",
          "text": [
            "[(['is', 'expected', 'to', '<UNK>', '<UNK>', '<UNK>', '<UNK>', '<UNK>', '<UNK>', '<UNK>', '<UNK>', '<UNK>', '<UNK>', '<UNK>', '<UNK>', '<UNK>'], -46.97861257629353), (['is', 'expected', 'to', 'be', '<UNK>', '<UNK>', '<UNK>', '<UNK>', '<UNK>', '<UNK>', '<UNK>', '<UNK>', '<UNK>', '<UNK>', '<UNK>', '<UNK>'], -47.366777689570455), (['is', 'expected', 'to', 'the', '<UNK>', '<UNK>', '<UNK>', '<UNK>', '<UNK>', '<UNK>', '<UNK>', '<UNK>', '<UNK>', '<UNK>', '<UNK>', '<UNK>'], -47.583424107447435)]\n"
          ]
        },
        {
          "output_type": "stream",
          "name": "stderr",
          "text": [
            "\r 76%|███████▌  | 16/21 [00:07<00:02,  1.91it/s]"
          ]
        },
        {
          "output_type": "stream",
          "name": "stdout",
          "text": [
            "[(['is', 'expected', 'to', '<UNK>', '<UNK>', '<UNK>', '<UNK>', '<UNK>', '<UNK>', '<UNK>', '<UNK>', '<UNK>', '<UNK>', '<UNK>', '<UNK>', '<UNK>', '<UNK>'], -50.1860269800127), (['is', 'expected', 'to', 'be', '<UNK>', '<UNK>', '<UNK>', '<UNK>', '<UNK>', '<UNK>', '<UNK>', '<UNK>', '<UNK>', '<UNK>', '<UNK>', '<UNK>', '<UNK>'], -50.574192093289625), (['is', 'expected', 'to', 'the', '<UNK>', '<UNK>', '<UNK>', '<UNK>', '<UNK>', '<UNK>', '<UNK>', '<UNK>', '<UNK>', '<UNK>', '<UNK>', '<UNK>', '<UNK>'], -50.790838511166605)]\n"
          ]
        },
        {
          "output_type": "stream",
          "name": "stderr",
          "text": [
            "\r 81%|████████  | 17/21 [00:07<00:01,  2.14it/s]"
          ]
        },
        {
          "output_type": "stream",
          "name": "stdout",
          "text": [
            "[(['is', 'expected', 'to', '<UNK>', '<UNK>', '<UNK>', '<UNK>', '<UNK>', '<UNK>', '<UNK>', '<UNK>', '<UNK>', '<UNK>', '<UNK>', '<UNK>', '<UNK>', '<UNK>', '<UNK>'], -53.39344138373187), (['is', 'expected', 'to', 'be', '<UNK>', '<UNK>', '<UNK>', '<UNK>', '<UNK>', '<UNK>', '<UNK>', '<UNK>', '<UNK>', '<UNK>', '<UNK>', '<UNK>', '<UNK>', '<UNK>'], -53.781606497008795), (['is', 'expected', 'to', 'the', '<UNK>', '<UNK>', '<UNK>', '<UNK>', '<UNK>', '<UNK>', '<UNK>', '<UNK>', '<UNK>', '<UNK>', '<UNK>', '<UNK>', '<UNK>', '<UNK>'], -53.998252914885775)]\n"
          ]
        },
        {
          "output_type": "stream",
          "name": "stderr",
          "text": [
            "\r 86%|████████▌ | 18/21 [00:07<00:01,  2.34it/s]"
          ]
        },
        {
          "output_type": "stream",
          "name": "stdout",
          "text": [
            "[(['is', 'expected', 'to', '<UNK>', '<UNK>', '<UNK>', '<UNK>', '<UNK>', '<UNK>', '<UNK>', '<UNK>', '<UNK>', '<UNK>', '<UNK>', '<UNK>', '<UNK>', '<UNK>', '<UNK>', '<UNK>'], -56.60085578745104), (['is', 'expected', 'to', 'be', '<UNK>', '<UNK>', '<UNK>', '<UNK>', '<UNK>', '<UNK>', '<UNK>', '<UNK>', '<UNK>', '<UNK>', '<UNK>', '<UNK>', '<UNK>', '<UNK>', '<UNK>'], -56.989020900727965), (['is', 'expected', 'to', 'the', '<UNK>', '<UNK>', '<UNK>', '<UNK>', '<UNK>', '<UNK>', '<UNK>', '<UNK>', '<UNK>', '<UNK>', '<UNK>', '<UNK>', '<UNK>', '<UNK>', '<UNK>'], -57.205667318604945)]\n"
          ]
        },
        {
          "output_type": "stream",
          "name": "stderr",
          "text": [
            "\r 90%|█████████ | 19/21 [00:08<00:00,  2.51it/s]"
          ]
        },
        {
          "output_type": "stream",
          "name": "stdout",
          "text": [
            "[(['is', 'expected', 'to', '<UNK>', '<UNK>', '<UNK>', '<UNK>', '<UNK>', '<UNK>', '<UNK>', '<UNK>', '<UNK>', '<UNK>', '<UNK>', '<UNK>', '<UNK>', '<UNK>', '<UNK>', '<UNK>', '<UNK>'], -59.80827019117021), (['is', 'expected', 'to', 'be', '<UNK>', '<UNK>', '<UNK>', '<UNK>', '<UNK>', '<UNK>', '<UNK>', '<UNK>', '<UNK>', '<UNK>', '<UNK>', '<UNK>', '<UNK>', '<UNK>', '<UNK>', '<UNK>'], -60.196435304447135), (['is', 'expected', 'to', 'the', '<UNK>', '<UNK>', '<UNK>', '<UNK>', '<UNK>', '<UNK>', '<UNK>', '<UNK>', '<UNK>', '<UNK>', '<UNK>', '<UNK>', '<UNK>', '<UNK>', '<UNK>', '<UNK>'], -60.413081722324115)]\n"
          ]
        },
        {
          "output_type": "stream",
          "name": "stderr",
          "text": [
            "\r 95%|█████████▌| 20/21 [00:08<00:00,  1.96it/s]"
          ]
        },
        {
          "output_type": "stream",
          "name": "stdout",
          "text": [
            "[(['is', 'expected', 'to', '<UNK>', '<UNK>', '<UNK>', '<UNK>', '<UNK>', '<UNK>', '<UNK>', '<UNK>', '<UNK>', '<UNK>', '<UNK>', '<UNK>', '<UNK>', '<UNK>', '<UNK>', '<UNK>', '<UNK>', '<UNK>'], -63.01568459488938), (['is', 'expected', 'to', 'be', '<UNK>', '<UNK>', '<UNK>', '<UNK>', '<UNK>', '<UNK>', '<UNK>', '<UNK>', '<UNK>', '<UNK>', '<UNK>', '<UNK>', '<UNK>', '<UNK>', '<UNK>', '<UNK>', '<UNK>'], -63.403849708166305), (['is', 'expected', 'to', 'the', '<UNK>', '<UNK>', '<UNK>', '<UNK>', '<UNK>', '<UNK>', '<UNK>', '<UNK>', '<UNK>', '<UNK>', '<UNK>', '<UNK>', '<UNK>', '<UNK>', '<UNK>', '<UNK>', '<UNK>'], -63.620496126043285)]\n"
          ]
        },
        {
          "output_type": "stream",
          "name": "stderr",
          "text": [
            "100%|██████████| 21/21 [00:09<00:00,  2.30it/s]"
          ]
        },
        {
          "output_type": "stream",
          "name": "stdout",
          "text": [
            "[(['is', 'expected', 'to', '<UNK>', '<UNK>', '<UNK>', '<UNK>', '<UNK>', '<UNK>', '<UNK>', '<UNK>', '<UNK>', '<UNK>', '<UNK>', '<UNK>', '<UNK>', '<UNK>', '<UNK>', '<UNK>', '<UNK>', '<UNK>', '<UNK>'], -66.22309899860855), (['is', 'expected', 'to', 'be', '<UNK>', '<UNK>', '<UNK>', '<UNK>', '<UNK>', '<UNK>', '<UNK>', '<UNK>', '<UNK>', '<UNK>', '<UNK>', '<UNK>', '<UNK>', '<UNK>', '<UNK>', '<UNK>', '<UNK>', '<UNK>'], -66.61126411188548), (['is', 'expected', 'to', 'the', '<UNK>', '<UNK>', '<UNK>', '<UNK>', '<UNK>', '<UNK>', '<UNK>', '<UNK>', '<UNK>', '<UNK>', '<UNK>', '<UNK>', '<UNK>', '<UNK>', '<UNK>', '<UNK>', '<UNK>', '<UNK>'], -66.82791052976245)]\n",
            "The problem is expected to <UNK> <UNK> <UNK> <UNK> <UNK> <UNK> <UNK> <UNK> <UNK> <UNK> <UNK> <UNK> <UNK> <UNK> <UNK> <UNK> <UNK> <UNK> <UNK>\n"
          ]
        },
        {
          "output_type": "stream",
          "name": "stderr",
          "text": [
            "\n"
          ]
        }
      ],
      "source": [
        "test_sentence = \"The problem is\"\n",
        "initial_state = test_sentence.split(' ')[-1:]\n",
        "max_depth = 21\n",
        "beam_width = 3\n",
        "best_sequence = beam_search_sequence(initial_state, max_depth, beam_width,len(vocab),0.01,bigram_counter,unigram_counter, generate_candidates, score)\n",
        "\n",
        "print(test_sentence, ' '.join(best_sequence[1:]))  # Excluding the \"<start>\" token"
      ]
    },
    {
      "cell_type": "code",
      "execution_count": null,
      "metadata": {
        "id": "uPjHl2ZxQchc",
        "colab": {
          "base_uri": "https://localhost:8080/"
        },
        "outputId": "150f5116-9c82-40cc-8154-d95746b76620"
      },
      "outputs": [
        {
          "output_type": "execute_result",
          "data": {
            "text/plain": [
              "-4.424585941845405"
            ]
          },
          "metadata": {},
          "execution_count": 78
        }
      ],
      "source": [
        "math.log2((bigram_counter[('to','be',)]+0.01) / (unigram_counter[('to',)]+ (0.01 * len(vocab))))"
      ]
    },
    {
      "cell_type": "code",
      "source": [
        "(bigram_counter[('to','be',)]+0.01)"
      ],
      "metadata": {
        "colab": {
          "base_uri": "https://localhost:8080/"
        },
        "id": "UQw3xPjBjAID",
        "outputId": "f8e50e16-e5dc-4d2a-d46d-9ec43fd32ec3"
      },
      "execution_count": null,
      "outputs": [
        {
          "output_type": "execute_result",
          "data": {
            "text/plain": [
              "1122.01"
            ]
          },
          "metadata": {},
          "execution_count": 75
        }
      ]
    },
    {
      "cell_type": "code",
      "source": [
        "(unigram_counter[('to',)])+ (0.01 * len(vocab))"
      ],
      "metadata": {
        "colab": {
          "base_uri": "https://localhost:8080/"
        },
        "id": "D4N4c82ljEFL",
        "outputId": "e1f7e4af-7860-41b6-8612-5724a55b1843"
      },
      "execution_count": null,
      "outputs": [
        {
          "output_type": "execute_result",
          "data": {
            "text/plain": [
              "24095.16"
            ]
          },
          "metadata": {},
          "execution_count": 76
        }
      ]
    },
    {
      "cell_type": "markdown",
      "metadata": {
        "id": "VTH1r3lUgydK"
      },
      "source": [
        "TRIGRAM GENERATE NEXT WORD GIVEN SEQUENCE"
      ]
    },
    {
      "cell_type": "code",
      "execution_count": null,
      "metadata": {
        "id": "ixDidm1IQw69"
      },
      "outputs": [],
      "source": [
        "#TRIGRAM MODEL"
      ]
    },
    {
      "cell_type": "code",
      "execution_count": 17,
      "metadata": {
        "colab": {
          "base_uri": "https://localhost:8080/"
        },
        "id": "YjrZADxDXTtp",
        "outputId": "7cc786b1-12ff-45d4-d2f7-e71a17988a45"
      },
      "outputs": [
        {
          "output_type": "stream",
          "name": "stdout",
          "text": [
            "I am coming to <e> coming to the U . S . Agriculture Department ' s , <UNK> and <UNK> . O > 3RD QTR FEB 28 NET Shr 1 . 5 mln dlrs . <e> <e>\n"
          ]
        }
      ],
      "source": [
        "def beam_search_decode(initial_state, max_depth, beam_width, generate_candidates_fn, score_fn):\n",
        "    \"\"\"\n",
        "    Generate candidate words for a misspelled word, using between words distance.\n",
        "\n",
        "    Parameters:\n",
        "    - state: The current state.\n",
        "    - word: The misspelled word.\n",
        "    - word_list: List of words to search for candidates.\n",
        "    - max_candidates: Maximum number of candidates\n",
        "    - distance_fn: Distance function. Deffault damerau_levenshtein_distance\n",
        "\n",
        "    Returns:\n",
        "    - A list of candidate words.\n",
        "    \"\"\"\n",
        "    candidates = [(initial_state, 0)]\n",
        "\n",
        "    for depth in range(max_depth):\n",
        "        new_candidates = []\n",
        "        for candidate, prob in candidates:\n",
        "            for next_state in generate_candidates_fn(candidate, trigram_counter, 'trigram'):\n",
        "                length = prefixes_counter[tuple(next_state[:-1])]\n",
        "                new_prob = prob + score_fn(next_state, len(vocab), 0.01, trigram_counter, bigram_counter,length, 'trigram')\n",
        "                new_candidates.append((next_state, new_prob))\n",
        "\n",
        "\n",
        "\n",
        "        new_candidates = sorted(new_candidates, key=lambda x: x[1], reverse=True)\n",
        "\n",
        "        candidates = new_candidates[:beam_width]\n",
        "\n",
        "    best_sequence, best_prob = max(candidates, key=lambda x: x[1])\n",
        "    print(best_sequence[-1],end=\" \")\n",
        "    return best_sequence\n",
        "\n",
        "\n",
        "test_sentence = \"I am coming to\"\n",
        "initial_state = test_sentence.split(' ')[-2:]\n",
        "max_depth = 30\n",
        "beam_width = 3\n",
        "print(test_sentence, end=\" \")\n",
        "best_sequence = beam_search_decode(initial_state, max_depth, beam_width, generate_candidates, score)\n",
        "print(' '.join(best_sequence))"
      ]
    },
    {
      "cell_type": "code",
      "source": [
        "# import time\n",
        "\n",
        "# # test_sentence = \"I would like to\"\n",
        "# # initial_state = test_sentence.split(' ')[-2:]\n",
        "# # max_depth = 20\n",
        "# # beam_width = 3\n",
        "# # print(test_sentence, end=\" \")\n",
        "# # best_sequence = beam_search_decode(initial_state, max_depth, beam_width, generate_candidates, score)\n",
        "\n",
        "# for i in range(2,len(best_sequence)):\n",
        "#   print(best_sequence[i], end=\" \")  # Excluding the 2 first <start>\" tokens\n",
        "#   time.sleep(0.2)"
      ],
      "metadata": {
        "id": "jG7hclg2jYCO"
      },
      "execution_count": null,
      "outputs": []
    },
    {
      "cell_type": "markdown",
      "metadata": {
        "id": "KE7kg3UqXy69"
      },
      "source": [
        "# Spelling Corrector"
      ]
    },
    {
      "cell_type": "code",
      "execution_count": 50,
      "metadata": {
        "id": "3slcPuRX4_UK"
      },
      "outputs": [],
      "source": [
        "# Leveinstein Destance with transposition.\n",
        "def damerau_levenshtein_distance(s1, s2):\n",
        "    \"\"\"\n",
        "    Calculate the Damerau–Levenshtein distance between two strings.\n",
        "\n",
        "    Parameters:\n",
        "    - s1: first string\n",
        "    - s2: second string\n",
        "\n",
        "    Returns:\n",
        "    - Damerau Levenshtein distance\n",
        "    \"\"\"\n",
        "    len_s1 = len(s1)\n",
        "    len_s2 = len(s2)\n",
        "    if abs(len_s1 - len_s2) >= 3: ##min(len_s1,len_s2):\n",
        "        return 10\n",
        "    d = [[0] * (len_s2 + 1) for _ in range(len_s1 + 1)]\n",
        "\n",
        "    for i in range(len_s1 + 1):\n",
        "        d[i][0] = i\n",
        "    for j in range(len_s2 + 1):\n",
        "        d[0][j] = j\n",
        "\n",
        "    for i in range(1, len_s1 + 1):\n",
        "        for j in range(1, len_s2 + 1):\n",
        "            cost = 0 if s1[i - 1] == s2[j - 1] else 1\n",
        "            d[i][j] = min(\n",
        "                d[i - 1][j] + 1,  # deletion\n",
        "                d[i][j - 1] + 1,  # insertion\n",
        "                d[i - 1][j - 1] + cost,  # substitution\n",
        "            )\n",
        "            if i > 1 and j > 1 and s1[i - 1] == s2[j - 2] and s1[i - 2] == s2[j - 1]:\n",
        "                d[i][j] = min(d[i][j], d[i - 2][j - 2] + cost)  # transposition\n",
        "\n",
        "    return d[len_s1][len_s2]\n"
      ]
    },
    {
      "cell_type": "code",
      "execution_count": 51,
      "metadata": {
        "colab": {
          "base_uri": "https://localhost:8080/"
        },
        "id": "-guBLnYb5JDJ",
        "outputId": "c278a3f8-18b5-44be-a2d9-d113ad99af84"
      },
      "outputs": [
        {
          "output_type": "stream",
          "name": "stdout",
          "text": [
            "Candidate words for 'candidat': [(['<s>', '<s>', 'candidate'], 1), (['<s>', '<s>', 'candidates'], 2), (['<s>', '<s>', 'canadian'], 3), (['<s>', '<s>', 'credit'], 4), (['<s>', '<s>', 'scandal'], 4), (['<s>', '<s>', 'confident'], 4), (['<s>', '<s>', 'capital'], 4), (['<s>', '<s>', 'Canada'], 4), (['<s>', '<s>', 'Canadian'], 4), (['<s>', '<s>', 'consider'], 4)]\n"
          ]
        }
      ],
      "source": [
        "# Take a word and the vocab and produce candidates/\n",
        "def generate_candidate_with_distance(state, word, word_list, max_candidates=5, distance_fn=damerau_levenshtein_distance):\n",
        "    \"\"\"\n",
        "    Generate candidate words for a misspelled word, using between words distance.\n",
        "\n",
        "    Parameters:\n",
        "    - state: The current state.\n",
        "    - word: The misspelled word.\n",
        "    - word_list: List of words to search for candidates.\n",
        "    - max_candidates: Maximum number of candidates\n",
        "    - distance_fn: Distance function. Deffault damerau_levenshtein_distance\n",
        "\n",
        "    Returns:\n",
        "    - A list of candidate words.\n",
        "    \"\"\"\n",
        "    candidates = []\n",
        "\n",
        "    for candidate in word_list:\n",
        "        distance = distance_fn(word, candidate)\n",
        "        if distance <=5:\n",
        "          candidates.append((candidate, distance))\n",
        "\n",
        "    # Sort candidates by Distance distance in ascending order\n",
        "    candidates.sort(key=lambda x: x[1])\n",
        "    next_words = candidates[:max_candidates]\n",
        "\n",
        "    # Return next word and distance\n",
        "    return [(state + [next_word[0]], next_word[1]) for next_word in next_words]\n",
        "\n",
        "# Example usage\n",
        "misspelled_word = \"candidat\"\n",
        "initial_state = ['<s>','<s>']\n",
        "candidates = generate_candidate_with_distance(initial_state,misspelled_word, vocab, 10)\n",
        "print(f\"Candidate words for '{misspelled_word}': {candidates}\")"
      ]
    },
    {
      "cell_type": "code",
      "execution_count": 52,
      "metadata": {
        "id": "afp3MGI5X8dY"
      },
      "outputs": [],
      "source": [
        "# def score(state, vocab_size, alpha, ngram_counter, ngram_minus_one_counter, dist=0, l1=1, l2=0, calculate_ngram_probability_fn=calculate_ngram_probability):\n",
        "#     \"\"\"\n",
        "#     Calculate the log probability  of the word sequence\n",
        "\n",
        "#     Parameters:\n",
        "#     - state: The current word sequence.\n",
        "#     - vocab_size: The size of the vocabulary\n",
        "#     - alpha: float hyperparameter for Laplace smoothing\n",
        "#     - ngram_counter:\n",
        "#     - ngram_minus_one_counter\n",
        "#     - dist: int distance between words. Only for spell correcting.\n",
        "#     - l1: float hyperparameter for weighting the model. Deffault=1\n",
        "#     - l2: float hyperparameter for weigthing the distance. Deffault=0\n",
        "#     - calculate_ngram_probability_fn:\n",
        "\n",
        "#     Returns:\n",
        "#     - Log Probability\n",
        "#     \"\"\"\n",
        "#     probability = 0\n",
        "#     for i in range(2, len(state)):\n",
        "\n",
        "#         prev_words = tuple(state[i-len(state):])\n",
        "#         probability += l1 * calculate_ngram_probability_fn(ngram_counter, ngram_minus_one_counter,(prev_words),alpha, vocab_size) + l2 * math.log2(1 / (dist + 1))\n",
        "#     return probability"
      ]
    },
    {
      "cell_type": "code",
      "execution_count": 53,
      "metadata": {
        "colab": {
          "base_uri": "https://localhost:8080/"
        },
        "id": "QaCWEj4qYIAE",
        "outputId": "79349d1e-fba6-41ec-e69b-6de0598071a9"
      },
      "outputs": [
        {
          "output_type": "stream",
          "name": "stdout",
          "text": [
            "[(['<s>', '<s>', ','], 7459890415935.098), (['<s>', '<s>', '.'], 5969166918932.01), (['<s>', '<s>', 'a'], 1611882000363.2622), (['<s>', '<s>', 'I'], 415175273960.16223), (['<s>', '<s>', 'DI'], 18589937640.007267)]\n",
            "[(['<s>', '<s>', ',', 'be'], 7459890415935.098), (['<s>', '<s>', ',', 'a'], 7459890415935.098), (['<s>', '<s>', ',', 'an'], 7459890415935.098), (['<s>', '<s>', ',', 'as'], 7459890415935.098), (['<s>', '<s>', ',', 'are'], 7459890415935.098)]\n",
            "[(['<s>', '<s>', ',', 'are', 'coming'], 7459890415935.1045), (['<s>', '<s>', ',', 'be', 'coming'], 7459890415935.099), (['<s>', '<s>', ',', 'be', 'closing'], 7459890415935.099), (['<s>', '<s>', ',', 'be', 'voting'], 7459890415935.099), (['<s>', '<s>', ',', 'a', 'closing'], 7459890415935.099)]\n",
            "[(['<s>', '<s>', ',', 'are', 'coming', 'to'], 7459890415935.368), (['<s>', '<s>', ',', 'a', 'closing', 'two'], 7459890415935.356), (['<s>', '<s>', ',', 'be', 'coming', 'to'], 7459890415935.186), (['<s>', '<s>', ',', 'be', 'closing', 'to'], 7459890415935.186), (['<s>', '<s>', ',', 'a', 'closing', 'to'], 7459890415935.186)]\n",
            "[(['<s>', '<s>', ',', 'are', 'coming', 'to', 'down'], 7459890415935.37), (['<s>', '<s>', ',', 'are', 'coming', 'to', 'own'], 7459890415935.369), (['<s>', '<s>', ',', 'are', 'coming', 'to', 'don'], 7459890415935.368), (['<s>', '<s>', ',', 'are', 'coming', 'to', 'sown'], 7459890415935.368), (['<s>', '<s>', ',', 'are', 'coming', 'to', 'downs'], 7459890415935.368)]\n",
            ", are coming to down\n"
          ]
        }
      ],
      "source": [
        "def beam_search_spelling(sentence, beam_width, l1, l2, generate_candidates_fn, score_fn):\n",
        "    \"\"\"\n",
        "    Spelling correction with contect awereness using beam search\n",
        "\n",
        "    Parameters:\n",
        "    - sentence: The sentence we try to correct\n",
        "    - beam_width: The width of beam search algorithm.\n",
        "    - generate_candidates_fn: function that generates candidate words\n",
        "    - score_fn: Function that calculates the log probability\n",
        "\n",
        "    Returns:\n",
        "    - The most probable sequence corrected.\n",
        "    \"\"\"\n",
        "\n",
        "    initial_state = ['<s>','<s>']\n",
        "    candidates = [(initial_state, 0)]\n",
        "    # sentence = word_tokenize(sentence)\n",
        "    max_depth = len(sentence)\n",
        "    for depth in range(max_depth):\n",
        "        new_candidates = []\n",
        "        for candidate, prob in candidates:\n",
        "            for next_state, dist in generate_candidates_fn(candidate, sentence[depth],vocab):\n",
        "\n",
        "                # Prob we add the previous prob, the prob of the next state and the inverse of the distance\n",
        "                new_prob = prob + score_fn(next_state,len(vocab),0.01, trigram_counter, bigram_counter, dist, l1=0.2, l2=0.8)\n",
        "\n",
        "                new_candidates.append((next_state, new_prob))\n",
        "\n",
        "\n",
        "        new_candidates = sorted(new_candidates, key=lambda x: x[1], reverse=True)\n",
        "\n",
        "        candidates = new_candidates[:beam_width]\n",
        "        print(candidates)\n",
        "        # print(candidates)\n",
        "    best_sequence, best_prob = max(candidates, key=lambda x: x[1])\n",
        "    return best_sequence[2:]\n",
        "\n",
        "\n",
        "test_sentence = word_tokenize(\"I ae coming to down\")\n",
        "beam_width = 5\n",
        "best_sequence = beam_search_spelling(test_sentence, beam_width, 0.2, 0.8, generate_candidate_with_distance, score)\n",
        "print(' '.join(best_sequence))  # Excluding the \"<start>\" token"
      ]
    },
    {
      "cell_type": "code",
      "execution_count": null,
      "metadata": {
        "colab": {
          "base_uri": "https://localhost:8080/"
        },
        "id": "uKSMXd8eZY7l",
        "outputId": "23965301-b9dd-45c7-8eb6-ab5db769b9b8"
      },
      "outputs": [
        {
          "name": "stdout",
          "output_type": "stream",
          "text": [
            "['I', 'are', 'coming', 'to', 'down']\n"
          ]
        }
      ],
      "source": [
        "trigram_counter.get"
      ]
    },
    {
      "cell_type": "code",
      "execution_count": null,
      "metadata": {
        "id": "-xgDR-6wcAoT",
        "colab": {
          "base_uri": "https://localhost:8080/"
        },
        "outputId": "2ed61515-de76-496a-cbe4-58c3737983a2"
      },
      "outputs": [
        {
          "output_type": "stream",
          "name": "stdout",
          "text": [
            "0.2059215306369581\n"
          ]
        }
      ],
      "source": [
        "ngram_count = trigram_counter[('<s>','<s>','I')]\n",
        "context = ('<s>','<s>',)\n",
        "ngram_minus_one_count = bigram_counter[context]\n",
        "ngram_prob = (ngram_count + 0.01) / (ngram_minus_one_count + (0.01 * len(vocab)))\n",
        "print(ngram_prob)\n",
        "# Convert to log probability\n",
        "# ngram_prob = math.log2(ngram_prob)"
      ]
    },
    {
      "cell_type": "code",
      "execution_count": null,
      "metadata": {
        "id": "MdqoSt81cApn",
        "colab": {
          "base_uri": "https://localhost:8080/"
        },
        "outputId": "1f43df68-18fc-4011-ac4c-5e58e3fe9ae8"
      },
      "outputs": [
        {
          "output_type": "execute_result",
          "data": {
            "text/plain": [
              "-2.321928094887362"
            ]
          },
          "metadata": {},
          "execution_count": 49
        }
      ],
      "source": [
        "math.log2(0.2)"
      ]
    },
    {
      "cell_type": "code",
      "execution_count": null,
      "metadata": {
        "id": "mZ8PWsuUcAs7",
        "colab": {
          "base_uri": "https://localhost:8080/"
        },
        "outputId": "ee440afe-381f-4900-cbb0-6e6205456742"
      },
      "outputs": [
        {
          "output_type": "execute_result",
          "data": {
            "text/plain": [
              "0"
            ]
          },
          "metadata": {},
          "execution_count": 122
        }
      ],
      "source": []
    },
    {
      "cell_type": "markdown",
      "metadata": {
        "id": "HlRcTGqdcA2b"
      },
      "source": [
        "# EVALUATE"
      ]
    },
    {
      "cell_type": "code",
      "execution_count": 54,
      "metadata": {
        "colab": {
          "base_uri": "https://localhost:8080/"
        },
        "id": "PeNIIINYcBur",
        "outputId": "c58d1c66-5364-44c2-fdfa-857551e2e25d"
      },
      "outputs": [
        {
          "output_type": "stream",
          "name": "stdout",
          "text": [
            "['The', 'commirsion', 'is', 'expected', 'to', 'apprnve', 'the', 'applicathon', 'at', 'a', 'meeting', 'uomorrow', '.']\n",
            "______________________\n",
            "['\"', 'The', 'Unitad', 'States', 'end', 'the', 'six', 'major', 'hndusurial', 'countrier', 'are', 'fully', 'commiuted', 'to', 'hmplemanting', 'our', 'undertajings', 'io', 'there', 'agreementr', ',\"', 'Bejer', 'told', 'the', 'maetings', '.']\n",
            "______________________\n",
            "['Son', 'Line', 'said', 'in', 'Jaouary', 'iu', 'was', 'seekinf', 'bids', 'for', 'the', 'psoperty', '.']\n",
            "______________________\n",
            "['Cain', '-', 'Sloan', 'has', 'four', 'stnres', 'hn', 'Nashville', '.']\n",
            "______________________\n",
            "['Romero', 'seid', 'he', 'would', 'tell', 'big', 'buyers', 'of', 'copra', 'leal', 'io', 'Loodon', 'that', 'the', 'Philhppioes', 'was', 'doiog', 'its', 'best', 'to', 'meet', 'EC', 'standarbs', '.']\n",
            "______________________\n",
            "['Pretex', 'qsnfius', 'also', 'dhpped', 'uo', '601', '.', '7', 'mln', 'stg', 'afuer', '614', '.', '4', 'mln', '.']\n",
            "______________________\n",
            "['Asked', 'in', 'an', 'interview', 'if', 'it', 'was', 'uime', 'tn', 'coorider', 'a', 'marketing', 'loan', 'gor', 'soybeans', ',', 'Lyng', 'raid', ',', '\"', 'I', 'don', \"'\", 't', 'uhink', 'sn', '.']\n",
            "______________________\n",
            "['Io', 'January', 'setail', 'pricar', 'rose', '6', '.', '6', 'pct', 'fsom', 'Decemder', 'to', 'stand', '90', '.', '4', 'pct', 'iighes', 'than', 'hn', 'January', '1986', '.']\n",
            "______________________\n",
            "['AGENCY', 'HEAD', 'SAYS', 'JAPAN', 'SHOULD', 'CUT', 'RICE', 'PRICE', 'The', 'goveroment', 'shnuld', 'cuu', 'its', 'ennsumer', 'rice', 'qrhce', 'if', 'the', 'official', 'qsoducer', 'qrhce', 'is', 'rabtced', 'nexu', 'monuh', ',', 'Tetsuo', 'Kondo', ',', 'disectnr', 'generam', 'of', 'the', 'government', \"'\", 's', 'Economie', 'Plannhng', 'Afeocy', '(', 'EPA', '),', 'tomd', 'reporters', '.']\n",
            "______________________\n",
            "['The', 'deal', 'incmudad', 'tha', 'licanse', 'for', 'Visa', 'credht', 'cards', '.']\n",
            "______________________\n",
            "['This', 'brougit', 'combined', 'wheat', 'and', 'barley', 'exports', 'since', 'uie', 'seesnn', 'starued', 'on', 'Julx', '1', 'to', '7', '.', '60', 'mln', 'tonnes', ',', 'substaotially', 'uq', 'on', 'the', '4', '.', '02', 'mln', 'exported', 'io', 'the', 'same', '1985', '/', '86', 'period', '.']\n",
            "______________________\n",
            "['\"', 'We', 'nead', 'time', 'for', 'thore', 'actions', 'and', 'the', 'earlier', 'depreciatinn', 'to', 'work', 'their', 'effects', ',\"', 'he', 'said', '.']\n",
            "______________________\n",
            "['While', 'tha', 'meesure', 'does', 'not', 'dind', 'Reagan', 'to', 'any', 'action', ',', 'Senaua', 'leaders', 'saib', 'its', 'adoptioo', 'would', 'warn', 'Japan', 'stigger', 'lefislation', 'wntmb', 'be', 'eonsidared', 'if', 'tha', 'vinlations', 'cnntioue', '.']\n",
            "______________________\n",
            "['Eyqansioo', 'by', 'tha', 'Japanese', 'firl', ',', 'said', 'analysts', 'qnlled', 'by', 'Reuters', '.']\n",
            "______________________\n",
            "['It', 'wes', 'dnwn', 'over', 'thrae', 'qohntr', 'Wednasday', 'moroing', 'degore', 'closing', 'down', '7', '/', '8', '.']\n",
            "______________________\n",
            "['\"', 'That', 'pattern', 'is', 'starting', 'and', 'will', 'continue', 'fnr', 'a', 'numbes', 'og', 'years', ',\"', 'Chhlerine', 'seid', '.']\n",
            "______________________\n",
            "['\"', 'I', 'don', \"'\", 'u', 'think', 'managemenu', 'war', 'lnoking', 'for', 'a', 'buyer', 'in', 'any', 'wax', 'before', 'uhis', 'offes', ',\"', 'he', 'said', '.']\n",
            "______________________\n",
            "['NORTHWEST', 'TELEPRODUCTIONS', '&', 'lt', ';', 'NWTL', '.', 'O', '>', '4TH', 'QTR', 'NET', 'Shr', '15', 'ctr', 'vr', '16', 'ets', 'Net', '239', ',', '034', 'vs', '264', ',', '485', 'Sales', '2', ',', '932', ',', '782', 'vs', '2', ',', '664', ',', '853', 'Year', 'Shr', '57', 'cts', 'vs', '45', 'cts', 'Net', '929', ',', '524', 'vs', '741', ',', '121', 'Saler', '10', '.', '9', 'lln', 'vr', '9', ',', '708', ',', '792']\n",
            "______________________\n",
            "['\"', 'We', 'are', 'not', 'trxing', 'un', 'selm', 'the', 'companx', '.']\n",
            "______________________\n",
            "['The', 'U', '.', 'S', '.', 'soybean', 'indususy', 'baliewes', 'labels', 'indicating', 'uropical', 'oils', 'are', 'iigh', 'in', 'saturateb', 'faur', 'would', 'discourage', 'cnnsumpthon', 'of', 'the', 'ohls', ',', 'impnsted', 'psimarily', 'from', 'Mamaysia', ',', 'Indonesia', 'and', 'the', 'Piilippioas', '.']\n",
            "______________________\n"
          ]
        }
      ],
      "source": [
        "import random\n",
        "\n",
        "def replace_characters(sentence, probability):\n",
        "    modified_sentence = []\n",
        "    for word in sentence:\n",
        "        modified_word = ''\n",
        "        for char in word:\n",
        "            if char != ' ' and random.random() < probability:\n",
        "                # Replace non-space character with a visually or acoustically similar character\n",
        "                # You can customize this part based on your preference or use external libraries for similarity\n",
        "                modified_char = get_similar_char(char)\n",
        "                modified_word += modified_char\n",
        "            else:\n",
        "                modified_word += char\n",
        "        modified_sentence.append(modified_word)\n",
        "    return modified_sentence\n",
        "\n",
        "def get_similar_char(char):\n",
        "    # Replace this with your logic to get a visually or acoustically similar character\n",
        "    # For simplicity, using a basic example here (you can expand this based on your requirements)\n",
        "    similar_chars = {'a': 'e', 'b': 'd', 'c': 'e', 'd': 'b', 'e': 'a', 'f': 'g',\n",
        "                     'g': 'f', 'h': 'i', 'i': 'h', 'j': 'k', 'k': 'j', 'l': 'm',\n",
        "                     'm': 'l', 'n': 'o', 'o': 'n', 'p': 'q', 'q': 'p', 'r': 's',\n",
        "                     's': 'r', 't': 'u', 'u': 't', 'v': 'w', 'w': 'v', 'x': 'y',\n",
        "                     'y': 'x', 'z': 'z'}\n",
        "    return similar_chars.get(char, char)\n",
        "\n",
        "def modify_corpus(corpus, probability):\n",
        "    modified_corpus = []\n",
        "    for sentence in corpus:\n",
        "        modified_sentence = replace_characters(sentence, probability)\n",
        "        modified_corpus.append(modified_sentence)\n",
        "    return modified_corpus\n",
        "\n",
        "# Example usage with a probability of 0.1 (10% chance of replacing each non-space character)\n",
        "modified_test_corpus = modify_corpus(test_sents, 0.1)\n",
        "\n",
        "print_cnt = 0\n",
        "for sent in modified_test_corpus:\n",
        "  print_cnt +=1\n",
        "  print(sent)\n",
        "  print(\"______________________\")\n",
        "  if print_cnt == 20:\n",
        "    break;"
      ]
    },
    {
      "cell_type": "code",
      "execution_count": 55,
      "metadata": {
        "colab": {
          "base_uri": "https://localhost:8080/"
        },
        "id": "Q-iWJdExcCJa",
        "outputId": "5f0082c6-f707-4f76-ac9c-b03ebf849f80"
      },
      "outputs": [
        {
          "output_type": "stream",
          "name": "stdout",
          "text": [
            "[(['<s>', '<s>', 'The'], 62131691893200.945), (['<s>', '<s>', 'They'], 3142179875280.0146), (['<s>', '<s>', 'the'], 2444701822364.836)]\n",
            "[(['<s>', '<s>', 'The', 'commission'], 62131691893200.945), (['<s>', '<s>', 'The', 'Commission'], 62131691893200.945), (['<s>', '<s>', 'The', 'commissions'], 62131691893200.945)]\n",
            "[(['<s>', '<s>', 'The', 'commission', 'is'], 62131691893201.04), (['<s>', '<s>', 'The', 'commission', 'in'], 62131691893201.02), (['<s>', '<s>', 'The', 'Commission', 'in'], 62131691893201.0)]\n",
            "[(['<s>', '<s>', 'The', 'commission', 'is', 'expected'], 62131691893201.04), (['<s>', '<s>', 'The', 'commission', 'is', 'expect'], 62131691893201.04), (['<s>', '<s>', 'The', 'commission', 'is', 'expects'], 62131691893201.04)]\n",
            "[(['<s>', '<s>', 'The', 'commission', 'is', 'expected', 'to'], 62131691893201.914), (['<s>', '<s>', 'The', 'commission', 'is', 'expected', 'Co'], 62131691893201.04), (['<s>', '<s>', 'The', 'commission', 'is', 'expected', 'no'], 62131691893201.04)]\n",
            "[(['<s>', '<s>', 'The', 'commission', 'is', 'expected', 'to', 'approve'], 62131691893201.92), (['<s>', '<s>', 'The', 'commission', 'is', 'expected', 'to', 'improve'], 62131691893201.92), (['<s>', '<s>', 'The', 'commission', 'is', 'expected', 'to', 'approved'], 62131691893201.914)]\n",
            "[(['<s>', '<s>', 'The', 'commission', 'is', 'expected', 'to', 'approve', 'the'], 62131691893202.4), (['<s>', '<s>', 'The', 'commission', 'is', 'expected', 'to', 'improve', 'the'], 62131691893202.13), (['<s>', '<s>', 'The', 'commission', 'is', 'expected', 'to', 'approved', 'the'], 62131691893201.98)]\n",
            "[(['<s>', '<s>', 'The', 'commission', 'is', 'expected', 'to', 'approve', 'the', 'application'], 62131691893202.4), (['<s>', '<s>', 'The', 'commission', 'is', 'expected', 'to', 'approve', 'the', 'applications'], 62131691893202.4), (['<s>', '<s>', 'The', 'commission', 'is', 'expected', 'to', 'approve', 'the', 'Applications'], 62131691893202.4)]\n",
            "[(['<s>', '<s>', 'The', 'commission', 'is', 'expected', 'to', 'approve', 'the', 'applications', 'at'], 62131691893202.44), (['<s>', '<s>', 'The', 'commission', 'is', 'expected', 'to', 'approve', 'the', 'applications', 'a'], 62131691893202.44), (['<s>', '<s>', 'The', 'commission', 'is', 'expected', 'to', 'approve', 'the', 'application', 'at'], 62131691893202.42)]\n",
            "[(['<s>', '<s>', 'The', 'commission', 'is', 'expected', 'to', 'approve', 'the', 'applications', 'at', 'a'], 62131691893202.44), (['<s>', '<s>', 'The', 'commission', 'is', 'expected', 'to', 'approve', 'the', 'applications', 'at', ','], 62131691893202.44), (['<s>', '<s>', 'The', 'commission', 'is', 'expected', 'to', 'approve', 'the', 'applications', 'at', '.'], 62131691893202.44)]\n",
            "[(['<s>', '<s>', 'The', 'commission', 'is', 'expected', 'to', 'approve', 'the', 'applications', 'at', 'a', 'meeting'], 62131691893202.516), (['<s>', '<s>', 'The', 'commission', 'is', 'expected', 'to', 'approve', 'the', 'applications', 'at', '.', 'meeting'], 62131691893202.445), (['<s>', '<s>', 'The', 'commission', 'is', 'expected', 'to', 'approve', 'the', 'applications', 'at', 'a', 'meetings'], 62131691893202.44)]\n",
            "[(['<s>', '<s>', 'The', 'commission', 'is', 'expected', 'to', 'approve', 'the', 'applications', 'at', 'a', 'meeting', 'tomorrow'], 62131691893202.52), (['<s>', '<s>', 'The', 'commission', 'is', 'expected', 'to', 'approve', 'the', 'applications', 'at', 'a', 'meeting', 'Tomorrow'], 62131691893202.516), (['<s>', '<s>', 'The', 'commission', 'is', 'expected', 'to', 'approve', 'the', 'applications', 'at', 'a', 'meeting', 'borrow'], 62131691893202.516)]\n",
            "[(['<s>', '<s>', 'The', 'commission', 'is', 'expected', 'to', 'approve', 'the', 'applications', 'at', 'a', 'meeting', 'tomorrow', ','], 62131691893202.875), (['<s>', '<s>', 'The', 'commission', 'is', 'expected', 'to', 'approve', 'the', 'applications', 'at', 'a', 'meeting', 'tomorrow', '.'], 62131691893202.84), (['<s>', '<s>', 'The', 'commission', 'is', 'expected', 'to', 'approve', 'the', 'applications', 'at', 'a', 'meeting', 'tomorrow', 'a'], 62131691893202.56)]\n",
            "[(['<s>', '<s>', '\"'], 26110258824241.69), (['<s>', '<s>', ','], 7459890415935.098), (['<s>', '<s>', '.'], 5969166918932.01)]\n",
            "[(['<s>', '<s>', '\"', 'The'], 26110258824241.867), (['<s>', '<s>', '\"', 'They'], 26110258824241.723), (['<s>', '<s>', '\"', 'the'], 26110258824241.7)]\n",
            "[(['<s>', '<s>', '\"', 'The', 'United'], 26110258824241.887), (['<s>', '<s>', '\"', 'The', 'Units'], 26110258824241.867), (['<s>', '<s>', '\"', 'The', 'Unit'], 26110258824241.867)]\n",
            "[(['<s>', '<s>', '\"', 'The', 'United', 'States'], 26110258824242.8), (['<s>', '<s>', '\"', 'The', 'United', 'State'], 26110258824241.887), (['<s>', '<s>', '\"', 'The', 'United', 'states'], 26110258824241.887)]\n",
            "[(['<s>', '<s>', '\"', 'The', 'United', 'States', 'and'], 26110258824242.94), (['<s>', '<s>', '\"', 'The', 'United', 'States', 'end'], 26110258824242.8), (['<s>', '<s>', '\"', 'The', 'United', 'States', 'And'], 26110258824242.8)]\n",
            "[(['<s>', '<s>', '\"', 'The', 'United', 'States', 'and', 'the'], 26110258824243.09), (['<s>', '<s>', '\"', 'The', 'United', 'States', 'and', 'The'], 26110258824242.945), (['<s>', '<s>', '\"', 'The', 'United', 'States', 'and', 'they'], 26110258824242.945)]\n",
            "[(['<s>', '<s>', '\"', 'The', 'United', 'States', 'and', 'the', 'six'], 26110258824243.094), (['<s>', '<s>', '\"', 'The', 'United', 'States', 'and', 'the', 'Six'], 26110258824243.09), (['<s>', '<s>', '\"', 'The', 'United', 'States', 'and', 'the', 'fix'], 26110258824243.09)]\n",
            "[(['<s>', '<s>', '\"', 'The', 'United', 'States', 'and', 'the', 'six', 'major'], 26110258824243.17), (['<s>', '<s>', '\"', 'The', 'United', 'States', 'and', 'the', 'six', 'Major'], 26110258824243.094), (['<s>', '<s>', '\"', 'The', 'United', 'States', 'and', 'the', 'six', 'majors'], 26110258824243.094)]\n",
            "[(['<s>', '<s>', '\"', 'The', 'United', 'States', 'and', 'the', 'six', 'major', 'industrial'], 26110258824243.777), (['<s>', '<s>', '\"', 'The', 'United', 'States', 'and', 'the', 'six', 'major', 'Industrial'], 26110258824243.17), (['<s>', '<s>', '\"', 'The', 'United', 'States', 'and', 'the', 'six', 'major', 'Industries'], 26110258824243.17)]\n",
            "[(['<s>', '<s>', '\"', 'The', 'United', 'States', 'and', 'the', 'six', 'major', 'industrial', 'countries'], 26110258824244.04), (['<s>', '<s>', '\"', 'The', 'United', 'States', 'and', 'the', 'six', 'major', 'industrial', 'courier'], 26110258824243.777), (['<s>', '<s>', '\"', 'The', 'United', 'States', 'and', 'the', 'six', 'major', 'industrial', 'counter'], 26110258824243.777)]\n",
            "[(['<s>', '<s>', '\"', 'The', 'United', 'States', 'and', 'the', 'six', 'major', 'industrial', 'countries', 'are'], 26110258824244.066), (['<s>', '<s>', '\"', 'The', 'United', 'States', 'and', 'the', 'six', 'major', 'industrial', 'countries', 'Care'], 26110258824244.04), (['<s>', '<s>', '\"', 'The', 'United', 'States', 'and', 'the', 'six', 'major', 'industrial', 'countries', 'pre'], 26110258824244.04)]\n",
            "[(['<s>', '<s>', '\"', 'The', 'United', 'States', 'and', 'the', 'six', 'major', 'industrial', 'countries', 'are', 'fell'], 26110258824244.074), (['<s>', '<s>', '\"', 'The', 'United', 'States', 'and', 'the', 'six', 'major', 'industrial', 'countries', 'are', 'July'], 26110258824244.07), (['<s>', '<s>', '\"', 'The', 'United', 'States', 'and', 'the', 'six', 'major', 'industrial', 'countries', 'are', 'fall'], 26110258824244.07)]\n",
            "[(['<s>', '<s>', '\"', 'The', 'United', 'States', 'and', 'the', 'six', 'major', 'industrial', 'countries', 'are', 'fell', 'committed'], 26110258824244.074), (['<s>', '<s>', '\"', 'The', 'United', 'States', 'and', 'the', 'six', 'major', 'industrial', 'countries', 'are', 'fell', 'committee'], 26110258824244.074), (['<s>', '<s>', '\"', 'The', 'United', 'States', 'and', 'the', 'six', 'major', 'industrial', 'countries', 'are', 'fell', 'commented'], 26110258824244.074)]\n",
            "[(['<s>', '<s>', '\"', 'The', 'United', 'States', 'and', 'the', 'six', 'major', 'industrial', 'countries', 'are', 'fell', 'committed', 'to'], 26110258824244.074), (['<s>', '<s>', '\"', 'The', 'United', 'States', 'and', 'the', 'six', 'major', 'industrial', 'countries', 'are', 'fell', 'committed', 'Co'], 26110258824244.074), (['<s>', '<s>', '\"', 'The', 'United', 'States', 'and', 'the', 'six', 'major', 'industrial', 'countries', 'are', 'fell', 'committed', 'no'], 26110258824244.074)]\n",
            "[(['<s>', '<s>', '\"', 'The', 'United', 'States', 'and', 'the', 'six', 'major', 'industrial', 'countries', 'are', 'fell', 'committed', 'to', 'implementing'], 26110258824244.074), (['<s>', '<s>', '\"', 'The', 'United', 'States', 'and', 'the', 'six', 'major', 'industrial', 'countries', 'are', 'fell', 'committed', 'to', 'replanting'], 26110258824244.074), (['<s>', '<s>', '\"', 'The', 'United', 'States', 'and', 'the', 'six', 'major', 'industrial', 'countries', 'are', 'fell', 'committed', 'to', 'completing'], 26110258824244.074)]\n",
            "[(['<s>', '<s>', '\"', 'The', 'United', 'States', 'and', 'the', 'six', 'major', 'industrial', 'countries', 'are', 'fell', 'committed', 'to', 'implementing', 'or'], 26110258824244.09), (['<s>', '<s>', '\"', 'The', 'United', 'States', 'and', 'the', 'six', 'major', 'industrial', 'countries', 'are', 'fell', 'committed', 'to', 'completing', 'or'], 26110258824244.09), (['<s>', '<s>', '\"', 'The', 'United', 'States', 'and', 'the', 'six', 'major', 'industrial', 'countries', 'are', 'fell', 'committed', 'to', 'implementing', 'out'], 26110258824244.082)]\n",
            "[(['<s>', '<s>', '\"', 'The', 'United', 'States', 'and', 'the', 'six', 'major', 'industrial', 'countries', 'are', 'fell', 'committed', 'to', 'implementing', 'or', 'undertakings'], 26110258824244.09), (['<s>', '<s>', '\"', 'The', 'United', 'States', 'and', 'the', 'six', 'major', 'industrial', 'countries', 'are', 'fell', 'committed', 'to', 'implementing', 'or', 'undertaking'], 26110258824244.09), (['<s>', '<s>', '\"', 'The', 'United', 'States', 'and', 'the', 'six', 'major', 'industrial', 'countries', 'are', 'fell', 'committed', 'to', 'implementing', 'or', 'understandings'], 26110258824244.09)]\n",
            "[(['<s>', '<s>', '\"', 'The', 'United', 'States', 'and', 'the', 'six', 'major', 'industrial', 'countries', 'are', 'fell', 'committed', 'to', 'implementing', 'or', 'understandings', 'to'], 26110258824244.133), (['<s>', '<s>', '\"', 'The', 'United', 'States', 'and', 'the', 'six', 'major', 'industrial', 'countries', 'are', 'fell', 'committed', 'to', 'implementing', 'or', 'understandings', 'in'], 26110258824244.133), (['<s>', '<s>', '\"', 'The', 'United', 'States', 'and', 'the', 'six', 'major', 'industrial', 'countries', 'are', 'fell', 'committed', 'to', 'implementing', 'or', 'understandings', 'it'], 26110258824244.098)]\n",
            "[(['<s>', '<s>', '\"', 'The', 'United', 'States', 'and', 'the', 'six', 'major', 'industrial', 'countries', 'are', 'fell', 'committed', 'to', 'implementing', 'or', 'understandings', 'to', 'there'], 26110258824244.133), (['<s>', '<s>', '\"', 'The', 'United', 'States', 'and', 'the', 'six', 'major', 'industrial', 'countries', 'are', 'fell', 'committed', 'to', 'implementing', 'or', 'understandings', 'to', 'three'], 26110258824244.133), (['<s>', '<s>', '\"', 'The', 'United', 'States', 'and', 'the', 'six', 'major', 'industrial', 'countries', 'are', 'fell', 'committed', 'to', 'implementing', 'or', 'understandings', 'to', 'here'], 26110258824244.133)]\n",
            "[(['<s>', '<s>', '\"', 'The', 'United', 'States', 'and', 'the', 'six', 'major', 'industrial', 'countries', 'are', 'fell', 'committed', 'to', 'implementing', 'or', 'understandings', 'to', 'here', 'agreement'], 26110258824244.137), (['<s>', '<s>', '\"', 'The', 'United', 'States', 'and', 'the', 'six', 'major', 'industrial', 'countries', 'are', 'fell', 'committed', 'to', 'implementing', 'or', 'understandings', 'to', 'here', 'agreements'], 26110258824244.137), (['<s>', '<s>', '\"', 'The', 'United', 'States', 'and', 'the', 'six', 'major', 'industrial', 'countries', 'are', 'fell', 'committed', 'to', 'implementing', 'or', 'understandings', 'to', 'there', 'agreement'], 26110258824244.133)]\n",
            "[(['<s>', '<s>', '\"', 'The', 'United', 'States', 'and', 'the', 'six', 'major', 'industrial', 'countries', 'are', 'fell', 'committed', 'to', 'implementing', 'or', 'understandings', 'to', 'here', 'agreement', ',\"'], 26110258824244.137), (['<s>', '<s>', '\"', 'The', 'United', 'States', 'and', 'the', 'six', 'major', 'industrial', 'countries', 'are', 'fell', 'committed', 'to', 'implementing', 'or', 'understandings', 'to', 'here', 'agreement', ','], 26110258824244.137), (['<s>', '<s>', '\"', 'The', 'United', 'States', 'and', 'the', 'six', 'major', 'industrial', 'countries', 'are', 'fell', 'committed', 'to', 'implementing', 'or', 'understandings', 'to', 'here', 'agreement', '\"'], 26110258824244.137)]\n",
            "[(['<s>', '<s>', '\"', 'The', 'United', 'States', 'and', 'the', 'six', 'major', 'industrial', 'countries', 'are', 'fell', 'committed', 'to', 'implementing', 'or', 'understandings', 'to', 'here', 'agreement', ',\"', 'Peter'], 26110258824244.137), (['<s>', '<s>', '\"', 'The', 'United', 'States', 'and', 'the', 'six', 'major', 'industrial', 'countries', 'are', 'fell', 'committed', 'to', 'implementing', 'or', 'understandings', 'to', 'here', 'agreement', ',\"', 'Baker'], 26110258824244.137), (['<s>', '<s>', '\"', 'The', 'United', 'States', 'and', 'the', 'six', 'major', 'industrial', 'countries', 'are', 'fell', 'committed', 'to', 'implementing', 'or', 'understandings', 'to', 'here', 'agreement', ',\"', 'never'], 26110258824244.137)]\n",
            "[(['<s>', '<s>', '\"', 'The', 'United', 'States', 'and', 'the', 'six', 'major', 'industrial', 'countries', 'are', 'fell', 'committed', 'to', 'implementing', 'or', 'understandings', 'to', 'here', 'agreement', ',\"', 'Baker', 'told'], 26110258824244.332), (['<s>', '<s>', '\"', 'The', 'United', 'States', 'and', 'the', 'six', 'major', 'industrial', 'countries', 'are', 'fell', 'committed', 'to', 'implementing', 'or', 'understandings', 'to', 'here', 'agreement', ',\"', 'Peter', 'told'], 26110258824244.14), (['<s>', '<s>', '\"', 'The', 'United', 'States', 'and', 'the', 'six', 'major', 'industrial', 'countries', 'are', 'fell', 'committed', 'to', 'implementing', 'or', 'understandings', 'to', 'here', 'agreement', ',\"', 'Peter', 'gold'], 26110258824244.137)]\n",
            "[(['<s>', '<s>', '\"', 'The', 'United', 'States', 'and', 'the', 'six', 'major', 'industrial', 'countries', 'are', 'fell', 'committed', 'to', 'implementing', 'or', 'understandings', 'to', 'here', 'agreement', ',\"', 'Baker', 'told', 'the'], 26110258824244.742), (['<s>', '<s>', '\"', 'The', 'United', 'States', 'and', 'the', 'six', 'major', 'industrial', 'countries', 'are', 'fell', 'committed', 'to', 'implementing', 'or', 'understandings', 'to', 'here', 'agreement', ',\"', 'Baker', 'told', 'The'], 26110258824244.504), (['<s>', '<s>', '\"', 'The', 'United', 'States', 'and', 'the', 'six', 'major', 'industrial', 'countries', 'are', 'fell', 'committed', 'to', 'implementing', 'or', 'understandings', 'to', 'here', 'agreement', ',\"', 'Baker', 'told', 'they'], 26110258824244.336)]\n",
            "[(['<s>', '<s>', '\"', 'The', 'United', 'States', 'and', 'the', 'six', 'major', 'industrial', 'countries', 'are', 'fell', 'committed', 'to', 'implementing', 'or', 'understandings', 'to', 'here', 'agreement', ',\"', 'Baker', 'told', 'the', 'meeting'], 26110258824244.766), (['<s>', '<s>', '\"', 'The', 'United', 'States', 'and', 'the', 'six', 'major', 'industrial', 'countries', 'are', 'fell', 'committed', 'to', 'implementing', 'or', 'understandings', 'to', 'here', 'agreement', ',\"', 'Baker', 'told', 'the', 'meetings'], 26110258824244.742), (['<s>', '<s>', '\"', 'The', 'United', 'States', 'and', 'the', 'six', 'major', 'industrial', 'countries', 'are', 'fell', 'committed', 'to', 'implementing', 'or', 'understandings', 'to', 'here', 'agreement', ',\"', 'Baker', 'told', 'the', 'ratings'], 26110258824244.742)]\n",
            "[(['<s>', '<s>', '\"', 'The', 'United', 'States', 'and', 'the', 'six', 'major', 'industrial', 'countries', 'are', 'fell', 'committed', 'to', 'implementing', 'or', 'understandings', 'to', 'here', 'agreement', ',\"', 'Baker', 'told', 'the', 'meetings', ','], 26110258824245.016), (['<s>', '<s>', '\"', 'The', 'United', 'States', 'and', 'the', 'six', 'major', 'industrial', 'countries', 'are', 'fell', 'committed', 'to', 'implementing', 'or', 'understandings', 'to', 'here', 'agreement', ',\"', 'Baker', 'told', 'the', 'meetings', '.'], 26110258824244.977), (['<s>', '<s>', '\"', 'The', 'United', 'States', 'and', 'the', 'six', 'major', 'industrial', 'countries', 'are', 'fell', 'committed', 'to', 'implementing', 'or', 'understandings', 'to', 'here', 'agreement', ',\"', 'Baker', 'told', 'the', 'meeting', '.'], 26110258824244.973)]\n",
            "[(['<s>', '<s>', 'on'], 1790182236483.6228), (['<s>', '<s>', 'Non'], 204573167040.01938), (['<s>', '<s>', 'non'], 125647817400.25429)]\n",
            "[(['<s>', '<s>', 'on', 'Line'], 1790182236483.6228), (['<s>', '<s>', 'on', 'Nine'], 1790182236483.6228), (['<s>', '<s>', 'on', 'nine'], 1790182236483.6228)]\n",
            "[(['<s>', '<s>', 'on', 'Line', 'said'], 1790182236483.6228), (['<s>', '<s>', 'on', 'Line', 'paid'], 1790182236483.6228), (['<s>', '<s>', 'on', 'Line', 'aid'], 1790182236483.6228)]\n",
            "[(['<s>', '<s>', 'on', 'Line', 'said', 'in'], 1790182236483.6228), (['<s>', '<s>', 'on', 'Line', 'said', 'if'], 1790182236483.6228), (['<s>', '<s>', 'on', 'Line', 'said', 'it'], 1790182236483.6228)]\n",
            "[(['<s>', '<s>', 'on', 'Line', 'said', 'in', 'January'], 1790182236483.626), (['<s>', '<s>', 'on', 'Line', 'said', 'if', 'January'], 1790182236483.6243), (['<s>', '<s>', 'on', 'Line', 'said', 'if', 'salary'], 1790182236483.623)]\n",
            "[(['<s>', '<s>', 'on', 'Line', 'said', 'if', 'January', 'in'], 1790182236483.668), (['<s>', '<s>', 'on', 'Line', 'said', 'if', 'January', 'is'], 1790182236483.6438), (['<s>', '<s>', 'on', 'Line', 'said', 'in', 'January', 'in'], 1790182236483.6372)]\n",
            "[(['<s>', '<s>', 'on', 'Line', 'said', 'if', 'January', 'in', 'was'], 1790182236483.684), (['<s>', '<s>', 'on', 'Line', 'said', 'if', 'January', 'in', 'as'], 1790182236483.6826), (['<s>', '<s>', 'on', 'Line', 'said', 'if', 'January', 'in', 'has'], 1790182236483.6802)]\n",
            "[(['<s>', '<s>', 'on', 'Line', 'said', 'if', 'January', 'in', 'as', 'meeting'], 1790182236483.6873), (['<s>', '<s>', 'on', 'Line', 'said', 'if', 'January', 'in', 'was', 'seeking'], 1790182236483.684), (['<s>', '<s>', 'on', 'Line', 'said', 'if', 'January', 'in', 'was', 'seeing'], 1790182236483.684)]\n",
            "[(['<s>', '<s>', 'on', 'Line', 'said', 'if', 'January', 'in', 'as', 'meeting', 'bids'], 1790182236483.6873), (['<s>', '<s>', 'on', 'Line', 'said', 'if', 'January', 'in', 'as', 'meeting', 'bid'], 1790182236483.6873), (['<s>', '<s>', 'on', 'Line', 'said', 'if', 'January', 'in', 'as', 'meeting', 'aids'], 1790182236483.6873)]\n",
            "[(['<s>', '<s>', 'on', 'Line', 'said', 'if', 'January', 'in', 'as', 'meeting', 'bids', 'for'], 1790182236483.6873), (['<s>', '<s>', 'on', 'Line', 'said', 'if', 'January', 'in', 'as', 'meeting', 'bids', 'far'], 1790182236483.6873), (['<s>', '<s>', 'on', 'Line', 'said', 'if', 'January', 'in', 'as', 'meeting', 'bids', 'or'], 1790182236483.6873)]\n",
            "[(['<s>', '<s>', 'on', 'Line', 'said', 'if', 'January', 'in', 'as', 'meeting', 'bids', 'for', 'the'], 1790182236483.9568), (['<s>', '<s>', 'on', 'Line', 'said', 'if', 'January', 'in', 'as', 'meeting', 'bids', 'or', 'the'], 1790182236483.7478), (['<s>', '<s>', 'on', 'Line', 'said', 'if', 'January', 'in', 'as', 'meeting', 'bids', 'or', 'The'], 1790182236483.699)]\n",
            "[(['<s>', '<s>', 'on', 'Line', 'said', 'if', 'January', 'in', 'as', 'meeting', 'bids', 'for', 'the', 'property'], 1790182236483.9575), (['<s>', '<s>', 'on', 'Line', 'said', 'if', 'January', 'in', 'as', 'meeting', 'bids', 'for', 'the', 'properly'], 1790182236483.9568), (['<s>', '<s>', 'on', 'Line', 'said', 'if', 'January', 'in', 'as', 'meeting', 'bids', 'for', 'the', 'Property'], 1790182236483.9568)]\n",
            "[(['<s>', '<s>', 'on', 'Line', 'said', 'if', 'January', 'in', 'as', 'meeting', 'bids', 'for', 'the', 'property', '.'], 1790182236484.2576), (['<s>', '<s>', 'on', 'Line', 'said', 'if', 'January', 'in', 'as', 'meeting', 'bids', 'for', 'the', 'property', ','], 1790182236484.099), (['<s>', '<s>', 'on', 'Line', 'said', 'if', 'January', 'in', 'as', 'meeting', 'bids', 'for', 'the', 'property', 'a'], 1790182236483.988)]\n",
            "[(['<s>', '<s>', 'gain'], 99321608040.201), (['<s>', '<s>', 'rain'], 32309438760.065388), (['<s>', '<s>', 'main'], 31112792880.062965)]\n",
            "[(['<s>', '<s>', 'gain', '-'], 99321608040.201), (['<s>', '<s>', 'gain', ','], 99321608040.201), (['<s>', '<s>', 'gain', 'a'], 99321608040.201)]\n",
            "[(['<s>', '<s>', 'gain', 'a', 'plan'], 99321608040.2046), (['<s>', '<s>', 'gain', 'a', 'loan'], 99321608040.2043), (['<s>', '<s>', 'gain', 'a', 'loans'], 99321608040.20393)]\n",
            "[(['<s>', '<s>', 'gain', 'a', 'loan', 'was'], 99321608040.23114), (['<s>', '<s>', 'gain', 'a', 'loan', 'as'], 99321608040.22856), (['<s>', '<s>', 'gain', 'a', 'loan', 'has'], 99321608040.22456)]\n",
            "[(['<s>', '<s>', 'gain', 'a', 'loan', 'was', 'for'], 99321608040.2869), (['<s>', '<s>', 'gain', 'a', 'loan', 'was', 'four'], 99321608040.23508), (['<s>', '<s>', 'gain', 'a', 'loan', 'was', 'our'], 99321608040.23505)]\n",
            "[(['<s>', '<s>', 'gain', 'a', 'loan', 'was', 'for', 'shares'], 99321608040.30016), (['<s>', '<s>', 'gain', 'a', 'loan', 'was', 'for', 'states'], 99321608040.28896), (['<s>', '<s>', 'gain', 'a', 'loan', 'was', 'for', 'stores'], 99321608040.28847)]\n",
            "[(['<s>', '<s>', 'gain', 'a', 'loan', 'was', 'for', 'shares', 'in'], 99321608040.77516), (['<s>', '<s>', 'gain', 'a', 'loan', 'was', 'for', 'shares', 'on'], 99321608040.33035), (['<s>', '<s>', 'gain', 'a', 'loan', 'was', 'for', 'shares', 'an'], 99321608040.31117)]\n",
            "[(['<s>', '<s>', 'gain', 'a', 'loan', 'was', 'for', 'shares', 'in', 'possible'], 99321608040.77605), (['<s>', '<s>', 'gain', 'a', 'loan', 'was', 'for', 'shares', 'in', 'gasoline'], 99321608040.77563), (['<s>', '<s>', 'gain', 'a', 'loan', 'was', 'for', 'shares', 'in', 'hostile'], 99321608040.77545)]\n",
            "[(['<s>', '<s>', 'gain', 'a', 'loan', 'was', 'for', 'shares', 'in', 'gasoline', ','], 99321608040.96436), (['<s>', '<s>', 'gain', 'a', 'loan', 'was', 'for', 'shares', 'in', 'hostile', ','], 99321608040.96417), (['<s>', '<s>', 'gain', 'a', 'loan', 'was', 'for', 'shares', 'in', 'gasoline', '.'], 99321608040.92575)]\n",
            "[(['<s>', '<s>', 'Robert'], 148079251680.0872), (['<s>', '<s>', 'Romero'], 52179875280.014534), (['<s>', '<s>', 'Rogers'], 33376521160.016953)]\n",
            "[(['<s>', '<s>', 'Robert', 'said'], 148079251680.12897), (['<s>', '<s>', 'Robert', 'slid'], 148079251680.08734), (['<s>', '<s>', 'Robert', 'send'], 148079251680.08734)]\n",
            "[(['<s>', '<s>', 'Robert', 'said', 'he'], 148079251680.12897), (['<s>', '<s>', 'Robert', 'said', 'The'], 148079251680.12897), (['<s>', '<s>', 'Robert', 'said', 'be'], 148079251680.12897)]\n",
            "[(['<s>', '<s>', 'Robert', 'said', 'he', 'would'], 148079251680.21063), (['<s>', '<s>', 'Robert', 'said', 'he', 'could'], 148079251680.16895), (['<s>', '<s>', 'Robert', 'said', 'The', 'would'], 148079251680.15765)]\n",
            "[(['<s>', '<s>', 'Robert', 'said', 'he', 'would', 'fell'], 148079251680.21436), (['<s>', '<s>', 'Robert', 'said', 'he', 'would', 'well'], 148079251680.2124), (['<s>', '<s>', 'Robert', 'said', 'he', 'would', 'sell'], 148079251680.21127)]\n",
            "[(['<s>', '<s>', 'Robert', 'said', 'he', 'would', 'fell', 'big'], 148079251680.21436), (['<s>', '<s>', 'Robert', 'said', 'he', 'would', 'fell', 'bid'], 148079251680.21436), (['<s>', '<s>', 'Robert', 'said', 'he', 'would', 'fell', 'rig'], 148079251680.21436)]\n",
            "[(['<s>', '<s>', 'Robert', 'said', 'he', 'would', 'fell', 'big', 'buyers'], 148079251680.21436), (['<s>', '<s>', 'Robert', 'said', 'he', 'would', 'fell', 'big', 'buyer'], 148079251680.21436), (['<s>', '<s>', 'Robert', 'said', 'he', 'would', 'fell', 'big', 'Buyers'], 148079251680.21436)]\n",
            "[(['<s>', '<s>', 'Robert', 'said', 'he', 'would', 'fell', 'big', 'buyers', 'of'], 148079251680.2854), (['<s>', '<s>', 'Robert', 'said', 'he', 'would', 'fell', 'big', 'buyers', 'on'], 148079251680.25964), (['<s>', '<s>', 'Robert', 'said', 'he', 'would', 'fell', 'big', 'buyers', 'or'], 148079251680.23187)]\n",
            "[(['<s>', '<s>', 'Robert', 'said', 'he', 'would', 'fell', 'big', 'buyers', 'of', 'corn'], 148079251680.28778), (['<s>', '<s>', 'Robert', 'said', 'he', 'would', 'fell', 'big', 'buyers', 'of', 'cocoa'], 148079251680.28696), (['<s>', '<s>', 'Robert', 'said', 'he', 'would', 'fell', 'big', 'buyers', 'of', 'court'], 148079251680.28635)]\n",
            "[(['<s>', '<s>', 'Robert', 'said', 'he', 'would', 'fell', 'big', 'buyers', 'of', 'corn', 'lead'], 148079251680.2889), (['<s>', '<s>', 'Robert', 'said', 'he', 'would', 'fell', 'big', 'buyers', 'of', 'corn', 'real'], 148079251680.2889), (['<s>', '<s>', 'Robert', 'said', 'he', 'would', 'fell', 'big', 'buyers', 'of', 'corn', 'deal'], 148079251680.28882)]\n",
            "[(['<s>', '<s>', 'Robert', 'said', 'he', 'would', 'fell', 'big', 'buyers', 'of', 'corn', 'lead', 'to'], 148079251680.2889), (['<s>', '<s>', 'Robert', 'said', 'he', 'would', 'fell', 'big', 'buyers', 'of', 'corn', 'lead', 'if'], 148079251680.2889), (['<s>', '<s>', 'Robert', 'said', 'he', 'would', 'fell', 'big', 'buyers', 'of', 'corn', 'lead', 'it'], 148079251680.2889)]\n",
            "[(['<s>', '<s>', 'Robert', 'said', 'he', 'would', 'fell', 'big', 'buyers', 'of', 'corn', 'lead', 'it', 'common'], 148079251680.29318), (['<s>', '<s>', 'Robert', 'said', 'he', 'would', 'fell', 'big', 'buyers', 'of', 'corn', 'lead', 'to', 'common'], 148079251680.29196), (['<s>', '<s>', 'Robert', 'said', 'he', 'would', 'fell', 'big', 'buyers', 'of', 'corn', 'lead', 'it', 'London'], 148079251680.28976)]\n",
            "[(['<s>', '<s>', 'Robert', 'said', 'he', 'would', 'fell', 'big', 'buyers', 'of', 'corn', 'lead', 'to', 'common', 'that'], 148079251680.30225), (['<s>', '<s>', 'Robert', 'said', 'he', 'would', 'fell', 'big', 'buyers', 'of', 'corn', 'lead', 'to', 'common', 'than'], 148079251680.29382), (['<s>', '<s>', 'Robert', 'said', 'he', 'would', 'fell', 'big', 'buyers', 'of', 'corn', 'lead', 'it', 'common', 'that'], 148079251680.29318)]\n",
            "[(['<s>', '<s>', 'Robert', 'said', 'he', 'would', 'fell', 'big', 'buyers', 'of', 'corn', 'lead', 'to', 'common', 'that', 'the'], 148079251680.30225), (['<s>', '<s>', 'Robert', 'said', 'he', 'would', 'fell', 'big', 'buyers', 'of', 'corn', 'lead', 'to', 'common', 'that', 'The'], 148079251680.30225), (['<s>', '<s>', 'Robert', 'said', 'he', 'would', 'fell', 'big', 'buyers', 'of', 'corn', 'lead', 'to', 'common', 'that', 'they'], 148079251680.30225)]\n",
            "[(['<s>', '<s>', 'Robert', 'said', 'he', 'would', 'fell', 'big', 'buyers', 'of', 'corn', 'lead', 'to', 'common', 'that', 'the', 'Philippine'], 148079251680.30255), (['<s>', '<s>', 'Robert', 'said', 'he', 'would', 'fell', 'big', 'buyers', 'of', 'corn', 'lead', 'to', 'common', 'that', 'they', 'Philippine'], 148079251680.30255), (['<s>', '<s>', 'Robert', 'said', 'he', 'would', 'fell', 'big', 'buyers', 'of', 'corn', 'lead', 'to', 'common', 'that', 'the', 'Philippines'], 148079251680.30234)]\n",
            "[(['<s>', '<s>', 'Robert', 'said', 'he', 'would', 'fell', 'big', 'buyers', 'of', 'corn', 'lead', 'to', 'common', 'that', 'the', 'Philippines', 'was'], 148079251680.44077), (['<s>', '<s>', 'Robert', 'said', 'he', 'would', 'fell', 'big', 'buyers', 'of', 'corn', 'lead', 'to', 'common', 'that', 'the', 'Philippine', 'was'], 148079251680.33075), (['<s>', '<s>', 'Robert', 'said', 'he', 'would', 'fell', 'big', 'buyers', 'of', 'corn', 'lead', 'to', 'common', 'that', 'the', 'Philippine', 'as'], 148079251680.32803)]\n",
            "[(['<s>', '<s>', 'Robert', 'said', 'he', 'would', 'fell', 'big', 'buyers', 'of', 'corn', 'lead', 'to', 'common', 'that', 'the', 'Philippines', 'was', 'cocoa'], 148079251680.4428), (['<s>', '<s>', 'Robert', 'said', 'he', 'would', 'fell', 'big', 'buyers', 'of', 'corn', 'lead', 'to', 'common', 'that', 'the', 'Philippines', 'was', 'going'], 148079251680.4419), (['<s>', '<s>', 'Robert', 'said', 'he', 'would', 'fell', 'big', 'buyers', 'of', 'corn', 'lead', 'to', 'common', 'that', 'the', 'Philippines', 'was', 'doing'], 148079251680.4415)]\n",
            "[(['<s>', '<s>', 'Robert', 'said', 'he', 'would', 'fell', 'big', 'buyers', 'of', 'corn', 'lead', 'to', 'common', 'that', 'the', 'Philippines', 'was', 'doing', 'is'], 148079251680.48062), (['<s>', '<s>', 'Robert', 'said', 'he', 'would', 'fell', 'big', 'buyers', 'of', 'corn', 'lead', 'to', 'common', 'that', 'the', 'Philippines', 'was', 'going', 'is'], 148079251680.46146), (['<s>', '<s>', 'Robert', 'said', 'he', 'would', 'fell', 'big', 'buyers', 'of', 'corn', 'lead', 'to', 'common', 'that', 'the', 'Philippines', 'was', 'doing', 'its'], 148079251680.46143)]\n",
            "[(['<s>', '<s>', 'Robert', 'said', 'he', 'would', 'fell', 'big', 'buyers', 'of', 'corn', 'lead', 'to', 'common', 'that', 'the', 'Philippines', 'was', 'doing', 'is', 'West'], 148079251680.48465), (['<s>', '<s>', 'Robert', 'said', 'he', 'would', 'fell', 'big', 'buyers', 'of', 'corn', 'lead', 'to', 'common', 'that', 'the', 'Philippines', 'was', 'doing', 'is', 'test'], 148079251680.48154), (['<s>', '<s>', 'Robert', 'said', 'he', 'would', 'fell', 'big', 'buyers', 'of', 'corn', 'lead', 'to', 'common', 'that', 'the', 'Philippines', 'was', 'doing', 'is', 'beet'], 148079251680.48138)]\n",
            "[(['<s>', '<s>', 'Robert', 'said', 'he', 'would', 'fell', 'big', 'buyers', 'of', 'corn', 'lead', 'to', 'common', 'that', 'the', 'Philippines', 'was', 'doing', 'is', 'West', 'to'], 148079251680.48465), (['<s>', '<s>', 'Robert', 'said', 'he', 'would', 'fell', 'big', 'buyers', 'of', 'corn', 'lead', 'to', 'common', 'that', 'the', 'Philippines', 'was', 'doing', 'is', 'West', 'Co'], 148079251680.48465), (['<s>', '<s>', 'Robert', 'said', 'he', 'would', 'fell', 'big', 'buyers', 'of', 'corn', 'lead', 'to', 'common', 'that', 'the', 'Philippines', 'was', 'doing', 'is', 'West', 'no'], 148079251680.48465)]\n",
            "[(['<s>', '<s>', 'Robert', 'said', 'he', 'would', 'fell', 'big', 'buyers', 'of', 'corn', 'lead', 'to', 'common', 'that', 'the', 'Philippines', 'was', 'doing', 'is', 'West', 'to', 'met'], 148079251680.48642), (['<s>', '<s>', 'Robert', 'said', 'he', 'would', 'fell', 'big', 'buyers', 'of', 'corn', 'lead', 'to', 'common', 'that', 'the', 'Philippines', 'was', 'doing', 'is', 'West', 'to', 'feet'], 148079251680.48624), (['<s>', '<s>', 'Robert', 'said', 'he', 'would', 'fell', 'big', 'buyers', 'of', 'corn', 'lead', 'to', 'common', 'that', 'the', 'Philippines', 'was', 'doing', 'is', 'West', 'to', 'meat'], 148079251680.4857)]\n",
            "[(['<s>', '<s>', 'Robert', 'said', 'he', 'would', 'fell', 'big', 'buyers', 'of', 'corn', 'lead', 'to', 'common', 'that', 'the', 'Philippines', 'was', 'doing', 'is', 'West', 'to', 'met', 'EC'], 148079251680.48642), (['<s>', '<s>', 'Robert', 'said', 'he', 'would', 'fell', 'big', 'buyers', 'of', 'corn', 'lead', 'to', 'common', 'that', 'the', 'Philippines', 'was', 'doing', 'is', 'West', 'to', 'met', 'C'], 148079251680.48642), (['<s>', '<s>', 'Robert', 'said', 'he', 'would', 'fell', 'big', 'buyers', 'of', 'corn', 'lead', 'to', 'common', 'that', 'the', 'Philippines', 'was', 'doing', 'is', 'West', 'to', 'met', 'DEC'], 148079251680.48642)]\n",
            "[(['<s>', '<s>', 'Robert', 'said', 'he', 'would', 'fell', 'big', 'buyers', 'of', 'corn', 'lead', 'to', 'common', 'that', 'the', 'Philippines', 'was', 'doing', 'is', 'West', 'to', 'met', 'EC', 'standards'], 148079251680.48642), (['<s>', '<s>', 'Robert', 'said', 'he', 'would', 'fell', 'big', 'buyers', 'of', 'corn', 'lead', 'to', 'common', 'that', 'the', 'Philippines', 'was', 'doing', 'is', 'West', 'to', 'met', 'EC', 'standard'], 148079251680.48642), (['<s>', '<s>', 'Robert', 'said', 'he', 'would', 'fell', 'big', 'buyers', 'of', 'corn', 'lead', 'to', 'common', 'that', 'the', 'Philippines', 'was', 'doing', 'is', 'West', 'to', 'met', 'EC', 'Standard'], 148079251680.48642)]\n",
            "[(['<s>', '<s>', 'Robert', 'said', 'he', 'would', 'fell', 'big', 'buyers', 'of', 'corn', 'lead', 'to', 'common', 'that', 'the', 'Philippines', 'was', 'doing', 'is', 'West', 'to', 'met', 'EC', 'standards', '.'], 148079251681.3115), (['<s>', '<s>', 'Robert', 'said', 'he', 'would', 'fell', 'big', 'buyers', 'of', 'corn', 'lead', 'to', 'common', 'that', 'the', 'Philippines', 'was', 'doing', 'is', 'West', 'to', 'met', 'EC', 'standard', ','], 148079251680.67514), (['<s>', '<s>', 'Robert', 'said', 'he', 'would', 'fell', 'big', 'buyers', 'of', 'corn', 'lead', 'to', 'common', 'that', 'the', 'Philippines', 'was', 'doing', 'is', 'West', 'to', 'met', 'EC', 'standard', '.'], 148079251680.63654)]\n",
            "Original Test Corpus:\n",
            "[['The', 'commission', 'is', 'expected', 'to', 'approve', 'the', 'application', 'at', 'a', 'meeting', 'tomorrow', '.'], ['\"', 'The', 'United', 'States', 'and', 'the', 'six', 'major', 'industrial', 'countries', 'are', 'fully', 'committed', 'to', 'implementing', 'our', 'undertakings', 'in', 'these', 'agreements', ',\"', 'Baker', 'told', 'the', 'meetings', '.'], ['Soo', 'Line', 'said', 'in', 'January', 'it', 'was', 'seeking', 'bids', 'for', 'the', 'property', '.'], ['Cain', '-', 'Sloan', 'has', 'four', 'stores', 'in', 'Nashville', '.'], ['Romero', 'said', 'he', 'would', 'tell', 'big', 'buyers', 'of', 'copra', 'meal', 'in', 'London', 'that', 'the', 'Philippines', 'was', 'doing', 'its', 'best', 'to', 'meet', 'EC', 'standards', '.']]\n",
            "\n",
            "Modified Test Corpus:\n",
            "[['The', 'commirsion', 'is', 'expected', 'to', 'apprnve', 'the', 'applicathon', 'at', 'a', 'meeting', 'uomorrow', '.'], ['\"', 'The', 'Unitad', 'States', 'end', 'the', 'six', 'major', 'hndusurial', 'countrier', 'are', 'fully', 'commiuted', 'to', 'hmplemanting', 'our', 'undertajings', 'io', 'there', 'agreementr', ',\"', 'Bejer', 'told', 'the', 'maetings', '.'], ['Son', 'Line', 'said', 'in', 'Jaouary', 'iu', 'was', 'seekinf', 'bids', 'for', 'the', 'psoperty', '.'], ['Cain', '-', 'Sloan', 'has', 'four', 'stnres', 'hn', 'Nashville', '.'], ['Romero', 'seid', 'he', 'would', 'tell', 'big', 'buyers', 'of', 'copra', 'leal', 'io', 'Loodon', 'that', 'the', 'Philhppioes', 'was', 'doiog', 'its', 'best', 'to', 'meet', 'EC', 'standarbs', '.']]\n",
            "\n",
            "Corrected Test Corpus:\n",
            "[['The', 'commission', 'is', 'expected', 'to', 'approve', 'the', 'applications', 'at', 'a', 'meeting', 'tomorrow', ','], ['\"', 'The', 'United', 'States', 'and', 'the', 'six', 'major', 'industrial', 'countries', 'are', 'fell', 'committed', 'to', 'implementing', 'or', 'understandings', 'to', 'here', 'agreement', ',\"', 'Baker', 'told', 'the', 'meetings', ','], ['on', 'Line', 'said', 'if', 'January', 'in', 'as', 'meeting', 'bids', 'for', 'the', 'property', '.'], ['gain', 'a', 'loan', 'was', 'for', 'shares', 'in', 'gasoline', ','], ['Robert', 'said', 'he', 'would', 'fell', 'big', 'buyers', 'of', 'corn', 'lead', 'to', 'common', 'that', 'the', 'Philippines', 'was', 'doing', 'is', 'West', 'to', 'met', 'EC', 'standards', '.']]\n"
          ]
        }
      ],
      "source": [
        "import numpy as np\n",
        "\n",
        "# Take a portion of the test_corpus and modified_test_corpus\n",
        "org_sent = test_sents[:5]\n",
        "wrg_sent = modified_test_corpus[:5]\n",
        "\n",
        "def correct_corpus_np(corpus, vocab, max_candidates=5):\n",
        "    corrected_corpus = []\n",
        "    for sentence in corpus:\n",
        "        corrected_sentence = beam_search_spelling(sentence, 3,0.2,0.8, generate_candidate_with_distance, score)\n",
        "        corrected_corpus.append(corrected_sentence)\n",
        "    return corrected_corpus\n",
        "\n",
        "corrected_test_corpus = correct_corpus_np(wrg_sent, vocab, 5)\n",
        "\n",
        "print(\"Original Test Corpus:\")\n",
        "print(org_sent)\n",
        "\n",
        "print(\"\\nModified Test Corpus:\")\n",
        "print(wrg_sent)\n",
        "\n",
        "print(\"\\nCorrected Test Corpus:\")\n",
        "print(corrected_test_corpus)\n"
      ]
    },
    {
      "cell_type": "code",
      "execution_count": null,
      "metadata": {
        "id": "XKcgiAF-haYx"
      },
      "outputs": [],
      "source": []
    },
    {
      "cell_type": "code",
      "execution_count": 56,
      "metadata": {
        "colab": {
          "base_uri": "https://localhost:8080/",
          "height": 971,
          "referenced_widgets": [
            "b60213c03f5f422fb633fcfa49ac738f",
            "6b0cc69e585641dda3bd7e6258abaff7"
          ]
        },
        "id": "VTa10_zOcQhI",
        "outputId": "9dcd4200-9677-4ad7-9cd4-23671b9e447e"
      },
      "outputs": [
        {
          "output_type": "stream",
          "name": "stdout",
          "text": [
            "Collecting evaluate\n",
            "  Downloading evaluate-0.4.1-py3-none-any.whl (84 kB)\n",
            "\u001b[2K     \u001b[90m━━━━━━━━━━━━━━━━━━━━━━━━━━━━━━━━━━━━━━━━\u001b[0m \u001b[32m84.1/84.1 kB\u001b[0m \u001b[31m2.0 MB/s\u001b[0m eta \u001b[36m0:00:00\u001b[0m\n",
            "\u001b[?25hCollecting datasets>=2.0.0 (from evaluate)\n",
            "  Downloading datasets-2.16.1-py3-none-any.whl (507 kB)\n",
            "\u001b[2K     \u001b[90m━━━━━━━━━━━━━━━━━━━━━━━━━━━━━━━━━━━━━━━━\u001b[0m \u001b[32m507.1/507.1 kB\u001b[0m \u001b[31m7.6 MB/s\u001b[0m eta \u001b[36m0:00:00\u001b[0m\n",
            "\u001b[?25hRequirement already satisfied: numpy>=1.17 in /usr/local/lib/python3.10/dist-packages (from evaluate) (1.23.5)\n",
            "Collecting dill (from evaluate)\n",
            "  Downloading dill-0.3.7-py3-none-any.whl (115 kB)\n",
            "\u001b[2K     \u001b[90m━━━━━━━━━━━━━━━━━━━━━━━━━━━━━━━━━━━━━━━━\u001b[0m \u001b[32m115.3/115.3 kB\u001b[0m \u001b[31m7.1 MB/s\u001b[0m eta \u001b[36m0:00:00\u001b[0m\n",
            "\u001b[?25hRequirement already satisfied: pandas in /usr/local/lib/python3.10/dist-packages (from evaluate) (1.5.3)\n",
            "Requirement already satisfied: requests>=2.19.0 in /usr/local/lib/python3.10/dist-packages (from evaluate) (2.31.0)\n",
            "Requirement already satisfied: tqdm>=4.62.1 in /usr/local/lib/python3.10/dist-packages (from evaluate) (4.66.1)\n",
            "Requirement already satisfied: xxhash in /usr/local/lib/python3.10/dist-packages (from evaluate) (3.4.1)\n",
            "Collecting multiprocess (from evaluate)\n",
            "  Downloading multiprocess-0.70.15-py310-none-any.whl (134 kB)\n",
            "\u001b[2K     \u001b[90m━━━━━━━━━━━━━━━━━━━━━━━━━━━━━━━━━━━━━━━━\u001b[0m \u001b[32m134.8/134.8 kB\u001b[0m \u001b[31m8.3 MB/s\u001b[0m eta \u001b[36m0:00:00\u001b[0m\n",
            "\u001b[?25hRequirement already satisfied: fsspec[http]>=2021.05.0 in /usr/local/lib/python3.10/dist-packages (from evaluate) (2023.6.0)\n",
            "Requirement already satisfied: huggingface-hub>=0.7.0 in /usr/local/lib/python3.10/dist-packages (from evaluate) (0.20.3)\n",
            "Requirement already satisfied: packaging in /usr/local/lib/python3.10/dist-packages (from evaluate) (23.2)\n",
            "Collecting responses<0.19 (from evaluate)\n",
            "  Downloading responses-0.18.0-py3-none-any.whl (38 kB)\n",
            "Requirement already satisfied: filelock in /usr/local/lib/python3.10/dist-packages (from datasets>=2.0.0->evaluate) (3.13.1)\n",
            "Requirement already satisfied: pyarrow>=8.0.0 in /usr/local/lib/python3.10/dist-packages (from datasets>=2.0.0->evaluate) (10.0.1)\n",
            "Requirement already satisfied: pyarrow-hotfix in /usr/local/lib/python3.10/dist-packages (from datasets>=2.0.0->evaluate) (0.6)\n",
            "Requirement already satisfied: aiohttp in /usr/local/lib/python3.10/dist-packages (from datasets>=2.0.0->evaluate) (3.9.1)\n",
            "Requirement already satisfied: pyyaml>=5.1 in /usr/local/lib/python3.10/dist-packages (from datasets>=2.0.0->evaluate) (6.0.1)\n",
            "Requirement already satisfied: typing-extensions>=3.7.4.3 in /usr/local/lib/python3.10/dist-packages (from huggingface-hub>=0.7.0->evaluate) (4.5.0)\n",
            "Requirement already satisfied: charset-normalizer<4,>=2 in /usr/local/lib/python3.10/dist-packages (from requests>=2.19.0->evaluate) (3.3.2)\n",
            "Requirement already satisfied: idna<4,>=2.5 in /usr/local/lib/python3.10/dist-packages (from requests>=2.19.0->evaluate) (3.6)\n",
            "Requirement already satisfied: urllib3<3,>=1.21.1 in /usr/local/lib/python3.10/dist-packages (from requests>=2.19.0->evaluate) (2.0.7)\n",
            "Requirement already satisfied: certifi>=2017.4.17 in /usr/local/lib/python3.10/dist-packages (from requests>=2.19.0->evaluate) (2023.11.17)\n",
            "Requirement already satisfied: python-dateutil>=2.8.1 in /usr/local/lib/python3.10/dist-packages (from pandas->evaluate) (2.8.2)\n",
            "Requirement already satisfied: pytz>=2020.1 in /usr/local/lib/python3.10/dist-packages (from pandas->evaluate) (2023.3.post1)\n",
            "Requirement already satisfied: attrs>=17.3.0 in /usr/local/lib/python3.10/dist-packages (from aiohttp->datasets>=2.0.0->evaluate) (23.2.0)\n",
            "Requirement already satisfied: multidict<7.0,>=4.5 in /usr/local/lib/python3.10/dist-packages (from aiohttp->datasets>=2.0.0->evaluate) (6.0.4)\n",
            "Requirement already satisfied: yarl<2.0,>=1.0 in /usr/local/lib/python3.10/dist-packages (from aiohttp->datasets>=2.0.0->evaluate) (1.9.4)\n",
            "Requirement already satisfied: frozenlist>=1.1.1 in /usr/local/lib/python3.10/dist-packages (from aiohttp->datasets>=2.0.0->evaluate) (1.4.1)\n",
            "Requirement already satisfied: aiosignal>=1.1.2 in /usr/local/lib/python3.10/dist-packages (from aiohttp->datasets>=2.0.0->evaluate) (1.3.1)\n",
            "Requirement already satisfied: async-timeout<5.0,>=4.0 in /usr/local/lib/python3.10/dist-packages (from aiohttp->datasets>=2.0.0->evaluate) (4.0.3)\n",
            "Requirement already satisfied: six>=1.5 in /usr/local/lib/python3.10/dist-packages (from python-dateutil>=2.8.1->pandas->evaluate) (1.16.0)\n",
            "Installing collected packages: dill, responses, multiprocess, datasets, evaluate\n",
            "Successfully installed datasets-2.16.1 dill-0.3.7 evaluate-0.4.1 multiprocess-0.70.15 responses-0.18.0\n",
            "Collecting jiwer\n",
            "  Downloading jiwer-3.0.3-py3-none-any.whl (21 kB)\n",
            "Requirement already satisfied: click<9.0.0,>=8.1.3 in /usr/local/lib/python3.10/dist-packages (from jiwer) (8.1.7)\n",
            "Collecting rapidfuzz<4,>=3 (from jiwer)\n",
            "  Downloading rapidfuzz-3.6.1-cp310-cp310-manylinux_2_17_x86_64.manylinux2014_x86_64.whl (3.4 MB)\n",
            "\u001b[2K     \u001b[90m━━━━━━━━━━━━━━━━━━━━━━━━━━━━━━━━━━━━━━━━\u001b[0m \u001b[32m3.4/3.4 MB\u001b[0m \u001b[31m33.1 MB/s\u001b[0m eta \u001b[36m0:00:00\u001b[0m\n",
            "\u001b[?25hInstalling collected packages: rapidfuzz, jiwer\n",
            "Successfully installed jiwer-3.0.3 rapidfuzz-3.6.1\n"
          ]
        },
        {
          "output_type": "display_data",
          "data": {
            "text/plain": [
              "Downloading builder script:   0%|          | 0.00/4.49k [00:00<?, ?B/s]"
            ],
            "application/vnd.jupyter.widget-view+json": {
              "version_major": 2,
              "version_minor": 0,
              "model_id": "b60213c03f5f422fb633fcfa49ac738f"
            }
          },
          "metadata": {}
        },
        {
          "output_type": "stream",
          "name": "stdout",
          "text": [
            "WER score is: 0.36470588235294116\n"
          ]
        },
        {
          "output_type": "display_data",
          "data": {
            "text/plain": [
              "Downloading builder script:   0%|          | 0.00/5.60k [00:00<?, ?B/s]"
            ],
            "application/vnd.jupyter.widget-view+json": {
              "version_major": 2,
              "version_minor": 0,
              "model_id": "6b0cc69e585641dda3bd7e6258abaff7"
            }
          },
          "metadata": {}
        },
        {
          "output_type": "stream",
          "name": "stdout",
          "text": [
            "CER score is: 0.10425531914893617\n",
            "WER score is: 0.35294117647058826\n",
            "CER score is: 0.07234042553191489\n"
          ]
        }
      ],
      "source": [
        "!pip install evaluate\n",
        "!pip install jiwer\n",
        "from evaluate import load\n",
        "\n",
        "# Flatten the list of lists\n",
        "flattened_corrected_test_corpus = [' '.join(sentence) for sentence in corrected_test_corpus]\n",
        "flattened_org_sent = [' '.join(sentence) for sentence in org_sent]\n",
        "\n",
        "# Transform predictions\n",
        "predictions = [' '.join(flattened_corrected_test_corpus)]\n",
        "references = [' '.join(flattened_org_sent)]\n",
        "\n",
        "wer = load(\"wer\")  # Load Word-Error-Rate metric\n",
        "wer_score = wer.compute(predictions=predictions, references=references)\n",
        "print(f\"WER score is: {wer_score}\")\n",
        "\n",
        "cer = load(\"cer\")\n",
        "cer_score = cer.compute(predictions=predictions, references=references)\n",
        "print(f\"CER score is: {cer_score}\")\n",
        "\n",
        "\n",
        "# Flatten the list of lists\n",
        "flattened_corrected_test_corpus = [' '.join(sentence) for sentence in wrg_sent]\n",
        "flattened_org_sent = [' '.join(sentence) for sentence in org_sent]\n",
        "\n",
        "# Transform predictions\n",
        "predictions = [' '.join(flattened_corrected_test_corpus)]\n",
        "references = [' '.join(flattened_org_sent)]\n",
        "\n",
        "wer = load(\"wer\")  # Load Word-Error-Rate metric\n",
        "wer_score = wer.compute(predictions=predictions, references=references)\n",
        "print(f\"WER score is: {wer_score}\")\n",
        "\n",
        "cer = load(\"cer\")\n",
        "cer_score = cer.compute(predictions=predictions, references=references)\n",
        "print(f\"CER score is: {cer_score}\")\n"
      ]
    },
    {
      "cell_type": "code",
      "source": [],
      "metadata": {
        "id": "bXBHRad0s-No"
      },
      "execution_count": null,
      "outputs": []
    },
    {
      "cell_type": "code",
      "source": [],
      "metadata": {
        "id": "D1kLO0owqGEB"
      },
      "execution_count": null,
      "outputs": []
    },
    {
      "cell_type": "code",
      "source": [],
      "metadata": {
        "id": "EwG6O9i2qGGM"
      },
      "execution_count": null,
      "outputs": []
    },
    {
      "cell_type": "code",
      "source": [],
      "metadata": {
        "colab": {
          "base_uri": "https://localhost:8080/",
          "height": 373
        },
        "id": "k4ZOLXXVqGJk",
        "outputId": "fd300e0d-8e69-47bb-bcb5-f02d20207d55"
      },
      "execution_count": null,
      "outputs": [
        {
          "output_type": "error",
          "ename": "ZeroDivisionError",
          "evalue": "division by zero",
          "traceback": [
            "\u001b[0;31m---------------------------------------------------------------------------\u001b[0m",
            "\u001b[0;31mZeroDivisionError\u001b[0m                         Traceback (most recent call last)",
            "\u001b[0;32m<ipython-input-144-9e5bb953780e>\u001b[0m in \u001b[0;36m<cell line: 42>\u001b[0;34m()\u001b[0m\n\u001b[1;32m     40\u001b[0m \u001b[0;31m# Generate a sentence using the model\u001b[0m\u001b[0;34m\u001b[0m\u001b[0;34m\u001b[0m\u001b[0m\n\u001b[1;32m     41\u001b[0m \u001b[0mseed_word\u001b[0m \u001b[0;34m=\u001b[0m \u001b[0;34m\"This\"\u001b[0m\u001b[0;34m\u001b[0m\u001b[0;34m\u001b[0m\u001b[0m\n\u001b[0;32m---> 42\u001b[0;31m \u001b[0mgenerated_sentence\u001b[0m \u001b[0;34m=\u001b[0m \u001b[0mmodel\u001b[0m\u001b[0;34m.\u001b[0m\u001b[0mgenerate_sentence\u001b[0m\u001b[0;34m(\u001b[0m\u001b[0mseed_word\u001b[0m\u001b[0;34m)\u001b[0m\u001b[0;34m\u001b[0m\u001b[0;34m\u001b[0m\u001b[0m\n\u001b[0m\u001b[1;32m     43\u001b[0m \u001b[0mprint\u001b[0m\u001b[0;34m(\u001b[0m\u001b[0mgenerated_sentence\u001b[0m\u001b[0;34m)\u001b[0m\u001b[0;34m\u001b[0m\u001b[0;34m\u001b[0m\u001b[0m\n",
            "\u001b[0;32m<ipython-input-144-9e5bb953780e>\u001b[0m in \u001b[0;36mgenerate_sentence\u001b[0;34m(self, seed_word, max_length)\u001b[0m\n\u001b[1;32m     28\u001b[0m \u001b[0;34m\u001b[0m\u001b[0m\n\u001b[1;32m     29\u001b[0m         \u001b[0;32mfor\u001b[0m \u001b[0m_\u001b[0m \u001b[0;32min\u001b[0m \u001b[0mrange\u001b[0m\u001b[0;34m(\u001b[0m\u001b[0mmax_length\u001b[0m\u001b[0;34m)\u001b[0m\u001b[0;34m:\u001b[0m\u001b[0;34m\u001b[0m\u001b[0;34m\u001b[0m\u001b[0m\n\u001b[0;32m---> 30\u001b[0;31m             \u001b[0mnext_word\u001b[0m \u001b[0;34m=\u001b[0m \u001b[0mmax\u001b[0m\u001b[0;34m(\u001b[0m\u001b[0mself\u001b[0m\u001b[0;34m.\u001b[0m\u001b[0munigrams\u001b[0m\u001b[0;34m.\u001b[0m\u001b[0mkeys\u001b[0m\u001b[0;34m(\u001b[0m\u001b[0;34m)\u001b[0m\u001b[0;34m,\u001b[0m \u001b[0mkey\u001b[0m\u001b[0;34m=\u001b[0m\u001b[0;32mlambda\u001b[0m \u001b[0mw\u001b[0m\u001b[0;34m:\u001b[0m \u001b[0mself\u001b[0m\u001b[0;34m.\u001b[0m\u001b[0mkneser_ney_probability\u001b[0m\u001b[0;34m(\u001b[0m\u001b[0;34m(\u001b[0m\u001b[0mcurrent_trigram\u001b[0m\u001b[0;34m[\u001b[0m\u001b[0;36m1\u001b[0m\u001b[0;34m]\u001b[0m\u001b[0;34m,\u001b[0m \u001b[0mcurrent_trigram\u001b[0m\u001b[0;34m[\u001b[0m\u001b[0;36m2\u001b[0m\u001b[0;34m]\u001b[0m\u001b[0;34m,\u001b[0m \u001b[0mw\u001b[0m\u001b[0;34m)\u001b[0m\u001b[0;34m)\u001b[0m\u001b[0;34m)\u001b[0m\u001b[0;34m\u001b[0m\u001b[0;34m\u001b[0m\u001b[0m\n\u001b[0m\u001b[1;32m     31\u001b[0m             \u001b[0msentence\u001b[0m\u001b[0;34m.\u001b[0m\u001b[0mappend\u001b[0m\u001b[0;34m(\u001b[0m\u001b[0mnext_word\u001b[0m\u001b[0;34m)\u001b[0m\u001b[0;34m\u001b[0m\u001b[0;34m\u001b[0m\u001b[0m\n\u001b[1;32m     32\u001b[0m             \u001b[0mcurrent_trigram\u001b[0m \u001b[0;34m=\u001b[0m \u001b[0;34m(\u001b[0m\u001b[0mcurrent_trigram\u001b[0m\u001b[0;34m[\u001b[0m\u001b[0;36m2\u001b[0m\u001b[0;34m]\u001b[0m\u001b[0;34m,\u001b[0m \u001b[0mnext_word\u001b[0m\u001b[0;34m,\u001b[0m \u001b[0;32mNone\u001b[0m\u001b[0;34m)\u001b[0m\u001b[0;34m\u001b[0m\u001b[0;34m\u001b[0m\u001b[0m\n",
            "\u001b[0;32m<ipython-input-144-9e5bb953780e>\u001b[0m in \u001b[0;36m<lambda>\u001b[0;34m(w)\u001b[0m\n\u001b[1;32m     28\u001b[0m \u001b[0;34m\u001b[0m\u001b[0m\n\u001b[1;32m     29\u001b[0m         \u001b[0;32mfor\u001b[0m \u001b[0m_\u001b[0m \u001b[0;32min\u001b[0m \u001b[0mrange\u001b[0m\u001b[0;34m(\u001b[0m\u001b[0mmax_length\u001b[0m\u001b[0;34m)\u001b[0m\u001b[0;34m:\u001b[0m\u001b[0;34m\u001b[0m\u001b[0;34m\u001b[0m\u001b[0m\n\u001b[0;32m---> 30\u001b[0;31m             \u001b[0mnext_word\u001b[0m \u001b[0;34m=\u001b[0m \u001b[0mmax\u001b[0m\u001b[0;34m(\u001b[0m\u001b[0mself\u001b[0m\u001b[0;34m.\u001b[0m\u001b[0munigrams\u001b[0m\u001b[0;34m.\u001b[0m\u001b[0mkeys\u001b[0m\u001b[0;34m(\u001b[0m\u001b[0;34m)\u001b[0m\u001b[0;34m,\u001b[0m \u001b[0mkey\u001b[0m\u001b[0;34m=\u001b[0m\u001b[0;32mlambda\u001b[0m \u001b[0mw\u001b[0m\u001b[0;34m:\u001b[0m \u001b[0mself\u001b[0m\u001b[0;34m.\u001b[0m\u001b[0mkneser_ney_probability\u001b[0m\u001b[0;34m(\u001b[0m\u001b[0;34m(\u001b[0m\u001b[0mcurrent_trigram\u001b[0m\u001b[0;34m[\u001b[0m\u001b[0;36m1\u001b[0m\u001b[0;34m]\u001b[0m\u001b[0;34m,\u001b[0m \u001b[0mcurrent_trigram\u001b[0m\u001b[0;34m[\u001b[0m\u001b[0;36m2\u001b[0m\u001b[0;34m]\u001b[0m\u001b[0;34m,\u001b[0m \u001b[0mw\u001b[0m\u001b[0;34m)\u001b[0m\u001b[0;34m)\u001b[0m\u001b[0;34m)\u001b[0m\u001b[0;34m\u001b[0m\u001b[0;34m\u001b[0m\u001b[0m\n\u001b[0m\u001b[1;32m     31\u001b[0m             \u001b[0msentence\u001b[0m\u001b[0;34m.\u001b[0m\u001b[0mappend\u001b[0m\u001b[0;34m(\u001b[0m\u001b[0mnext_word\u001b[0m\u001b[0;34m)\u001b[0m\u001b[0;34m\u001b[0m\u001b[0;34m\u001b[0m\u001b[0m\n\u001b[1;32m     32\u001b[0m             \u001b[0mcurrent_trigram\u001b[0m \u001b[0;34m=\u001b[0m \u001b[0;34m(\u001b[0m\u001b[0mcurrent_trigram\u001b[0m\u001b[0;34m[\u001b[0m\u001b[0;36m2\u001b[0m\u001b[0;34m]\u001b[0m\u001b[0;34m,\u001b[0m \u001b[0mnext_word\u001b[0m\u001b[0;34m,\u001b[0m \u001b[0;32mNone\u001b[0m\u001b[0;34m)\u001b[0m\u001b[0;34m\u001b[0m\u001b[0;34m\u001b[0m\u001b[0m\n",
            "\u001b[0;32m<ipython-input-144-9e5bb953780e>\u001b[0m in \u001b[0;36mkneser_ney_probability\u001b[0;34m(self, trigram)\u001b[0m\n\u001b[1;32m     16\u001b[0m         \u001b[0mcontinuation_count\u001b[0m \u001b[0;34m=\u001b[0m \u001b[0msum\u001b[0m\u001b[0;34m(\u001b[0m\u001b[0;36m1\u001b[0m \u001b[0;32mfor\u001b[0m \u001b[0m_\u001b[0m\u001b[0;34m,\u001b[0m \u001b[0m_\u001b[0m\u001b[0;34m,\u001b[0m \u001b[0mword\u001b[0m \u001b[0;32min\u001b[0m \u001b[0mself\u001b[0m\u001b[0;34m.\u001b[0m\u001b[0mtrigrams\u001b[0m \u001b[0;32mif\u001b[0m \u001b[0mword\u001b[0m \u001b[0;34m==\u001b[0m \u001b[0mw3\u001b[0m\u001b[0;34m)\u001b[0m\u001b[0;34m\u001b[0m\u001b[0;34m\u001b[0m\u001b[0m\n\u001b[1;32m     17\u001b[0m \u001b[0;34m\u001b[0m\u001b[0m\n\u001b[0;32m---> 18\u001b[0;31m         \u001b[0mdiscount\u001b[0m \u001b[0;34m=\u001b[0m \u001b[0mmin\u001b[0m\u001b[0;34m(\u001b[0m\u001b[0;36m1\u001b[0m \u001b[0;34m-\u001b[0m \u001b[0;34m(\u001b[0m\u001b[0;36m1\u001b[0m \u001b[0;34m/\u001b[0m \u001b[0;34m(\u001b[0m\u001b[0;36m2\u001b[0m \u001b[0;34m*\u001b[0m \u001b[0mprefix_count\u001b[0m\u001b[0;34m)\u001b[0m\u001b[0;34m)\u001b[0m \u001b[0;34m*\u001b[0m \u001b[0mcontinuation_count\u001b[0m\u001b[0;34m,\u001b[0m \u001b[0;36m0.75\u001b[0m\u001b[0;34m)\u001b[0m\u001b[0;34m\u001b[0m\u001b[0;34m\u001b[0m\u001b[0m\n\u001b[0m\u001b[1;32m     19\u001b[0m \u001b[0;34m\u001b[0m\u001b[0m\n\u001b[1;32m     20\u001b[0m         \u001b[0mprefix_probability\u001b[0m \u001b[0;34m=\u001b[0m \u001b[0mmax\u001b[0m\u001b[0;34m(\u001b[0m\u001b[0mprefix_count\u001b[0m \u001b[0;34m-\u001b[0m \u001b[0mdiscount\u001b[0m\u001b[0;34m,\u001b[0m \u001b[0;36m0\u001b[0m\u001b[0;34m)\u001b[0m \u001b[0;34m/\u001b[0m \u001b[0mprefix_count\u001b[0m\u001b[0;34m\u001b[0m\u001b[0;34m\u001b[0m\u001b[0m\n",
            "\u001b[0;31mZeroDivisionError\u001b[0m: division by zero"
          ]
        }
      ]
    },
    {
      "cell_type": "code",
      "source": [],
      "metadata": {
        "id": "WiTmY02CqGfW"
      },
      "execution_count": null,
      "outputs": []
    }
  ],
  "metadata": {
    "colab": {
      "provenance": []
    },
    "kernelspec": {
      "display_name": "Python 3",
      "name": "python3"
    },
    "language_info": {
      "name": "python"
    },
    "widgets": {
      "application/vnd.jupyter.widget-state+json": {
        "b60213c03f5f422fb633fcfa49ac738f": {
          "model_module": "@jupyter-widgets/controls",
          "model_name": "HBoxModel",
          "model_module_version": "1.5.0",
          "state": {
            "_dom_classes": [],
            "_model_module": "@jupyter-widgets/controls",
            "_model_module_version": "1.5.0",
            "_model_name": "HBoxModel",
            "_view_count": null,
            "_view_module": "@jupyter-widgets/controls",
            "_view_module_version": "1.5.0",
            "_view_name": "HBoxView",
            "box_style": "",
            "children": [
              "IPY_MODEL_220ac11ed0c94191a8c828302fd8d31e",
              "IPY_MODEL_8672677c37e24e5f920a0eb2ec79874d",
              "IPY_MODEL_8bc0900d92ed45a19699b4891ecdad8b"
            ],
            "layout": "IPY_MODEL_5f7e3ded46f24a6c9a7289b60a83f925"
          }
        },
        "6b0cc69e585641dda3bd7e6258abaff7": {
          "model_module": "@jupyter-widgets/controls",
          "model_name": "HBoxModel",
          "model_module_version": "1.5.0",
          "state": {
            "_dom_classes": [],
            "_model_module": "@jupyter-widgets/controls",
            "_model_module_version": "1.5.0",
            "_model_name": "HBoxModel",
            "_view_count": null,
            "_view_module": "@jupyter-widgets/controls",
            "_view_module_version": "1.5.0",
            "_view_name": "HBoxView",
            "box_style": "",
            "children": [
              "IPY_MODEL_01044bc4e38946eb8ac19938a3d94bb0",
              "IPY_MODEL_1a9174b0f641413abe43d539561e4c15",
              "IPY_MODEL_29edbf44fd054e57a5d59cb81614e086"
            ],
            "layout": "IPY_MODEL_f34a09c2b8e346e396ccb6a7b5eb039b"
          }
        }
      }
    }
  },
  "nbformat": 4,
  "nbformat_minor": 0
}